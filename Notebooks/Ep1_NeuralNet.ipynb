{
 "cells": [
  {
   "cell_type": "code",
   "execution_count": 185,
   "id": "fc0f93ea",
   "metadata": {
    "scrolled": true
   },
   "outputs": [
    {
     "name": "stdout",
     "output_type": "stream",
     "text": [
      "Requirement already satisfied: yfinance in d:\\conda3\\lib\\site-packages (from -r ../requirements.txt (line 1)) (0.2.44)\n",
      "Requirement already satisfied: pandas in d:\\conda3\\lib\\site-packages (from -r ../requirements.txt (line 2)) (2.0.3)\n",
      "Requirement already satisfied: seaborn in d:\\conda3\\lib\\site-packages (from -r ../requirements.txt (line 3)) (0.12.2)\n",
      "Requirement already satisfied: plotly in d:\\conda3\\lib\\site-packages (from -r ../requirements.txt (line 4)) (5.9.0)\n",
      "Requirement already satisfied: chart-studio in d:\\conda3\\lib\\site-packages (from -r ../requirements.txt (line 5)) (1.1.0)\n",
      "Requirement already satisfied: scikit-learn in d:\\conda3\\lib\\site-packages (from -r ../requirements.txt (line 6)) (1.3.0)\n",
      "Requirement already satisfied: torch in d:\\conda3\\lib\\site-packages (from -r ../requirements.txt (line 7)) (2.1.2)\n",
      "Requirement already satisfied: wandb in d:\\conda3\\lib\\site-packages (from -r ../requirements.txt (line 8)) (0.18.3)\n",
      "Requirement already satisfied: numpy>=1.16.5 in d:\\conda3\\lib\\site-packages (from yfinance->-r ../requirements.txt (line 1)) (1.24.3)\n",
      "Requirement already satisfied: requests>=2.31 in d:\\conda3\\lib\\site-packages (from yfinance->-r ../requirements.txt (line 1)) (2.31.0)\n",
      "Requirement already satisfied: multitasking>=0.0.7 in d:\\conda3\\lib\\site-packages (from yfinance->-r ../requirements.txt (line 1)) (0.0.11)\n",
      "Requirement already satisfied: lxml>=4.9.1 in d:\\conda3\\lib\\site-packages (from yfinance->-r ../requirements.txt (line 1)) (4.9.3)\n",
      "Requirement already satisfied: platformdirs>=2.0.0 in d:\\conda3\\lib\\site-packages (from yfinance->-r ../requirements.txt (line 1)) (3.10.0)\n",
      "Requirement already satisfied: pytz>=2022.5 in d:\\conda3\\lib\\site-packages (from yfinance->-r ../requirements.txt (line 1)) (2023.3.post1)\n",
      "Requirement already satisfied: frozendict>=2.3.4 in d:\\conda3\\lib\\site-packages (from yfinance->-r ../requirements.txt (line 1)) (2.4.4)\n",
      "Requirement already satisfied: peewee>=3.16.2 in d:\\conda3\\lib\\site-packages (from yfinance->-r ../requirements.txt (line 1)) (3.17.6)\n",
      "Requirement already satisfied: beautifulsoup4>=4.11.1 in d:\\conda3\\lib\\site-packages (from yfinance->-r ../requirements.txt (line 1)) (4.12.2)\n",
      "Requirement already satisfied: html5lib>=1.1 in d:\\conda3\\lib\\site-packages (from yfinance->-r ../requirements.txt (line 1)) (1.1)\n",
      "Requirement already satisfied: python-dateutil>=2.8.2 in d:\\conda3\\lib\\site-packages (from pandas->-r ../requirements.txt (line 2)) (2.8.2)\n",
      "Requirement already satisfied: tzdata>=2022.1 in d:\\conda3\\lib\\site-packages (from pandas->-r ../requirements.txt (line 2)) (2023.3)\n",
      "Requirement already satisfied: matplotlib!=3.6.1,>=3.1 in d:\\conda3\\lib\\site-packages (from seaborn->-r ../requirements.txt (line 3)) (3.7.2)\n",
      "Requirement already satisfied: tenacity>=6.2.0 in d:\\conda3\\lib\\site-packages (from plotly->-r ../requirements.txt (line 4)) (8.2.2)\n",
      "Requirement already satisfied: retrying>=1.3.3 in d:\\conda3\\lib\\site-packages (from chart-studio->-r ../requirements.txt (line 5)) (1.3.4)\n",
      "Requirement already satisfied: six in d:\\conda3\\lib\\site-packages (from chart-studio->-r ../requirements.txt (line 5)) (1.16.0)\n",
      "Requirement already satisfied: scipy>=1.5.0 in d:\\conda3\\lib\\site-packages (from scikit-learn->-r ../requirements.txt (line 6)) (1.11.1)\n",
      "Requirement already satisfied: joblib>=1.1.1 in d:\\conda3\\lib\\site-packages (from scikit-learn->-r ../requirements.txt (line 6)) (1.2.0)\n",
      "Requirement already satisfied: threadpoolctl>=2.0.0 in d:\\conda3\\lib\\site-packages (from scikit-learn->-r ../requirements.txt (line 6)) (2.2.0)\n",
      "Requirement already satisfied: filelock in d:\\conda3\\lib\\site-packages (from torch->-r ../requirements.txt (line 7)) (3.13.1)\n",
      "Requirement already satisfied: typing-extensions in d:\\conda3\\lib\\site-packages (from torch->-r ../requirements.txt (line 7)) (4.7.1)\n",
      "Requirement already satisfied: sympy in d:\\conda3\\lib\\site-packages (from torch->-r ../requirements.txt (line 7)) (1.11.1)\n",
      "Requirement already satisfied: networkx in d:\\conda3\\lib\\site-packages (from torch->-r ../requirements.txt (line 7)) (3.1)\n",
      "Requirement already satisfied: jinja2 in d:\\conda3\\lib\\site-packages (from torch->-r ../requirements.txt (line 7)) (3.1.2)\n",
      "Requirement already satisfied: fsspec in d:\\conda3\\lib\\site-packages (from torch->-r ../requirements.txt (line 7)) (2023.4.0)\n",
      "Requirement already satisfied: click!=8.0.0,>=7.1 in d:\\conda3\\lib\\site-packages (from wandb->-r ../requirements.txt (line 8)) (8.0.4)\n",
      "Requirement already satisfied: docker-pycreds>=0.4.0 in d:\\conda3\\lib\\site-packages (from wandb->-r ../requirements.txt (line 8)) (0.4.0)\n",
      "Requirement already satisfied: gitpython!=3.1.29,>=1.0.0 in d:\\conda3\\lib\\site-packages (from wandb->-r ../requirements.txt (line 8)) (3.1.43)\n",
      "Requirement already satisfied: protobuf!=4.21.0,!=5.28.0,<6,>=3.19.0 in d:\\conda3\\lib\\site-packages (from wandb->-r ../requirements.txt (line 8)) (4.23.4)\n",
      "Requirement already satisfied: psutil>=5.0.0 in d:\\conda3\\lib\\site-packages (from wandb->-r ../requirements.txt (line 8)) (5.9.0)\n",
      "Requirement already satisfied: pyyaml in d:\\conda3\\lib\\site-packages (from wandb->-r ../requirements.txt (line 8)) (6.0)\n",
      "Requirement already satisfied: sentry-sdk>=1.0.0 in d:\\conda3\\lib\\site-packages (from wandb->-r ../requirements.txt (line 8)) (2.16.0)\n",
      "Requirement already satisfied: setproctitle in d:\\conda3\\lib\\site-packages (from wandb->-r ../requirements.txt (line 8)) (1.3.3)\n",
      "Requirement already satisfied: setuptools in d:\\conda3\\lib\\site-packages (from wandb->-r ../requirements.txt (line 8)) (68.0.0)\n",
      "Requirement already satisfied: soupsieve>1.2 in d:\\conda3\\lib\\site-packages (from beautifulsoup4>=4.11.1->yfinance->-r ../requirements.txt (line 1)) (2.4)\n",
      "Requirement already satisfied: colorama in d:\\conda3\\lib\\site-packages (from click!=8.0.0,>=7.1->wandb->-r ../requirements.txt (line 8)) (0.4.6)\n",
      "Requirement already satisfied: gitdb<5,>=4.0.1 in d:\\conda3\\lib\\site-packages (from gitpython!=3.1.29,>=1.0.0->wandb->-r ../requirements.txt (line 8)) (4.0.11)\n",
      "Requirement already satisfied: webencodings in d:\\conda3\\lib\\site-packages (from html5lib>=1.1->yfinance->-r ../requirements.txt (line 1)) (0.5.1)\n",
      "Requirement already satisfied: contourpy>=1.0.1 in d:\\conda3\\lib\\site-packages (from matplotlib!=3.6.1,>=3.1->seaborn->-r ../requirements.txt (line 3)) (1.0.5)\n",
      "Requirement already satisfied: cycler>=0.10 in d:\\conda3\\lib\\site-packages (from matplotlib!=3.6.1,>=3.1->seaborn->-r ../requirements.txt (line 3)) (0.11.0)\n",
      "Requirement already satisfied: fonttools>=4.22.0 in d:\\conda3\\lib\\site-packages (from matplotlib!=3.6.1,>=3.1->seaborn->-r ../requirements.txt (line 3)) (4.25.0)\n",
      "Requirement already satisfied: kiwisolver>=1.0.1 in d:\\conda3\\lib\\site-packages (from matplotlib!=3.6.1,>=3.1->seaborn->-r ../requirements.txt (line 3)) (1.4.4)\n",
      "Requirement already satisfied: packaging>=20.0 in d:\\conda3\\lib\\site-packages (from matplotlib!=3.6.1,>=3.1->seaborn->-r ../requirements.txt (line 3)) (23.1)\n",
      "Requirement already satisfied: pillow>=6.2.0 in d:\\conda3\\lib\\site-packages (from matplotlib!=3.6.1,>=3.1->seaborn->-r ../requirements.txt (line 3)) (9.4.0)\n",
      "Requirement already satisfied: pyparsing<3.1,>=2.3.1 in d:\\conda3\\lib\\site-packages (from matplotlib!=3.6.1,>=3.1->seaborn->-r ../requirements.txt (line 3)) (3.0.9)\n",
      "Requirement already satisfied: charset-normalizer<4,>=2 in d:\\conda3\\lib\\site-packages (from requests>=2.31->yfinance->-r ../requirements.txt (line 1)) (2.0.4)\n",
      "Requirement already satisfied: idna<4,>=2.5 in d:\\conda3\\lib\\site-packages (from requests>=2.31->yfinance->-r ../requirements.txt (line 1)) (3.4)\n",
      "Requirement already satisfied: urllib3<3,>=1.21.1 in d:\\conda3\\lib\\site-packages (from requests>=2.31->yfinance->-r ../requirements.txt (line 1)) (1.26.16)\n",
      "Requirement already satisfied: certifi>=2017.4.17 in d:\\conda3\\lib\\site-packages (from requests>=2.31->yfinance->-r ../requirements.txt (line 1)) (2023.11.17)\n",
      "Requirement already satisfied: MarkupSafe>=2.0 in d:\\conda3\\lib\\site-packages (from jinja2->torch->-r ../requirements.txt (line 7)) (2.1.1)\n",
      "Requirement already satisfied: mpmath>=0.19 in d:\\conda3\\lib\\site-packages (from sympy->torch->-r ../requirements.txt (line 7)) (1.3.0)\n",
      "Requirement already satisfied: smmap<6,>=3.0.1 in d:\\conda3\\lib\\site-packages (from gitdb<5,>=4.0.1->gitpython!=3.1.29,>=1.0.0->wandb->-r ../requirements.txt (line 8)) (5.0.1)\n"
     ]
    }
   ],
   "source": [
    "# Install dependencies\n",
    "!pip install -r ../requirements.txt"
   ]
  },
  {
   "cell_type": "code",
   "execution_count": 186,
   "id": "5545cfd2",
   "metadata": {},
   "outputs": [],
   "source": [
    "import sys\n",
    "import os\n",
    "# Add the parent directory to the path\n",
    "sys.path.append(os.path.abspath('..'))"
   ]
  },
  {
   "cell_type": "code",
   "execution_count": 187,
   "id": "1256f377",
   "metadata": {},
   "outputs": [],
   "source": [
    "import yfinance as yf\n",
    "import pandas as pd\n",
    "from sklearn.model_selection import train_test_split\n",
    "from sklearn.preprocessing import MinMaxScaler\n",
    "import torch\n",
    "import torch.nn as nn\n",
    "import torch.optim as optim\n",
    "from torch.utils.data import DataLoader, TensorDataset\n",
    "from data.stockData import get_stock_data\n",
    "from data.visualiserData import plot_stock_metric, plot_metric_across_stocks, plot_interactive_metric_across_stocks, plot_predictions_true_and_actual\n",
    "from utility.colors import generate_bright_random_color\n",
    "from features.featureExtractor import calculate_moving_average, calculate_bollinger_bands\n",
    "from datetime import datetime, timedelta\n",
    "\n",
    "import seaborn as sns\n",
    "import matplotlib.pyplot as plt\n",
    "import wandb\n",
    "import plotly.graph_objects as go\n"
   ]
  },
  {
   "cell_type": "code",
   "execution_count": 188,
   "id": "b392c346",
   "metadata": {},
   "outputs": [],
   "source": [
    "# Fetch stock data\n",
    "# tickers = ['AAPL', 'GOOGL']\n",
    "tickers = ['META', 'ADBE', 'MA', 'GS', 'NFLX', 'LMT', 'MCD']\n",
    "start_date = '2023-01-01'\n",
    "# start_date = '2017-01-01'\n",
    "end_date = '2024-01-01'\n",
    "ticker_dict = {}"
   ]
  },
  {
   "cell_type": "code",
   "execution_count": 229,
   "id": "9f9a289d",
   "metadata": {},
   "outputs": [],
   "source": [
    "# from dotenv import dotenv_values\n",
    "# config = dotenv_values(\".env\") \n",
    "# plotly_api_key = config['plotly_studio_api']\n",
    "# plotly_studio_username = config['plotly_studio_username']\n",
    "\n",
    "# chart_studio.tools.set_credentials_file(username=plotly_studio_username,api_key=plotly_api_key)\n",
    "# sample to save to plotly\n",
    "# fig = evaluate_model_sequence3(model, test_sequence_loader, wandb_log = False, days_back_to_plot = 30)\n",
    "# py.plot(fig, filename=\"FinanceEP01_SequencerEvaluator_30\", auto_open = True)\n"
   ]
  },
  {
   "cell_type": "code",
   "execution_count": 189,
   "id": "b8ff1f7c",
   "metadata": {},
   "outputs": [],
   "source": [
    "config = {\n",
    "    \"learning_rate\": 0.001,\n",
    "    \"epochs\": 10,\n",
    "    \"batch_size\": 32,\n",
    "    \"tickers\" : tickers,\n",
    "    \"start_date\" : start_date,\n",
    "    \"end_date\" : end_date,\n",
    "    \"model_name\": \"NeuralNetSimple_v5\",\n",
    "    \"percentage_sequence_test_days\" : 0.2,\n",
    "    \"percentage_test\" : 0.2\n",
    "}"
   ]
  },
  {
   "cell_type": "code",
   "execution_count": 190,
   "id": "9db86734",
   "metadata": {},
   "outputs": [
    {
     "data": {
      "text/html": [
       "Tracking run with wandb version 0.18.3"
      ],
      "text/plain": [
       "<IPython.core.display.HTML object>"
      ]
     },
     "metadata": {},
     "output_type": "display_data"
    },
    {
     "data": {
      "text/html": [
       "Run data is saved locally in <code>D:\\code\\finance\\Notebooks\\wandb\\run-20241015_183309-rywxcz8s</code>"
      ],
      "text/plain": [
       "<IPython.core.display.HTML object>"
      ]
     },
     "metadata": {},
     "output_type": "display_data"
    },
    {
     "data": {
      "text/html": [
       "Syncing run <strong><a href='https://wandb.ai/jerryjohnthomas-indian-institute-of-technology/stock-price-prediction/runs/rywxcz8s' target=\"_blank\">NeuralNetSimple_v5_10e</a></strong> to <a href='https://wandb.ai/jerryjohnthomas-indian-institute-of-technology/stock-price-prediction' target=\"_blank\">Weights & Biases</a> (<a href='https://wandb.me/run' target=\"_blank\">docs</a>)<br/>"
      ],
      "text/plain": [
       "<IPython.core.display.HTML object>"
      ]
     },
     "metadata": {},
     "output_type": "display_data"
    },
    {
     "data": {
      "text/html": [
       " View project at <a href='https://wandb.ai/jerryjohnthomas-indian-institute-of-technology/stock-price-prediction' target=\"_blank\">https://wandb.ai/jerryjohnthomas-indian-institute-of-technology/stock-price-prediction</a>"
      ],
      "text/plain": [
       "<IPython.core.display.HTML object>"
      ]
     },
     "metadata": {},
     "output_type": "display_data"
    },
    {
     "data": {
      "text/html": [
       " View run at <a href='https://wandb.ai/jerryjohnthomas-indian-institute-of-technology/stock-price-prediction/runs/rywxcz8s' target=\"_blank\">https://wandb.ai/jerryjohnthomas-indian-institute-of-technology/stock-price-prediction/runs/rywxcz8s</a>"
      ],
      "text/plain": [
       "<IPython.core.display.HTML object>"
      ]
     },
     "metadata": {},
     "output_type": "display_data"
    }
   ],
   "source": [
    "# Intialising wandb ideally you should run this after wandb.login()\n",
    "wandb.init(project=\"stock-price-prediction\", name=f\"{config['model_name']}_{config['epochs']}e\", config = config)\n",
    "wandb.config.update(config)"
   ]
  },
  {
   "cell_type": "code",
   "execution_count": 191,
   "id": "4f44bebf",
   "metadata": {
    "scrolled": true
   },
   "outputs": [
    {
     "name": "stdout",
     "output_type": "stream",
     "text": [
      "Loaded data from cache for tickers: ['META', 'ADBE', 'MA', 'GS', 'NFLX', 'LMT', 'MCD']\n"
     ]
    }
   ],
   "source": [
    "stock_data = get_stock_data(tickers, start_date, end_date)"
   ]
  },
  {
   "cell_type": "code",
   "execution_count": 192,
   "id": "6fdac64b",
   "metadata": {},
   "outputs": [],
   "source": [
    "# stock_data['AAPL'].tail()"
   ]
  },
  {
   "cell_type": "code",
   "execution_count": 193,
   "id": "9860b0a8",
   "metadata": {},
   "outputs": [],
   "source": [
    "# Apply feature engineering\n",
    "for ticker, df in stock_data.items():\n",
    "    df['SMA_5'] = calculate_moving_average(df, window=5)\n",
    "    df['MA_20'], df['Upper_Band'], df['Lower_Band'] = calculate_bollinger_bands(df, window=10)\n",
    "    "
   ]
  },
  {
   "cell_type": "code",
   "execution_count": 194,
   "id": "bcccb045",
   "metadata": {},
   "outputs": [
    {
     "data": {
      "text/html": [
       "<div>\n",
       "<style scoped>\n",
       "    .dataframe tbody tr th:only-of-type {\n",
       "        vertical-align: middle;\n",
       "    }\n",
       "\n",
       "    .dataframe tbody tr th {\n",
       "        vertical-align: top;\n",
       "    }\n",
       "\n",
       "    .dataframe thead th {\n",
       "        text-align: right;\n",
       "    }\n",
       "</style>\n",
       "<table border=\"1\" class=\"dataframe\">\n",
       "  <thead>\n",
       "    <tr style=\"text-align: right;\">\n",
       "      <th></th>\n",
       "      <th>Open</th>\n",
       "      <th>High</th>\n",
       "      <th>Low</th>\n",
       "      <th>Close</th>\n",
       "      <th>Adj Close</th>\n",
       "      <th>Volume</th>\n",
       "      <th>SMA_5</th>\n",
       "      <th>MA_20</th>\n",
       "      <th>Upper_Band</th>\n",
       "      <th>Lower_Band</th>\n",
       "    </tr>\n",
       "    <tr>\n",
       "      <th>Date</th>\n",
       "      <th></th>\n",
       "      <th></th>\n",
       "      <th></th>\n",
       "      <th></th>\n",
       "      <th></th>\n",
       "      <th></th>\n",
       "      <th></th>\n",
       "      <th></th>\n",
       "      <th></th>\n",
       "      <th></th>\n",
       "    </tr>\n",
       "  </thead>\n",
       "  <tbody>\n",
       "    <tr>\n",
       "      <th>2023-12-22</th>\n",
       "      <td>355.579987</td>\n",
       "      <td>357.200012</td>\n",
       "      <td>351.220001</td>\n",
       "      <td>353.390015</td>\n",
       "      <td>352.329163</td>\n",
       "      <td>11764200</td>\n",
       "      <td>350.347998</td>\n",
       "      <td>341.407001</td>\n",
       "      <td>361.661224</td>\n",
       "      <td>321.152777</td>\n",
       "    </tr>\n",
       "    <tr>\n",
       "      <th>2023-12-26</th>\n",
       "      <td>354.989990</td>\n",
       "      <td>356.980011</td>\n",
       "      <td>353.450012</td>\n",
       "      <td>354.829987</td>\n",
       "      <td>353.764832</td>\n",
       "      <td>9898600</td>\n",
       "      <td>352.389996</td>\n",
       "      <td>344.362000</td>\n",
       "      <td>362.689898</td>\n",
       "      <td>326.034101</td>\n",
       "    </tr>\n",
       "    <tr>\n",
       "      <th>2023-12-27</th>\n",
       "      <td>356.070007</td>\n",
       "      <td>359.000000</td>\n",
       "      <td>355.309998</td>\n",
       "      <td>357.829987</td>\n",
       "      <td>356.755829</td>\n",
       "      <td>13207900</td>\n",
       "      <td>353.883997</td>\n",
       "      <td>346.722998</td>\n",
       "      <td>365.325090</td>\n",
       "      <td>328.120906</td>\n",
       "    </tr>\n",
       "    <tr>\n",
       "      <th>2023-12-28</th>\n",
       "      <td>359.700012</td>\n",
       "      <td>361.899994</td>\n",
       "      <td>357.809998</td>\n",
       "      <td>358.320007</td>\n",
       "      <td>357.244354</td>\n",
       "      <td>11798800</td>\n",
       "      <td>355.691998</td>\n",
       "      <td>349.081000</td>\n",
       "      <td>366.893374</td>\n",
       "      <td>331.268625</td>\n",
       "    </tr>\n",
       "    <tr>\n",
       "      <th>2023-12-29</th>\n",
       "      <td>358.989990</td>\n",
       "      <td>360.000000</td>\n",
       "      <td>351.820007</td>\n",
       "      <td>353.959991</td>\n",
       "      <td>352.897491</td>\n",
       "      <td>14980500</td>\n",
       "      <td>355.665997</td>\n",
       "      <td>351.159998</td>\n",
       "      <td>365.164827</td>\n",
       "      <td>337.155169</td>\n",
       "    </tr>\n",
       "  </tbody>\n",
       "</table>\n",
       "</div>"
      ],
      "text/plain": [
       "                  Open        High         Low       Close   Adj Close  \\\n",
       "Date                                                                     \n",
       "2023-12-22  355.579987  357.200012  351.220001  353.390015  352.329163   \n",
       "2023-12-26  354.989990  356.980011  353.450012  354.829987  353.764832   \n",
       "2023-12-27  356.070007  359.000000  355.309998  357.829987  356.755829   \n",
       "2023-12-28  359.700012  361.899994  357.809998  358.320007  357.244354   \n",
       "2023-12-29  358.989990  360.000000  351.820007  353.959991  352.897491   \n",
       "\n",
       "              Volume       SMA_5       MA_20  Upper_Band  Lower_Band  \n",
       "Date                                                                  \n",
       "2023-12-22  11764200  350.347998  341.407001  361.661224  321.152777  \n",
       "2023-12-26   9898600  352.389996  344.362000  362.689898  326.034101  \n",
       "2023-12-27  13207900  353.883997  346.722998  365.325090  328.120906  \n",
       "2023-12-28  11798800  355.691998  349.081000  366.893374  331.268625  \n",
       "2023-12-29  14980500  355.665997  351.159998  365.164827  337.155169  "
      ]
     },
     "execution_count": 194,
     "metadata": {},
     "output_type": "execute_result"
    }
   ],
   "source": [
    "stock_data[tickers[0]].tail()"
   ]
  },
  {
   "cell_type": "code",
   "execution_count": 195,
   "id": "70e9aa3f",
   "metadata": {},
   "outputs": [],
   "source": [
    "# # Apply feature engineering and visualize the data\n",
    "# for ticker, df in stock_data.items():\n",
    "#     df['SMA_5'] = calculate_moving_average(df, window=5)\n",
    "#     df['MA_20'], df['Upper_Band'], df['Lower_Band'] = calculate_bollinger_bands(df, window=20)\n",
    "    \n",
    "#     # Plot the data for each ticker\n",
    "#     plot_stock_data(df, ticker)"
   ]
  },
  {
   "cell_type": "code",
   "execution_count": 196,
   "id": "24472a6b",
   "metadata": {},
   "outputs": [
    {
     "data": {
      "text/plain": [
       "{'META':                   Open        High         Low       Close   Adj Close  \\\n",
       " Date                                                                     \n",
       " 2023-01-03  122.820000  126.370003  122.279999  124.739998  124.365540   \n",
       " 2023-01-04  127.379997  129.050003  125.849998  127.370003  126.987656   \n",
       " 2023-01-05  126.129997  128.520004  124.540001  126.940002  126.558945   \n",
       " 2023-01-06  128.970001  130.330002  126.040001  130.020004  129.629700   \n",
       " 2023-01-09  131.160004  132.949997  129.279999  129.470001  129.081345   \n",
       " ...                ...         ...         ...         ...         ...   \n",
       " 2023-12-22  355.579987  357.200012  351.220001  353.390015  352.329163   \n",
       " 2023-12-26  354.989990  356.980011  353.450012  354.829987  353.764832   \n",
       " 2023-12-27  356.070007  359.000000  355.309998  357.829987  356.755829   \n",
       " 2023-12-28  359.700012  361.899994  357.809998  358.320007  357.244354   \n",
       " 2023-12-29  358.989990  360.000000  351.820007  353.959991  352.897491   \n",
       " \n",
       "               Volume       SMA_5       MA_20  Upper_Band  Lower_Band  \n",
       " Date                                                                  \n",
       " 2023-01-03  35528500         NaN         NaN         NaN         NaN  \n",
       " 2023-01-04  32397100         NaN         NaN         NaN         NaN  \n",
       " 2023-01-05  25447100         NaN         NaN         NaN         NaN  \n",
       " 2023-01-06  27584500         NaN         NaN         NaN         NaN  \n",
       " 2023-01-09  26649100  127.708002         NaN         NaN         NaN  \n",
       " ...              ...         ...         ...         ...         ...  \n",
       " 2023-12-22  11764200  350.347998  341.407001  361.661224  321.152777  \n",
       " 2023-12-26   9898600  352.389996  344.362000  362.689898  326.034101  \n",
       " 2023-12-27  13207900  353.883997  346.722998  365.325090  328.120906  \n",
       " 2023-12-28  11798800  355.691998  349.081000  366.893374  331.268625  \n",
       " 2023-12-29  14980500  355.665997  351.159998  365.164827  337.155169  \n",
       " \n",
       " [250 rows x 10 columns],\n",
       " 'ADBE':                   Open        High         Low       Close   Adj Close  \\\n",
       " Date                                                                     \n",
       " 2023-01-03  340.160004  345.820007  331.920013  336.920013  336.920013   \n",
       " 2023-01-04  342.890015  345.630005  336.730011  341.410004  341.410004   \n",
       " 2023-01-05  337.529999  337.549988  328.160004  328.440002  328.440002   \n",
       " 2023-01-06  332.279999  334.880005  322.440002  332.750000  332.750000   \n",
       " 2023-01-09  338.899994  349.459991  338.420013  341.980011  341.980011   \n",
       " ...                ...         ...         ...         ...         ...   \n",
       " 2023-12-22  600.799988  601.859985  596.000000  598.750000  598.750000   \n",
       " 2023-12-26  598.919983  601.690002  596.500000  598.260010  598.260010   \n",
       " 2023-12-27  598.599976  599.789978  593.710022  596.080017  596.080017   \n",
       " 2023-12-28  597.440002  599.039978  593.630005  595.520020  595.520020   \n",
       " 2023-12-29  596.090027  600.750000  592.940002  596.599976  596.599976   \n",
       " \n",
       "              Volume       SMA_5       MA_20  Upper_Band  Lower_Band  \n",
       " Date                                                                 \n",
       " 2023-01-03  2229100         NaN         NaN         NaN         NaN  \n",
       " 2023-01-04  2186800         NaN         NaN         NaN         NaN  \n",
       " 2023-01-05  2081600         NaN         NaN         NaN         NaN  \n",
       " 2023-01-06  2216600         NaN         NaN         NaN         NaN  \n",
       " 2023-01-09  3133800  336.300006         NaN         NaN         NaN  \n",
       " ...             ...         ...         ...         ...         ...  \n",
       " 2023-12-22  1659800  599.744006  605.116003  639.141299  571.090708  \n",
       " 2023-12-26  1595100  599.570007  602.422003  633.519931  571.324075  \n",
       " 2023-12-27  1394900  597.858008  598.664008  620.765966  576.562049  \n",
       " 2023-12-28  1702600  597.750012  595.790009  608.635205  582.944812  \n",
       " 2023-12-29  1893900  597.042004  596.986005  607.168288  586.803721  \n",
       " \n",
       " [250 rows x 10 columns],\n",
       " 'MA':                   Open        High         Low       Close   Adj Close  \\\n",
       " Date                                                                     \n",
       " 2023-01-03  349.959991  354.660004  343.940002  346.799988  343.170044   \n",
       " 2023-01-04  351.390015  356.980011  349.690002  355.149994  351.432678   \n",
       " 2023-01-05  356.119995  357.559998  351.269989  351.769989  348.088074   \n",
       " 2023-01-06  357.309998  368.720001  355.320007  367.670013  364.412140   \n",
       " 2023-01-09  371.630005  375.000000  369.559998  370.970001  367.682861   \n",
       " ...                ...         ...         ...         ...         ...   \n",
       " 2023-12-22  424.750000  427.170013  422.959991  424.100006  422.221558   \n",
       " 2023-12-26  425.000000  425.720001  422.950012  423.670013  421.793457   \n",
       " 2023-12-27  423.000000  425.010010  422.959991  424.359985  422.480347   \n",
       " 2023-12-28  423.769989  428.359985  423.679993  426.320007  424.431702   \n",
       " 2023-12-29  426.679993  428.350006  424.269989  426.510010  424.620880   \n",
       " \n",
       "              Volume       SMA_5       MA_20  Upper_Band  Lower_Band  \n",
       " Date                                                                 \n",
       " 2023-01-03  2933600         NaN         NaN         NaN         NaN  \n",
       " 2023-01-04  2661000         NaN         NaN         NaN         NaN  \n",
       " 2023-01-05  2608500         NaN         NaN         NaN         NaN  \n",
       " 2023-01-06  4432800         NaN         NaN         NaN         NaN  \n",
       " 2023-01-09  3913500  358.471997         NaN         NaN         NaN  \n",
       " ...             ...         ...         ...         ...         ...  \n",
       " 2023-12-22  1759000  423.378003  421.516000  428.199207  414.832793  \n",
       " 2023-12-26  1258200  423.226007  422.312003  427.690588  416.933417  \n",
       " 2023-12-27  1324100  423.004004  422.673001  428.070195  417.275807  \n",
       " 2023-12-28  1505000  424.378003  422.837003  428.592986  417.081020  \n",
       " 2023-12-29  1706100  424.992004  423.632004  428.941260  418.322747  \n",
       " \n",
       " [250 rows x 10 columns],\n",
       " 'GS':                   Open        High         Low       Close   Adj Close  \\\n",
       " Date                                                                     \n",
       " 2023-01-03  345.500000  348.600006  342.809998  346.220001  329.270264   \n",
       " 2023-01-04  348.029999  350.309998  345.079987  347.700012  330.677856   \n",
       " 2023-01-05  344.250000  345.140015  340.140015  343.760010  326.930786   \n",
       " 2023-01-06  347.299988  349.000000  340.950012  348.079987  331.039215   \n",
       " 2023-01-09  351.880005  356.500000  349.500000  353.000000  335.718353   \n",
       " ...                ...         ...         ...         ...         ...   \n",
       " 2023-12-22  382.000000  383.489990  379.410004  380.649994  373.488312   \n",
       " 2023-12-26  380.649994  382.609985  380.049988  381.609985  374.430267   \n",
       " 2023-12-27  381.200012  385.750000  380.309998  384.480011  377.246277   \n",
       " 2023-12-28  384.519989  387.760010  383.630005  386.410004  379.139984   \n",
       " 2023-12-29  385.570007  386.640015  383.570007  385.769989  378.512024   \n",
       " \n",
       "              Volume       SMA_5       MA_20  Upper_Band  Lower_Band  \n",
       " Date                                                                 \n",
       " 2023-01-03  1589700         NaN         NaN         NaN         NaN  \n",
       " 2023-01-04  1881000         NaN         NaN         NaN         NaN  \n",
       " 2023-01-05  1397800         NaN         NaN         NaN         NaN  \n",
       " 2023-01-06  3097800         NaN         NaN         NaN         NaN  \n",
       " 2023-01-09  1989000  347.752002         NaN         NaN         NaN  \n",
       " ...             ...         ...         ...         ...         ...  \n",
       " 2023-12-22  1538200  379.517999  372.867001  397.590605  348.143398  \n",
       " 2023-12-26   837300  380.559998  375.851999  396.041763  355.662234  \n",
       " 2023-12-27  1367200  380.965997  379.039001  391.508366  366.569637  \n",
       " 2023-12-28  1024700  382.744000  381.407001  387.448180  375.365821  \n",
       " 2023-12-29   881300  383.783997  381.637000  388.181424  375.092575  \n",
       " \n",
       " [250 rows x 10 columns],\n",
       " 'NFLX':                   Open        High         Low       Close   Adj Close  \\\n",
       " Date                                                                     \n",
       " 2023-01-03  298.059998  298.390015  288.700012  294.950012  294.950012   \n",
       " 2023-01-04  298.239990  311.140015  295.510010  309.410004  309.410004   \n",
       " 2023-01-05  307.000000  314.179993  304.549988  309.700012  309.700012   \n",
       " 2023-01-06  311.570007  316.769989  303.690002  315.549988  315.549988   \n",
       " 2023-01-09  316.829987  321.700012  313.220001  315.170013  315.170013   \n",
       " ...                ...         ...         ...         ...         ...   \n",
       " 2023-12-22  494.000000  496.019989  485.450012  486.760010  486.760010   \n",
       " 2023-12-26  489.390015  491.480011  486.380005  491.190002  491.190002   \n",
       " 2023-12-27  491.239990  494.019989  489.250000  491.790009  491.790009   \n",
       " 2023-12-28  492.000000  492.890015  489.070007  490.510010  490.510010   \n",
       " 2023-12-29  490.369995  492.230011  481.940002  486.880005  486.880005   \n",
       " \n",
       "              Volume       SMA_5       MA_20  Upper_Band  Lower_Band  \n",
       " Date                                                                 \n",
       " 2023-01-03  6764000         NaN         NaN         NaN         NaN  \n",
       " 2023-01-04  9345100         NaN         NaN         NaN         NaN  \n",
       " 2023-01-05  8328400         NaN         NaN         NaN         NaN  \n",
       " 2023-01-06  8959800         NaN         NaN         NaN         NaN  \n",
       " 2023-01-09  6766600  308.956006         NaN         NaN         NaN  \n",
       " ...             ...         ...         ...         ...         ...  \n",
       " 2023-12-22  2701100  489.755994  479.353998  504.166075  454.541921  \n",
       " 2023-12-26  2034500  490.769995  482.483997  504.070655  460.897338  \n",
       " 2023-12-27  2561300  490.123999  485.362997  502.652080  468.073915  \n",
       " 2023-12-28  1710500  490.372003  486.415997  503.529734  469.302261  \n",
       " 2023-12-29  2739500  489.426007  488.120999  500.682478  475.559520  \n",
       " \n",
       " [250 rows x 10 columns],\n",
       " 'LMT':                   Open        High         Low       Close   Adj Close  \\\n",
       " Date                                                                     \n",
       " 2023-01-03  483.390015  484.250000  474.010010  477.529999  455.904846   \n",
       " 2023-01-04  473.250000  479.700012  469.299988  476.500000  454.921509   \n",
       " 2023-01-05  475.690002  478.140015  469.899994  477.070007  455.465729   \n",
       " 2023-01-06  480.000000  488.000000  465.769989  473.239990  451.809174   \n",
       " 2023-01-09  467.790009  470.790009  455.299988  458.989990  438.204437   \n",
       " ...                ...         ...         ...         ...         ...   \n",
       " 2023-12-22  450.000000  451.739990  448.109985  448.220001  439.524689   \n",
       " 2023-12-26  448.149994  451.440002  447.820007  450.179993  441.446655   \n",
       " 2023-12-27  448.549988  451.019989  448.410004  448.970001  440.260132   \n",
       " 2023-12-28  448.970001  451.829987  448.459991  451.230011  442.476318   \n",
       " 2023-12-29  452.000000  453.500000  451.149994  453.239990  444.447296   \n",
       " \n",
       "              Volume       SMA_5       MA_20  Upper_Band  Lower_Band  \n",
       " Date                                                                 \n",
       " 2023-01-03  1657200         NaN         NaN         NaN         NaN  \n",
       " 2023-01-04  1391300         NaN         NaN         NaN         NaN  \n",
       " 2023-01-05  1210100         NaN         NaN         NaN         NaN  \n",
       " 2023-01-06  1969200         NaN         NaN         NaN         NaN  \n",
       " 2023-01-09  2377000  472.665997         NaN         NaN         NaN  \n",
       " ...             ...         ...         ...         ...         ...  \n",
       " 2023-12-22   623600  446.708002  447.495001  454.464713  440.525289  \n",
       " 2023-12-26   516900  447.362000  447.387000  454.127103  440.646896  \n",
       " 2023-12-27   699900  447.597998  447.120999  453.303788  440.938210  \n",
       " 2023-12-28   741800  449.323999  447.100000  453.218687  440.981313  \n",
       " 2023-12-29   832400  450.367999  447.897000  454.959726  440.834275  \n",
       " \n",
       " [250 rows x 10 columns],\n",
       " 'MCD':                   Open        High         Low       Close   Adj Close  \\\n",
       " Date                                                                     \n",
       " 2023-01-03  263.529999  264.350006  259.510010  264.329987  253.880585   \n",
       " 2023-01-04  266.250000  266.549988  262.890015  264.390015  253.938217   \n",
       " 2023-01-05  264.760010  264.760010  261.380005  262.160004  251.796402   \n",
       " 2023-01-06  263.760010  269.890015  263.390015  269.470001  258.817352   \n",
       " 2023-01-09  269.929993  269.950012  266.769989  267.250000  256.685120   \n",
       " ...                ...         ...         ...         ...         ...   \n",
       " 2023-12-22  290.700012  292.470001  290.500000  291.700012  286.511536   \n",
       " 2023-12-26  291.220001  293.049988  290.890015  292.859985  287.650879   \n",
       " 2023-12-27  292.500000  294.630005  292.459991  294.549988  289.310822   \n",
       " 2023-12-28  294.470001  296.470001  294.000000  295.839996  290.577881   \n",
       " 2023-12-29  295.829987  296.850006  295.309998  296.510010  291.235992   \n",
       " \n",
       "              Volume       SMA_5       MA_20  Upper_Band  Lower_Band  \n",
       " Date                                                                 \n",
       " 2023-01-03  2743800         NaN         NaN         NaN         NaN  \n",
       " 2023-01-04  2584100         NaN         NaN         NaN         NaN  \n",
       " 2023-01-05  1945600         NaN         NaN         NaN         NaN  \n",
       " 2023-01-06  2855400         NaN         NaN         NaN         NaN  \n",
       " 2023-01-09  2654600  265.520001         NaN         NaN         NaN  \n",
       " ...             ...         ...         ...         ...         ...  \n",
       " 2023-12-22  1700300  290.608008  290.683002  295.259285  286.106718  \n",
       " 2023-12-26  1381500  291.134003  291.054001  295.679201  286.428801  \n",
       " 2023-12-27  1892100  291.897998  291.366998  296.498225  286.235771  \n",
       " 2023-12-28  1907100  293.267999  291.357999  296.453851  286.262147  \n",
       " 2023-12-29  2227500  294.291998  292.007001  297.931273  286.082729  \n",
       " \n",
       " [250 rows x 10 columns]}"
      ]
     },
     "execution_count": 196,
     "metadata": {},
     "output_type": "execute_result"
    }
   ],
   "source": [
    "stock_data"
   ]
  },
  {
   "cell_type": "code",
   "execution_count": 198,
   "id": "2d345dfa",
   "metadata": {},
   "outputs": [
    {
     "data": {
      "application/vnd.plotly.v1+json": {
       "config": {
        "plotlyServerURL": "https://plotly.com"
       },
       "data": [
        {
         "mode": "lines",
         "name": "META",
         "type": "scatter",
         "x": [
          "2023-01-03T00:00:00",
          "2023-01-04T00:00:00",
          "2023-01-05T00:00:00",
          "2023-01-06T00:00:00",
          "2023-01-09T00:00:00",
          "2023-01-10T00:00:00",
          "2023-01-11T00:00:00",
          "2023-01-12T00:00:00",
          "2023-01-13T00:00:00",
          "2023-01-17T00:00:00",
          "2023-01-18T00:00:00",
          "2023-01-19T00:00:00",
          "2023-01-20T00:00:00",
          "2023-01-23T00:00:00",
          "2023-01-24T00:00:00",
          "2023-01-25T00:00:00",
          "2023-01-26T00:00:00",
          "2023-01-27T00:00:00",
          "2023-01-30T00:00:00",
          "2023-01-31T00:00:00",
          "2023-02-01T00:00:00",
          "2023-02-02T00:00:00",
          "2023-02-03T00:00:00",
          "2023-02-06T00:00:00",
          "2023-02-07T00:00:00",
          "2023-02-08T00:00:00",
          "2023-02-09T00:00:00",
          "2023-02-10T00:00:00",
          "2023-02-13T00:00:00",
          "2023-02-14T00:00:00",
          "2023-02-15T00:00:00",
          "2023-02-16T00:00:00",
          "2023-02-17T00:00:00",
          "2023-02-21T00:00:00",
          "2023-02-22T00:00:00",
          "2023-02-23T00:00:00",
          "2023-02-24T00:00:00",
          "2023-02-27T00:00:00",
          "2023-02-28T00:00:00",
          "2023-03-01T00:00:00",
          "2023-03-02T00:00:00",
          "2023-03-03T00:00:00",
          "2023-03-06T00:00:00",
          "2023-03-07T00:00:00",
          "2023-03-08T00:00:00",
          "2023-03-09T00:00:00",
          "2023-03-10T00:00:00",
          "2023-03-13T00:00:00",
          "2023-03-14T00:00:00",
          "2023-03-15T00:00:00",
          "2023-03-16T00:00:00",
          "2023-03-17T00:00:00",
          "2023-03-20T00:00:00",
          "2023-03-21T00:00:00",
          "2023-03-22T00:00:00",
          "2023-03-23T00:00:00",
          "2023-03-24T00:00:00",
          "2023-03-27T00:00:00",
          "2023-03-28T00:00:00",
          "2023-03-29T00:00:00",
          "2023-03-30T00:00:00",
          "2023-03-31T00:00:00",
          "2023-04-03T00:00:00",
          "2023-04-04T00:00:00",
          "2023-04-05T00:00:00",
          "2023-04-06T00:00:00",
          "2023-04-10T00:00:00",
          "2023-04-11T00:00:00",
          "2023-04-12T00:00:00",
          "2023-04-13T00:00:00",
          "2023-04-14T00:00:00",
          "2023-04-17T00:00:00",
          "2023-04-18T00:00:00",
          "2023-04-19T00:00:00",
          "2023-04-20T00:00:00",
          "2023-04-21T00:00:00",
          "2023-04-24T00:00:00",
          "2023-04-25T00:00:00",
          "2023-04-26T00:00:00",
          "2023-04-27T00:00:00",
          "2023-04-28T00:00:00",
          "2023-05-01T00:00:00",
          "2023-05-02T00:00:00",
          "2023-05-03T00:00:00",
          "2023-05-04T00:00:00",
          "2023-05-05T00:00:00",
          "2023-05-08T00:00:00",
          "2023-05-09T00:00:00",
          "2023-05-10T00:00:00",
          "2023-05-11T00:00:00",
          "2023-05-12T00:00:00",
          "2023-05-15T00:00:00",
          "2023-05-16T00:00:00",
          "2023-05-17T00:00:00",
          "2023-05-18T00:00:00",
          "2023-05-19T00:00:00",
          "2023-05-22T00:00:00",
          "2023-05-23T00:00:00",
          "2023-05-24T00:00:00",
          "2023-05-25T00:00:00",
          "2023-05-26T00:00:00",
          "2023-05-30T00:00:00",
          "2023-05-31T00:00:00",
          "2023-06-01T00:00:00",
          "2023-06-02T00:00:00",
          "2023-06-05T00:00:00",
          "2023-06-06T00:00:00",
          "2023-06-07T00:00:00",
          "2023-06-08T00:00:00",
          "2023-06-09T00:00:00",
          "2023-06-12T00:00:00",
          "2023-06-13T00:00:00",
          "2023-06-14T00:00:00",
          "2023-06-15T00:00:00",
          "2023-06-16T00:00:00",
          "2023-06-20T00:00:00",
          "2023-06-21T00:00:00",
          "2023-06-22T00:00:00",
          "2023-06-23T00:00:00",
          "2023-06-26T00:00:00",
          "2023-06-27T00:00:00",
          "2023-06-28T00:00:00",
          "2023-06-29T00:00:00",
          "2023-06-30T00:00:00",
          "2023-07-03T00:00:00",
          "2023-07-05T00:00:00",
          "2023-07-06T00:00:00",
          "2023-07-07T00:00:00",
          "2023-07-10T00:00:00",
          "2023-07-11T00:00:00",
          "2023-07-12T00:00:00",
          "2023-07-13T00:00:00",
          "2023-07-14T00:00:00",
          "2023-07-17T00:00:00",
          "2023-07-18T00:00:00",
          "2023-07-19T00:00:00",
          "2023-07-20T00:00:00",
          "2023-07-21T00:00:00",
          "2023-07-24T00:00:00",
          "2023-07-25T00:00:00",
          "2023-07-26T00:00:00",
          "2023-07-27T00:00:00",
          "2023-07-28T00:00:00",
          "2023-07-31T00:00:00",
          "2023-08-01T00:00:00",
          "2023-08-02T00:00:00",
          "2023-08-03T00:00:00",
          "2023-08-04T00:00:00",
          "2023-08-07T00:00:00",
          "2023-08-08T00:00:00",
          "2023-08-09T00:00:00",
          "2023-08-10T00:00:00",
          "2023-08-11T00:00:00",
          "2023-08-14T00:00:00",
          "2023-08-15T00:00:00",
          "2023-08-16T00:00:00",
          "2023-08-17T00:00:00",
          "2023-08-18T00:00:00",
          "2023-08-21T00:00:00",
          "2023-08-22T00:00:00",
          "2023-08-23T00:00:00",
          "2023-08-24T00:00:00",
          "2023-08-25T00:00:00",
          "2023-08-28T00:00:00",
          "2023-08-29T00:00:00",
          "2023-08-30T00:00:00",
          "2023-08-31T00:00:00",
          "2023-09-01T00:00:00",
          "2023-09-05T00:00:00",
          "2023-09-06T00:00:00",
          "2023-09-07T00:00:00",
          "2023-09-08T00:00:00",
          "2023-09-11T00:00:00",
          "2023-09-12T00:00:00",
          "2023-09-13T00:00:00",
          "2023-09-14T00:00:00",
          "2023-09-15T00:00:00",
          "2023-09-18T00:00:00",
          "2023-09-19T00:00:00",
          "2023-09-20T00:00:00",
          "2023-09-21T00:00:00",
          "2023-09-22T00:00:00",
          "2023-09-25T00:00:00",
          "2023-09-26T00:00:00",
          "2023-09-27T00:00:00",
          "2023-09-28T00:00:00",
          "2023-09-29T00:00:00",
          "2023-10-02T00:00:00",
          "2023-10-03T00:00:00",
          "2023-10-04T00:00:00",
          "2023-10-05T00:00:00",
          "2023-10-06T00:00:00",
          "2023-10-09T00:00:00",
          "2023-10-10T00:00:00",
          "2023-10-11T00:00:00",
          "2023-10-12T00:00:00",
          "2023-10-13T00:00:00",
          "2023-10-16T00:00:00",
          "2023-10-17T00:00:00",
          "2023-10-18T00:00:00",
          "2023-10-19T00:00:00",
          "2023-10-20T00:00:00",
          "2023-10-23T00:00:00",
          "2023-10-24T00:00:00",
          "2023-10-25T00:00:00",
          "2023-10-26T00:00:00",
          "2023-10-27T00:00:00",
          "2023-10-30T00:00:00",
          "2023-10-31T00:00:00",
          "2023-11-01T00:00:00",
          "2023-11-02T00:00:00",
          "2023-11-03T00:00:00",
          "2023-11-06T00:00:00",
          "2023-11-07T00:00:00",
          "2023-11-08T00:00:00",
          "2023-11-09T00:00:00",
          "2023-11-10T00:00:00",
          "2023-11-13T00:00:00",
          "2023-11-14T00:00:00",
          "2023-11-15T00:00:00",
          "2023-11-16T00:00:00",
          "2023-11-17T00:00:00",
          "2023-11-20T00:00:00",
          "2023-11-21T00:00:00",
          "2023-11-22T00:00:00",
          "2023-11-24T00:00:00",
          "2023-11-27T00:00:00",
          "2023-11-28T00:00:00",
          "2023-11-29T00:00:00",
          "2023-11-30T00:00:00",
          "2023-12-01T00:00:00",
          "2023-12-04T00:00:00",
          "2023-12-05T00:00:00",
          "2023-12-06T00:00:00",
          "2023-12-07T00:00:00",
          "2023-12-08T00:00:00",
          "2023-12-11T00:00:00",
          "2023-12-12T00:00:00",
          "2023-12-13T00:00:00",
          "2023-12-14T00:00:00",
          "2023-12-15T00:00:00",
          "2023-12-18T00:00:00",
          "2023-12-19T00:00:00",
          "2023-12-20T00:00:00",
          "2023-12-21T00:00:00",
          "2023-12-22T00:00:00",
          "2023-12-26T00:00:00",
          "2023-12-27T00:00:00",
          "2023-12-28T00:00:00",
          "2023-12-29T00:00:00"
         ],
         "y": [
          124.73999786376953,
          127.37000274658203,
          126.94000244140625,
          130.02000427246094,
          129.47000122070312,
          132.99000549316406,
          132.88999938964844,
          136.7100067138672,
          136.97999572753906,
          135.36000061035156,
          133.02000427246094,
          136.14999389648438,
          139.3699951171875,
          143.27000427246094,
          143.13999938964844,
          141.5,
          147.3000030517578,
          151.74000549316406,
          147.05999755859375,
          148.97000122070312,
          153.1199951171875,
          188.77000427246094,
          186.52999877929688,
          186.05999755859375,
          191.6199951171875,
          183.42999267578125,
          177.9199981689453,
          174.14999389648438,
          179.42999267578125,
          179.47999572753906,
          177.16000366210938,
          172.44000244140625,
          172.8800048828125,
          172.0800018310547,
          171.1199951171875,
          172.0399932861328,
          170.38999938964844,
          169.5399932861328,
          174.94000244140625,
          173.4199981689453,
          174.52999877929688,
          185.25,
          184.89999389648438,
          184.50999450683594,
          184.97000122070312,
          181.69000244140625,
          179.50999450683594,
          180.89999389648438,
          194.02000427246094,
          197.75,
          204.92999267578125,
          195.61000061035156,
          197.80999755859375,
          202.16000366210938,
          199.80999755859375,
          204.27999877929688,
          206.00999450683594,
          202.83999633789062,
          200.67999267578125,
          205.35000610351562,
          207.83999633789062,
          211.94000244140625,
          213.07000732421875,
          214.72000122070312,
          211.47999572753906,
          216.10000610351562,
          214.75,
          213.85000610351562,
          214,
          220.35000610351562,
          221.49000549316406,
          218.86000061035156,
          217.88999938964844,
          215.6999969482422,
          213.07000732421875,
          212.88999938964844,
          212.7899932861328,
          207.5500030517578,
          209.39999389648438,
          238.55999755859375,
          240.32000732421875,
          243.17999267578125,
          239.24000549316406,
          237.02999877929688,
          233.52000427246094,
          232.77999877929688,
          233.27000427246094,
          233.3699951171875,
          233.0800018310547,
          235.7899932861328,
          233.80999755859375,
          238.86000061035156,
          238.82000732421875,
          242.49000549316406,
          246.85000610351562,
          245.63999938964844,
          248.32000732421875,
          246.74000549316406,
          249.2100067138672,
          252.69000244140625,
          262.0400085449219,
          262.5199890136719,
          264.7200012207031,
          272.6099853515625,
          272.6099853515625,
          271.3900146484375,
          271.1199951171875,
          263.6000061035156,
          264.5799865722656,
          264.95001220703125,
          271.04998779296875,
          271.32000732421875,
          273.3500061035156,
          281.8299865722656,
          281,
          284.3299865722656,
          281.6400146484375,
          284.8800048828125,
          288.7300109863281,
          278.4700012207031,
          287.04998779296875,
          285.2900085449219,
          281.5299987792969,
          286.9800109863281,
          286.0199890136719,
          294.3699951171875,
          291.989990234375,
          290.5299987792969,
          294.1000061035156,
          298.2900085449219,
          309.3399963378906,
          313.4100036621094,
          308.8699951171875,
          310.6199951171875,
          312.04998779296875,
          316.010009765625,
          302.5199890136719,
          294.260009765625,
          291.6099853515625,
          294.4700012207031,
          298.57000732421875,
          311.7099914550781,
          325.4800109863281,
          318.6000061035156,
          322.7099914550781,
          314.30999755859375,
          313.19000244140625,
          310.7300109863281,
          316.55999755859375,
          312.6400146484375,
          305.2099914550781,
          305.739990234375,
          301.6400146484375,
          306.19000244140625,
          301.95001220703125,
          294.2900085449219,
          285.0899963378906,
          283.25,
          289.8999938964844,
          287.6000061035156,
          294.239990234375,
          286.75,
          285.5,
          290.260009765625,
          297.989990234375,
          295.1000061035156,
          295.8900146484375,
          296.3800048828125,
          300.1499938964844,
          299.1700134277344,
          298.6700134277344,
          297.8900146484375,
          307.55999755859375,
          301.6600036621094,
          305.05999755859375,
          311.7200012207031,
          300.30999755859375,
          302.54998779296875,
          305.07000732421875,
          299.6700134277344,
          295.7300109863281,
          299.0799865722656,
          300.8299865722656,
          298.9599914550781,
          297.739990234375,
          303.9599914550781,
          300.2099914550781,
          306.82000732421875,
          300.94000244140625,
          305.5799865722656,
          304.7900085449219,
          315.42999267578125,
          318.3599853515625,
          321.8399963378906,
          327.82000732421875,
          324.1600036621094,
          314.69000244140625,
          321.1499938964844,
          324,
          316.9700012207031,
          312.80999755859375,
          308.6499938964844,
          314.010009765625,
          312.54998779296875,
          299.5299987792969,
          288.3500061035156,
          296.7300109863281,
          302.6600036621094,
          301.2699890136719,
          311.8500061035156,
          310.8699951171875,
          314.6000061035156,
          315.79998779296875,
          318.82000732421875,
          319.7799987792969,
          320.54998779296875,
          328.7699890136719,
          329.19000244140625,
          336.30999755859375,
          332.7099914550781,
          334.19000244140625,
          335.0400085449219,
          339.9700012207031,
          336.9800109863281,
          341.489990234375,
          338.2300109863281,
          334.70001220703125,
          338.989990234375,
          332.20001220703125,
          327.1499938964844,
          324.82000732421875,
          320.0199890136719,
          318.2900085449219,
          317.45001220703125,
          326.5899963378906,
          332.75,
          325.2799987792969,
          334.2200012207031,
          334.739990234375,
          333.1700134277344,
          334.9200134277344,
          344.6199951171875,
          350.3599853515625,
          349.2799987792969,
          354.0899963378906,
          353.3900146484375,
          354.8299865722656,
          357.8299865722656,
          358.32000732421875,
          353.9599914550781
         ]
        },
        {
         "mode": "lines",
         "name": "ADBE",
         "type": "scatter",
         "x": [
          "2023-01-03T00:00:00",
          "2023-01-04T00:00:00",
          "2023-01-05T00:00:00",
          "2023-01-06T00:00:00",
          "2023-01-09T00:00:00",
          "2023-01-10T00:00:00",
          "2023-01-11T00:00:00",
          "2023-01-12T00:00:00",
          "2023-01-13T00:00:00",
          "2023-01-17T00:00:00",
          "2023-01-18T00:00:00",
          "2023-01-19T00:00:00",
          "2023-01-20T00:00:00",
          "2023-01-23T00:00:00",
          "2023-01-24T00:00:00",
          "2023-01-25T00:00:00",
          "2023-01-26T00:00:00",
          "2023-01-27T00:00:00",
          "2023-01-30T00:00:00",
          "2023-01-31T00:00:00",
          "2023-02-01T00:00:00",
          "2023-02-02T00:00:00",
          "2023-02-03T00:00:00",
          "2023-02-06T00:00:00",
          "2023-02-07T00:00:00",
          "2023-02-08T00:00:00",
          "2023-02-09T00:00:00",
          "2023-02-10T00:00:00",
          "2023-02-13T00:00:00",
          "2023-02-14T00:00:00",
          "2023-02-15T00:00:00",
          "2023-02-16T00:00:00",
          "2023-02-17T00:00:00",
          "2023-02-21T00:00:00",
          "2023-02-22T00:00:00",
          "2023-02-23T00:00:00",
          "2023-02-24T00:00:00",
          "2023-02-27T00:00:00",
          "2023-02-28T00:00:00",
          "2023-03-01T00:00:00",
          "2023-03-02T00:00:00",
          "2023-03-03T00:00:00",
          "2023-03-06T00:00:00",
          "2023-03-07T00:00:00",
          "2023-03-08T00:00:00",
          "2023-03-09T00:00:00",
          "2023-03-10T00:00:00",
          "2023-03-13T00:00:00",
          "2023-03-14T00:00:00",
          "2023-03-15T00:00:00",
          "2023-03-16T00:00:00",
          "2023-03-17T00:00:00",
          "2023-03-20T00:00:00",
          "2023-03-21T00:00:00",
          "2023-03-22T00:00:00",
          "2023-03-23T00:00:00",
          "2023-03-24T00:00:00",
          "2023-03-27T00:00:00",
          "2023-03-28T00:00:00",
          "2023-03-29T00:00:00",
          "2023-03-30T00:00:00",
          "2023-03-31T00:00:00",
          "2023-04-03T00:00:00",
          "2023-04-04T00:00:00",
          "2023-04-05T00:00:00",
          "2023-04-06T00:00:00",
          "2023-04-10T00:00:00",
          "2023-04-11T00:00:00",
          "2023-04-12T00:00:00",
          "2023-04-13T00:00:00",
          "2023-04-14T00:00:00",
          "2023-04-17T00:00:00",
          "2023-04-18T00:00:00",
          "2023-04-19T00:00:00",
          "2023-04-20T00:00:00",
          "2023-04-21T00:00:00",
          "2023-04-24T00:00:00",
          "2023-04-25T00:00:00",
          "2023-04-26T00:00:00",
          "2023-04-27T00:00:00",
          "2023-04-28T00:00:00",
          "2023-05-01T00:00:00",
          "2023-05-02T00:00:00",
          "2023-05-03T00:00:00",
          "2023-05-04T00:00:00",
          "2023-05-05T00:00:00",
          "2023-05-08T00:00:00",
          "2023-05-09T00:00:00",
          "2023-05-10T00:00:00",
          "2023-05-11T00:00:00",
          "2023-05-12T00:00:00",
          "2023-05-15T00:00:00",
          "2023-05-16T00:00:00",
          "2023-05-17T00:00:00",
          "2023-05-18T00:00:00",
          "2023-05-19T00:00:00",
          "2023-05-22T00:00:00",
          "2023-05-23T00:00:00",
          "2023-05-24T00:00:00",
          "2023-05-25T00:00:00",
          "2023-05-26T00:00:00",
          "2023-05-30T00:00:00",
          "2023-05-31T00:00:00",
          "2023-06-01T00:00:00",
          "2023-06-02T00:00:00",
          "2023-06-05T00:00:00",
          "2023-06-06T00:00:00",
          "2023-06-07T00:00:00",
          "2023-06-08T00:00:00",
          "2023-06-09T00:00:00",
          "2023-06-12T00:00:00",
          "2023-06-13T00:00:00",
          "2023-06-14T00:00:00",
          "2023-06-15T00:00:00",
          "2023-06-16T00:00:00",
          "2023-06-20T00:00:00",
          "2023-06-21T00:00:00",
          "2023-06-22T00:00:00",
          "2023-06-23T00:00:00",
          "2023-06-26T00:00:00",
          "2023-06-27T00:00:00",
          "2023-06-28T00:00:00",
          "2023-06-29T00:00:00",
          "2023-06-30T00:00:00",
          "2023-07-03T00:00:00",
          "2023-07-05T00:00:00",
          "2023-07-06T00:00:00",
          "2023-07-07T00:00:00",
          "2023-07-10T00:00:00",
          "2023-07-11T00:00:00",
          "2023-07-12T00:00:00",
          "2023-07-13T00:00:00",
          "2023-07-14T00:00:00",
          "2023-07-17T00:00:00",
          "2023-07-18T00:00:00",
          "2023-07-19T00:00:00",
          "2023-07-20T00:00:00",
          "2023-07-21T00:00:00",
          "2023-07-24T00:00:00",
          "2023-07-25T00:00:00",
          "2023-07-26T00:00:00",
          "2023-07-27T00:00:00",
          "2023-07-28T00:00:00",
          "2023-07-31T00:00:00",
          "2023-08-01T00:00:00",
          "2023-08-02T00:00:00",
          "2023-08-03T00:00:00",
          "2023-08-04T00:00:00",
          "2023-08-07T00:00:00",
          "2023-08-08T00:00:00",
          "2023-08-09T00:00:00",
          "2023-08-10T00:00:00",
          "2023-08-11T00:00:00",
          "2023-08-14T00:00:00",
          "2023-08-15T00:00:00",
          "2023-08-16T00:00:00",
          "2023-08-17T00:00:00",
          "2023-08-18T00:00:00",
          "2023-08-21T00:00:00",
          "2023-08-22T00:00:00",
          "2023-08-23T00:00:00",
          "2023-08-24T00:00:00",
          "2023-08-25T00:00:00",
          "2023-08-28T00:00:00",
          "2023-08-29T00:00:00",
          "2023-08-30T00:00:00",
          "2023-08-31T00:00:00",
          "2023-09-01T00:00:00",
          "2023-09-05T00:00:00",
          "2023-09-06T00:00:00",
          "2023-09-07T00:00:00",
          "2023-09-08T00:00:00",
          "2023-09-11T00:00:00",
          "2023-09-12T00:00:00",
          "2023-09-13T00:00:00",
          "2023-09-14T00:00:00",
          "2023-09-15T00:00:00",
          "2023-09-18T00:00:00",
          "2023-09-19T00:00:00",
          "2023-09-20T00:00:00",
          "2023-09-21T00:00:00",
          "2023-09-22T00:00:00",
          "2023-09-25T00:00:00",
          "2023-09-26T00:00:00",
          "2023-09-27T00:00:00",
          "2023-09-28T00:00:00",
          "2023-09-29T00:00:00",
          "2023-10-02T00:00:00",
          "2023-10-03T00:00:00",
          "2023-10-04T00:00:00",
          "2023-10-05T00:00:00",
          "2023-10-06T00:00:00",
          "2023-10-09T00:00:00",
          "2023-10-10T00:00:00",
          "2023-10-11T00:00:00",
          "2023-10-12T00:00:00",
          "2023-10-13T00:00:00",
          "2023-10-16T00:00:00",
          "2023-10-17T00:00:00",
          "2023-10-18T00:00:00",
          "2023-10-19T00:00:00",
          "2023-10-20T00:00:00",
          "2023-10-23T00:00:00",
          "2023-10-24T00:00:00",
          "2023-10-25T00:00:00",
          "2023-10-26T00:00:00",
          "2023-10-27T00:00:00",
          "2023-10-30T00:00:00",
          "2023-10-31T00:00:00",
          "2023-11-01T00:00:00",
          "2023-11-02T00:00:00",
          "2023-11-03T00:00:00",
          "2023-11-06T00:00:00",
          "2023-11-07T00:00:00",
          "2023-11-08T00:00:00",
          "2023-11-09T00:00:00",
          "2023-11-10T00:00:00",
          "2023-11-13T00:00:00",
          "2023-11-14T00:00:00",
          "2023-11-15T00:00:00",
          "2023-11-16T00:00:00",
          "2023-11-17T00:00:00",
          "2023-11-20T00:00:00",
          "2023-11-21T00:00:00",
          "2023-11-22T00:00:00",
          "2023-11-24T00:00:00",
          "2023-11-27T00:00:00",
          "2023-11-28T00:00:00",
          "2023-11-29T00:00:00",
          "2023-11-30T00:00:00",
          "2023-12-01T00:00:00",
          "2023-12-04T00:00:00",
          "2023-12-05T00:00:00",
          "2023-12-06T00:00:00",
          "2023-12-07T00:00:00",
          "2023-12-08T00:00:00",
          "2023-12-11T00:00:00",
          "2023-12-12T00:00:00",
          "2023-12-13T00:00:00",
          "2023-12-14T00:00:00",
          "2023-12-15T00:00:00",
          "2023-12-18T00:00:00",
          "2023-12-19T00:00:00",
          "2023-12-20T00:00:00",
          "2023-12-21T00:00:00",
          "2023-12-22T00:00:00",
          "2023-12-26T00:00:00",
          "2023-12-27T00:00:00",
          "2023-12-28T00:00:00",
          "2023-12-29T00:00:00"
         ],
         "y": [
          336.9200134277344,
          341.4100036621094,
          328.44000244140625,
          332.75,
          341.9800109863281,
          338.70001220703125,
          342.92999267578125,
          344.5400085449219,
          344.3800048828125,
          344.3800048828125,
          341.30999755859375,
          342.5299987792969,
          356.3800048828125,
          364.9800109863281,
          361.32000732421875,
          358.1700134277344,
          365.82000732421875,
          370.7099914550781,
          363.4200134277344,
          370.3399963378906,
          383.9200134277344,
          392.2300109863281,
          379.3299865722656,
          375.2300109863281,
          383.82000732421875,
          378.3599853515625,
          375.80999755859375,
          370.989990234375,
          375,
          377.8999938964844,
          375.94000244140625,
          365.1600036621094,
          356.8500061035156,
          346.70001220703125,
          348.7200012207031,
          347.0199890136719,
          320.5400085449219,
          322.32000732421875,
          323.95001220703125,
          323.3800048828125,
          333.5,
          344.0400085449219,
          347.0199890136719,
          344.79998779296875,
          345.8399963378906,
          338.3699951171875,
          329.29998779296875,
          324.2699890136719,
          333.3299865722656,
          333.6099853515625,
          353.2900085449219,
          358.1400146484375,
          362.8800048828125,
          374.2200012207031,
          361.7099914550781,
          369,
          374.9599914550781,
          373.1499938964844,
          373.3999938964844,
          379.1600036621094,
          381.8999938964844,
          385.3699951171875,
          380.0799865722656,
          385.1499938964844,
          382.0199890136719,
          380.6000061035156,
          376.25,
          371.1099853515625,
          369.8900146484375,
          378.79998779296875,
          379.3800048828125,
          377.9200134277344,
          377.54998779296875,
          380.1099853515625,
          380.260009765625,
          377.6700134277344,
          377.3399963378906,
          369.5899963378906,
          363.05999755859375,
          371.4200134277344,
          377.55999755859375,
          374.1499938964844,
          368.6600036621094,
          345.25,
          335.8299865722656,
          348.3999938964844,
          344.05999755859375,
          342.6499938964844,
          344.0199890136719,
          341.5799865722656,
          335.45001220703125,
          345.6700134277344,
          345.1099853515625,
          356.6300048828125,
          360.42999267578125,
          371.25,
          372.04998779296875,
          370.4200134277344,
          365.760009765625,
          392.05999755859375,
          415.3900146484375,
          417.2099914550781,
          417.7900085449219,
          426.75,
          436.3699951171875,
          434.17999267578125,
          432.8900146484375,
          418.32000732421875,
          439.0299987792969,
          454,
          474.6300048828125,
          478.989990234375,
          479.5299987792969,
          490.9100036621094,
          495.17999267578125,
          485.8599853515625,
          477.4800109863281,
          477.5799865722656,
          484.7200012207031,
          479.510009765625,
          489.2699890136719,
          482.42999267578125,
          483.7699890136719,
          488.989990234375,
          485.2099914550781,
          487.260009765625,
          481.2900085449219,
          485.2699890136719,
          496.3500061035156,
          504.739990234375,
          507.3599853515625,
          517.280029296875,
          514.8300170898438,
          522,
          532.22998046875,
          527.1699829101562,
          516.8800048828125,
          520.22998046875,
          523.8599853515625,
          525.3400268554688,
          514.5499877929688,
          513.969970703125,
          528.8699951171875,
          546.1699829101562,
          549.0999755859375,
          530.2999877929688,
          523.760009765625,
          526.8800048828125,
          529.72998046875,
          520.5999755859375,
          513.780029296875,
          515.8300170898438,
          508.45001220703125,
          522.25,
          518.7000122070312,
          514.489990234375,
          511.6700134277344,
          508.1300048828125,
          520.469970703125,
          519.47998046875,
          530.7100219726562,
          512.4299926757812,
          525.0599975585938,
          529.9199829101562,
          540.5700073242188,
          545.3599853515625,
          559.3400268554688,
          563.2100219726562,
          564.8800048828125,
          561.9400024414062,
          560.4600219726562,
          560.3599853515625,
          564.5,
          542.2100219726562,
          553.5599975585938,
          552.1599731445312,
          528.8900146484375,
          532.4199829101562,
          541.6900024414062,
          535.780029296875,
          513.8800048828125,
          512.9000244140625,
          511.6000061035156,
          506.29998779296875,
          502.6000061035156,
          504.6700134277344,
          509.8999938964844,
          521.1300048828125,
          507.0299987792969,
          518.4199829101562,
          516.4400024414062,
          526.6799926757812,
          529.2899780273438,
          532.719970703125,
          549.9099731445312,
          559.6300048828125,
          548.760009765625,
          550.739990234375,
          560.0900268554688,
          557.8699951171875,
          555.739990234375,
          540.9600219726562,
          540.4099731445312,
          539.5599975585938,
          521.1400146484375,
          514.280029296875,
          508.1199951171875,
          526.9400024414062,
          532.0599975585938,
          544.5,
          558.7100219726562,
          563.6599731445312,
          565.4500122070312,
          585.2000122070312,
          585.3099975585938,
          577.739990234375,
          597.219970703125,
          590.3400268554688,
          604.3300170898438,
          595.3099975585938,
          602.0599975585938,
          602.6599731445312,
          612.7000122070312,
          610.989990234375,
          619.719970703125,
          619.4299926757812,
          619.27001953125,
          623.3200073242188,
          617.3900146484375,
          611.010009765625,
          612.469970703125,
          604.5599975585938,
          602.219970703125,
          595.7000122070312,
          608.780029296875,
          610.010009765625,
          625.2000122070312,
          633.6599731445312,
          624.260009765625,
          584.6400146484375,
          584.6799926757812,
          599.1300048828125,
          604.6400146484375,
          596.0599975585938,
          600.1400146484375,
          598.75,
          598.260009765625,
          596.0800170898438,
          595.52001953125,
          596.5999755859375
         ]
        },
        {
         "mode": "lines",
         "name": "MA",
         "type": "scatter",
         "x": [
          "2023-01-03T00:00:00",
          "2023-01-04T00:00:00",
          "2023-01-05T00:00:00",
          "2023-01-06T00:00:00",
          "2023-01-09T00:00:00",
          "2023-01-10T00:00:00",
          "2023-01-11T00:00:00",
          "2023-01-12T00:00:00",
          "2023-01-13T00:00:00",
          "2023-01-17T00:00:00",
          "2023-01-18T00:00:00",
          "2023-01-19T00:00:00",
          "2023-01-20T00:00:00",
          "2023-01-23T00:00:00",
          "2023-01-24T00:00:00",
          "2023-01-25T00:00:00",
          "2023-01-26T00:00:00",
          "2023-01-27T00:00:00",
          "2023-01-30T00:00:00",
          "2023-01-31T00:00:00",
          "2023-02-01T00:00:00",
          "2023-02-02T00:00:00",
          "2023-02-03T00:00:00",
          "2023-02-06T00:00:00",
          "2023-02-07T00:00:00",
          "2023-02-08T00:00:00",
          "2023-02-09T00:00:00",
          "2023-02-10T00:00:00",
          "2023-02-13T00:00:00",
          "2023-02-14T00:00:00",
          "2023-02-15T00:00:00",
          "2023-02-16T00:00:00",
          "2023-02-17T00:00:00",
          "2023-02-21T00:00:00",
          "2023-02-22T00:00:00",
          "2023-02-23T00:00:00",
          "2023-02-24T00:00:00",
          "2023-02-27T00:00:00",
          "2023-02-28T00:00:00",
          "2023-03-01T00:00:00",
          "2023-03-02T00:00:00",
          "2023-03-03T00:00:00",
          "2023-03-06T00:00:00",
          "2023-03-07T00:00:00",
          "2023-03-08T00:00:00",
          "2023-03-09T00:00:00",
          "2023-03-10T00:00:00",
          "2023-03-13T00:00:00",
          "2023-03-14T00:00:00",
          "2023-03-15T00:00:00",
          "2023-03-16T00:00:00",
          "2023-03-17T00:00:00",
          "2023-03-20T00:00:00",
          "2023-03-21T00:00:00",
          "2023-03-22T00:00:00",
          "2023-03-23T00:00:00",
          "2023-03-24T00:00:00",
          "2023-03-27T00:00:00",
          "2023-03-28T00:00:00",
          "2023-03-29T00:00:00",
          "2023-03-30T00:00:00",
          "2023-03-31T00:00:00",
          "2023-04-03T00:00:00",
          "2023-04-04T00:00:00",
          "2023-04-05T00:00:00",
          "2023-04-06T00:00:00",
          "2023-04-10T00:00:00",
          "2023-04-11T00:00:00",
          "2023-04-12T00:00:00",
          "2023-04-13T00:00:00",
          "2023-04-14T00:00:00",
          "2023-04-17T00:00:00",
          "2023-04-18T00:00:00",
          "2023-04-19T00:00:00",
          "2023-04-20T00:00:00",
          "2023-04-21T00:00:00",
          "2023-04-24T00:00:00",
          "2023-04-25T00:00:00",
          "2023-04-26T00:00:00",
          "2023-04-27T00:00:00",
          "2023-04-28T00:00:00",
          "2023-05-01T00:00:00",
          "2023-05-02T00:00:00",
          "2023-05-03T00:00:00",
          "2023-05-04T00:00:00",
          "2023-05-05T00:00:00",
          "2023-05-08T00:00:00",
          "2023-05-09T00:00:00",
          "2023-05-10T00:00:00",
          "2023-05-11T00:00:00",
          "2023-05-12T00:00:00",
          "2023-05-15T00:00:00",
          "2023-05-16T00:00:00",
          "2023-05-17T00:00:00",
          "2023-05-18T00:00:00",
          "2023-05-19T00:00:00",
          "2023-05-22T00:00:00",
          "2023-05-23T00:00:00",
          "2023-05-24T00:00:00",
          "2023-05-25T00:00:00",
          "2023-05-26T00:00:00",
          "2023-05-30T00:00:00",
          "2023-05-31T00:00:00",
          "2023-06-01T00:00:00",
          "2023-06-02T00:00:00",
          "2023-06-05T00:00:00",
          "2023-06-06T00:00:00",
          "2023-06-07T00:00:00",
          "2023-06-08T00:00:00",
          "2023-06-09T00:00:00",
          "2023-06-12T00:00:00",
          "2023-06-13T00:00:00",
          "2023-06-14T00:00:00",
          "2023-06-15T00:00:00",
          "2023-06-16T00:00:00",
          "2023-06-20T00:00:00",
          "2023-06-21T00:00:00",
          "2023-06-22T00:00:00",
          "2023-06-23T00:00:00",
          "2023-06-26T00:00:00",
          "2023-06-27T00:00:00",
          "2023-06-28T00:00:00",
          "2023-06-29T00:00:00",
          "2023-06-30T00:00:00",
          "2023-07-03T00:00:00",
          "2023-07-05T00:00:00",
          "2023-07-06T00:00:00",
          "2023-07-07T00:00:00",
          "2023-07-10T00:00:00",
          "2023-07-11T00:00:00",
          "2023-07-12T00:00:00",
          "2023-07-13T00:00:00",
          "2023-07-14T00:00:00",
          "2023-07-17T00:00:00",
          "2023-07-18T00:00:00",
          "2023-07-19T00:00:00",
          "2023-07-20T00:00:00",
          "2023-07-21T00:00:00",
          "2023-07-24T00:00:00",
          "2023-07-25T00:00:00",
          "2023-07-26T00:00:00",
          "2023-07-27T00:00:00",
          "2023-07-28T00:00:00",
          "2023-07-31T00:00:00",
          "2023-08-01T00:00:00",
          "2023-08-02T00:00:00",
          "2023-08-03T00:00:00",
          "2023-08-04T00:00:00",
          "2023-08-07T00:00:00",
          "2023-08-08T00:00:00",
          "2023-08-09T00:00:00",
          "2023-08-10T00:00:00",
          "2023-08-11T00:00:00",
          "2023-08-14T00:00:00",
          "2023-08-15T00:00:00",
          "2023-08-16T00:00:00",
          "2023-08-17T00:00:00",
          "2023-08-18T00:00:00",
          "2023-08-21T00:00:00",
          "2023-08-22T00:00:00",
          "2023-08-23T00:00:00",
          "2023-08-24T00:00:00",
          "2023-08-25T00:00:00",
          "2023-08-28T00:00:00",
          "2023-08-29T00:00:00",
          "2023-08-30T00:00:00",
          "2023-08-31T00:00:00",
          "2023-09-01T00:00:00",
          "2023-09-05T00:00:00",
          "2023-09-06T00:00:00",
          "2023-09-07T00:00:00",
          "2023-09-08T00:00:00",
          "2023-09-11T00:00:00",
          "2023-09-12T00:00:00",
          "2023-09-13T00:00:00",
          "2023-09-14T00:00:00",
          "2023-09-15T00:00:00",
          "2023-09-18T00:00:00",
          "2023-09-19T00:00:00",
          "2023-09-20T00:00:00",
          "2023-09-21T00:00:00",
          "2023-09-22T00:00:00",
          "2023-09-25T00:00:00",
          "2023-09-26T00:00:00",
          "2023-09-27T00:00:00",
          "2023-09-28T00:00:00",
          "2023-09-29T00:00:00",
          "2023-10-02T00:00:00",
          "2023-10-03T00:00:00",
          "2023-10-04T00:00:00",
          "2023-10-05T00:00:00",
          "2023-10-06T00:00:00",
          "2023-10-09T00:00:00",
          "2023-10-10T00:00:00",
          "2023-10-11T00:00:00",
          "2023-10-12T00:00:00",
          "2023-10-13T00:00:00",
          "2023-10-16T00:00:00",
          "2023-10-17T00:00:00",
          "2023-10-18T00:00:00",
          "2023-10-19T00:00:00",
          "2023-10-20T00:00:00",
          "2023-10-23T00:00:00",
          "2023-10-24T00:00:00",
          "2023-10-25T00:00:00",
          "2023-10-26T00:00:00",
          "2023-10-27T00:00:00",
          "2023-10-30T00:00:00",
          "2023-10-31T00:00:00",
          "2023-11-01T00:00:00",
          "2023-11-02T00:00:00",
          "2023-11-03T00:00:00",
          "2023-11-06T00:00:00",
          "2023-11-07T00:00:00",
          "2023-11-08T00:00:00",
          "2023-11-09T00:00:00",
          "2023-11-10T00:00:00",
          "2023-11-13T00:00:00",
          "2023-11-14T00:00:00",
          "2023-11-15T00:00:00",
          "2023-11-16T00:00:00",
          "2023-11-17T00:00:00",
          "2023-11-20T00:00:00",
          "2023-11-21T00:00:00",
          "2023-11-22T00:00:00",
          "2023-11-24T00:00:00",
          "2023-11-27T00:00:00",
          "2023-11-28T00:00:00",
          "2023-11-29T00:00:00",
          "2023-11-30T00:00:00",
          "2023-12-01T00:00:00",
          "2023-12-04T00:00:00",
          "2023-12-05T00:00:00",
          "2023-12-06T00:00:00",
          "2023-12-07T00:00:00",
          "2023-12-08T00:00:00",
          "2023-12-11T00:00:00",
          "2023-12-12T00:00:00",
          "2023-12-13T00:00:00",
          "2023-12-14T00:00:00",
          "2023-12-15T00:00:00",
          "2023-12-18T00:00:00",
          "2023-12-19T00:00:00",
          "2023-12-20T00:00:00",
          "2023-12-21T00:00:00",
          "2023-12-22T00:00:00",
          "2023-12-26T00:00:00",
          "2023-12-27T00:00:00",
          "2023-12-28T00:00:00",
          "2023-12-29T00:00:00"
         ],
         "y": [
          346.79998779296875,
          355.1499938964844,
          351.7699890136719,
          367.6700134277344,
          370.9700012207031,
          371.010009765625,
          377.8599853515625,
          379.80999755859375,
          375.5199890136719,
          375,
          368.9200134277344,
          367.94000244140625,
          376.2799987792969,
          378.57000732421875,
          380.010009765625,
          382.3900146484375,
          377.239990234375,
          374.0299987792969,
          371.1199951171875,
          370.6000061035156,
          374.0799865722656,
          374.94000244140625,
          373.9100036621094,
          372.9700012207031,
          375.05999755859375,
          370.3500061035156,
          370.4200134277344,
          366.8299865722656,
          370.8299865722656,
          369.9599914550781,
          369.6400146484375,
          367.54998779296875,
          361.1300048828125,
          355.9599914550781,
          354.9700012207031,
          355.5299987792969,
          353.1199951171875,
          355.4800109863281,
          355.2900085449219,
          353.5,
          355.57000732421875,
          361.5,
          366.92999267578125,
          359.94000244140625,
          359.0299987792969,
          354.44000244140625,
          347.1099853515625,
          344.7099914550781,
          352.82000732421875,
          348.0799865722656,
          348,
          349.6600036621094,
          349.32000732421875,
          354.57000732421875,
          351.0299987792969,
          354.3699951171875,
          351.6300048828125,
          354.6199951171875,
          354.3299865722656,
          359.5299987792969,
          359.260009765625,
          363.4100036621094,
          366.4700012207031,
          363.8999938964844,
          363.7900085449219,
          361.4700012207031,
          360.1400146484375,
          364.1300048828125,
          361.7799987792969,
          369.6499938964844,
          372.42999267578125,
          372.760009765625,
          372.32000732421875,
          372.79998779296875,
          375,
          375.239990234375,
          374.7300109863281,
          368.5299987792969,
          366.760009765625,
          373.6700134277344,
          380.0299987792969,
          379.8599853515625,
          376.0299987792969,
          374.8999938964844,
          376.1199951171875,
          384.6600036621094,
          385.510009765625,
          382.94000244140625,
          382.5400085449219,
          383.3900146484375,
          381.9200134277344,
          383.4100036621094,
          380.239990234375,
          387,
          392.0199890136719,
          385.57000732421875,
          384.5299987792969,
          373.75,
          368.5,
          370.0400085449219,
          374.3699951171875,
          367.5,
          365.0199890136719,
          370.8800048828125,
          373.7300109863281,
          370.5199890136719,
          379.9599914550781,
          371.3900146484375,
          367.5899963378906,
          369.2200012207031,
          375.30999755859375,
          371.3800048828125,
          374.760009765625,
          379.0400085449219,
          376.5299987792969,
          374.6199951171875,
          376.1400146484375,
          377.79998779296875,
          379.80999755859375,
          377.4200134277344,
          381.7900085449219,
          380.2300109863281,
          387.6700134277344,
          393.29998779296875,
          393.9599914550781,
          394.7300109863281,
          393.1400146484375,
          388.67999267578125,
          392.1600036621094,
          397.79998779296875,
          400.69000244140625,
          400.55999755859375,
          402.510009765625,
          402.20001220703125,
          398.1600036621094,
          398.2699890136719,
          398.05999755859375,
          397.489990234375,
          404.7900085449219,
          401.2799987792969,
          402.4100036621094,
          394.5,
          392.9599914550781,
          394.2799987792969,
          397.07000732421875,
          390.0199890136719,
          393.010009765625,
          391.3500061035156,
          396.8699951171875,
          393.19000244140625,
          393.6700134277344,
          397.1400146484375,
          394.9800109863281,
          398.5799865722656,
          394.45001220703125,
          394.3699951171875,
          392.6199951171875,
          392.1700134277344,
          393.20001220703125,
          397.8399963378906,
          401.05999755859375,
          397.6700134277344,
          402.8900146484375,
          407.44000244140625,
          411.6499938964844,
          413.9100036621094,
          412.6400146484375,
          415.57000732421875,
          411.5,
          413.17999267578125,
          414.6199951171875,
          414.8399963378906,
          416.69000244140625,
          416.2699890136719,
          416.29998779296875,
          413.3399963378906,
          414.30999755859375,
          417.1300048828125,
          413.5299987792969,
          410.5199890136719,
          403.3599853515625,
          402.2200012207031,
          402.489990234375,
          395.3800048828125,
          395.4800109863281,
          399.44000244140625,
          395.9100036621094,
          395.8500061035156,
          391.05999755859375,
          393.760009765625,
          394.20001220703125,
          397.9700012207031,
          394.739990234375,
          400.3699951171875,
          399.80999755859375,
          399.8999938964844,
          398.0299987792969,
          401.1600036621094,
          401.7699890136719,
          393.2099914550781,
          387.8699951171875,
          384.4100036621094,
          383.6700134277344,
          386.9100036621094,
          386.30999755859375,
          364.5899963378906,
          364.0799865722656,
          372.4200134277344,
          376.3500061035156,
          377.82000732421875,
          382.69000244140625,
          386.04998779296875,
          386.1600036621094,
          388.8699951171875,
          389.70001220703125,
          387.9599914550781,
          394.3800048828125,
          394.3500061035156,
          397.6499938964844,
          396.8299865722656,
          397.1000061035156,
          400.29998779296875,
          404.3999938964844,
          408.95001220703125,
          410.3299865722656,
          412.5,
          408.9700012207031,
          409.010009765625,
          409.82000732421875,
          413.8299865722656,
          414.3599853515625,
          408.2300109863281,
          408.69000244140625,
          410.3800048828125,
          413.1499938964844,
          412.1600036621094,
          415.7099914550781,
          420.75,
          424.67999267578125,
          418.55999755859375,
          418.57000732421875,
          424.42999267578125,
          425.4700012207031,
          419.45001220703125,
          423.44000244140625,
          424.1000061035156,
          423.6700134277344,
          424.3599853515625,
          426.32000732421875,
          426.510009765625
         ]
        },
        {
         "mode": "lines",
         "name": "GS",
         "type": "scatter",
         "x": [
          "2023-01-03T00:00:00",
          "2023-01-04T00:00:00",
          "2023-01-05T00:00:00",
          "2023-01-06T00:00:00",
          "2023-01-09T00:00:00",
          "2023-01-10T00:00:00",
          "2023-01-11T00:00:00",
          "2023-01-12T00:00:00",
          "2023-01-13T00:00:00",
          "2023-01-17T00:00:00",
          "2023-01-18T00:00:00",
          "2023-01-19T00:00:00",
          "2023-01-20T00:00:00",
          "2023-01-23T00:00:00",
          "2023-01-24T00:00:00",
          "2023-01-25T00:00:00",
          "2023-01-26T00:00:00",
          "2023-01-27T00:00:00",
          "2023-01-30T00:00:00",
          "2023-01-31T00:00:00",
          "2023-02-01T00:00:00",
          "2023-02-02T00:00:00",
          "2023-02-03T00:00:00",
          "2023-02-06T00:00:00",
          "2023-02-07T00:00:00",
          "2023-02-08T00:00:00",
          "2023-02-09T00:00:00",
          "2023-02-10T00:00:00",
          "2023-02-13T00:00:00",
          "2023-02-14T00:00:00",
          "2023-02-15T00:00:00",
          "2023-02-16T00:00:00",
          "2023-02-17T00:00:00",
          "2023-02-21T00:00:00",
          "2023-02-22T00:00:00",
          "2023-02-23T00:00:00",
          "2023-02-24T00:00:00",
          "2023-02-27T00:00:00",
          "2023-02-28T00:00:00",
          "2023-03-01T00:00:00",
          "2023-03-02T00:00:00",
          "2023-03-03T00:00:00",
          "2023-03-06T00:00:00",
          "2023-03-07T00:00:00",
          "2023-03-08T00:00:00",
          "2023-03-09T00:00:00",
          "2023-03-10T00:00:00",
          "2023-03-13T00:00:00",
          "2023-03-14T00:00:00",
          "2023-03-15T00:00:00",
          "2023-03-16T00:00:00",
          "2023-03-17T00:00:00",
          "2023-03-20T00:00:00",
          "2023-03-21T00:00:00",
          "2023-03-22T00:00:00",
          "2023-03-23T00:00:00",
          "2023-03-24T00:00:00",
          "2023-03-27T00:00:00",
          "2023-03-28T00:00:00",
          "2023-03-29T00:00:00",
          "2023-03-30T00:00:00",
          "2023-03-31T00:00:00",
          "2023-04-03T00:00:00",
          "2023-04-04T00:00:00",
          "2023-04-05T00:00:00",
          "2023-04-06T00:00:00",
          "2023-04-10T00:00:00",
          "2023-04-11T00:00:00",
          "2023-04-12T00:00:00",
          "2023-04-13T00:00:00",
          "2023-04-14T00:00:00",
          "2023-04-17T00:00:00",
          "2023-04-18T00:00:00",
          "2023-04-19T00:00:00",
          "2023-04-20T00:00:00",
          "2023-04-21T00:00:00",
          "2023-04-24T00:00:00",
          "2023-04-25T00:00:00",
          "2023-04-26T00:00:00",
          "2023-04-27T00:00:00",
          "2023-04-28T00:00:00",
          "2023-05-01T00:00:00",
          "2023-05-02T00:00:00",
          "2023-05-03T00:00:00",
          "2023-05-04T00:00:00",
          "2023-05-05T00:00:00",
          "2023-05-08T00:00:00",
          "2023-05-09T00:00:00",
          "2023-05-10T00:00:00",
          "2023-05-11T00:00:00",
          "2023-05-12T00:00:00",
          "2023-05-15T00:00:00",
          "2023-05-16T00:00:00",
          "2023-05-17T00:00:00",
          "2023-05-18T00:00:00",
          "2023-05-19T00:00:00",
          "2023-05-22T00:00:00",
          "2023-05-23T00:00:00",
          "2023-05-24T00:00:00",
          "2023-05-25T00:00:00",
          "2023-05-26T00:00:00",
          "2023-05-30T00:00:00",
          "2023-05-31T00:00:00",
          "2023-06-01T00:00:00",
          "2023-06-02T00:00:00",
          "2023-06-05T00:00:00",
          "2023-06-06T00:00:00",
          "2023-06-07T00:00:00",
          "2023-06-08T00:00:00",
          "2023-06-09T00:00:00",
          "2023-06-12T00:00:00",
          "2023-06-13T00:00:00",
          "2023-06-14T00:00:00",
          "2023-06-15T00:00:00",
          "2023-06-16T00:00:00",
          "2023-06-20T00:00:00",
          "2023-06-21T00:00:00",
          "2023-06-22T00:00:00",
          "2023-06-23T00:00:00",
          "2023-06-26T00:00:00",
          "2023-06-27T00:00:00",
          "2023-06-28T00:00:00",
          "2023-06-29T00:00:00",
          "2023-06-30T00:00:00",
          "2023-07-03T00:00:00",
          "2023-07-05T00:00:00",
          "2023-07-06T00:00:00",
          "2023-07-07T00:00:00",
          "2023-07-10T00:00:00",
          "2023-07-11T00:00:00",
          "2023-07-12T00:00:00",
          "2023-07-13T00:00:00",
          "2023-07-14T00:00:00",
          "2023-07-17T00:00:00",
          "2023-07-18T00:00:00",
          "2023-07-19T00:00:00",
          "2023-07-20T00:00:00",
          "2023-07-21T00:00:00",
          "2023-07-24T00:00:00",
          "2023-07-25T00:00:00",
          "2023-07-26T00:00:00",
          "2023-07-27T00:00:00",
          "2023-07-28T00:00:00",
          "2023-07-31T00:00:00",
          "2023-08-01T00:00:00",
          "2023-08-02T00:00:00",
          "2023-08-03T00:00:00",
          "2023-08-04T00:00:00",
          "2023-08-07T00:00:00",
          "2023-08-08T00:00:00",
          "2023-08-09T00:00:00",
          "2023-08-10T00:00:00",
          "2023-08-11T00:00:00",
          "2023-08-14T00:00:00",
          "2023-08-15T00:00:00",
          "2023-08-16T00:00:00",
          "2023-08-17T00:00:00",
          "2023-08-18T00:00:00",
          "2023-08-21T00:00:00",
          "2023-08-22T00:00:00",
          "2023-08-23T00:00:00",
          "2023-08-24T00:00:00",
          "2023-08-25T00:00:00",
          "2023-08-28T00:00:00",
          "2023-08-29T00:00:00",
          "2023-08-30T00:00:00",
          "2023-08-31T00:00:00",
          "2023-09-01T00:00:00",
          "2023-09-05T00:00:00",
          "2023-09-06T00:00:00",
          "2023-09-07T00:00:00",
          "2023-09-08T00:00:00",
          "2023-09-11T00:00:00",
          "2023-09-12T00:00:00",
          "2023-09-13T00:00:00",
          "2023-09-14T00:00:00",
          "2023-09-15T00:00:00",
          "2023-09-18T00:00:00",
          "2023-09-19T00:00:00",
          "2023-09-20T00:00:00",
          "2023-09-21T00:00:00",
          "2023-09-22T00:00:00",
          "2023-09-25T00:00:00",
          "2023-09-26T00:00:00",
          "2023-09-27T00:00:00",
          "2023-09-28T00:00:00",
          "2023-09-29T00:00:00",
          "2023-10-02T00:00:00",
          "2023-10-03T00:00:00",
          "2023-10-04T00:00:00",
          "2023-10-05T00:00:00",
          "2023-10-06T00:00:00",
          "2023-10-09T00:00:00",
          "2023-10-10T00:00:00",
          "2023-10-11T00:00:00",
          "2023-10-12T00:00:00",
          "2023-10-13T00:00:00",
          "2023-10-16T00:00:00",
          "2023-10-17T00:00:00",
          "2023-10-18T00:00:00",
          "2023-10-19T00:00:00",
          "2023-10-20T00:00:00",
          "2023-10-23T00:00:00",
          "2023-10-24T00:00:00",
          "2023-10-25T00:00:00",
          "2023-10-26T00:00:00",
          "2023-10-27T00:00:00",
          "2023-10-30T00:00:00",
          "2023-10-31T00:00:00",
          "2023-11-01T00:00:00",
          "2023-11-02T00:00:00",
          "2023-11-03T00:00:00",
          "2023-11-06T00:00:00",
          "2023-11-07T00:00:00",
          "2023-11-08T00:00:00",
          "2023-11-09T00:00:00",
          "2023-11-10T00:00:00",
          "2023-11-13T00:00:00",
          "2023-11-14T00:00:00",
          "2023-11-15T00:00:00",
          "2023-11-16T00:00:00",
          "2023-11-17T00:00:00",
          "2023-11-20T00:00:00",
          "2023-11-21T00:00:00",
          "2023-11-22T00:00:00",
          "2023-11-24T00:00:00",
          "2023-11-27T00:00:00",
          "2023-11-28T00:00:00",
          "2023-11-29T00:00:00",
          "2023-11-30T00:00:00",
          "2023-12-01T00:00:00",
          "2023-12-04T00:00:00",
          "2023-12-05T00:00:00",
          "2023-12-06T00:00:00",
          "2023-12-07T00:00:00",
          "2023-12-08T00:00:00",
          "2023-12-11T00:00:00",
          "2023-12-12T00:00:00",
          "2023-12-13T00:00:00",
          "2023-12-14T00:00:00",
          "2023-12-15T00:00:00",
          "2023-12-18T00:00:00",
          "2023-12-19T00:00:00",
          "2023-12-20T00:00:00",
          "2023-12-21T00:00:00",
          "2023-12-22T00:00:00",
          "2023-12-26T00:00:00",
          "2023-12-27T00:00:00",
          "2023-12-28T00:00:00",
          "2023-12-29T00:00:00"
         ],
         "y": [
          346.2200012207031,
          347.70001220703125,
          343.760009765625,
          348.0799865722656,
          353,
          357.3599853515625,
          364.4800109863281,
          369.94000244140625,
          374,
          349.9200134277344,
          349.0899963378906,
          350.75,
          341.8399963378906,
          349.1400146484375,
          348.3299865722656,
          349.6300048828125,
          354.9700012207031,
          353.70001220703125,
          357.4599914550781,
          365.80999755859375,
          365.7099914550781,
          369.4700012207031,
          369.95001220703125,
          370.79998779296875,
          374.3999938964844,
          375.1000061035156,
          367.989990234375,
          371.2799987792969,
          374.0199890136719,
          371.7799987792969,
          374.3399963378906,
          370.20001220703125,
          368.5,
          361.1199951171875,
          360.8900146484375,
          363.5400085449219,
          363.8500061035156,
          365.5299987792969,
          351.6499938964844,
          346.2300109863281,
          349.1000061035156,
          357.0899963378906,
          357.04998779296875,
          346.0799865722656,
          349.2900085449219,
          342.0899963378906,
          327.6700134277344,
          315.510009765625,
          322.1499938964844,
          312.19000244140625,
          315.0899963378906,
          303.5400085449219,
          309.5299987792969,
          317.2799987792969,
          313.6700134277344,
          314.8500061035156,
          312.57000732421875,
          318.5299987792969,
          318.44000244140625,
          320.7200012207031,
          321.1400146484375,
          327.1099853515625,
          326.5199890136719,
          322.6499938964844,
          321.5299987792969,
          322.3999938964844,
          324.9599914550781,
          327.3699951171875,
          330.239990234375,
          332.1300048828125,
          336.9200134277344,
          339.67999267578125,
          333.9100036621094,
          336.8900146484375,
          338.7099914550781,
          341.6600036621094,
          343.9599914550781,
          339.4800109863281,
          336.55999755859375,
          341.6000061035156,
          343.44000244140625,
          340.57000732421875,
          333.3699951171875,
          328.6499938964844,
          321.260009765625,
          327.0199890136719,
          326.510009765625,
          324.7699890136719,
          322.54998779296875,
          320.7200012207031,
          319.5,
          322.07000732421875,
          320.80999755859375,
          330.17999267578125,
          329.5799865722656,
          326.1499938964844,
          324.9200134277344,
          323.57000732421875,
          319.80999755859375,
          323.8800048828125,
          332.010009765625,
          330.8299865722656,
          323.8999938964844,
          316.3999938964844,
          323.6499938964844,
          321.80999755859375,
          326.79998779296875,
          335.75,
          335.4700012207031,
          336.0199890136719,
          339.489990234375,
          342.5,
          338.4200134277344,
          339.739990234375,
          338.30999755859375,
          330.7200012207031,
          325.07000732421875,
          319.5799865722656,
          314.7099914550781,
          312.3599853515625,
          313.45001220703125,
          313.6600036621094,
          323.0899963378906,
          322.5400085449219,
          326.6099853515625,
          320.04998779296875,
          313,
          315.1700134277344,
          316.4700012207031,
          320.8800048828125,
          326.3999938964844,
          328.67999267578125,
          326.19000244140625,
          327.20001220703125,
          337.2699890136719,
          340.54998779296875,
          350.8599853515625,
          351.9599914550781,
          358.92999267578125,
          354.70001220703125,
          357.55999755859375,
          354.510009765625,
          353.2300109863281,
          355.8699951171875,
          357.7200012207031,
          351.1000061035156,
          353.1600036621094,
          353.2200012207031,
          355.55999755859375,
          348.260009765625,
          342.69000244140625,
          340.3999938964844,
          340.7300109863281,
          337.739990234375,
          332.2099914550781,
          329.1099853515625,
          327.5199890136719,
          324.92999267578125,
          322.05999755859375,
          318.7900085449219,
          322.3299865722656,
          319.9599914550781,
          320.1499938964844,
          325.9700012207031,
          332.54998779296875,
          328.5799865722656,
          327.7099914550781,
          327.3999938964844,
          323.75,
          321.1300048828125,
          321.9599914550781,
          325.5199890136719,
          324.6499938964844,
          330.8999938964844,
          334.9800109863281,
          344.57000732421875,
          342.5400085449219,
          343.32000732421875,
          341.8900146484375,
          336.70001220703125,
          330.239990234375,
          327.8900146484375,
          328.8399963378906,
          323.82000732421875,
          321.95001220703125,
          325.20001220703125,
          323.57000732421875,
          318.5,
          306.1199951171875,
          308.6000061035156,
          310.5,
          312.4800109863281,
          312.6099853515625,
          314.7699890136719,
          313.0199890136719,
          309.8500061035156,
          309.29998779296875,
          314.3900146484375,
          309.3599853515625,
          301.9599914550781,
          299.19000244140625,
          300.04998779296875,
          299.2200012207031,
          299.17999267578125,
          296.760009765625,
          296.989990234375,
          289.9100036621094,
          300.8299865722656,
          303.6099853515625,
          307.1600036621094,
          313.760009765625,
          327.6199951171875,
          323.9100036621094,
          323.95001220703125,
          324.55999755859375,
          320.7799987792969,
          325.510009765625,
          326.9100036621094,
          338.7200012207031,
          337.6000061035156,
          336.6700134277344,
          339.19000244140625,
          339.45001220703125,
          334.9700012207031,
          338.6400146484375,
          339.1499938964844,
          337.7099914550781,
          337.6499938964844,
          340.260009765625,
          341.5400085449219,
          348.42999267578125,
          349.3900146484375,
          341.75,
          341.9700012207031,
          344.6199951171875,
          350.8299865722656,
          351.760009765625,
          352.6099853515625,
          362.7300109863281,
          383.4700012207031,
          380.510009765625,
          376.3999938964844,
          382.45001220703125,
          377.5199890136719,
          380.57000732421875,
          380.6499938964844,
          381.6099853515625,
          384.4800109863281,
          386.4100036621094,
          385.7699890136719
         ]
        },
        {
         "mode": "lines",
         "name": "NFLX",
         "type": "scatter",
         "x": [
          "2023-01-03T00:00:00",
          "2023-01-04T00:00:00",
          "2023-01-05T00:00:00",
          "2023-01-06T00:00:00",
          "2023-01-09T00:00:00",
          "2023-01-10T00:00:00",
          "2023-01-11T00:00:00",
          "2023-01-12T00:00:00",
          "2023-01-13T00:00:00",
          "2023-01-17T00:00:00",
          "2023-01-18T00:00:00",
          "2023-01-19T00:00:00",
          "2023-01-20T00:00:00",
          "2023-01-23T00:00:00",
          "2023-01-24T00:00:00",
          "2023-01-25T00:00:00",
          "2023-01-26T00:00:00",
          "2023-01-27T00:00:00",
          "2023-01-30T00:00:00",
          "2023-01-31T00:00:00",
          "2023-02-01T00:00:00",
          "2023-02-02T00:00:00",
          "2023-02-03T00:00:00",
          "2023-02-06T00:00:00",
          "2023-02-07T00:00:00",
          "2023-02-08T00:00:00",
          "2023-02-09T00:00:00",
          "2023-02-10T00:00:00",
          "2023-02-13T00:00:00",
          "2023-02-14T00:00:00",
          "2023-02-15T00:00:00",
          "2023-02-16T00:00:00",
          "2023-02-17T00:00:00",
          "2023-02-21T00:00:00",
          "2023-02-22T00:00:00",
          "2023-02-23T00:00:00",
          "2023-02-24T00:00:00",
          "2023-02-27T00:00:00",
          "2023-02-28T00:00:00",
          "2023-03-01T00:00:00",
          "2023-03-02T00:00:00",
          "2023-03-03T00:00:00",
          "2023-03-06T00:00:00",
          "2023-03-07T00:00:00",
          "2023-03-08T00:00:00",
          "2023-03-09T00:00:00",
          "2023-03-10T00:00:00",
          "2023-03-13T00:00:00",
          "2023-03-14T00:00:00",
          "2023-03-15T00:00:00",
          "2023-03-16T00:00:00",
          "2023-03-17T00:00:00",
          "2023-03-20T00:00:00",
          "2023-03-21T00:00:00",
          "2023-03-22T00:00:00",
          "2023-03-23T00:00:00",
          "2023-03-24T00:00:00",
          "2023-03-27T00:00:00",
          "2023-03-28T00:00:00",
          "2023-03-29T00:00:00",
          "2023-03-30T00:00:00",
          "2023-03-31T00:00:00",
          "2023-04-03T00:00:00",
          "2023-04-04T00:00:00",
          "2023-04-05T00:00:00",
          "2023-04-06T00:00:00",
          "2023-04-10T00:00:00",
          "2023-04-11T00:00:00",
          "2023-04-12T00:00:00",
          "2023-04-13T00:00:00",
          "2023-04-14T00:00:00",
          "2023-04-17T00:00:00",
          "2023-04-18T00:00:00",
          "2023-04-19T00:00:00",
          "2023-04-20T00:00:00",
          "2023-04-21T00:00:00",
          "2023-04-24T00:00:00",
          "2023-04-25T00:00:00",
          "2023-04-26T00:00:00",
          "2023-04-27T00:00:00",
          "2023-04-28T00:00:00",
          "2023-05-01T00:00:00",
          "2023-05-02T00:00:00",
          "2023-05-03T00:00:00",
          "2023-05-04T00:00:00",
          "2023-05-05T00:00:00",
          "2023-05-08T00:00:00",
          "2023-05-09T00:00:00",
          "2023-05-10T00:00:00",
          "2023-05-11T00:00:00",
          "2023-05-12T00:00:00",
          "2023-05-15T00:00:00",
          "2023-05-16T00:00:00",
          "2023-05-17T00:00:00",
          "2023-05-18T00:00:00",
          "2023-05-19T00:00:00",
          "2023-05-22T00:00:00",
          "2023-05-23T00:00:00",
          "2023-05-24T00:00:00",
          "2023-05-25T00:00:00",
          "2023-05-26T00:00:00",
          "2023-05-30T00:00:00",
          "2023-05-31T00:00:00",
          "2023-06-01T00:00:00",
          "2023-06-02T00:00:00",
          "2023-06-05T00:00:00",
          "2023-06-06T00:00:00",
          "2023-06-07T00:00:00",
          "2023-06-08T00:00:00",
          "2023-06-09T00:00:00",
          "2023-06-12T00:00:00",
          "2023-06-13T00:00:00",
          "2023-06-14T00:00:00",
          "2023-06-15T00:00:00",
          "2023-06-16T00:00:00",
          "2023-06-20T00:00:00",
          "2023-06-21T00:00:00",
          "2023-06-22T00:00:00",
          "2023-06-23T00:00:00",
          "2023-06-26T00:00:00",
          "2023-06-27T00:00:00",
          "2023-06-28T00:00:00",
          "2023-06-29T00:00:00",
          "2023-06-30T00:00:00",
          "2023-07-03T00:00:00",
          "2023-07-05T00:00:00",
          "2023-07-06T00:00:00",
          "2023-07-07T00:00:00",
          "2023-07-10T00:00:00",
          "2023-07-11T00:00:00",
          "2023-07-12T00:00:00",
          "2023-07-13T00:00:00",
          "2023-07-14T00:00:00",
          "2023-07-17T00:00:00",
          "2023-07-18T00:00:00",
          "2023-07-19T00:00:00",
          "2023-07-20T00:00:00",
          "2023-07-21T00:00:00",
          "2023-07-24T00:00:00",
          "2023-07-25T00:00:00",
          "2023-07-26T00:00:00",
          "2023-07-27T00:00:00",
          "2023-07-28T00:00:00",
          "2023-07-31T00:00:00",
          "2023-08-01T00:00:00",
          "2023-08-02T00:00:00",
          "2023-08-03T00:00:00",
          "2023-08-04T00:00:00",
          "2023-08-07T00:00:00",
          "2023-08-08T00:00:00",
          "2023-08-09T00:00:00",
          "2023-08-10T00:00:00",
          "2023-08-11T00:00:00",
          "2023-08-14T00:00:00",
          "2023-08-15T00:00:00",
          "2023-08-16T00:00:00",
          "2023-08-17T00:00:00",
          "2023-08-18T00:00:00",
          "2023-08-21T00:00:00",
          "2023-08-22T00:00:00",
          "2023-08-23T00:00:00",
          "2023-08-24T00:00:00",
          "2023-08-25T00:00:00",
          "2023-08-28T00:00:00",
          "2023-08-29T00:00:00",
          "2023-08-30T00:00:00",
          "2023-08-31T00:00:00",
          "2023-09-01T00:00:00",
          "2023-09-05T00:00:00",
          "2023-09-06T00:00:00",
          "2023-09-07T00:00:00",
          "2023-09-08T00:00:00",
          "2023-09-11T00:00:00",
          "2023-09-12T00:00:00",
          "2023-09-13T00:00:00",
          "2023-09-14T00:00:00",
          "2023-09-15T00:00:00",
          "2023-09-18T00:00:00",
          "2023-09-19T00:00:00",
          "2023-09-20T00:00:00",
          "2023-09-21T00:00:00",
          "2023-09-22T00:00:00",
          "2023-09-25T00:00:00",
          "2023-09-26T00:00:00",
          "2023-09-27T00:00:00",
          "2023-09-28T00:00:00",
          "2023-09-29T00:00:00",
          "2023-10-02T00:00:00",
          "2023-10-03T00:00:00",
          "2023-10-04T00:00:00",
          "2023-10-05T00:00:00",
          "2023-10-06T00:00:00",
          "2023-10-09T00:00:00",
          "2023-10-10T00:00:00",
          "2023-10-11T00:00:00",
          "2023-10-12T00:00:00",
          "2023-10-13T00:00:00",
          "2023-10-16T00:00:00",
          "2023-10-17T00:00:00",
          "2023-10-18T00:00:00",
          "2023-10-19T00:00:00",
          "2023-10-20T00:00:00",
          "2023-10-23T00:00:00",
          "2023-10-24T00:00:00",
          "2023-10-25T00:00:00",
          "2023-10-26T00:00:00",
          "2023-10-27T00:00:00",
          "2023-10-30T00:00:00",
          "2023-10-31T00:00:00",
          "2023-11-01T00:00:00",
          "2023-11-02T00:00:00",
          "2023-11-03T00:00:00",
          "2023-11-06T00:00:00",
          "2023-11-07T00:00:00",
          "2023-11-08T00:00:00",
          "2023-11-09T00:00:00",
          "2023-11-10T00:00:00",
          "2023-11-13T00:00:00",
          "2023-11-14T00:00:00",
          "2023-11-15T00:00:00",
          "2023-11-16T00:00:00",
          "2023-11-17T00:00:00",
          "2023-11-20T00:00:00",
          "2023-11-21T00:00:00",
          "2023-11-22T00:00:00",
          "2023-11-24T00:00:00",
          "2023-11-27T00:00:00",
          "2023-11-28T00:00:00",
          "2023-11-29T00:00:00",
          "2023-11-30T00:00:00",
          "2023-12-01T00:00:00",
          "2023-12-04T00:00:00",
          "2023-12-05T00:00:00",
          "2023-12-06T00:00:00",
          "2023-12-07T00:00:00",
          "2023-12-08T00:00:00",
          "2023-12-11T00:00:00",
          "2023-12-12T00:00:00",
          "2023-12-13T00:00:00",
          "2023-12-14T00:00:00",
          "2023-12-15T00:00:00",
          "2023-12-18T00:00:00",
          "2023-12-19T00:00:00",
          "2023-12-20T00:00:00",
          "2023-12-21T00:00:00",
          "2023-12-22T00:00:00",
          "2023-12-26T00:00:00",
          "2023-12-27T00:00:00",
          "2023-12-28T00:00:00",
          "2023-12-29T00:00:00"
         ],
         "y": [
          294.95001220703125,
          309.4100036621094,
          309.70001220703125,
          315.54998779296875,
          315.1700134277344,
          327.5400085449219,
          327.260009765625,
          330.1300048828125,
          332.82000732421875,
          326.2200012207031,
          326.3299865722656,
          315.7799987792969,
          342.5,
          357.4200134277344,
          363.8299865722656,
          367.9599914550781,
          364.8699951171875,
          360.7699890136719,
          353.1099853515625,
          353.8599853515625,
          361.989990234375,
          366.8900146484375,
          365.8999938964844,
          361.4800109863281,
          362.95001220703125,
          366.8299865722656,
          362.5,
          347.3599853515625,
          358.57000732421875,
          359.9599914550781,
          361.4200134277344,
          350.7099914550781,
          347.9599914550781,
          337.5,
          334.8800048828125,
          323.6499938964844,
          317.1499938964844,
          323.0299987792969,
          322.1300048828125,
          313.4800109863281,
          311.8800048828125,
          315.17999267578125,
          312.0299987792969,
          308.4700012207031,
          311.7900085449219,
          297.7799987792969,
          292.760009765625,
          293.510009765625,
          294.94000244140625,
          303.7900085449219,
          310.05999755859375,
          303.5,
          305.1300048828125,
          305.7900085449219,
          293.8999938964844,
          320.3699951171875,
          328.3900146484375,
          327.6600036621094,
          323.5199890136719,
          332.0299987792969,
          338.42999267578125,
          345.4800109863281,
          348.2799987792969,
          346.75,
          342.3500061035156,
          339.3299865722656,
          338.989990234375,
          338.2099914550781,
          331.0299987792969,
          346.19000244140625,
          338.6300048828125,
          332.7200012207031,
          333.70001220703125,
          323.1199951171875,
          325.3500061035156,
          327.9800109863281,
          329.0199890136719,
          322.54998779296875,
          321.1499938964844,
          325.8500061035156,
          329.92999267578125,
          324.1199951171875,
          317.54998779296875,
          319.29998779296875,
          320.7799987792969,
          322.760009765625,
          331.2099914550781,
          332.1400146484375,
          335.4200134277344,
          344.760009765625,
          339.8900146484375,
          335.8900146484375,
          333.75,
          339.9599914550781,
          371.2900085449219,
          365.3599853515625,
          363.010009765625,
          355.989990234375,
          364.8500061035156,
          359,
          378.8800048828125,
          392.9800109863281,
          395.2300109863281,
          403.1300048828125,
          400.4700012207031,
          403.5400085449219,
          399.2900085449219,
          399.7699890136719,
          409.3699951171875,
          420.0199890136719,
          423.9700012207031,
          435.7300109863281,
          440.8599853515625,
          445.2699890136719,
          431.9599914550781,
          434.70001220703125,
          424.45001220703125,
          422.4800109863281,
          424.0199890136719,
          415.94000244140625,
          417.0799865722656,
          429.8399963378906,
          428.239990234375,
          440.489990234375,
          441.44000244140625,
          445.8999938964844,
          438.8399963378906,
          438.1000061035156,
          441.7099914550781,
          440.2099914550781,
          444.04998779296875,
          450.3800048828125,
          441.9100036621094,
          450.04998779296875,
          474.79998779296875,
          477.5899963378906,
          437.4200134277344,
          427.5,
          428.3699951171875,
          427.70001220703125,
          422.6700134277344,
          413.1700134277344,
          425.7799987792969,
          438.9700012207031,
          438.6199951171875,
          429.70001220703125,
          431,
          431.6000061035156,
          440.760009765625,
          438.29998779296875,
          428.8999938964844,
          429.9800109863281,
          421.6600036621094,
          427.7799987792969,
          423.70001220703125,
          415.45001220703125,
          403,
          404.5299987792969,
          408.2900085449219,
          413.1700134277344,
          427.54998779296875,
          406.92999267578125,
          416.0299987792969,
          418.05999755859375,
          429.989990234375,
          434.6700134277344,
          433.67999267578125,
          439.8800048828125,
          448.67999267578125,
          445.760009765625,
          443.1400146484375,
          442.79998779296875,
          445.3599853515625,
          434.69000244140625,
          412.239990234375,
          400.489990234375,
          396.94000244140625,
          394.3999938964844,
          396.20001220703125,
          386.29998779296875,
          384.1499938964844,
          379.80999755859375,
          384.79998779296875,
          379.25,
          377.5899963378906,
          376.3599853515625,
          377.6000061035156,
          380.3299865722656,
          376.75,
          376.8999938964844,
          372.5899963378906,
          381.510009765625,
          385.95001220703125,
          373.32000732421875,
          365.92999267578125,
          361.20001220703125,
          355.67999267578125,
          360.82000732421875,
          355.7200012207031,
          346.19000244140625,
          401.7699890136719,
          400.9599914550781,
          406.8399963378906,
          413.7300109863281,
          411.25,
          403.5400085449219,
          397.8699951171875,
          410.0799865722656,
          411.69000244140625,
          420.19000244140625,
          424.7099914550781,
          432.3599853515625,
          434.739990234375,
          434.6099853515625,
          436.6499938964844,
          435.1499938964844,
          447.239990234375,
          444.6199951171875,
          448.6499938964844,
          461.94000244140625,
          466.95001220703125,
          465.9100036621094,
          474.4700012207031,
          474.95001220703125,
          478,
          479.55999755859375,
          479.1700134277344,
          479,
          477.19000244140625,
          473.9700012207031,
          465.739990234375,
          453.8999938964844,
          455.1499938964844,
          446.7300109863281,
          452,
          453.760009765625,
          459.8900146484375,
          463,
          479.9800109863281,
          469.8299865722656,
          472.05999755859375,
          486.1199951171875,
          495.0199890136719,
          489.2699890136719,
          491.6099853515625,
          486.760009765625,
          491.19000244140625,
          491.7900085449219,
          490.510009765625,
          486.8800048828125
         ]
        },
        {
         "mode": "lines",
         "name": "LMT",
         "type": "scatter",
         "x": [
          "2023-01-03T00:00:00",
          "2023-01-04T00:00:00",
          "2023-01-05T00:00:00",
          "2023-01-06T00:00:00",
          "2023-01-09T00:00:00",
          "2023-01-10T00:00:00",
          "2023-01-11T00:00:00",
          "2023-01-12T00:00:00",
          "2023-01-13T00:00:00",
          "2023-01-17T00:00:00",
          "2023-01-18T00:00:00",
          "2023-01-19T00:00:00",
          "2023-01-20T00:00:00",
          "2023-01-23T00:00:00",
          "2023-01-24T00:00:00",
          "2023-01-25T00:00:00",
          "2023-01-26T00:00:00",
          "2023-01-27T00:00:00",
          "2023-01-30T00:00:00",
          "2023-01-31T00:00:00",
          "2023-02-01T00:00:00",
          "2023-02-02T00:00:00",
          "2023-02-03T00:00:00",
          "2023-02-06T00:00:00",
          "2023-02-07T00:00:00",
          "2023-02-08T00:00:00",
          "2023-02-09T00:00:00",
          "2023-02-10T00:00:00",
          "2023-02-13T00:00:00",
          "2023-02-14T00:00:00",
          "2023-02-15T00:00:00",
          "2023-02-16T00:00:00",
          "2023-02-17T00:00:00",
          "2023-02-21T00:00:00",
          "2023-02-22T00:00:00",
          "2023-02-23T00:00:00",
          "2023-02-24T00:00:00",
          "2023-02-27T00:00:00",
          "2023-02-28T00:00:00",
          "2023-03-01T00:00:00",
          "2023-03-02T00:00:00",
          "2023-03-03T00:00:00",
          "2023-03-06T00:00:00",
          "2023-03-07T00:00:00",
          "2023-03-08T00:00:00",
          "2023-03-09T00:00:00",
          "2023-03-10T00:00:00",
          "2023-03-13T00:00:00",
          "2023-03-14T00:00:00",
          "2023-03-15T00:00:00",
          "2023-03-16T00:00:00",
          "2023-03-17T00:00:00",
          "2023-03-20T00:00:00",
          "2023-03-21T00:00:00",
          "2023-03-22T00:00:00",
          "2023-03-23T00:00:00",
          "2023-03-24T00:00:00",
          "2023-03-27T00:00:00",
          "2023-03-28T00:00:00",
          "2023-03-29T00:00:00",
          "2023-03-30T00:00:00",
          "2023-03-31T00:00:00",
          "2023-04-03T00:00:00",
          "2023-04-04T00:00:00",
          "2023-04-05T00:00:00",
          "2023-04-06T00:00:00",
          "2023-04-10T00:00:00",
          "2023-04-11T00:00:00",
          "2023-04-12T00:00:00",
          "2023-04-13T00:00:00",
          "2023-04-14T00:00:00",
          "2023-04-17T00:00:00",
          "2023-04-18T00:00:00",
          "2023-04-19T00:00:00",
          "2023-04-20T00:00:00",
          "2023-04-21T00:00:00",
          "2023-04-24T00:00:00",
          "2023-04-25T00:00:00",
          "2023-04-26T00:00:00",
          "2023-04-27T00:00:00",
          "2023-04-28T00:00:00",
          "2023-05-01T00:00:00",
          "2023-05-02T00:00:00",
          "2023-05-03T00:00:00",
          "2023-05-04T00:00:00",
          "2023-05-05T00:00:00",
          "2023-05-08T00:00:00",
          "2023-05-09T00:00:00",
          "2023-05-10T00:00:00",
          "2023-05-11T00:00:00",
          "2023-05-12T00:00:00",
          "2023-05-15T00:00:00",
          "2023-05-16T00:00:00",
          "2023-05-17T00:00:00",
          "2023-05-18T00:00:00",
          "2023-05-19T00:00:00",
          "2023-05-22T00:00:00",
          "2023-05-23T00:00:00",
          "2023-05-24T00:00:00",
          "2023-05-25T00:00:00",
          "2023-05-26T00:00:00",
          "2023-05-30T00:00:00",
          "2023-05-31T00:00:00",
          "2023-06-01T00:00:00",
          "2023-06-02T00:00:00",
          "2023-06-05T00:00:00",
          "2023-06-06T00:00:00",
          "2023-06-07T00:00:00",
          "2023-06-08T00:00:00",
          "2023-06-09T00:00:00",
          "2023-06-12T00:00:00",
          "2023-06-13T00:00:00",
          "2023-06-14T00:00:00",
          "2023-06-15T00:00:00",
          "2023-06-16T00:00:00",
          "2023-06-20T00:00:00",
          "2023-06-21T00:00:00",
          "2023-06-22T00:00:00",
          "2023-06-23T00:00:00",
          "2023-06-26T00:00:00",
          "2023-06-27T00:00:00",
          "2023-06-28T00:00:00",
          "2023-06-29T00:00:00",
          "2023-06-30T00:00:00",
          "2023-07-03T00:00:00",
          "2023-07-05T00:00:00",
          "2023-07-06T00:00:00",
          "2023-07-07T00:00:00",
          "2023-07-10T00:00:00",
          "2023-07-11T00:00:00",
          "2023-07-12T00:00:00",
          "2023-07-13T00:00:00",
          "2023-07-14T00:00:00",
          "2023-07-17T00:00:00",
          "2023-07-18T00:00:00",
          "2023-07-19T00:00:00",
          "2023-07-20T00:00:00",
          "2023-07-21T00:00:00",
          "2023-07-24T00:00:00",
          "2023-07-25T00:00:00",
          "2023-07-26T00:00:00",
          "2023-07-27T00:00:00",
          "2023-07-28T00:00:00",
          "2023-07-31T00:00:00",
          "2023-08-01T00:00:00",
          "2023-08-02T00:00:00",
          "2023-08-03T00:00:00",
          "2023-08-04T00:00:00",
          "2023-08-07T00:00:00",
          "2023-08-08T00:00:00",
          "2023-08-09T00:00:00",
          "2023-08-10T00:00:00",
          "2023-08-11T00:00:00",
          "2023-08-14T00:00:00",
          "2023-08-15T00:00:00",
          "2023-08-16T00:00:00",
          "2023-08-17T00:00:00",
          "2023-08-18T00:00:00",
          "2023-08-21T00:00:00",
          "2023-08-22T00:00:00",
          "2023-08-23T00:00:00",
          "2023-08-24T00:00:00",
          "2023-08-25T00:00:00",
          "2023-08-28T00:00:00",
          "2023-08-29T00:00:00",
          "2023-08-30T00:00:00",
          "2023-08-31T00:00:00",
          "2023-09-01T00:00:00",
          "2023-09-05T00:00:00",
          "2023-09-06T00:00:00",
          "2023-09-07T00:00:00",
          "2023-09-08T00:00:00",
          "2023-09-11T00:00:00",
          "2023-09-12T00:00:00",
          "2023-09-13T00:00:00",
          "2023-09-14T00:00:00",
          "2023-09-15T00:00:00",
          "2023-09-18T00:00:00",
          "2023-09-19T00:00:00",
          "2023-09-20T00:00:00",
          "2023-09-21T00:00:00",
          "2023-09-22T00:00:00",
          "2023-09-25T00:00:00",
          "2023-09-26T00:00:00",
          "2023-09-27T00:00:00",
          "2023-09-28T00:00:00",
          "2023-09-29T00:00:00",
          "2023-10-02T00:00:00",
          "2023-10-03T00:00:00",
          "2023-10-04T00:00:00",
          "2023-10-05T00:00:00",
          "2023-10-06T00:00:00",
          "2023-10-09T00:00:00",
          "2023-10-10T00:00:00",
          "2023-10-11T00:00:00",
          "2023-10-12T00:00:00",
          "2023-10-13T00:00:00",
          "2023-10-16T00:00:00",
          "2023-10-17T00:00:00",
          "2023-10-18T00:00:00",
          "2023-10-19T00:00:00",
          "2023-10-20T00:00:00",
          "2023-10-23T00:00:00",
          "2023-10-24T00:00:00",
          "2023-10-25T00:00:00",
          "2023-10-26T00:00:00",
          "2023-10-27T00:00:00",
          "2023-10-30T00:00:00",
          "2023-10-31T00:00:00",
          "2023-11-01T00:00:00",
          "2023-11-02T00:00:00",
          "2023-11-03T00:00:00",
          "2023-11-06T00:00:00",
          "2023-11-07T00:00:00",
          "2023-11-08T00:00:00",
          "2023-11-09T00:00:00",
          "2023-11-10T00:00:00",
          "2023-11-13T00:00:00",
          "2023-11-14T00:00:00",
          "2023-11-15T00:00:00",
          "2023-11-16T00:00:00",
          "2023-11-17T00:00:00",
          "2023-11-20T00:00:00",
          "2023-11-21T00:00:00",
          "2023-11-22T00:00:00",
          "2023-11-24T00:00:00",
          "2023-11-27T00:00:00",
          "2023-11-28T00:00:00",
          "2023-11-29T00:00:00",
          "2023-11-30T00:00:00",
          "2023-12-01T00:00:00",
          "2023-12-04T00:00:00",
          "2023-12-05T00:00:00",
          "2023-12-06T00:00:00",
          "2023-12-07T00:00:00",
          "2023-12-08T00:00:00",
          "2023-12-11T00:00:00",
          "2023-12-12T00:00:00",
          "2023-12-13T00:00:00",
          "2023-12-14T00:00:00",
          "2023-12-15T00:00:00",
          "2023-12-18T00:00:00",
          "2023-12-19T00:00:00",
          "2023-12-20T00:00:00",
          "2023-12-21T00:00:00",
          "2023-12-22T00:00:00",
          "2023-12-26T00:00:00",
          "2023-12-27T00:00:00",
          "2023-12-28T00:00:00",
          "2023-12-29T00:00:00"
         ],
         "y": [
          477.5299987792969,
          476.5,
          477.07000732421875,
          473.239990234375,
          458.989990234375,
          462.2900085449219,
          463,
          461.739990234375,
          449.8299865722656,
          447.1600036621094,
          441.2699890136719,
          439.30999755859375,
          443.2799987792969,
          441.2799987792969,
          449.2300109863281,
          454.1600036621094,
          459.80999755859375,
          459.6000061035156,
          460.5899963378906,
          463.260009765625,
          462.25,
          457.19000244140625,
          459.0799865722656,
          469.1000061035156,
          468.3299865722656,
          469.6499938964844,
          470.0899963378906,
          480.8299865722656,
          481.9700012207031,
          481.5799865722656,
          480.510009765625,
          471.25,
          475.6300048828125,
          479.19000244140625,
          479.5299987792969,
          479.0799865722656,
          480.3999938964844,
          479.489990234375,
          474.260009765625,
          474.3299865722656,
          478.30999755859375,
          477.8900146484375,
          480.1700134277344,
          478.6600036621094,
          479.5,
          475.8500061035156,
          475.5,
          477.3299865722656,
          478.8699951171875,
          473.30999755859375,
          473.239990234375,
          465.8699951171875,
          475.70001220703125,
          474.760009765625,
          468.8999938964844,
          467.8999938964844,
          474.5400085449219,
          473.3900146484375,
          471.44000244140625,
          474.19000244140625,
          473.17999267578125,
          472.7300109863281,
          486.6199951171875,
          488.5400085449219,
          489.989990234375,
          490.1700134277344,
          496.75,
          487.8399963378906,
          488.1000061035156,
          492.1400146484375,
          487.989990234375,
          489.6400146484375,
          501.4100036621094,
          495.1600036621094,
          490.6000061035156,
          482.54998779296875,
          480.9200134277344,
          475.5799865722656,
          461.6199951171875,
          465,
          464.45001220703125,
          469.42999267578125,
          458.8900146484375,
          453.07000732421875,
          451.92999267578125,
          455.5400085449219,
          450.9599914550781,
          452.0400085449219,
          453.1499938964844,
          450.69000244140625,
          450.7900085449219,
          451.9200134277344,
          447.7300109863281,
          457.29998779296875,
          455.75,
          454.489990234375,
          454.7200012207031,
          452.6300048828125,
          452.7200012207031,
          442.8299865722656,
          448.45001220703125,
          447.9700012207031,
          444.010009765625,
          449.6700134277344,
          454.489990234375,
          454.69000244140625,
          458.6300048828125,
          461.75,
          464.1700134277344,
          462.69000244140625,
          459.8699951171875,
          452.3699951171875,
          452.54998779296875,
          455.95001220703125,
          459.1700134277344,
          458.3800048828125,
          466.0400085449219,
          463.42999267578125,
          459.3599853515625,
          452.79998779296875,
          453.1499938964844,
          449.6600036621094,
          457.44000244140625,
          460.3800048828125,
          462.5799865722656,
          462.760009765625,
          461.6400146484375,
          458.7099914550781,
          460.3800048828125,
          466.2900085449219,
          461.9599914550781,
          466.3800048828125,
          464.30999755859375,
          469.9700012207031,
          455.70001220703125,
          451.510009765625,
          456.010009765625,
          454.760009765625,
          456.79998779296875,
          454.1499938964844,
          452.80999755859375,
          448.6400146484375,
          449,
          446.3699951171875,
          451.2799987792969,
          448.55999755859375,
          447.9200134277344,
          445.7200012207031,
          449.7799987792969,
          449.4700012207031,
          452.80999755859375,
          450.04998779296875,
          454.04998779296875,
          450.0799865722656,
          443.5799865722656,
          445.1300048828125,
          446.67999267578125,
          450.05999755859375,
          451.489990234375,
          452.94000244140625,
          454.57000732421875,
          452.54998779296875,
          451.0899963378906,
          452.32000732421875,
          448.3999938964844,
          452.4100036621094,
          448.3500061035156,
          448.17999267578125,
          445.19000244140625,
          423.94000244140625,
          425.94000244140625,
          423.0899963378906,
          420.6600036621094,
          417.8299865722656,
          420.989990234375,
          425.8900146484375,
          424.04998779296875,
          429.8599853515625,
          425.30999755859375,
          426.95001220703125,
          417.5400085449219,
          413.6499938964844,
          412.8999938964844,
          408.75,
          408.7200012207031,
          410.9599914550781,
          408.9599914550781,
          407.82000732421875,
          403.8299865722656,
          401.3299865722656,
          397.3500061035156,
          400.7300109863281,
          436.5299987792969,
          435.1000061035156,
          436.6499938964844,
          434.1400146484375,
          441.05999755859375,
          440.4100036621094,
          441.1300048828125,
          446.07000732421875,
          449.17999267578125,
          444.1700134277344,
          446.1600036621094,
          440.8999938964844,
          447.69000244140625,
          445.9700012207031,
          443.3900146484375,
          445.8399963378906,
          454.6400146484375,
          452.3800048828125,
          458.0400085449219,
          453.3399963378906,
          451.1600036621094,
          450.1499938964844,
          444.6600036621094,
          442.4599914550781,
          444.8699951171875,
          445.0299987792969,
          444.2200012207031,
          445.1400146484375,
          445.5899963378906,
          444.67999267578125,
          443.80999755859375,
          448.1499938964844,
          450.3999938964844,
          452.010009765625,
          445.489990234375,
          448.2699890136719,
          445.010009765625,
          447.7699890136719,
          449.4100036621094,
          450.69000244140625,
          446.239990234375,
          449.4100036621094,
          447.1099853515625,
          448.0199890136719,
          451.260009765625,
          451.6300048828125,
          451.44000244140625,
          445.2699890136719,
          441.80999755859375,
          446.9100036621094,
          447.7900085449219,
          442.6000061035156,
          448.0199890136719,
          448.2200012207031,
          450.17999267578125,
          448.9700012207031,
          451.2300109863281,
          453.239990234375
         ]
        },
        {
         "mode": "lines",
         "name": "MCD",
         "type": "scatter",
         "x": [
          "2023-01-03T00:00:00",
          "2023-01-04T00:00:00",
          "2023-01-05T00:00:00",
          "2023-01-06T00:00:00",
          "2023-01-09T00:00:00",
          "2023-01-10T00:00:00",
          "2023-01-11T00:00:00",
          "2023-01-12T00:00:00",
          "2023-01-13T00:00:00",
          "2023-01-17T00:00:00",
          "2023-01-18T00:00:00",
          "2023-01-19T00:00:00",
          "2023-01-20T00:00:00",
          "2023-01-23T00:00:00",
          "2023-01-24T00:00:00",
          "2023-01-25T00:00:00",
          "2023-01-26T00:00:00",
          "2023-01-27T00:00:00",
          "2023-01-30T00:00:00",
          "2023-01-31T00:00:00",
          "2023-02-01T00:00:00",
          "2023-02-02T00:00:00",
          "2023-02-03T00:00:00",
          "2023-02-06T00:00:00",
          "2023-02-07T00:00:00",
          "2023-02-08T00:00:00",
          "2023-02-09T00:00:00",
          "2023-02-10T00:00:00",
          "2023-02-13T00:00:00",
          "2023-02-14T00:00:00",
          "2023-02-15T00:00:00",
          "2023-02-16T00:00:00",
          "2023-02-17T00:00:00",
          "2023-02-21T00:00:00",
          "2023-02-22T00:00:00",
          "2023-02-23T00:00:00",
          "2023-02-24T00:00:00",
          "2023-02-27T00:00:00",
          "2023-02-28T00:00:00",
          "2023-03-01T00:00:00",
          "2023-03-02T00:00:00",
          "2023-03-03T00:00:00",
          "2023-03-06T00:00:00",
          "2023-03-07T00:00:00",
          "2023-03-08T00:00:00",
          "2023-03-09T00:00:00",
          "2023-03-10T00:00:00",
          "2023-03-13T00:00:00",
          "2023-03-14T00:00:00",
          "2023-03-15T00:00:00",
          "2023-03-16T00:00:00",
          "2023-03-17T00:00:00",
          "2023-03-20T00:00:00",
          "2023-03-21T00:00:00",
          "2023-03-22T00:00:00",
          "2023-03-23T00:00:00",
          "2023-03-24T00:00:00",
          "2023-03-27T00:00:00",
          "2023-03-28T00:00:00",
          "2023-03-29T00:00:00",
          "2023-03-30T00:00:00",
          "2023-03-31T00:00:00",
          "2023-04-03T00:00:00",
          "2023-04-04T00:00:00",
          "2023-04-05T00:00:00",
          "2023-04-06T00:00:00",
          "2023-04-10T00:00:00",
          "2023-04-11T00:00:00",
          "2023-04-12T00:00:00",
          "2023-04-13T00:00:00",
          "2023-04-14T00:00:00",
          "2023-04-17T00:00:00",
          "2023-04-18T00:00:00",
          "2023-04-19T00:00:00",
          "2023-04-20T00:00:00",
          "2023-04-21T00:00:00",
          "2023-04-24T00:00:00",
          "2023-04-25T00:00:00",
          "2023-04-26T00:00:00",
          "2023-04-27T00:00:00",
          "2023-04-28T00:00:00",
          "2023-05-01T00:00:00",
          "2023-05-02T00:00:00",
          "2023-05-03T00:00:00",
          "2023-05-04T00:00:00",
          "2023-05-05T00:00:00",
          "2023-05-08T00:00:00",
          "2023-05-09T00:00:00",
          "2023-05-10T00:00:00",
          "2023-05-11T00:00:00",
          "2023-05-12T00:00:00",
          "2023-05-15T00:00:00",
          "2023-05-16T00:00:00",
          "2023-05-17T00:00:00",
          "2023-05-18T00:00:00",
          "2023-05-19T00:00:00",
          "2023-05-22T00:00:00",
          "2023-05-23T00:00:00",
          "2023-05-24T00:00:00",
          "2023-05-25T00:00:00",
          "2023-05-26T00:00:00",
          "2023-05-30T00:00:00",
          "2023-05-31T00:00:00",
          "2023-06-01T00:00:00",
          "2023-06-02T00:00:00",
          "2023-06-05T00:00:00",
          "2023-06-06T00:00:00",
          "2023-06-07T00:00:00",
          "2023-06-08T00:00:00",
          "2023-06-09T00:00:00",
          "2023-06-12T00:00:00",
          "2023-06-13T00:00:00",
          "2023-06-14T00:00:00",
          "2023-06-15T00:00:00",
          "2023-06-16T00:00:00",
          "2023-06-20T00:00:00",
          "2023-06-21T00:00:00",
          "2023-06-22T00:00:00",
          "2023-06-23T00:00:00",
          "2023-06-26T00:00:00",
          "2023-06-27T00:00:00",
          "2023-06-28T00:00:00",
          "2023-06-29T00:00:00",
          "2023-06-30T00:00:00",
          "2023-07-03T00:00:00",
          "2023-07-05T00:00:00",
          "2023-07-06T00:00:00",
          "2023-07-07T00:00:00",
          "2023-07-10T00:00:00",
          "2023-07-11T00:00:00",
          "2023-07-12T00:00:00",
          "2023-07-13T00:00:00",
          "2023-07-14T00:00:00",
          "2023-07-17T00:00:00",
          "2023-07-18T00:00:00",
          "2023-07-19T00:00:00",
          "2023-07-20T00:00:00",
          "2023-07-21T00:00:00",
          "2023-07-24T00:00:00",
          "2023-07-25T00:00:00",
          "2023-07-26T00:00:00",
          "2023-07-27T00:00:00",
          "2023-07-28T00:00:00",
          "2023-07-31T00:00:00",
          "2023-08-01T00:00:00",
          "2023-08-02T00:00:00",
          "2023-08-03T00:00:00",
          "2023-08-04T00:00:00",
          "2023-08-07T00:00:00",
          "2023-08-08T00:00:00",
          "2023-08-09T00:00:00",
          "2023-08-10T00:00:00",
          "2023-08-11T00:00:00",
          "2023-08-14T00:00:00",
          "2023-08-15T00:00:00",
          "2023-08-16T00:00:00",
          "2023-08-17T00:00:00",
          "2023-08-18T00:00:00",
          "2023-08-21T00:00:00",
          "2023-08-22T00:00:00",
          "2023-08-23T00:00:00",
          "2023-08-24T00:00:00",
          "2023-08-25T00:00:00",
          "2023-08-28T00:00:00",
          "2023-08-29T00:00:00",
          "2023-08-30T00:00:00",
          "2023-08-31T00:00:00",
          "2023-09-01T00:00:00",
          "2023-09-05T00:00:00",
          "2023-09-06T00:00:00",
          "2023-09-07T00:00:00",
          "2023-09-08T00:00:00",
          "2023-09-11T00:00:00",
          "2023-09-12T00:00:00",
          "2023-09-13T00:00:00",
          "2023-09-14T00:00:00",
          "2023-09-15T00:00:00",
          "2023-09-18T00:00:00",
          "2023-09-19T00:00:00",
          "2023-09-20T00:00:00",
          "2023-09-21T00:00:00",
          "2023-09-22T00:00:00",
          "2023-09-25T00:00:00",
          "2023-09-26T00:00:00",
          "2023-09-27T00:00:00",
          "2023-09-28T00:00:00",
          "2023-09-29T00:00:00",
          "2023-10-02T00:00:00",
          "2023-10-03T00:00:00",
          "2023-10-04T00:00:00",
          "2023-10-05T00:00:00",
          "2023-10-06T00:00:00",
          "2023-10-09T00:00:00",
          "2023-10-10T00:00:00",
          "2023-10-11T00:00:00",
          "2023-10-12T00:00:00",
          "2023-10-13T00:00:00",
          "2023-10-16T00:00:00",
          "2023-10-17T00:00:00",
          "2023-10-18T00:00:00",
          "2023-10-19T00:00:00",
          "2023-10-20T00:00:00",
          "2023-10-23T00:00:00",
          "2023-10-24T00:00:00",
          "2023-10-25T00:00:00",
          "2023-10-26T00:00:00",
          "2023-10-27T00:00:00",
          "2023-10-30T00:00:00",
          "2023-10-31T00:00:00",
          "2023-11-01T00:00:00",
          "2023-11-02T00:00:00",
          "2023-11-03T00:00:00",
          "2023-11-06T00:00:00",
          "2023-11-07T00:00:00",
          "2023-11-08T00:00:00",
          "2023-11-09T00:00:00",
          "2023-11-10T00:00:00",
          "2023-11-13T00:00:00",
          "2023-11-14T00:00:00",
          "2023-11-15T00:00:00",
          "2023-11-16T00:00:00",
          "2023-11-17T00:00:00",
          "2023-11-20T00:00:00",
          "2023-11-21T00:00:00",
          "2023-11-22T00:00:00",
          "2023-11-24T00:00:00",
          "2023-11-27T00:00:00",
          "2023-11-28T00:00:00",
          "2023-11-29T00:00:00",
          "2023-11-30T00:00:00",
          "2023-12-01T00:00:00",
          "2023-12-04T00:00:00",
          "2023-12-05T00:00:00",
          "2023-12-06T00:00:00",
          "2023-12-07T00:00:00",
          "2023-12-08T00:00:00",
          "2023-12-11T00:00:00",
          "2023-12-12T00:00:00",
          "2023-12-13T00:00:00",
          "2023-12-14T00:00:00",
          "2023-12-15T00:00:00",
          "2023-12-18T00:00:00",
          "2023-12-19T00:00:00",
          "2023-12-20T00:00:00",
          "2023-12-21T00:00:00",
          "2023-12-22T00:00:00",
          "2023-12-26T00:00:00",
          "2023-12-27T00:00:00",
          "2023-12-28T00:00:00",
          "2023-12-29T00:00:00"
         ],
         "y": [
          264.3299865722656,
          264.3900146484375,
          262.1600036621094,
          269.4700012207031,
          267.25,
          268.9100036621094,
          268.80999755859375,
          266.69000244140625,
          268.8900146484375,
          274.1099853515625,
          266.0400085449219,
          263.5799865722656,
          268.5799865722656,
          269.2900085449219,
          269.55999755859375,
          273,
          274.7200012207031,
          272.4599914550781,
          270.8900146484375,
          267.3999938964844,
          266.2699890136719,
          263.2099914550781,
          264.2300109863281,
          267.9200134277344,
          267.3399963378906,
          262.82000732421875,
          260.6600036621094,
          262.4200134277344,
          266.20001220703125,
          266.6099853515625,
          266.55999755859375,
          265.8299865722656,
          269.989990234375,
          268.54998779296875,
          268.6400146484375,
          266.7799987792969,
          263.67999267578125,
          264.7799987792969,
          263.9100036621094,
          262.7200012207031,
          267.57000732421875,
          269.07000732421875,
          270.6400146484375,
          267.1300048828125,
          265.3299865722656,
          261.6300048828125,
          262.0299987792969,
          263.0799865722656,
          265.8999938964844,
          266.3399963378906,
          270.57000732421875,
          267.20001220703125,
          270.739990234375,
          270.2099914550781,
          267.8699951171875,
          269.6199951171875,
          271.3299865722656,
          273.8399963378906,
          275.8500061035156,
          277.44000244140625,
          277.7900085449219,
          279.6099853515625,
          282.1400146484375,
          282.2799987792969,
          282.0199890136719,
          282.8900146484375,
          283.7799987792969,
          284.4800109863281,
          285.29998779296875,
          289.07000732421875,
          288.9800109863281,
          289.30999755859375,
          290.9100036621094,
          291.2699890136719,
          291,
          292.05999755859375,
          293.20001220703125,
          291.510009765625,
          289.760009765625,
          294.7200012207031,
          295.75,
          297.5799865722656,
          298.07000732421875,
          295.2200012207031,
          295.1600036621094,
          296.6000061035156,
          296.69000244140625,
          296.6600036621094,
          296.57000732421875,
          294.7900085449219,
          296.1400146484375,
          295.8999938964844,
          294.1499938964844,
          293.4599914550781,
          294.04998779296875,
          295.54998779296875,
          289.3500061035156,
          286.3699951171875,
          285.9200134277344,
          285.5199890136719,
          286.0400085449219,
          284.9200134277344,
          285.1099853515625,
          287.8699951171875,
          289.9100036621094,
          288.42999267578125,
          284.5400085449219,
          281.8999938964844,
          285.7799987792969,
          286.7900085449219,
          288.57000732421875,
          288.54998779296875,
          288.44000244140625,
          292.6099853515625,
          293.70001220703125,
          293.0400085449219,
          294.5199890136719,
          293.29998779296875,
          289.9100036621094,
          289.0899963378906,
          291.29998779296875,
          291.739990234375,
          294.4700012207031,
          298.4100036621094,
          294.8399963378906,
          296.8999938964844,
          294.9200134277344,
          292.1000061035156,
          294.489990234375,
          294.739990234375,
          295.6099853515625,
          295.2200012207031,
          294.94000244140625,
          294.67999267578125,
          293.82000732421875,
          294.1300048828125,
          297.1300048828125,
          295.6099853515625,
          295.30999755859375,
          292.3599853515625,
          291.75,
          295.19000244140625,
          294.0299987792969,
          293.20001220703125,
          291.07000732421875,
          289.6199951171875,
          291.0199890136719,
          287.0199890136719,
          291.3999938964844,
          289.5799865722656,
          288.2300109863281,
          287.6000061035156,
          288.6199951171875,
          288.80999755859375,
          288.29998779296875,
          285.3999938964844,
          281.8599853515625,
          281.739990234375,
          280.0400085449219,
          280.30999755859375,
          281.8699951171875,
          282.3500061035156,
          284.5799865722656,
          283.67999267578125,
          283.5899963378906,
          284.239990234375,
          281.1499938964844,
          280.94000244140625,
          279.1600036621094,
          275.44000244140625,
          278.3299865722656,
          279.2200012207031,
          279.760009765625,
          280.7099914550781,
          281.7699890136719,
          284.760009765625,
          278.2300109863281,
          277.7200012207031,
          278.1300048828125,
          277.20001220703125,
          271.2200012207031,
          272.2200012207031,
          269.7799987792969,
          267.7200012207031,
          263.6400146484375,
          265.5899963378906,
          263.44000244140625,
          257.75,
          254.49000549316406,
          255.80999755859375,
          252.22999572753906,
          248.22000122070312,
          249.9199981689453,
          251.52000427246094,
          250.9199981689453,
          246.19000244140625,
          248.30999755859375,
          249.94000244140625,
          251.13999938964844,
          256.0299987792969,
          258.3800048828125,
          258.1099853515625,
          254.75,
          257.2699890136719,
          258.0299987792969,
          255.8300018310547,
          255.75999450683594,
          260.1499938964844,
          262.1700134277344,
          261.9700012207031,
          266.8500061035156,
          267.8699951171875,
          268.9100036621094,
          268.6700134277344,
          267.489990234375,
          266.9100036621094,
          267.7900085449219,
          269.20001220703125,
          271.489990234375,
          270.3900146484375,
          276.1199951171875,
          275.75,
          279.0299987792969,
          280.4700012207031,
          281.92999267578125,
          282.5400085449219,
          281.8399963378906,
          282.0899963378906,
          280.3800048828125,
          281.8399963378906,
          285.9599914550781,
          286.1300048828125,
          286.5400085449219,
          286.8599853515625,
          286.7900085449219,
          285.5299987792969,
          289.1499938964844,
          291.4200134277344,
          295.92999267578125,
          290.0199890136719,
          287.2699890136719,
          290.2300109863281,
          290.7300109863281,
          288.989990234375,
          291.3900146484375,
          291.70001220703125,
          292.8599853515625,
          294.54998779296875,
          295.8399963378906,
          296.510009765625
         ]
        }
       ],
       "layout": {
        "legend": {
         "title": {
          "text": "Stocks"
         }
        },
        "template": {
         "data": {
          "bar": [
           {
            "error_x": {
             "color": "#2a3f5f"
            },
            "error_y": {
             "color": "#2a3f5f"
            },
            "marker": {
             "line": {
              "color": "white",
              "width": 0.5
             },
             "pattern": {
              "fillmode": "overlay",
              "size": 10,
              "solidity": 0.2
             }
            },
            "type": "bar"
           }
          ],
          "barpolar": [
           {
            "marker": {
             "line": {
              "color": "white",
              "width": 0.5
             },
             "pattern": {
              "fillmode": "overlay",
              "size": 10,
              "solidity": 0.2
             }
            },
            "type": "barpolar"
           }
          ],
          "carpet": [
           {
            "aaxis": {
             "endlinecolor": "#2a3f5f",
             "gridcolor": "#C8D4E3",
             "linecolor": "#C8D4E3",
             "minorgridcolor": "#C8D4E3",
             "startlinecolor": "#2a3f5f"
            },
            "baxis": {
             "endlinecolor": "#2a3f5f",
             "gridcolor": "#C8D4E3",
             "linecolor": "#C8D4E3",
             "minorgridcolor": "#C8D4E3",
             "startlinecolor": "#2a3f5f"
            },
            "type": "carpet"
           }
          ],
          "choropleth": [
           {
            "colorbar": {
             "outlinewidth": 0,
             "ticks": ""
            },
            "type": "choropleth"
           }
          ],
          "contour": [
           {
            "colorbar": {
             "outlinewidth": 0,
             "ticks": ""
            },
            "colorscale": [
             [
              0,
              "#0d0887"
             ],
             [
              0.1111111111111111,
              "#46039f"
             ],
             [
              0.2222222222222222,
              "#7201a8"
             ],
             [
              0.3333333333333333,
              "#9c179e"
             ],
             [
              0.4444444444444444,
              "#bd3786"
             ],
             [
              0.5555555555555556,
              "#d8576b"
             ],
             [
              0.6666666666666666,
              "#ed7953"
             ],
             [
              0.7777777777777778,
              "#fb9f3a"
             ],
             [
              0.8888888888888888,
              "#fdca26"
             ],
             [
              1,
              "#f0f921"
             ]
            ],
            "type": "contour"
           }
          ],
          "contourcarpet": [
           {
            "colorbar": {
             "outlinewidth": 0,
             "ticks": ""
            },
            "type": "contourcarpet"
           }
          ],
          "heatmap": [
           {
            "colorbar": {
             "outlinewidth": 0,
             "ticks": ""
            },
            "colorscale": [
             [
              0,
              "#0d0887"
             ],
             [
              0.1111111111111111,
              "#46039f"
             ],
             [
              0.2222222222222222,
              "#7201a8"
             ],
             [
              0.3333333333333333,
              "#9c179e"
             ],
             [
              0.4444444444444444,
              "#bd3786"
             ],
             [
              0.5555555555555556,
              "#d8576b"
             ],
             [
              0.6666666666666666,
              "#ed7953"
             ],
             [
              0.7777777777777778,
              "#fb9f3a"
             ],
             [
              0.8888888888888888,
              "#fdca26"
             ],
             [
              1,
              "#f0f921"
             ]
            ],
            "type": "heatmap"
           }
          ],
          "heatmapgl": [
           {
            "colorbar": {
             "outlinewidth": 0,
             "ticks": ""
            },
            "colorscale": [
             [
              0,
              "#0d0887"
             ],
             [
              0.1111111111111111,
              "#46039f"
             ],
             [
              0.2222222222222222,
              "#7201a8"
             ],
             [
              0.3333333333333333,
              "#9c179e"
             ],
             [
              0.4444444444444444,
              "#bd3786"
             ],
             [
              0.5555555555555556,
              "#d8576b"
             ],
             [
              0.6666666666666666,
              "#ed7953"
             ],
             [
              0.7777777777777778,
              "#fb9f3a"
             ],
             [
              0.8888888888888888,
              "#fdca26"
             ],
             [
              1,
              "#f0f921"
             ]
            ],
            "type": "heatmapgl"
           }
          ],
          "histogram": [
           {
            "marker": {
             "pattern": {
              "fillmode": "overlay",
              "size": 10,
              "solidity": 0.2
             }
            },
            "type": "histogram"
           }
          ],
          "histogram2d": [
           {
            "colorbar": {
             "outlinewidth": 0,
             "ticks": ""
            },
            "colorscale": [
             [
              0,
              "#0d0887"
             ],
             [
              0.1111111111111111,
              "#46039f"
             ],
             [
              0.2222222222222222,
              "#7201a8"
             ],
             [
              0.3333333333333333,
              "#9c179e"
             ],
             [
              0.4444444444444444,
              "#bd3786"
             ],
             [
              0.5555555555555556,
              "#d8576b"
             ],
             [
              0.6666666666666666,
              "#ed7953"
             ],
             [
              0.7777777777777778,
              "#fb9f3a"
             ],
             [
              0.8888888888888888,
              "#fdca26"
             ],
             [
              1,
              "#f0f921"
             ]
            ],
            "type": "histogram2d"
           }
          ],
          "histogram2dcontour": [
           {
            "colorbar": {
             "outlinewidth": 0,
             "ticks": ""
            },
            "colorscale": [
             [
              0,
              "#0d0887"
             ],
             [
              0.1111111111111111,
              "#46039f"
             ],
             [
              0.2222222222222222,
              "#7201a8"
             ],
             [
              0.3333333333333333,
              "#9c179e"
             ],
             [
              0.4444444444444444,
              "#bd3786"
             ],
             [
              0.5555555555555556,
              "#d8576b"
             ],
             [
              0.6666666666666666,
              "#ed7953"
             ],
             [
              0.7777777777777778,
              "#fb9f3a"
             ],
             [
              0.8888888888888888,
              "#fdca26"
             ],
             [
              1,
              "#f0f921"
             ]
            ],
            "type": "histogram2dcontour"
           }
          ],
          "mesh3d": [
           {
            "colorbar": {
             "outlinewidth": 0,
             "ticks": ""
            },
            "type": "mesh3d"
           }
          ],
          "parcoords": [
           {
            "line": {
             "colorbar": {
              "outlinewidth": 0,
              "ticks": ""
             }
            },
            "type": "parcoords"
           }
          ],
          "pie": [
           {
            "automargin": true,
            "type": "pie"
           }
          ],
          "scatter": [
           {
            "fillpattern": {
             "fillmode": "overlay",
             "size": 10,
             "solidity": 0.2
            },
            "type": "scatter"
           }
          ],
          "scatter3d": [
           {
            "line": {
             "colorbar": {
              "outlinewidth": 0,
              "ticks": ""
             }
            },
            "marker": {
             "colorbar": {
              "outlinewidth": 0,
              "ticks": ""
             }
            },
            "type": "scatter3d"
           }
          ],
          "scattercarpet": [
           {
            "marker": {
             "colorbar": {
              "outlinewidth": 0,
              "ticks": ""
             }
            },
            "type": "scattercarpet"
           }
          ],
          "scattergeo": [
           {
            "marker": {
             "colorbar": {
              "outlinewidth": 0,
              "ticks": ""
             }
            },
            "type": "scattergeo"
           }
          ],
          "scattergl": [
           {
            "marker": {
             "colorbar": {
              "outlinewidth": 0,
              "ticks": ""
             }
            },
            "type": "scattergl"
           }
          ],
          "scattermapbox": [
           {
            "marker": {
             "colorbar": {
              "outlinewidth": 0,
              "ticks": ""
             }
            },
            "type": "scattermapbox"
           }
          ],
          "scatterpolar": [
           {
            "marker": {
             "colorbar": {
              "outlinewidth": 0,
              "ticks": ""
             }
            },
            "type": "scatterpolar"
           }
          ],
          "scatterpolargl": [
           {
            "marker": {
             "colorbar": {
              "outlinewidth": 0,
              "ticks": ""
             }
            },
            "type": "scatterpolargl"
           }
          ],
          "scatterternary": [
           {
            "marker": {
             "colorbar": {
              "outlinewidth": 0,
              "ticks": ""
             }
            },
            "type": "scatterternary"
           }
          ],
          "surface": [
           {
            "colorbar": {
             "outlinewidth": 0,
             "ticks": ""
            },
            "colorscale": [
             [
              0,
              "#0d0887"
             ],
             [
              0.1111111111111111,
              "#46039f"
             ],
             [
              0.2222222222222222,
              "#7201a8"
             ],
             [
              0.3333333333333333,
              "#9c179e"
             ],
             [
              0.4444444444444444,
              "#bd3786"
             ],
             [
              0.5555555555555556,
              "#d8576b"
             ],
             [
              0.6666666666666666,
              "#ed7953"
             ],
             [
              0.7777777777777778,
              "#fb9f3a"
             ],
             [
              0.8888888888888888,
              "#fdca26"
             ],
             [
              1,
              "#f0f921"
             ]
            ],
            "type": "surface"
           }
          ],
          "table": [
           {
            "cells": {
             "fill": {
              "color": "#EBF0F8"
             },
             "line": {
              "color": "white"
             }
            },
            "header": {
             "fill": {
              "color": "#C8D4E3"
             },
             "line": {
              "color": "white"
             }
            },
            "type": "table"
           }
          ]
         },
         "layout": {
          "annotationdefaults": {
           "arrowcolor": "#2a3f5f",
           "arrowhead": 0,
           "arrowwidth": 1
          },
          "autotypenumbers": "strict",
          "coloraxis": {
           "colorbar": {
            "outlinewidth": 0,
            "ticks": ""
           }
          },
          "colorscale": {
           "diverging": [
            [
             0,
             "#8e0152"
            ],
            [
             0.1,
             "#c51b7d"
            ],
            [
             0.2,
             "#de77ae"
            ],
            [
             0.3,
             "#f1b6da"
            ],
            [
             0.4,
             "#fde0ef"
            ],
            [
             0.5,
             "#f7f7f7"
            ],
            [
             0.6,
             "#e6f5d0"
            ],
            [
             0.7,
             "#b8e186"
            ],
            [
             0.8,
             "#7fbc41"
            ],
            [
             0.9,
             "#4d9221"
            ],
            [
             1,
             "#276419"
            ]
           ],
           "sequential": [
            [
             0,
             "#0d0887"
            ],
            [
             0.1111111111111111,
             "#46039f"
            ],
            [
             0.2222222222222222,
             "#7201a8"
            ],
            [
             0.3333333333333333,
             "#9c179e"
            ],
            [
             0.4444444444444444,
             "#bd3786"
            ],
            [
             0.5555555555555556,
             "#d8576b"
            ],
            [
             0.6666666666666666,
             "#ed7953"
            ],
            [
             0.7777777777777778,
             "#fb9f3a"
            ],
            [
             0.8888888888888888,
             "#fdca26"
            ],
            [
             1,
             "#f0f921"
            ]
           ],
           "sequentialminus": [
            [
             0,
             "#0d0887"
            ],
            [
             0.1111111111111111,
             "#46039f"
            ],
            [
             0.2222222222222222,
             "#7201a8"
            ],
            [
             0.3333333333333333,
             "#9c179e"
            ],
            [
             0.4444444444444444,
             "#bd3786"
            ],
            [
             0.5555555555555556,
             "#d8576b"
            ],
            [
             0.6666666666666666,
             "#ed7953"
            ],
            [
             0.7777777777777778,
             "#fb9f3a"
            ],
            [
             0.8888888888888888,
             "#fdca26"
            ],
            [
             1,
             "#f0f921"
            ]
           ]
          },
          "colorway": [
           "#636efa",
           "#EF553B",
           "#00cc96",
           "#ab63fa",
           "#FFA15A",
           "#19d3f3",
           "#FF6692",
           "#B6E880",
           "#FF97FF",
           "#FECB52"
          ],
          "font": {
           "color": "#2a3f5f"
          },
          "geo": {
           "bgcolor": "white",
           "lakecolor": "white",
           "landcolor": "white",
           "showlakes": true,
           "showland": true,
           "subunitcolor": "#C8D4E3"
          },
          "hoverlabel": {
           "align": "left"
          },
          "hovermode": "closest",
          "mapbox": {
           "style": "light"
          },
          "paper_bgcolor": "white",
          "plot_bgcolor": "white",
          "polar": {
           "angularaxis": {
            "gridcolor": "#EBF0F8",
            "linecolor": "#EBF0F8",
            "ticks": ""
           },
           "bgcolor": "white",
           "radialaxis": {
            "gridcolor": "#EBF0F8",
            "linecolor": "#EBF0F8",
            "ticks": ""
           }
          },
          "scene": {
           "xaxis": {
            "backgroundcolor": "white",
            "gridcolor": "#DFE8F3",
            "gridwidth": 2,
            "linecolor": "#EBF0F8",
            "showbackground": true,
            "ticks": "",
            "zerolinecolor": "#EBF0F8"
           },
           "yaxis": {
            "backgroundcolor": "white",
            "gridcolor": "#DFE8F3",
            "gridwidth": 2,
            "linecolor": "#EBF0F8",
            "showbackground": true,
            "ticks": "",
            "zerolinecolor": "#EBF0F8"
           },
           "zaxis": {
            "backgroundcolor": "white",
            "gridcolor": "#DFE8F3",
            "gridwidth": 2,
            "linecolor": "#EBF0F8",
            "showbackground": true,
            "ticks": "",
            "zerolinecolor": "#EBF0F8"
           }
          },
          "shapedefaults": {
           "line": {
            "color": "#2a3f5f"
           }
          },
          "ternary": {
           "aaxis": {
            "gridcolor": "#DFE8F3",
            "linecolor": "#A2B1C6",
            "ticks": ""
           },
           "baxis": {
            "gridcolor": "#DFE8F3",
            "linecolor": "#A2B1C6",
            "ticks": ""
           },
           "bgcolor": "white",
           "caxis": {
            "gridcolor": "#DFE8F3",
            "linecolor": "#A2B1C6",
            "ticks": ""
           }
          },
          "title": {
           "x": 0.05
          },
          "xaxis": {
           "automargin": true,
           "gridcolor": "#EBF0F8",
           "linecolor": "#EBF0F8",
           "ticks": "",
           "title": {
            "standoff": 15
           },
           "zerolinecolor": "#EBF0F8",
           "zerolinewidth": 2
          },
          "yaxis": {
           "automargin": true,
           "gridcolor": "#EBF0F8",
           "linecolor": "#EBF0F8",
           "ticks": "",
           "title": {
            "standoff": 15
           },
           "zerolinecolor": "#EBF0F8",
           "zerolinewidth": 2
          }
         }
        },
        "title": {
         "text": "Close Prices Across Multiple Stocks"
        },
        "xaxis": {
         "showgrid": true,
         "title": {
          "text": "Date"
         }
        },
        "yaxis": {
         "showgrid": true,
         "title": {
          "text": "Close (USD)"
         }
        }
       }
      },
      "text/html": [
       "<div>                            <div id=\"9341b19a-71e3-4512-a255-0368e78f16ce\" class=\"plotly-graph-div\" style=\"height:525px; width:100%;\"></div>            <script type=\"text/javascript\">                require([\"plotly\"], function(Plotly) {                    window.PLOTLYENV=window.PLOTLYENV || {};                                    if (document.getElementById(\"9341b19a-71e3-4512-a255-0368e78f16ce\")) {                    Plotly.newPlot(                        \"9341b19a-71e3-4512-a255-0368e78f16ce\",                        [{\"mode\":\"lines\",\"name\":\"META\",\"x\":[\"2023-01-03T00:00:00\",\"2023-01-04T00:00:00\",\"2023-01-05T00:00:00\",\"2023-01-06T00:00:00\",\"2023-01-09T00:00:00\",\"2023-01-10T00:00:00\",\"2023-01-11T00:00:00\",\"2023-01-12T00:00:00\",\"2023-01-13T00:00:00\",\"2023-01-17T00:00:00\",\"2023-01-18T00:00:00\",\"2023-01-19T00:00:00\",\"2023-01-20T00:00:00\",\"2023-01-23T00:00:00\",\"2023-01-24T00:00:00\",\"2023-01-25T00:00:00\",\"2023-01-26T00:00:00\",\"2023-01-27T00:00:00\",\"2023-01-30T00:00:00\",\"2023-01-31T00:00:00\",\"2023-02-01T00:00:00\",\"2023-02-02T00:00:00\",\"2023-02-03T00:00:00\",\"2023-02-06T00:00:00\",\"2023-02-07T00:00:00\",\"2023-02-08T00:00:00\",\"2023-02-09T00:00:00\",\"2023-02-10T00:00:00\",\"2023-02-13T00:00:00\",\"2023-02-14T00:00:00\",\"2023-02-15T00:00:00\",\"2023-02-16T00:00:00\",\"2023-02-17T00:00:00\",\"2023-02-21T00:00:00\",\"2023-02-22T00:00:00\",\"2023-02-23T00:00:00\",\"2023-02-24T00:00:00\",\"2023-02-27T00:00:00\",\"2023-02-28T00:00:00\",\"2023-03-01T00:00:00\",\"2023-03-02T00:00:00\",\"2023-03-03T00:00:00\",\"2023-03-06T00:00:00\",\"2023-03-07T00:00:00\",\"2023-03-08T00:00:00\",\"2023-03-09T00:00:00\",\"2023-03-10T00:00:00\",\"2023-03-13T00:00:00\",\"2023-03-14T00:00:00\",\"2023-03-15T00:00:00\",\"2023-03-16T00:00:00\",\"2023-03-17T00:00:00\",\"2023-03-20T00:00:00\",\"2023-03-21T00:00:00\",\"2023-03-22T00:00:00\",\"2023-03-23T00:00:00\",\"2023-03-24T00:00:00\",\"2023-03-27T00:00:00\",\"2023-03-28T00:00:00\",\"2023-03-29T00:00:00\",\"2023-03-30T00:00:00\",\"2023-03-31T00:00:00\",\"2023-04-03T00:00:00\",\"2023-04-04T00:00:00\",\"2023-04-05T00:00:00\",\"2023-04-06T00:00:00\",\"2023-04-10T00:00:00\",\"2023-04-11T00:00:00\",\"2023-04-12T00:00:00\",\"2023-04-13T00:00:00\",\"2023-04-14T00:00:00\",\"2023-04-17T00:00:00\",\"2023-04-18T00:00:00\",\"2023-04-19T00:00:00\",\"2023-04-20T00:00:00\",\"2023-04-21T00:00:00\",\"2023-04-24T00:00:00\",\"2023-04-25T00:00:00\",\"2023-04-26T00:00:00\",\"2023-04-27T00:00:00\",\"2023-04-28T00:00:00\",\"2023-05-01T00:00:00\",\"2023-05-02T00:00:00\",\"2023-05-03T00:00:00\",\"2023-05-04T00:00:00\",\"2023-05-05T00:00:00\",\"2023-05-08T00:00:00\",\"2023-05-09T00:00:00\",\"2023-05-10T00:00:00\",\"2023-05-11T00:00:00\",\"2023-05-12T00:00:00\",\"2023-05-15T00:00:00\",\"2023-05-16T00:00:00\",\"2023-05-17T00:00:00\",\"2023-05-18T00:00:00\",\"2023-05-19T00:00:00\",\"2023-05-22T00:00:00\",\"2023-05-23T00:00:00\",\"2023-05-24T00:00:00\",\"2023-05-25T00:00:00\",\"2023-05-26T00:00:00\",\"2023-05-30T00:00:00\",\"2023-05-31T00:00:00\",\"2023-06-01T00:00:00\",\"2023-06-02T00:00:00\",\"2023-06-05T00:00:00\",\"2023-06-06T00:00:00\",\"2023-06-07T00:00:00\",\"2023-06-08T00:00:00\",\"2023-06-09T00:00:00\",\"2023-06-12T00:00:00\",\"2023-06-13T00:00:00\",\"2023-06-14T00:00:00\",\"2023-06-15T00:00:00\",\"2023-06-16T00:00:00\",\"2023-06-20T00:00:00\",\"2023-06-21T00:00:00\",\"2023-06-22T00:00:00\",\"2023-06-23T00:00:00\",\"2023-06-26T00:00:00\",\"2023-06-27T00:00:00\",\"2023-06-28T00:00:00\",\"2023-06-29T00:00:00\",\"2023-06-30T00:00:00\",\"2023-07-03T00:00:00\",\"2023-07-05T00:00:00\",\"2023-07-06T00:00:00\",\"2023-07-07T00:00:00\",\"2023-07-10T00:00:00\",\"2023-07-11T00:00:00\",\"2023-07-12T00:00:00\",\"2023-07-13T00:00:00\",\"2023-07-14T00:00:00\",\"2023-07-17T00:00:00\",\"2023-07-18T00:00:00\",\"2023-07-19T00:00:00\",\"2023-07-20T00:00:00\",\"2023-07-21T00:00:00\",\"2023-07-24T00:00:00\",\"2023-07-25T00:00:00\",\"2023-07-26T00:00:00\",\"2023-07-27T00:00:00\",\"2023-07-28T00:00:00\",\"2023-07-31T00:00:00\",\"2023-08-01T00:00:00\",\"2023-08-02T00:00:00\",\"2023-08-03T00:00:00\",\"2023-08-04T00:00:00\",\"2023-08-07T00:00:00\",\"2023-08-08T00:00:00\",\"2023-08-09T00:00:00\",\"2023-08-10T00:00:00\",\"2023-08-11T00:00:00\",\"2023-08-14T00:00:00\",\"2023-08-15T00:00:00\",\"2023-08-16T00:00:00\",\"2023-08-17T00:00:00\",\"2023-08-18T00:00:00\",\"2023-08-21T00:00:00\",\"2023-08-22T00:00:00\",\"2023-08-23T00:00:00\",\"2023-08-24T00:00:00\",\"2023-08-25T00:00:00\",\"2023-08-28T00:00:00\",\"2023-08-29T00:00:00\",\"2023-08-30T00:00:00\",\"2023-08-31T00:00:00\",\"2023-09-01T00:00:00\",\"2023-09-05T00:00:00\",\"2023-09-06T00:00:00\",\"2023-09-07T00:00:00\",\"2023-09-08T00:00:00\",\"2023-09-11T00:00:00\",\"2023-09-12T00:00:00\",\"2023-09-13T00:00:00\",\"2023-09-14T00:00:00\",\"2023-09-15T00:00:00\",\"2023-09-18T00:00:00\",\"2023-09-19T00:00:00\",\"2023-09-20T00:00:00\",\"2023-09-21T00:00:00\",\"2023-09-22T00:00:00\",\"2023-09-25T00:00:00\",\"2023-09-26T00:00:00\",\"2023-09-27T00:00:00\",\"2023-09-28T00:00:00\",\"2023-09-29T00:00:00\",\"2023-10-02T00:00:00\",\"2023-10-03T00:00:00\",\"2023-10-04T00:00:00\",\"2023-10-05T00:00:00\",\"2023-10-06T00:00:00\",\"2023-10-09T00:00:00\",\"2023-10-10T00:00:00\",\"2023-10-11T00:00:00\",\"2023-10-12T00:00:00\",\"2023-10-13T00:00:00\",\"2023-10-16T00:00:00\",\"2023-10-17T00:00:00\",\"2023-10-18T00:00:00\",\"2023-10-19T00:00:00\",\"2023-10-20T00:00:00\",\"2023-10-23T00:00:00\",\"2023-10-24T00:00:00\",\"2023-10-25T00:00:00\",\"2023-10-26T00:00:00\",\"2023-10-27T00:00:00\",\"2023-10-30T00:00:00\",\"2023-10-31T00:00:00\",\"2023-11-01T00:00:00\",\"2023-11-02T00:00:00\",\"2023-11-03T00:00:00\",\"2023-11-06T00:00:00\",\"2023-11-07T00:00:00\",\"2023-11-08T00:00:00\",\"2023-11-09T00:00:00\",\"2023-11-10T00:00:00\",\"2023-11-13T00:00:00\",\"2023-11-14T00:00:00\",\"2023-11-15T00:00:00\",\"2023-11-16T00:00:00\",\"2023-11-17T00:00:00\",\"2023-11-20T00:00:00\",\"2023-11-21T00:00:00\",\"2023-11-22T00:00:00\",\"2023-11-24T00:00:00\",\"2023-11-27T00:00:00\",\"2023-11-28T00:00:00\",\"2023-11-29T00:00:00\",\"2023-11-30T00:00:00\",\"2023-12-01T00:00:00\",\"2023-12-04T00:00:00\",\"2023-12-05T00:00:00\",\"2023-12-06T00:00:00\",\"2023-12-07T00:00:00\",\"2023-12-08T00:00:00\",\"2023-12-11T00:00:00\",\"2023-12-12T00:00:00\",\"2023-12-13T00:00:00\",\"2023-12-14T00:00:00\",\"2023-12-15T00:00:00\",\"2023-12-18T00:00:00\",\"2023-12-19T00:00:00\",\"2023-12-20T00:00:00\",\"2023-12-21T00:00:00\",\"2023-12-22T00:00:00\",\"2023-12-26T00:00:00\",\"2023-12-27T00:00:00\",\"2023-12-28T00:00:00\",\"2023-12-29T00:00:00\"],\"y\":[124.73999786376953,127.37000274658203,126.94000244140625,130.02000427246094,129.47000122070312,132.99000549316406,132.88999938964844,136.7100067138672,136.97999572753906,135.36000061035156,133.02000427246094,136.14999389648438,139.3699951171875,143.27000427246094,143.13999938964844,141.5,147.3000030517578,151.74000549316406,147.05999755859375,148.97000122070312,153.1199951171875,188.77000427246094,186.52999877929688,186.05999755859375,191.6199951171875,183.42999267578125,177.9199981689453,174.14999389648438,179.42999267578125,179.47999572753906,177.16000366210938,172.44000244140625,172.8800048828125,172.0800018310547,171.1199951171875,172.0399932861328,170.38999938964844,169.5399932861328,174.94000244140625,173.4199981689453,174.52999877929688,185.25,184.89999389648438,184.50999450683594,184.97000122070312,181.69000244140625,179.50999450683594,180.89999389648438,194.02000427246094,197.75,204.92999267578125,195.61000061035156,197.80999755859375,202.16000366210938,199.80999755859375,204.27999877929688,206.00999450683594,202.83999633789062,200.67999267578125,205.35000610351562,207.83999633789062,211.94000244140625,213.07000732421875,214.72000122070312,211.47999572753906,216.10000610351562,214.75,213.85000610351562,214.0,220.35000610351562,221.49000549316406,218.86000061035156,217.88999938964844,215.6999969482422,213.07000732421875,212.88999938964844,212.7899932861328,207.5500030517578,209.39999389648438,238.55999755859375,240.32000732421875,243.17999267578125,239.24000549316406,237.02999877929688,233.52000427246094,232.77999877929688,233.27000427246094,233.3699951171875,233.0800018310547,235.7899932861328,233.80999755859375,238.86000061035156,238.82000732421875,242.49000549316406,246.85000610351562,245.63999938964844,248.32000732421875,246.74000549316406,249.2100067138672,252.69000244140625,262.0400085449219,262.5199890136719,264.7200012207031,272.6099853515625,272.6099853515625,271.3900146484375,271.1199951171875,263.6000061035156,264.5799865722656,264.95001220703125,271.04998779296875,271.32000732421875,273.3500061035156,281.8299865722656,281.0,284.3299865722656,281.6400146484375,284.8800048828125,288.7300109863281,278.4700012207031,287.04998779296875,285.2900085449219,281.5299987792969,286.9800109863281,286.0199890136719,294.3699951171875,291.989990234375,290.5299987792969,294.1000061035156,298.2900085449219,309.3399963378906,313.4100036621094,308.8699951171875,310.6199951171875,312.04998779296875,316.010009765625,302.5199890136719,294.260009765625,291.6099853515625,294.4700012207031,298.57000732421875,311.7099914550781,325.4800109863281,318.6000061035156,322.7099914550781,314.30999755859375,313.19000244140625,310.7300109863281,316.55999755859375,312.6400146484375,305.2099914550781,305.739990234375,301.6400146484375,306.19000244140625,301.95001220703125,294.2900085449219,285.0899963378906,283.25,289.8999938964844,287.6000061035156,294.239990234375,286.75,285.5,290.260009765625,297.989990234375,295.1000061035156,295.8900146484375,296.3800048828125,300.1499938964844,299.1700134277344,298.6700134277344,297.8900146484375,307.55999755859375,301.6600036621094,305.05999755859375,311.7200012207031,300.30999755859375,302.54998779296875,305.07000732421875,299.6700134277344,295.7300109863281,299.0799865722656,300.8299865722656,298.9599914550781,297.739990234375,303.9599914550781,300.2099914550781,306.82000732421875,300.94000244140625,305.5799865722656,304.7900085449219,315.42999267578125,318.3599853515625,321.8399963378906,327.82000732421875,324.1600036621094,314.69000244140625,321.1499938964844,324.0,316.9700012207031,312.80999755859375,308.6499938964844,314.010009765625,312.54998779296875,299.5299987792969,288.3500061035156,296.7300109863281,302.6600036621094,301.2699890136719,311.8500061035156,310.8699951171875,314.6000061035156,315.79998779296875,318.82000732421875,319.7799987792969,320.54998779296875,328.7699890136719,329.19000244140625,336.30999755859375,332.7099914550781,334.19000244140625,335.0400085449219,339.9700012207031,336.9800109863281,341.489990234375,338.2300109863281,334.70001220703125,338.989990234375,332.20001220703125,327.1499938964844,324.82000732421875,320.0199890136719,318.2900085449219,317.45001220703125,326.5899963378906,332.75,325.2799987792969,334.2200012207031,334.739990234375,333.1700134277344,334.9200134277344,344.6199951171875,350.3599853515625,349.2799987792969,354.0899963378906,353.3900146484375,354.8299865722656,357.8299865722656,358.32000732421875,353.9599914550781],\"type\":\"scatter\"},{\"mode\":\"lines\",\"name\":\"ADBE\",\"x\":[\"2023-01-03T00:00:00\",\"2023-01-04T00:00:00\",\"2023-01-05T00:00:00\",\"2023-01-06T00:00:00\",\"2023-01-09T00:00:00\",\"2023-01-10T00:00:00\",\"2023-01-11T00:00:00\",\"2023-01-12T00:00:00\",\"2023-01-13T00:00:00\",\"2023-01-17T00:00:00\",\"2023-01-18T00:00:00\",\"2023-01-19T00:00:00\",\"2023-01-20T00:00:00\",\"2023-01-23T00:00:00\",\"2023-01-24T00:00:00\",\"2023-01-25T00:00:00\",\"2023-01-26T00:00:00\",\"2023-01-27T00:00:00\",\"2023-01-30T00:00:00\",\"2023-01-31T00:00:00\",\"2023-02-01T00:00:00\",\"2023-02-02T00:00:00\",\"2023-02-03T00:00:00\",\"2023-02-06T00:00:00\",\"2023-02-07T00:00:00\",\"2023-02-08T00:00:00\",\"2023-02-09T00:00:00\",\"2023-02-10T00:00:00\",\"2023-02-13T00:00:00\",\"2023-02-14T00:00:00\",\"2023-02-15T00:00:00\",\"2023-02-16T00:00:00\",\"2023-02-17T00:00:00\",\"2023-02-21T00:00:00\",\"2023-02-22T00:00:00\",\"2023-02-23T00:00:00\",\"2023-02-24T00:00:00\",\"2023-02-27T00:00:00\",\"2023-02-28T00:00:00\",\"2023-03-01T00:00:00\",\"2023-03-02T00:00:00\",\"2023-03-03T00:00:00\",\"2023-03-06T00:00:00\",\"2023-03-07T00:00:00\",\"2023-03-08T00:00:00\",\"2023-03-09T00:00:00\",\"2023-03-10T00:00:00\",\"2023-03-13T00:00:00\",\"2023-03-14T00:00:00\",\"2023-03-15T00:00:00\",\"2023-03-16T00:00:00\",\"2023-03-17T00:00:00\",\"2023-03-20T00:00:00\",\"2023-03-21T00:00:00\",\"2023-03-22T00:00:00\",\"2023-03-23T00:00:00\",\"2023-03-24T00:00:00\",\"2023-03-27T00:00:00\",\"2023-03-28T00:00:00\",\"2023-03-29T00:00:00\",\"2023-03-30T00:00:00\",\"2023-03-31T00:00:00\",\"2023-04-03T00:00:00\",\"2023-04-04T00:00:00\",\"2023-04-05T00:00:00\",\"2023-04-06T00:00:00\",\"2023-04-10T00:00:00\",\"2023-04-11T00:00:00\",\"2023-04-12T00:00:00\",\"2023-04-13T00:00:00\",\"2023-04-14T00:00:00\",\"2023-04-17T00:00:00\",\"2023-04-18T00:00:00\",\"2023-04-19T00:00:00\",\"2023-04-20T00:00:00\",\"2023-04-21T00:00:00\",\"2023-04-24T00:00:00\",\"2023-04-25T00:00:00\",\"2023-04-26T00:00:00\",\"2023-04-27T00:00:00\",\"2023-04-28T00:00:00\",\"2023-05-01T00:00:00\",\"2023-05-02T00:00:00\",\"2023-05-03T00:00:00\",\"2023-05-04T00:00:00\",\"2023-05-05T00:00:00\",\"2023-05-08T00:00:00\",\"2023-05-09T00:00:00\",\"2023-05-10T00:00:00\",\"2023-05-11T00:00:00\",\"2023-05-12T00:00:00\",\"2023-05-15T00:00:00\",\"2023-05-16T00:00:00\",\"2023-05-17T00:00:00\",\"2023-05-18T00:00:00\",\"2023-05-19T00:00:00\",\"2023-05-22T00:00:00\",\"2023-05-23T00:00:00\",\"2023-05-24T00:00:00\",\"2023-05-25T00:00:00\",\"2023-05-26T00:00:00\",\"2023-05-30T00:00:00\",\"2023-05-31T00:00:00\",\"2023-06-01T00:00:00\",\"2023-06-02T00:00:00\",\"2023-06-05T00:00:00\",\"2023-06-06T00:00:00\",\"2023-06-07T00:00:00\",\"2023-06-08T00:00:00\",\"2023-06-09T00:00:00\",\"2023-06-12T00:00:00\",\"2023-06-13T00:00:00\",\"2023-06-14T00:00:00\",\"2023-06-15T00:00:00\",\"2023-06-16T00:00:00\",\"2023-06-20T00:00:00\",\"2023-06-21T00:00:00\",\"2023-06-22T00:00:00\",\"2023-06-23T00:00:00\",\"2023-06-26T00:00:00\",\"2023-06-27T00:00:00\",\"2023-06-28T00:00:00\",\"2023-06-29T00:00:00\",\"2023-06-30T00:00:00\",\"2023-07-03T00:00:00\",\"2023-07-05T00:00:00\",\"2023-07-06T00:00:00\",\"2023-07-07T00:00:00\",\"2023-07-10T00:00:00\",\"2023-07-11T00:00:00\",\"2023-07-12T00:00:00\",\"2023-07-13T00:00:00\",\"2023-07-14T00:00:00\",\"2023-07-17T00:00:00\",\"2023-07-18T00:00:00\",\"2023-07-19T00:00:00\",\"2023-07-20T00:00:00\",\"2023-07-21T00:00:00\",\"2023-07-24T00:00:00\",\"2023-07-25T00:00:00\",\"2023-07-26T00:00:00\",\"2023-07-27T00:00:00\",\"2023-07-28T00:00:00\",\"2023-07-31T00:00:00\",\"2023-08-01T00:00:00\",\"2023-08-02T00:00:00\",\"2023-08-03T00:00:00\",\"2023-08-04T00:00:00\",\"2023-08-07T00:00:00\",\"2023-08-08T00:00:00\",\"2023-08-09T00:00:00\",\"2023-08-10T00:00:00\",\"2023-08-11T00:00:00\",\"2023-08-14T00:00:00\",\"2023-08-15T00:00:00\",\"2023-08-16T00:00:00\",\"2023-08-17T00:00:00\",\"2023-08-18T00:00:00\",\"2023-08-21T00:00:00\",\"2023-08-22T00:00:00\",\"2023-08-23T00:00:00\",\"2023-08-24T00:00:00\",\"2023-08-25T00:00:00\",\"2023-08-28T00:00:00\",\"2023-08-29T00:00:00\",\"2023-08-30T00:00:00\",\"2023-08-31T00:00:00\",\"2023-09-01T00:00:00\",\"2023-09-05T00:00:00\",\"2023-09-06T00:00:00\",\"2023-09-07T00:00:00\",\"2023-09-08T00:00:00\",\"2023-09-11T00:00:00\",\"2023-09-12T00:00:00\",\"2023-09-13T00:00:00\",\"2023-09-14T00:00:00\",\"2023-09-15T00:00:00\",\"2023-09-18T00:00:00\",\"2023-09-19T00:00:00\",\"2023-09-20T00:00:00\",\"2023-09-21T00:00:00\",\"2023-09-22T00:00:00\",\"2023-09-25T00:00:00\",\"2023-09-26T00:00:00\",\"2023-09-27T00:00:00\",\"2023-09-28T00:00:00\",\"2023-09-29T00:00:00\",\"2023-10-02T00:00:00\",\"2023-10-03T00:00:00\",\"2023-10-04T00:00:00\",\"2023-10-05T00:00:00\",\"2023-10-06T00:00:00\",\"2023-10-09T00:00:00\",\"2023-10-10T00:00:00\",\"2023-10-11T00:00:00\",\"2023-10-12T00:00:00\",\"2023-10-13T00:00:00\",\"2023-10-16T00:00:00\",\"2023-10-17T00:00:00\",\"2023-10-18T00:00:00\",\"2023-10-19T00:00:00\",\"2023-10-20T00:00:00\",\"2023-10-23T00:00:00\",\"2023-10-24T00:00:00\",\"2023-10-25T00:00:00\",\"2023-10-26T00:00:00\",\"2023-10-27T00:00:00\",\"2023-10-30T00:00:00\",\"2023-10-31T00:00:00\",\"2023-11-01T00:00:00\",\"2023-11-02T00:00:00\",\"2023-11-03T00:00:00\",\"2023-11-06T00:00:00\",\"2023-11-07T00:00:00\",\"2023-11-08T00:00:00\",\"2023-11-09T00:00:00\",\"2023-11-10T00:00:00\",\"2023-11-13T00:00:00\",\"2023-11-14T00:00:00\",\"2023-11-15T00:00:00\",\"2023-11-16T00:00:00\",\"2023-11-17T00:00:00\",\"2023-11-20T00:00:00\",\"2023-11-21T00:00:00\",\"2023-11-22T00:00:00\",\"2023-11-24T00:00:00\",\"2023-11-27T00:00:00\",\"2023-11-28T00:00:00\",\"2023-11-29T00:00:00\",\"2023-11-30T00:00:00\",\"2023-12-01T00:00:00\",\"2023-12-04T00:00:00\",\"2023-12-05T00:00:00\",\"2023-12-06T00:00:00\",\"2023-12-07T00:00:00\",\"2023-12-08T00:00:00\",\"2023-12-11T00:00:00\",\"2023-12-12T00:00:00\",\"2023-12-13T00:00:00\",\"2023-12-14T00:00:00\",\"2023-12-15T00:00:00\",\"2023-12-18T00:00:00\",\"2023-12-19T00:00:00\",\"2023-12-20T00:00:00\",\"2023-12-21T00:00:00\",\"2023-12-22T00:00:00\",\"2023-12-26T00:00:00\",\"2023-12-27T00:00:00\",\"2023-12-28T00:00:00\",\"2023-12-29T00:00:00\"],\"y\":[336.9200134277344,341.4100036621094,328.44000244140625,332.75,341.9800109863281,338.70001220703125,342.92999267578125,344.5400085449219,344.3800048828125,344.3800048828125,341.30999755859375,342.5299987792969,356.3800048828125,364.9800109863281,361.32000732421875,358.1700134277344,365.82000732421875,370.7099914550781,363.4200134277344,370.3399963378906,383.9200134277344,392.2300109863281,379.3299865722656,375.2300109863281,383.82000732421875,378.3599853515625,375.80999755859375,370.989990234375,375.0,377.8999938964844,375.94000244140625,365.1600036621094,356.8500061035156,346.70001220703125,348.7200012207031,347.0199890136719,320.5400085449219,322.32000732421875,323.95001220703125,323.3800048828125,333.5,344.0400085449219,347.0199890136719,344.79998779296875,345.8399963378906,338.3699951171875,329.29998779296875,324.2699890136719,333.3299865722656,333.6099853515625,353.2900085449219,358.1400146484375,362.8800048828125,374.2200012207031,361.7099914550781,369.0,374.9599914550781,373.1499938964844,373.3999938964844,379.1600036621094,381.8999938964844,385.3699951171875,380.0799865722656,385.1499938964844,382.0199890136719,380.6000061035156,376.25,371.1099853515625,369.8900146484375,378.79998779296875,379.3800048828125,377.9200134277344,377.54998779296875,380.1099853515625,380.260009765625,377.6700134277344,377.3399963378906,369.5899963378906,363.05999755859375,371.4200134277344,377.55999755859375,374.1499938964844,368.6600036621094,345.25,335.8299865722656,348.3999938964844,344.05999755859375,342.6499938964844,344.0199890136719,341.5799865722656,335.45001220703125,345.6700134277344,345.1099853515625,356.6300048828125,360.42999267578125,371.25,372.04998779296875,370.4200134277344,365.760009765625,392.05999755859375,415.3900146484375,417.2099914550781,417.7900085449219,426.75,436.3699951171875,434.17999267578125,432.8900146484375,418.32000732421875,439.0299987792969,454.0,474.6300048828125,478.989990234375,479.5299987792969,490.9100036621094,495.17999267578125,485.8599853515625,477.4800109863281,477.5799865722656,484.7200012207031,479.510009765625,489.2699890136719,482.42999267578125,483.7699890136719,488.989990234375,485.2099914550781,487.260009765625,481.2900085449219,485.2699890136719,496.3500061035156,504.739990234375,507.3599853515625,517.280029296875,514.8300170898438,522.0,532.22998046875,527.1699829101562,516.8800048828125,520.22998046875,523.8599853515625,525.3400268554688,514.5499877929688,513.969970703125,528.8699951171875,546.1699829101562,549.0999755859375,530.2999877929688,523.760009765625,526.8800048828125,529.72998046875,520.5999755859375,513.780029296875,515.8300170898438,508.45001220703125,522.25,518.7000122070312,514.489990234375,511.6700134277344,508.1300048828125,520.469970703125,519.47998046875,530.7100219726562,512.4299926757812,525.0599975585938,529.9199829101562,540.5700073242188,545.3599853515625,559.3400268554688,563.2100219726562,564.8800048828125,561.9400024414062,560.4600219726562,560.3599853515625,564.5,542.2100219726562,553.5599975585938,552.1599731445312,528.8900146484375,532.4199829101562,541.6900024414062,535.780029296875,513.8800048828125,512.9000244140625,511.6000061035156,506.29998779296875,502.6000061035156,504.6700134277344,509.8999938964844,521.1300048828125,507.0299987792969,518.4199829101562,516.4400024414062,526.6799926757812,529.2899780273438,532.719970703125,549.9099731445312,559.6300048828125,548.760009765625,550.739990234375,560.0900268554688,557.8699951171875,555.739990234375,540.9600219726562,540.4099731445312,539.5599975585938,521.1400146484375,514.280029296875,508.1199951171875,526.9400024414062,532.0599975585938,544.5,558.7100219726562,563.6599731445312,565.4500122070312,585.2000122070312,585.3099975585938,577.739990234375,597.219970703125,590.3400268554688,604.3300170898438,595.3099975585938,602.0599975585938,602.6599731445312,612.7000122070312,610.989990234375,619.719970703125,619.4299926757812,619.27001953125,623.3200073242188,617.3900146484375,611.010009765625,612.469970703125,604.5599975585938,602.219970703125,595.7000122070312,608.780029296875,610.010009765625,625.2000122070312,633.6599731445312,624.260009765625,584.6400146484375,584.6799926757812,599.1300048828125,604.6400146484375,596.0599975585938,600.1400146484375,598.75,598.260009765625,596.0800170898438,595.52001953125,596.5999755859375],\"type\":\"scatter\"},{\"mode\":\"lines\",\"name\":\"MA\",\"x\":[\"2023-01-03T00:00:00\",\"2023-01-04T00:00:00\",\"2023-01-05T00:00:00\",\"2023-01-06T00:00:00\",\"2023-01-09T00:00:00\",\"2023-01-10T00:00:00\",\"2023-01-11T00:00:00\",\"2023-01-12T00:00:00\",\"2023-01-13T00:00:00\",\"2023-01-17T00:00:00\",\"2023-01-18T00:00:00\",\"2023-01-19T00:00:00\",\"2023-01-20T00:00:00\",\"2023-01-23T00:00:00\",\"2023-01-24T00:00:00\",\"2023-01-25T00:00:00\",\"2023-01-26T00:00:00\",\"2023-01-27T00:00:00\",\"2023-01-30T00:00:00\",\"2023-01-31T00:00:00\",\"2023-02-01T00:00:00\",\"2023-02-02T00:00:00\",\"2023-02-03T00:00:00\",\"2023-02-06T00:00:00\",\"2023-02-07T00:00:00\",\"2023-02-08T00:00:00\",\"2023-02-09T00:00:00\",\"2023-02-10T00:00:00\",\"2023-02-13T00:00:00\",\"2023-02-14T00:00:00\",\"2023-02-15T00:00:00\",\"2023-02-16T00:00:00\",\"2023-02-17T00:00:00\",\"2023-02-21T00:00:00\",\"2023-02-22T00:00:00\",\"2023-02-23T00:00:00\",\"2023-02-24T00:00:00\",\"2023-02-27T00:00:00\",\"2023-02-28T00:00:00\",\"2023-03-01T00:00:00\",\"2023-03-02T00:00:00\",\"2023-03-03T00:00:00\",\"2023-03-06T00:00:00\",\"2023-03-07T00:00:00\",\"2023-03-08T00:00:00\",\"2023-03-09T00:00:00\",\"2023-03-10T00:00:00\",\"2023-03-13T00:00:00\",\"2023-03-14T00:00:00\",\"2023-03-15T00:00:00\",\"2023-03-16T00:00:00\",\"2023-03-17T00:00:00\",\"2023-03-20T00:00:00\",\"2023-03-21T00:00:00\",\"2023-03-22T00:00:00\",\"2023-03-23T00:00:00\",\"2023-03-24T00:00:00\",\"2023-03-27T00:00:00\",\"2023-03-28T00:00:00\",\"2023-03-29T00:00:00\",\"2023-03-30T00:00:00\",\"2023-03-31T00:00:00\",\"2023-04-03T00:00:00\",\"2023-04-04T00:00:00\",\"2023-04-05T00:00:00\",\"2023-04-06T00:00:00\",\"2023-04-10T00:00:00\",\"2023-04-11T00:00:00\",\"2023-04-12T00:00:00\",\"2023-04-13T00:00:00\",\"2023-04-14T00:00:00\",\"2023-04-17T00:00:00\",\"2023-04-18T00:00:00\",\"2023-04-19T00:00:00\",\"2023-04-20T00:00:00\",\"2023-04-21T00:00:00\",\"2023-04-24T00:00:00\",\"2023-04-25T00:00:00\",\"2023-04-26T00:00:00\",\"2023-04-27T00:00:00\",\"2023-04-28T00:00:00\",\"2023-05-01T00:00:00\",\"2023-05-02T00:00:00\",\"2023-05-03T00:00:00\",\"2023-05-04T00:00:00\",\"2023-05-05T00:00:00\",\"2023-05-08T00:00:00\",\"2023-05-09T00:00:00\",\"2023-05-10T00:00:00\",\"2023-05-11T00:00:00\",\"2023-05-12T00:00:00\",\"2023-05-15T00:00:00\",\"2023-05-16T00:00:00\",\"2023-05-17T00:00:00\",\"2023-05-18T00:00:00\",\"2023-05-19T00:00:00\",\"2023-05-22T00:00:00\",\"2023-05-23T00:00:00\",\"2023-05-24T00:00:00\",\"2023-05-25T00:00:00\",\"2023-05-26T00:00:00\",\"2023-05-30T00:00:00\",\"2023-05-31T00:00:00\",\"2023-06-01T00:00:00\",\"2023-06-02T00:00:00\",\"2023-06-05T00:00:00\",\"2023-06-06T00:00:00\",\"2023-06-07T00:00:00\",\"2023-06-08T00:00:00\",\"2023-06-09T00:00:00\",\"2023-06-12T00:00:00\",\"2023-06-13T00:00:00\",\"2023-06-14T00:00:00\",\"2023-06-15T00:00:00\",\"2023-06-16T00:00:00\",\"2023-06-20T00:00:00\",\"2023-06-21T00:00:00\",\"2023-06-22T00:00:00\",\"2023-06-23T00:00:00\",\"2023-06-26T00:00:00\",\"2023-06-27T00:00:00\",\"2023-06-28T00:00:00\",\"2023-06-29T00:00:00\",\"2023-06-30T00:00:00\",\"2023-07-03T00:00:00\",\"2023-07-05T00:00:00\",\"2023-07-06T00:00:00\",\"2023-07-07T00:00:00\",\"2023-07-10T00:00:00\",\"2023-07-11T00:00:00\",\"2023-07-12T00:00:00\",\"2023-07-13T00:00:00\",\"2023-07-14T00:00:00\",\"2023-07-17T00:00:00\",\"2023-07-18T00:00:00\",\"2023-07-19T00:00:00\",\"2023-07-20T00:00:00\",\"2023-07-21T00:00:00\",\"2023-07-24T00:00:00\",\"2023-07-25T00:00:00\",\"2023-07-26T00:00:00\",\"2023-07-27T00:00:00\",\"2023-07-28T00:00:00\",\"2023-07-31T00:00:00\",\"2023-08-01T00:00:00\",\"2023-08-02T00:00:00\",\"2023-08-03T00:00:00\",\"2023-08-04T00:00:00\",\"2023-08-07T00:00:00\",\"2023-08-08T00:00:00\",\"2023-08-09T00:00:00\",\"2023-08-10T00:00:00\",\"2023-08-11T00:00:00\",\"2023-08-14T00:00:00\",\"2023-08-15T00:00:00\",\"2023-08-16T00:00:00\",\"2023-08-17T00:00:00\",\"2023-08-18T00:00:00\",\"2023-08-21T00:00:00\",\"2023-08-22T00:00:00\",\"2023-08-23T00:00:00\",\"2023-08-24T00:00:00\",\"2023-08-25T00:00:00\",\"2023-08-28T00:00:00\",\"2023-08-29T00:00:00\",\"2023-08-30T00:00:00\",\"2023-08-31T00:00:00\",\"2023-09-01T00:00:00\",\"2023-09-05T00:00:00\",\"2023-09-06T00:00:00\",\"2023-09-07T00:00:00\",\"2023-09-08T00:00:00\",\"2023-09-11T00:00:00\",\"2023-09-12T00:00:00\",\"2023-09-13T00:00:00\",\"2023-09-14T00:00:00\",\"2023-09-15T00:00:00\",\"2023-09-18T00:00:00\",\"2023-09-19T00:00:00\",\"2023-09-20T00:00:00\",\"2023-09-21T00:00:00\",\"2023-09-22T00:00:00\",\"2023-09-25T00:00:00\",\"2023-09-26T00:00:00\",\"2023-09-27T00:00:00\",\"2023-09-28T00:00:00\",\"2023-09-29T00:00:00\",\"2023-10-02T00:00:00\",\"2023-10-03T00:00:00\",\"2023-10-04T00:00:00\",\"2023-10-05T00:00:00\",\"2023-10-06T00:00:00\",\"2023-10-09T00:00:00\",\"2023-10-10T00:00:00\",\"2023-10-11T00:00:00\",\"2023-10-12T00:00:00\",\"2023-10-13T00:00:00\",\"2023-10-16T00:00:00\",\"2023-10-17T00:00:00\",\"2023-10-18T00:00:00\",\"2023-10-19T00:00:00\",\"2023-10-20T00:00:00\",\"2023-10-23T00:00:00\",\"2023-10-24T00:00:00\",\"2023-10-25T00:00:00\",\"2023-10-26T00:00:00\",\"2023-10-27T00:00:00\",\"2023-10-30T00:00:00\",\"2023-10-31T00:00:00\",\"2023-11-01T00:00:00\",\"2023-11-02T00:00:00\",\"2023-11-03T00:00:00\",\"2023-11-06T00:00:00\",\"2023-11-07T00:00:00\",\"2023-11-08T00:00:00\",\"2023-11-09T00:00:00\",\"2023-11-10T00:00:00\",\"2023-11-13T00:00:00\",\"2023-11-14T00:00:00\",\"2023-11-15T00:00:00\",\"2023-11-16T00:00:00\",\"2023-11-17T00:00:00\",\"2023-11-20T00:00:00\",\"2023-11-21T00:00:00\",\"2023-11-22T00:00:00\",\"2023-11-24T00:00:00\",\"2023-11-27T00:00:00\",\"2023-11-28T00:00:00\",\"2023-11-29T00:00:00\",\"2023-11-30T00:00:00\",\"2023-12-01T00:00:00\",\"2023-12-04T00:00:00\",\"2023-12-05T00:00:00\",\"2023-12-06T00:00:00\",\"2023-12-07T00:00:00\",\"2023-12-08T00:00:00\",\"2023-12-11T00:00:00\",\"2023-12-12T00:00:00\",\"2023-12-13T00:00:00\",\"2023-12-14T00:00:00\",\"2023-12-15T00:00:00\",\"2023-12-18T00:00:00\",\"2023-12-19T00:00:00\",\"2023-12-20T00:00:00\",\"2023-12-21T00:00:00\",\"2023-12-22T00:00:00\",\"2023-12-26T00:00:00\",\"2023-12-27T00:00:00\",\"2023-12-28T00:00:00\",\"2023-12-29T00:00:00\"],\"y\":[346.79998779296875,355.1499938964844,351.7699890136719,367.6700134277344,370.9700012207031,371.010009765625,377.8599853515625,379.80999755859375,375.5199890136719,375.0,368.9200134277344,367.94000244140625,376.2799987792969,378.57000732421875,380.010009765625,382.3900146484375,377.239990234375,374.0299987792969,371.1199951171875,370.6000061035156,374.0799865722656,374.94000244140625,373.9100036621094,372.9700012207031,375.05999755859375,370.3500061035156,370.4200134277344,366.8299865722656,370.8299865722656,369.9599914550781,369.6400146484375,367.54998779296875,361.1300048828125,355.9599914550781,354.9700012207031,355.5299987792969,353.1199951171875,355.4800109863281,355.2900085449219,353.5,355.57000732421875,361.5,366.92999267578125,359.94000244140625,359.0299987792969,354.44000244140625,347.1099853515625,344.7099914550781,352.82000732421875,348.0799865722656,348.0,349.6600036621094,349.32000732421875,354.57000732421875,351.0299987792969,354.3699951171875,351.6300048828125,354.6199951171875,354.3299865722656,359.5299987792969,359.260009765625,363.4100036621094,366.4700012207031,363.8999938964844,363.7900085449219,361.4700012207031,360.1400146484375,364.1300048828125,361.7799987792969,369.6499938964844,372.42999267578125,372.760009765625,372.32000732421875,372.79998779296875,375.0,375.239990234375,374.7300109863281,368.5299987792969,366.760009765625,373.6700134277344,380.0299987792969,379.8599853515625,376.0299987792969,374.8999938964844,376.1199951171875,384.6600036621094,385.510009765625,382.94000244140625,382.5400085449219,383.3900146484375,381.9200134277344,383.4100036621094,380.239990234375,387.0,392.0199890136719,385.57000732421875,384.5299987792969,373.75,368.5,370.0400085449219,374.3699951171875,367.5,365.0199890136719,370.8800048828125,373.7300109863281,370.5199890136719,379.9599914550781,371.3900146484375,367.5899963378906,369.2200012207031,375.30999755859375,371.3800048828125,374.760009765625,379.0400085449219,376.5299987792969,374.6199951171875,376.1400146484375,377.79998779296875,379.80999755859375,377.4200134277344,381.7900085449219,380.2300109863281,387.6700134277344,393.29998779296875,393.9599914550781,394.7300109863281,393.1400146484375,388.67999267578125,392.1600036621094,397.79998779296875,400.69000244140625,400.55999755859375,402.510009765625,402.20001220703125,398.1600036621094,398.2699890136719,398.05999755859375,397.489990234375,404.7900085449219,401.2799987792969,402.4100036621094,394.5,392.9599914550781,394.2799987792969,397.07000732421875,390.0199890136719,393.010009765625,391.3500061035156,396.8699951171875,393.19000244140625,393.6700134277344,397.1400146484375,394.9800109863281,398.5799865722656,394.45001220703125,394.3699951171875,392.6199951171875,392.1700134277344,393.20001220703125,397.8399963378906,401.05999755859375,397.6700134277344,402.8900146484375,407.44000244140625,411.6499938964844,413.9100036621094,412.6400146484375,415.57000732421875,411.5,413.17999267578125,414.6199951171875,414.8399963378906,416.69000244140625,416.2699890136719,416.29998779296875,413.3399963378906,414.30999755859375,417.1300048828125,413.5299987792969,410.5199890136719,403.3599853515625,402.2200012207031,402.489990234375,395.3800048828125,395.4800109863281,399.44000244140625,395.9100036621094,395.8500061035156,391.05999755859375,393.760009765625,394.20001220703125,397.9700012207031,394.739990234375,400.3699951171875,399.80999755859375,399.8999938964844,398.0299987792969,401.1600036621094,401.7699890136719,393.2099914550781,387.8699951171875,384.4100036621094,383.6700134277344,386.9100036621094,386.30999755859375,364.5899963378906,364.0799865722656,372.4200134277344,376.3500061035156,377.82000732421875,382.69000244140625,386.04998779296875,386.1600036621094,388.8699951171875,389.70001220703125,387.9599914550781,394.3800048828125,394.3500061035156,397.6499938964844,396.8299865722656,397.1000061035156,400.29998779296875,404.3999938964844,408.95001220703125,410.3299865722656,412.5,408.9700012207031,409.010009765625,409.82000732421875,413.8299865722656,414.3599853515625,408.2300109863281,408.69000244140625,410.3800048828125,413.1499938964844,412.1600036621094,415.7099914550781,420.75,424.67999267578125,418.55999755859375,418.57000732421875,424.42999267578125,425.4700012207031,419.45001220703125,423.44000244140625,424.1000061035156,423.6700134277344,424.3599853515625,426.32000732421875,426.510009765625],\"type\":\"scatter\"},{\"mode\":\"lines\",\"name\":\"GS\",\"x\":[\"2023-01-03T00:00:00\",\"2023-01-04T00:00:00\",\"2023-01-05T00:00:00\",\"2023-01-06T00:00:00\",\"2023-01-09T00:00:00\",\"2023-01-10T00:00:00\",\"2023-01-11T00:00:00\",\"2023-01-12T00:00:00\",\"2023-01-13T00:00:00\",\"2023-01-17T00:00:00\",\"2023-01-18T00:00:00\",\"2023-01-19T00:00:00\",\"2023-01-20T00:00:00\",\"2023-01-23T00:00:00\",\"2023-01-24T00:00:00\",\"2023-01-25T00:00:00\",\"2023-01-26T00:00:00\",\"2023-01-27T00:00:00\",\"2023-01-30T00:00:00\",\"2023-01-31T00:00:00\",\"2023-02-01T00:00:00\",\"2023-02-02T00:00:00\",\"2023-02-03T00:00:00\",\"2023-02-06T00:00:00\",\"2023-02-07T00:00:00\",\"2023-02-08T00:00:00\",\"2023-02-09T00:00:00\",\"2023-02-10T00:00:00\",\"2023-02-13T00:00:00\",\"2023-02-14T00:00:00\",\"2023-02-15T00:00:00\",\"2023-02-16T00:00:00\",\"2023-02-17T00:00:00\",\"2023-02-21T00:00:00\",\"2023-02-22T00:00:00\",\"2023-02-23T00:00:00\",\"2023-02-24T00:00:00\",\"2023-02-27T00:00:00\",\"2023-02-28T00:00:00\",\"2023-03-01T00:00:00\",\"2023-03-02T00:00:00\",\"2023-03-03T00:00:00\",\"2023-03-06T00:00:00\",\"2023-03-07T00:00:00\",\"2023-03-08T00:00:00\",\"2023-03-09T00:00:00\",\"2023-03-10T00:00:00\",\"2023-03-13T00:00:00\",\"2023-03-14T00:00:00\",\"2023-03-15T00:00:00\",\"2023-03-16T00:00:00\",\"2023-03-17T00:00:00\",\"2023-03-20T00:00:00\",\"2023-03-21T00:00:00\",\"2023-03-22T00:00:00\",\"2023-03-23T00:00:00\",\"2023-03-24T00:00:00\",\"2023-03-27T00:00:00\",\"2023-03-28T00:00:00\",\"2023-03-29T00:00:00\",\"2023-03-30T00:00:00\",\"2023-03-31T00:00:00\",\"2023-04-03T00:00:00\",\"2023-04-04T00:00:00\",\"2023-04-05T00:00:00\",\"2023-04-06T00:00:00\",\"2023-04-10T00:00:00\",\"2023-04-11T00:00:00\",\"2023-04-12T00:00:00\",\"2023-04-13T00:00:00\",\"2023-04-14T00:00:00\",\"2023-04-17T00:00:00\",\"2023-04-18T00:00:00\",\"2023-04-19T00:00:00\",\"2023-04-20T00:00:00\",\"2023-04-21T00:00:00\",\"2023-04-24T00:00:00\",\"2023-04-25T00:00:00\",\"2023-04-26T00:00:00\",\"2023-04-27T00:00:00\",\"2023-04-28T00:00:00\",\"2023-05-01T00:00:00\",\"2023-05-02T00:00:00\",\"2023-05-03T00:00:00\",\"2023-05-04T00:00:00\",\"2023-05-05T00:00:00\",\"2023-05-08T00:00:00\",\"2023-05-09T00:00:00\",\"2023-05-10T00:00:00\",\"2023-05-11T00:00:00\",\"2023-05-12T00:00:00\",\"2023-05-15T00:00:00\",\"2023-05-16T00:00:00\",\"2023-05-17T00:00:00\",\"2023-05-18T00:00:00\",\"2023-05-19T00:00:00\",\"2023-05-22T00:00:00\",\"2023-05-23T00:00:00\",\"2023-05-24T00:00:00\",\"2023-05-25T00:00:00\",\"2023-05-26T00:00:00\",\"2023-05-30T00:00:00\",\"2023-05-31T00:00:00\",\"2023-06-01T00:00:00\",\"2023-06-02T00:00:00\",\"2023-06-05T00:00:00\",\"2023-06-06T00:00:00\",\"2023-06-07T00:00:00\",\"2023-06-08T00:00:00\",\"2023-06-09T00:00:00\",\"2023-06-12T00:00:00\",\"2023-06-13T00:00:00\",\"2023-06-14T00:00:00\",\"2023-06-15T00:00:00\",\"2023-06-16T00:00:00\",\"2023-06-20T00:00:00\",\"2023-06-21T00:00:00\",\"2023-06-22T00:00:00\",\"2023-06-23T00:00:00\",\"2023-06-26T00:00:00\",\"2023-06-27T00:00:00\",\"2023-06-28T00:00:00\",\"2023-06-29T00:00:00\",\"2023-06-30T00:00:00\",\"2023-07-03T00:00:00\",\"2023-07-05T00:00:00\",\"2023-07-06T00:00:00\",\"2023-07-07T00:00:00\",\"2023-07-10T00:00:00\",\"2023-07-11T00:00:00\",\"2023-07-12T00:00:00\",\"2023-07-13T00:00:00\",\"2023-07-14T00:00:00\",\"2023-07-17T00:00:00\",\"2023-07-18T00:00:00\",\"2023-07-19T00:00:00\",\"2023-07-20T00:00:00\",\"2023-07-21T00:00:00\",\"2023-07-24T00:00:00\",\"2023-07-25T00:00:00\",\"2023-07-26T00:00:00\",\"2023-07-27T00:00:00\",\"2023-07-28T00:00:00\",\"2023-07-31T00:00:00\",\"2023-08-01T00:00:00\",\"2023-08-02T00:00:00\",\"2023-08-03T00:00:00\",\"2023-08-04T00:00:00\",\"2023-08-07T00:00:00\",\"2023-08-08T00:00:00\",\"2023-08-09T00:00:00\",\"2023-08-10T00:00:00\",\"2023-08-11T00:00:00\",\"2023-08-14T00:00:00\",\"2023-08-15T00:00:00\",\"2023-08-16T00:00:00\",\"2023-08-17T00:00:00\",\"2023-08-18T00:00:00\",\"2023-08-21T00:00:00\",\"2023-08-22T00:00:00\",\"2023-08-23T00:00:00\",\"2023-08-24T00:00:00\",\"2023-08-25T00:00:00\",\"2023-08-28T00:00:00\",\"2023-08-29T00:00:00\",\"2023-08-30T00:00:00\",\"2023-08-31T00:00:00\",\"2023-09-01T00:00:00\",\"2023-09-05T00:00:00\",\"2023-09-06T00:00:00\",\"2023-09-07T00:00:00\",\"2023-09-08T00:00:00\",\"2023-09-11T00:00:00\",\"2023-09-12T00:00:00\",\"2023-09-13T00:00:00\",\"2023-09-14T00:00:00\",\"2023-09-15T00:00:00\",\"2023-09-18T00:00:00\",\"2023-09-19T00:00:00\",\"2023-09-20T00:00:00\",\"2023-09-21T00:00:00\",\"2023-09-22T00:00:00\",\"2023-09-25T00:00:00\",\"2023-09-26T00:00:00\",\"2023-09-27T00:00:00\",\"2023-09-28T00:00:00\",\"2023-09-29T00:00:00\",\"2023-10-02T00:00:00\",\"2023-10-03T00:00:00\",\"2023-10-04T00:00:00\",\"2023-10-05T00:00:00\",\"2023-10-06T00:00:00\",\"2023-10-09T00:00:00\",\"2023-10-10T00:00:00\",\"2023-10-11T00:00:00\",\"2023-10-12T00:00:00\",\"2023-10-13T00:00:00\",\"2023-10-16T00:00:00\",\"2023-10-17T00:00:00\",\"2023-10-18T00:00:00\",\"2023-10-19T00:00:00\",\"2023-10-20T00:00:00\",\"2023-10-23T00:00:00\",\"2023-10-24T00:00:00\",\"2023-10-25T00:00:00\",\"2023-10-26T00:00:00\",\"2023-10-27T00:00:00\",\"2023-10-30T00:00:00\",\"2023-10-31T00:00:00\",\"2023-11-01T00:00:00\",\"2023-11-02T00:00:00\",\"2023-11-03T00:00:00\",\"2023-11-06T00:00:00\",\"2023-11-07T00:00:00\",\"2023-11-08T00:00:00\",\"2023-11-09T00:00:00\",\"2023-11-10T00:00:00\",\"2023-11-13T00:00:00\",\"2023-11-14T00:00:00\",\"2023-11-15T00:00:00\",\"2023-11-16T00:00:00\",\"2023-11-17T00:00:00\",\"2023-11-20T00:00:00\",\"2023-11-21T00:00:00\",\"2023-11-22T00:00:00\",\"2023-11-24T00:00:00\",\"2023-11-27T00:00:00\",\"2023-11-28T00:00:00\",\"2023-11-29T00:00:00\",\"2023-11-30T00:00:00\",\"2023-12-01T00:00:00\",\"2023-12-04T00:00:00\",\"2023-12-05T00:00:00\",\"2023-12-06T00:00:00\",\"2023-12-07T00:00:00\",\"2023-12-08T00:00:00\",\"2023-12-11T00:00:00\",\"2023-12-12T00:00:00\",\"2023-12-13T00:00:00\",\"2023-12-14T00:00:00\",\"2023-12-15T00:00:00\",\"2023-12-18T00:00:00\",\"2023-12-19T00:00:00\",\"2023-12-20T00:00:00\",\"2023-12-21T00:00:00\",\"2023-12-22T00:00:00\",\"2023-12-26T00:00:00\",\"2023-12-27T00:00:00\",\"2023-12-28T00:00:00\",\"2023-12-29T00:00:00\"],\"y\":[346.2200012207031,347.70001220703125,343.760009765625,348.0799865722656,353.0,357.3599853515625,364.4800109863281,369.94000244140625,374.0,349.9200134277344,349.0899963378906,350.75,341.8399963378906,349.1400146484375,348.3299865722656,349.6300048828125,354.9700012207031,353.70001220703125,357.4599914550781,365.80999755859375,365.7099914550781,369.4700012207031,369.95001220703125,370.79998779296875,374.3999938964844,375.1000061035156,367.989990234375,371.2799987792969,374.0199890136719,371.7799987792969,374.3399963378906,370.20001220703125,368.5,361.1199951171875,360.8900146484375,363.5400085449219,363.8500061035156,365.5299987792969,351.6499938964844,346.2300109863281,349.1000061035156,357.0899963378906,357.04998779296875,346.0799865722656,349.2900085449219,342.0899963378906,327.6700134277344,315.510009765625,322.1499938964844,312.19000244140625,315.0899963378906,303.5400085449219,309.5299987792969,317.2799987792969,313.6700134277344,314.8500061035156,312.57000732421875,318.5299987792969,318.44000244140625,320.7200012207031,321.1400146484375,327.1099853515625,326.5199890136719,322.6499938964844,321.5299987792969,322.3999938964844,324.9599914550781,327.3699951171875,330.239990234375,332.1300048828125,336.9200134277344,339.67999267578125,333.9100036621094,336.8900146484375,338.7099914550781,341.6600036621094,343.9599914550781,339.4800109863281,336.55999755859375,341.6000061035156,343.44000244140625,340.57000732421875,333.3699951171875,328.6499938964844,321.260009765625,327.0199890136719,326.510009765625,324.7699890136719,322.54998779296875,320.7200012207031,319.5,322.07000732421875,320.80999755859375,330.17999267578125,329.5799865722656,326.1499938964844,324.9200134277344,323.57000732421875,319.80999755859375,323.8800048828125,332.010009765625,330.8299865722656,323.8999938964844,316.3999938964844,323.6499938964844,321.80999755859375,326.79998779296875,335.75,335.4700012207031,336.0199890136719,339.489990234375,342.5,338.4200134277344,339.739990234375,338.30999755859375,330.7200012207031,325.07000732421875,319.5799865722656,314.7099914550781,312.3599853515625,313.45001220703125,313.6600036621094,323.0899963378906,322.5400085449219,326.6099853515625,320.04998779296875,313.0,315.1700134277344,316.4700012207031,320.8800048828125,326.3999938964844,328.67999267578125,326.19000244140625,327.20001220703125,337.2699890136719,340.54998779296875,350.8599853515625,351.9599914550781,358.92999267578125,354.70001220703125,357.55999755859375,354.510009765625,353.2300109863281,355.8699951171875,357.7200012207031,351.1000061035156,353.1600036621094,353.2200012207031,355.55999755859375,348.260009765625,342.69000244140625,340.3999938964844,340.7300109863281,337.739990234375,332.2099914550781,329.1099853515625,327.5199890136719,324.92999267578125,322.05999755859375,318.7900085449219,322.3299865722656,319.9599914550781,320.1499938964844,325.9700012207031,332.54998779296875,328.5799865722656,327.7099914550781,327.3999938964844,323.75,321.1300048828125,321.9599914550781,325.5199890136719,324.6499938964844,330.8999938964844,334.9800109863281,344.57000732421875,342.5400085449219,343.32000732421875,341.8900146484375,336.70001220703125,330.239990234375,327.8900146484375,328.8399963378906,323.82000732421875,321.95001220703125,325.20001220703125,323.57000732421875,318.5,306.1199951171875,308.6000061035156,310.5,312.4800109863281,312.6099853515625,314.7699890136719,313.0199890136719,309.8500061035156,309.29998779296875,314.3900146484375,309.3599853515625,301.9599914550781,299.19000244140625,300.04998779296875,299.2200012207031,299.17999267578125,296.760009765625,296.989990234375,289.9100036621094,300.8299865722656,303.6099853515625,307.1600036621094,313.760009765625,327.6199951171875,323.9100036621094,323.95001220703125,324.55999755859375,320.7799987792969,325.510009765625,326.9100036621094,338.7200012207031,337.6000061035156,336.6700134277344,339.19000244140625,339.45001220703125,334.9700012207031,338.6400146484375,339.1499938964844,337.7099914550781,337.6499938964844,340.260009765625,341.5400085449219,348.42999267578125,349.3900146484375,341.75,341.9700012207031,344.6199951171875,350.8299865722656,351.760009765625,352.6099853515625,362.7300109863281,383.4700012207031,380.510009765625,376.3999938964844,382.45001220703125,377.5199890136719,380.57000732421875,380.6499938964844,381.6099853515625,384.4800109863281,386.4100036621094,385.7699890136719],\"type\":\"scatter\"},{\"mode\":\"lines\",\"name\":\"NFLX\",\"x\":[\"2023-01-03T00:00:00\",\"2023-01-04T00:00:00\",\"2023-01-05T00:00:00\",\"2023-01-06T00:00:00\",\"2023-01-09T00:00:00\",\"2023-01-10T00:00:00\",\"2023-01-11T00:00:00\",\"2023-01-12T00:00:00\",\"2023-01-13T00:00:00\",\"2023-01-17T00:00:00\",\"2023-01-18T00:00:00\",\"2023-01-19T00:00:00\",\"2023-01-20T00:00:00\",\"2023-01-23T00:00:00\",\"2023-01-24T00:00:00\",\"2023-01-25T00:00:00\",\"2023-01-26T00:00:00\",\"2023-01-27T00:00:00\",\"2023-01-30T00:00:00\",\"2023-01-31T00:00:00\",\"2023-02-01T00:00:00\",\"2023-02-02T00:00:00\",\"2023-02-03T00:00:00\",\"2023-02-06T00:00:00\",\"2023-02-07T00:00:00\",\"2023-02-08T00:00:00\",\"2023-02-09T00:00:00\",\"2023-02-10T00:00:00\",\"2023-02-13T00:00:00\",\"2023-02-14T00:00:00\",\"2023-02-15T00:00:00\",\"2023-02-16T00:00:00\",\"2023-02-17T00:00:00\",\"2023-02-21T00:00:00\",\"2023-02-22T00:00:00\",\"2023-02-23T00:00:00\",\"2023-02-24T00:00:00\",\"2023-02-27T00:00:00\",\"2023-02-28T00:00:00\",\"2023-03-01T00:00:00\",\"2023-03-02T00:00:00\",\"2023-03-03T00:00:00\",\"2023-03-06T00:00:00\",\"2023-03-07T00:00:00\",\"2023-03-08T00:00:00\",\"2023-03-09T00:00:00\",\"2023-03-10T00:00:00\",\"2023-03-13T00:00:00\",\"2023-03-14T00:00:00\",\"2023-03-15T00:00:00\",\"2023-03-16T00:00:00\",\"2023-03-17T00:00:00\",\"2023-03-20T00:00:00\",\"2023-03-21T00:00:00\",\"2023-03-22T00:00:00\",\"2023-03-23T00:00:00\",\"2023-03-24T00:00:00\",\"2023-03-27T00:00:00\",\"2023-03-28T00:00:00\",\"2023-03-29T00:00:00\",\"2023-03-30T00:00:00\",\"2023-03-31T00:00:00\",\"2023-04-03T00:00:00\",\"2023-04-04T00:00:00\",\"2023-04-05T00:00:00\",\"2023-04-06T00:00:00\",\"2023-04-10T00:00:00\",\"2023-04-11T00:00:00\",\"2023-04-12T00:00:00\",\"2023-04-13T00:00:00\",\"2023-04-14T00:00:00\",\"2023-04-17T00:00:00\",\"2023-04-18T00:00:00\",\"2023-04-19T00:00:00\",\"2023-04-20T00:00:00\",\"2023-04-21T00:00:00\",\"2023-04-24T00:00:00\",\"2023-04-25T00:00:00\",\"2023-04-26T00:00:00\",\"2023-04-27T00:00:00\",\"2023-04-28T00:00:00\",\"2023-05-01T00:00:00\",\"2023-05-02T00:00:00\",\"2023-05-03T00:00:00\",\"2023-05-04T00:00:00\",\"2023-05-05T00:00:00\",\"2023-05-08T00:00:00\",\"2023-05-09T00:00:00\",\"2023-05-10T00:00:00\",\"2023-05-11T00:00:00\",\"2023-05-12T00:00:00\",\"2023-05-15T00:00:00\",\"2023-05-16T00:00:00\",\"2023-05-17T00:00:00\",\"2023-05-18T00:00:00\",\"2023-05-19T00:00:00\",\"2023-05-22T00:00:00\",\"2023-05-23T00:00:00\",\"2023-05-24T00:00:00\",\"2023-05-25T00:00:00\",\"2023-05-26T00:00:00\",\"2023-05-30T00:00:00\",\"2023-05-31T00:00:00\",\"2023-06-01T00:00:00\",\"2023-06-02T00:00:00\",\"2023-06-05T00:00:00\",\"2023-06-06T00:00:00\",\"2023-06-07T00:00:00\",\"2023-06-08T00:00:00\",\"2023-06-09T00:00:00\",\"2023-06-12T00:00:00\",\"2023-06-13T00:00:00\",\"2023-06-14T00:00:00\",\"2023-06-15T00:00:00\",\"2023-06-16T00:00:00\",\"2023-06-20T00:00:00\",\"2023-06-21T00:00:00\",\"2023-06-22T00:00:00\",\"2023-06-23T00:00:00\",\"2023-06-26T00:00:00\",\"2023-06-27T00:00:00\",\"2023-06-28T00:00:00\",\"2023-06-29T00:00:00\",\"2023-06-30T00:00:00\",\"2023-07-03T00:00:00\",\"2023-07-05T00:00:00\",\"2023-07-06T00:00:00\",\"2023-07-07T00:00:00\",\"2023-07-10T00:00:00\",\"2023-07-11T00:00:00\",\"2023-07-12T00:00:00\",\"2023-07-13T00:00:00\",\"2023-07-14T00:00:00\",\"2023-07-17T00:00:00\",\"2023-07-18T00:00:00\",\"2023-07-19T00:00:00\",\"2023-07-20T00:00:00\",\"2023-07-21T00:00:00\",\"2023-07-24T00:00:00\",\"2023-07-25T00:00:00\",\"2023-07-26T00:00:00\",\"2023-07-27T00:00:00\",\"2023-07-28T00:00:00\",\"2023-07-31T00:00:00\",\"2023-08-01T00:00:00\",\"2023-08-02T00:00:00\",\"2023-08-03T00:00:00\",\"2023-08-04T00:00:00\",\"2023-08-07T00:00:00\",\"2023-08-08T00:00:00\",\"2023-08-09T00:00:00\",\"2023-08-10T00:00:00\",\"2023-08-11T00:00:00\",\"2023-08-14T00:00:00\",\"2023-08-15T00:00:00\",\"2023-08-16T00:00:00\",\"2023-08-17T00:00:00\",\"2023-08-18T00:00:00\",\"2023-08-21T00:00:00\",\"2023-08-22T00:00:00\",\"2023-08-23T00:00:00\",\"2023-08-24T00:00:00\",\"2023-08-25T00:00:00\",\"2023-08-28T00:00:00\",\"2023-08-29T00:00:00\",\"2023-08-30T00:00:00\",\"2023-08-31T00:00:00\",\"2023-09-01T00:00:00\",\"2023-09-05T00:00:00\",\"2023-09-06T00:00:00\",\"2023-09-07T00:00:00\",\"2023-09-08T00:00:00\",\"2023-09-11T00:00:00\",\"2023-09-12T00:00:00\",\"2023-09-13T00:00:00\",\"2023-09-14T00:00:00\",\"2023-09-15T00:00:00\",\"2023-09-18T00:00:00\",\"2023-09-19T00:00:00\",\"2023-09-20T00:00:00\",\"2023-09-21T00:00:00\",\"2023-09-22T00:00:00\",\"2023-09-25T00:00:00\",\"2023-09-26T00:00:00\",\"2023-09-27T00:00:00\",\"2023-09-28T00:00:00\",\"2023-09-29T00:00:00\",\"2023-10-02T00:00:00\",\"2023-10-03T00:00:00\",\"2023-10-04T00:00:00\",\"2023-10-05T00:00:00\",\"2023-10-06T00:00:00\",\"2023-10-09T00:00:00\",\"2023-10-10T00:00:00\",\"2023-10-11T00:00:00\",\"2023-10-12T00:00:00\",\"2023-10-13T00:00:00\",\"2023-10-16T00:00:00\",\"2023-10-17T00:00:00\",\"2023-10-18T00:00:00\",\"2023-10-19T00:00:00\",\"2023-10-20T00:00:00\",\"2023-10-23T00:00:00\",\"2023-10-24T00:00:00\",\"2023-10-25T00:00:00\",\"2023-10-26T00:00:00\",\"2023-10-27T00:00:00\",\"2023-10-30T00:00:00\",\"2023-10-31T00:00:00\",\"2023-11-01T00:00:00\",\"2023-11-02T00:00:00\",\"2023-11-03T00:00:00\",\"2023-11-06T00:00:00\",\"2023-11-07T00:00:00\",\"2023-11-08T00:00:00\",\"2023-11-09T00:00:00\",\"2023-11-10T00:00:00\",\"2023-11-13T00:00:00\",\"2023-11-14T00:00:00\",\"2023-11-15T00:00:00\",\"2023-11-16T00:00:00\",\"2023-11-17T00:00:00\",\"2023-11-20T00:00:00\",\"2023-11-21T00:00:00\",\"2023-11-22T00:00:00\",\"2023-11-24T00:00:00\",\"2023-11-27T00:00:00\",\"2023-11-28T00:00:00\",\"2023-11-29T00:00:00\",\"2023-11-30T00:00:00\",\"2023-12-01T00:00:00\",\"2023-12-04T00:00:00\",\"2023-12-05T00:00:00\",\"2023-12-06T00:00:00\",\"2023-12-07T00:00:00\",\"2023-12-08T00:00:00\",\"2023-12-11T00:00:00\",\"2023-12-12T00:00:00\",\"2023-12-13T00:00:00\",\"2023-12-14T00:00:00\",\"2023-12-15T00:00:00\",\"2023-12-18T00:00:00\",\"2023-12-19T00:00:00\",\"2023-12-20T00:00:00\",\"2023-12-21T00:00:00\",\"2023-12-22T00:00:00\",\"2023-12-26T00:00:00\",\"2023-12-27T00:00:00\",\"2023-12-28T00:00:00\",\"2023-12-29T00:00:00\"],\"y\":[294.95001220703125,309.4100036621094,309.70001220703125,315.54998779296875,315.1700134277344,327.5400085449219,327.260009765625,330.1300048828125,332.82000732421875,326.2200012207031,326.3299865722656,315.7799987792969,342.5,357.4200134277344,363.8299865722656,367.9599914550781,364.8699951171875,360.7699890136719,353.1099853515625,353.8599853515625,361.989990234375,366.8900146484375,365.8999938964844,361.4800109863281,362.95001220703125,366.8299865722656,362.5,347.3599853515625,358.57000732421875,359.9599914550781,361.4200134277344,350.7099914550781,347.9599914550781,337.5,334.8800048828125,323.6499938964844,317.1499938964844,323.0299987792969,322.1300048828125,313.4800109863281,311.8800048828125,315.17999267578125,312.0299987792969,308.4700012207031,311.7900085449219,297.7799987792969,292.760009765625,293.510009765625,294.94000244140625,303.7900085449219,310.05999755859375,303.5,305.1300048828125,305.7900085449219,293.8999938964844,320.3699951171875,328.3900146484375,327.6600036621094,323.5199890136719,332.0299987792969,338.42999267578125,345.4800109863281,348.2799987792969,346.75,342.3500061035156,339.3299865722656,338.989990234375,338.2099914550781,331.0299987792969,346.19000244140625,338.6300048828125,332.7200012207031,333.70001220703125,323.1199951171875,325.3500061035156,327.9800109863281,329.0199890136719,322.54998779296875,321.1499938964844,325.8500061035156,329.92999267578125,324.1199951171875,317.54998779296875,319.29998779296875,320.7799987792969,322.760009765625,331.2099914550781,332.1400146484375,335.4200134277344,344.760009765625,339.8900146484375,335.8900146484375,333.75,339.9599914550781,371.2900085449219,365.3599853515625,363.010009765625,355.989990234375,364.8500061035156,359.0,378.8800048828125,392.9800109863281,395.2300109863281,403.1300048828125,400.4700012207031,403.5400085449219,399.2900085449219,399.7699890136719,409.3699951171875,420.0199890136719,423.9700012207031,435.7300109863281,440.8599853515625,445.2699890136719,431.9599914550781,434.70001220703125,424.45001220703125,422.4800109863281,424.0199890136719,415.94000244140625,417.0799865722656,429.8399963378906,428.239990234375,440.489990234375,441.44000244140625,445.8999938964844,438.8399963378906,438.1000061035156,441.7099914550781,440.2099914550781,444.04998779296875,450.3800048828125,441.9100036621094,450.04998779296875,474.79998779296875,477.5899963378906,437.4200134277344,427.5,428.3699951171875,427.70001220703125,422.6700134277344,413.1700134277344,425.7799987792969,438.9700012207031,438.6199951171875,429.70001220703125,431.0,431.6000061035156,440.760009765625,438.29998779296875,428.8999938964844,429.9800109863281,421.6600036621094,427.7799987792969,423.70001220703125,415.45001220703125,403.0,404.5299987792969,408.2900085449219,413.1700134277344,427.54998779296875,406.92999267578125,416.0299987792969,418.05999755859375,429.989990234375,434.6700134277344,433.67999267578125,439.8800048828125,448.67999267578125,445.760009765625,443.1400146484375,442.79998779296875,445.3599853515625,434.69000244140625,412.239990234375,400.489990234375,396.94000244140625,394.3999938964844,396.20001220703125,386.29998779296875,384.1499938964844,379.80999755859375,384.79998779296875,379.25,377.5899963378906,376.3599853515625,377.6000061035156,380.3299865722656,376.75,376.8999938964844,372.5899963378906,381.510009765625,385.95001220703125,373.32000732421875,365.92999267578125,361.20001220703125,355.67999267578125,360.82000732421875,355.7200012207031,346.19000244140625,401.7699890136719,400.9599914550781,406.8399963378906,413.7300109863281,411.25,403.5400085449219,397.8699951171875,410.0799865722656,411.69000244140625,420.19000244140625,424.7099914550781,432.3599853515625,434.739990234375,434.6099853515625,436.6499938964844,435.1499938964844,447.239990234375,444.6199951171875,448.6499938964844,461.94000244140625,466.95001220703125,465.9100036621094,474.4700012207031,474.95001220703125,478.0,479.55999755859375,479.1700134277344,479.0,477.19000244140625,473.9700012207031,465.739990234375,453.8999938964844,455.1499938964844,446.7300109863281,452.0,453.760009765625,459.8900146484375,463.0,479.9800109863281,469.8299865722656,472.05999755859375,486.1199951171875,495.0199890136719,489.2699890136719,491.6099853515625,486.760009765625,491.19000244140625,491.7900085449219,490.510009765625,486.8800048828125],\"type\":\"scatter\"},{\"mode\":\"lines\",\"name\":\"LMT\",\"x\":[\"2023-01-03T00:00:00\",\"2023-01-04T00:00:00\",\"2023-01-05T00:00:00\",\"2023-01-06T00:00:00\",\"2023-01-09T00:00:00\",\"2023-01-10T00:00:00\",\"2023-01-11T00:00:00\",\"2023-01-12T00:00:00\",\"2023-01-13T00:00:00\",\"2023-01-17T00:00:00\",\"2023-01-18T00:00:00\",\"2023-01-19T00:00:00\",\"2023-01-20T00:00:00\",\"2023-01-23T00:00:00\",\"2023-01-24T00:00:00\",\"2023-01-25T00:00:00\",\"2023-01-26T00:00:00\",\"2023-01-27T00:00:00\",\"2023-01-30T00:00:00\",\"2023-01-31T00:00:00\",\"2023-02-01T00:00:00\",\"2023-02-02T00:00:00\",\"2023-02-03T00:00:00\",\"2023-02-06T00:00:00\",\"2023-02-07T00:00:00\",\"2023-02-08T00:00:00\",\"2023-02-09T00:00:00\",\"2023-02-10T00:00:00\",\"2023-02-13T00:00:00\",\"2023-02-14T00:00:00\",\"2023-02-15T00:00:00\",\"2023-02-16T00:00:00\",\"2023-02-17T00:00:00\",\"2023-02-21T00:00:00\",\"2023-02-22T00:00:00\",\"2023-02-23T00:00:00\",\"2023-02-24T00:00:00\",\"2023-02-27T00:00:00\",\"2023-02-28T00:00:00\",\"2023-03-01T00:00:00\",\"2023-03-02T00:00:00\",\"2023-03-03T00:00:00\",\"2023-03-06T00:00:00\",\"2023-03-07T00:00:00\",\"2023-03-08T00:00:00\",\"2023-03-09T00:00:00\",\"2023-03-10T00:00:00\",\"2023-03-13T00:00:00\",\"2023-03-14T00:00:00\",\"2023-03-15T00:00:00\",\"2023-03-16T00:00:00\",\"2023-03-17T00:00:00\",\"2023-03-20T00:00:00\",\"2023-03-21T00:00:00\",\"2023-03-22T00:00:00\",\"2023-03-23T00:00:00\",\"2023-03-24T00:00:00\",\"2023-03-27T00:00:00\",\"2023-03-28T00:00:00\",\"2023-03-29T00:00:00\",\"2023-03-30T00:00:00\",\"2023-03-31T00:00:00\",\"2023-04-03T00:00:00\",\"2023-04-04T00:00:00\",\"2023-04-05T00:00:00\",\"2023-04-06T00:00:00\",\"2023-04-10T00:00:00\",\"2023-04-11T00:00:00\",\"2023-04-12T00:00:00\",\"2023-04-13T00:00:00\",\"2023-04-14T00:00:00\",\"2023-04-17T00:00:00\",\"2023-04-18T00:00:00\",\"2023-04-19T00:00:00\",\"2023-04-20T00:00:00\",\"2023-04-21T00:00:00\",\"2023-04-24T00:00:00\",\"2023-04-25T00:00:00\",\"2023-04-26T00:00:00\",\"2023-04-27T00:00:00\",\"2023-04-28T00:00:00\",\"2023-05-01T00:00:00\",\"2023-05-02T00:00:00\",\"2023-05-03T00:00:00\",\"2023-05-04T00:00:00\",\"2023-05-05T00:00:00\",\"2023-05-08T00:00:00\",\"2023-05-09T00:00:00\",\"2023-05-10T00:00:00\",\"2023-05-11T00:00:00\",\"2023-05-12T00:00:00\",\"2023-05-15T00:00:00\",\"2023-05-16T00:00:00\",\"2023-05-17T00:00:00\",\"2023-05-18T00:00:00\",\"2023-05-19T00:00:00\",\"2023-05-22T00:00:00\",\"2023-05-23T00:00:00\",\"2023-05-24T00:00:00\",\"2023-05-25T00:00:00\",\"2023-05-26T00:00:00\",\"2023-05-30T00:00:00\",\"2023-05-31T00:00:00\",\"2023-06-01T00:00:00\",\"2023-06-02T00:00:00\",\"2023-06-05T00:00:00\",\"2023-06-06T00:00:00\",\"2023-06-07T00:00:00\",\"2023-06-08T00:00:00\",\"2023-06-09T00:00:00\",\"2023-06-12T00:00:00\",\"2023-06-13T00:00:00\",\"2023-06-14T00:00:00\",\"2023-06-15T00:00:00\",\"2023-06-16T00:00:00\",\"2023-06-20T00:00:00\",\"2023-06-21T00:00:00\",\"2023-06-22T00:00:00\",\"2023-06-23T00:00:00\",\"2023-06-26T00:00:00\",\"2023-06-27T00:00:00\",\"2023-06-28T00:00:00\",\"2023-06-29T00:00:00\",\"2023-06-30T00:00:00\",\"2023-07-03T00:00:00\",\"2023-07-05T00:00:00\",\"2023-07-06T00:00:00\",\"2023-07-07T00:00:00\",\"2023-07-10T00:00:00\",\"2023-07-11T00:00:00\",\"2023-07-12T00:00:00\",\"2023-07-13T00:00:00\",\"2023-07-14T00:00:00\",\"2023-07-17T00:00:00\",\"2023-07-18T00:00:00\",\"2023-07-19T00:00:00\",\"2023-07-20T00:00:00\",\"2023-07-21T00:00:00\",\"2023-07-24T00:00:00\",\"2023-07-25T00:00:00\",\"2023-07-26T00:00:00\",\"2023-07-27T00:00:00\",\"2023-07-28T00:00:00\",\"2023-07-31T00:00:00\",\"2023-08-01T00:00:00\",\"2023-08-02T00:00:00\",\"2023-08-03T00:00:00\",\"2023-08-04T00:00:00\",\"2023-08-07T00:00:00\",\"2023-08-08T00:00:00\",\"2023-08-09T00:00:00\",\"2023-08-10T00:00:00\",\"2023-08-11T00:00:00\",\"2023-08-14T00:00:00\",\"2023-08-15T00:00:00\",\"2023-08-16T00:00:00\",\"2023-08-17T00:00:00\",\"2023-08-18T00:00:00\",\"2023-08-21T00:00:00\",\"2023-08-22T00:00:00\",\"2023-08-23T00:00:00\",\"2023-08-24T00:00:00\",\"2023-08-25T00:00:00\",\"2023-08-28T00:00:00\",\"2023-08-29T00:00:00\",\"2023-08-30T00:00:00\",\"2023-08-31T00:00:00\",\"2023-09-01T00:00:00\",\"2023-09-05T00:00:00\",\"2023-09-06T00:00:00\",\"2023-09-07T00:00:00\",\"2023-09-08T00:00:00\",\"2023-09-11T00:00:00\",\"2023-09-12T00:00:00\",\"2023-09-13T00:00:00\",\"2023-09-14T00:00:00\",\"2023-09-15T00:00:00\",\"2023-09-18T00:00:00\",\"2023-09-19T00:00:00\",\"2023-09-20T00:00:00\",\"2023-09-21T00:00:00\",\"2023-09-22T00:00:00\",\"2023-09-25T00:00:00\",\"2023-09-26T00:00:00\",\"2023-09-27T00:00:00\",\"2023-09-28T00:00:00\",\"2023-09-29T00:00:00\",\"2023-10-02T00:00:00\",\"2023-10-03T00:00:00\",\"2023-10-04T00:00:00\",\"2023-10-05T00:00:00\",\"2023-10-06T00:00:00\",\"2023-10-09T00:00:00\",\"2023-10-10T00:00:00\",\"2023-10-11T00:00:00\",\"2023-10-12T00:00:00\",\"2023-10-13T00:00:00\",\"2023-10-16T00:00:00\",\"2023-10-17T00:00:00\",\"2023-10-18T00:00:00\",\"2023-10-19T00:00:00\",\"2023-10-20T00:00:00\",\"2023-10-23T00:00:00\",\"2023-10-24T00:00:00\",\"2023-10-25T00:00:00\",\"2023-10-26T00:00:00\",\"2023-10-27T00:00:00\",\"2023-10-30T00:00:00\",\"2023-10-31T00:00:00\",\"2023-11-01T00:00:00\",\"2023-11-02T00:00:00\",\"2023-11-03T00:00:00\",\"2023-11-06T00:00:00\",\"2023-11-07T00:00:00\",\"2023-11-08T00:00:00\",\"2023-11-09T00:00:00\",\"2023-11-10T00:00:00\",\"2023-11-13T00:00:00\",\"2023-11-14T00:00:00\",\"2023-11-15T00:00:00\",\"2023-11-16T00:00:00\",\"2023-11-17T00:00:00\",\"2023-11-20T00:00:00\",\"2023-11-21T00:00:00\",\"2023-11-22T00:00:00\",\"2023-11-24T00:00:00\",\"2023-11-27T00:00:00\",\"2023-11-28T00:00:00\",\"2023-11-29T00:00:00\",\"2023-11-30T00:00:00\",\"2023-12-01T00:00:00\",\"2023-12-04T00:00:00\",\"2023-12-05T00:00:00\",\"2023-12-06T00:00:00\",\"2023-12-07T00:00:00\",\"2023-12-08T00:00:00\",\"2023-12-11T00:00:00\",\"2023-12-12T00:00:00\",\"2023-12-13T00:00:00\",\"2023-12-14T00:00:00\",\"2023-12-15T00:00:00\",\"2023-12-18T00:00:00\",\"2023-12-19T00:00:00\",\"2023-12-20T00:00:00\",\"2023-12-21T00:00:00\",\"2023-12-22T00:00:00\",\"2023-12-26T00:00:00\",\"2023-12-27T00:00:00\",\"2023-12-28T00:00:00\",\"2023-12-29T00:00:00\"],\"y\":[477.5299987792969,476.5,477.07000732421875,473.239990234375,458.989990234375,462.2900085449219,463.0,461.739990234375,449.8299865722656,447.1600036621094,441.2699890136719,439.30999755859375,443.2799987792969,441.2799987792969,449.2300109863281,454.1600036621094,459.80999755859375,459.6000061035156,460.5899963378906,463.260009765625,462.25,457.19000244140625,459.0799865722656,469.1000061035156,468.3299865722656,469.6499938964844,470.0899963378906,480.8299865722656,481.9700012207031,481.5799865722656,480.510009765625,471.25,475.6300048828125,479.19000244140625,479.5299987792969,479.0799865722656,480.3999938964844,479.489990234375,474.260009765625,474.3299865722656,478.30999755859375,477.8900146484375,480.1700134277344,478.6600036621094,479.5,475.8500061035156,475.5,477.3299865722656,478.8699951171875,473.30999755859375,473.239990234375,465.8699951171875,475.70001220703125,474.760009765625,468.8999938964844,467.8999938964844,474.5400085449219,473.3900146484375,471.44000244140625,474.19000244140625,473.17999267578125,472.7300109863281,486.6199951171875,488.5400085449219,489.989990234375,490.1700134277344,496.75,487.8399963378906,488.1000061035156,492.1400146484375,487.989990234375,489.6400146484375,501.4100036621094,495.1600036621094,490.6000061035156,482.54998779296875,480.9200134277344,475.5799865722656,461.6199951171875,465.0,464.45001220703125,469.42999267578125,458.8900146484375,453.07000732421875,451.92999267578125,455.5400085449219,450.9599914550781,452.0400085449219,453.1499938964844,450.69000244140625,450.7900085449219,451.9200134277344,447.7300109863281,457.29998779296875,455.75,454.489990234375,454.7200012207031,452.6300048828125,452.7200012207031,442.8299865722656,448.45001220703125,447.9700012207031,444.010009765625,449.6700134277344,454.489990234375,454.69000244140625,458.6300048828125,461.75,464.1700134277344,462.69000244140625,459.8699951171875,452.3699951171875,452.54998779296875,455.95001220703125,459.1700134277344,458.3800048828125,466.0400085449219,463.42999267578125,459.3599853515625,452.79998779296875,453.1499938964844,449.6600036621094,457.44000244140625,460.3800048828125,462.5799865722656,462.760009765625,461.6400146484375,458.7099914550781,460.3800048828125,466.2900085449219,461.9599914550781,466.3800048828125,464.30999755859375,469.9700012207031,455.70001220703125,451.510009765625,456.010009765625,454.760009765625,456.79998779296875,454.1499938964844,452.80999755859375,448.6400146484375,449.0,446.3699951171875,451.2799987792969,448.55999755859375,447.9200134277344,445.7200012207031,449.7799987792969,449.4700012207031,452.80999755859375,450.04998779296875,454.04998779296875,450.0799865722656,443.5799865722656,445.1300048828125,446.67999267578125,450.05999755859375,451.489990234375,452.94000244140625,454.57000732421875,452.54998779296875,451.0899963378906,452.32000732421875,448.3999938964844,452.4100036621094,448.3500061035156,448.17999267578125,445.19000244140625,423.94000244140625,425.94000244140625,423.0899963378906,420.6600036621094,417.8299865722656,420.989990234375,425.8900146484375,424.04998779296875,429.8599853515625,425.30999755859375,426.95001220703125,417.5400085449219,413.6499938964844,412.8999938964844,408.75,408.7200012207031,410.9599914550781,408.9599914550781,407.82000732421875,403.8299865722656,401.3299865722656,397.3500061035156,400.7300109863281,436.5299987792969,435.1000061035156,436.6499938964844,434.1400146484375,441.05999755859375,440.4100036621094,441.1300048828125,446.07000732421875,449.17999267578125,444.1700134277344,446.1600036621094,440.8999938964844,447.69000244140625,445.9700012207031,443.3900146484375,445.8399963378906,454.6400146484375,452.3800048828125,458.0400085449219,453.3399963378906,451.1600036621094,450.1499938964844,444.6600036621094,442.4599914550781,444.8699951171875,445.0299987792969,444.2200012207031,445.1400146484375,445.5899963378906,444.67999267578125,443.80999755859375,448.1499938964844,450.3999938964844,452.010009765625,445.489990234375,448.2699890136719,445.010009765625,447.7699890136719,449.4100036621094,450.69000244140625,446.239990234375,449.4100036621094,447.1099853515625,448.0199890136719,451.260009765625,451.6300048828125,451.44000244140625,445.2699890136719,441.80999755859375,446.9100036621094,447.7900085449219,442.6000061035156,448.0199890136719,448.2200012207031,450.17999267578125,448.9700012207031,451.2300109863281,453.239990234375],\"type\":\"scatter\"},{\"mode\":\"lines\",\"name\":\"MCD\",\"x\":[\"2023-01-03T00:00:00\",\"2023-01-04T00:00:00\",\"2023-01-05T00:00:00\",\"2023-01-06T00:00:00\",\"2023-01-09T00:00:00\",\"2023-01-10T00:00:00\",\"2023-01-11T00:00:00\",\"2023-01-12T00:00:00\",\"2023-01-13T00:00:00\",\"2023-01-17T00:00:00\",\"2023-01-18T00:00:00\",\"2023-01-19T00:00:00\",\"2023-01-20T00:00:00\",\"2023-01-23T00:00:00\",\"2023-01-24T00:00:00\",\"2023-01-25T00:00:00\",\"2023-01-26T00:00:00\",\"2023-01-27T00:00:00\",\"2023-01-30T00:00:00\",\"2023-01-31T00:00:00\",\"2023-02-01T00:00:00\",\"2023-02-02T00:00:00\",\"2023-02-03T00:00:00\",\"2023-02-06T00:00:00\",\"2023-02-07T00:00:00\",\"2023-02-08T00:00:00\",\"2023-02-09T00:00:00\",\"2023-02-10T00:00:00\",\"2023-02-13T00:00:00\",\"2023-02-14T00:00:00\",\"2023-02-15T00:00:00\",\"2023-02-16T00:00:00\",\"2023-02-17T00:00:00\",\"2023-02-21T00:00:00\",\"2023-02-22T00:00:00\",\"2023-02-23T00:00:00\",\"2023-02-24T00:00:00\",\"2023-02-27T00:00:00\",\"2023-02-28T00:00:00\",\"2023-03-01T00:00:00\",\"2023-03-02T00:00:00\",\"2023-03-03T00:00:00\",\"2023-03-06T00:00:00\",\"2023-03-07T00:00:00\",\"2023-03-08T00:00:00\",\"2023-03-09T00:00:00\",\"2023-03-10T00:00:00\",\"2023-03-13T00:00:00\",\"2023-03-14T00:00:00\",\"2023-03-15T00:00:00\",\"2023-03-16T00:00:00\",\"2023-03-17T00:00:00\",\"2023-03-20T00:00:00\",\"2023-03-21T00:00:00\",\"2023-03-22T00:00:00\",\"2023-03-23T00:00:00\",\"2023-03-24T00:00:00\",\"2023-03-27T00:00:00\",\"2023-03-28T00:00:00\",\"2023-03-29T00:00:00\",\"2023-03-30T00:00:00\",\"2023-03-31T00:00:00\",\"2023-04-03T00:00:00\",\"2023-04-04T00:00:00\",\"2023-04-05T00:00:00\",\"2023-04-06T00:00:00\",\"2023-04-10T00:00:00\",\"2023-04-11T00:00:00\",\"2023-04-12T00:00:00\",\"2023-04-13T00:00:00\",\"2023-04-14T00:00:00\",\"2023-04-17T00:00:00\",\"2023-04-18T00:00:00\",\"2023-04-19T00:00:00\",\"2023-04-20T00:00:00\",\"2023-04-21T00:00:00\",\"2023-04-24T00:00:00\",\"2023-04-25T00:00:00\",\"2023-04-26T00:00:00\",\"2023-04-27T00:00:00\",\"2023-04-28T00:00:00\",\"2023-05-01T00:00:00\",\"2023-05-02T00:00:00\",\"2023-05-03T00:00:00\",\"2023-05-04T00:00:00\",\"2023-05-05T00:00:00\",\"2023-05-08T00:00:00\",\"2023-05-09T00:00:00\",\"2023-05-10T00:00:00\",\"2023-05-11T00:00:00\",\"2023-05-12T00:00:00\",\"2023-05-15T00:00:00\",\"2023-05-16T00:00:00\",\"2023-05-17T00:00:00\",\"2023-05-18T00:00:00\",\"2023-05-19T00:00:00\",\"2023-05-22T00:00:00\",\"2023-05-23T00:00:00\",\"2023-05-24T00:00:00\",\"2023-05-25T00:00:00\",\"2023-05-26T00:00:00\",\"2023-05-30T00:00:00\",\"2023-05-31T00:00:00\",\"2023-06-01T00:00:00\",\"2023-06-02T00:00:00\",\"2023-06-05T00:00:00\",\"2023-06-06T00:00:00\",\"2023-06-07T00:00:00\",\"2023-06-08T00:00:00\",\"2023-06-09T00:00:00\",\"2023-06-12T00:00:00\",\"2023-06-13T00:00:00\",\"2023-06-14T00:00:00\",\"2023-06-15T00:00:00\",\"2023-06-16T00:00:00\",\"2023-06-20T00:00:00\",\"2023-06-21T00:00:00\",\"2023-06-22T00:00:00\",\"2023-06-23T00:00:00\",\"2023-06-26T00:00:00\",\"2023-06-27T00:00:00\",\"2023-06-28T00:00:00\",\"2023-06-29T00:00:00\",\"2023-06-30T00:00:00\",\"2023-07-03T00:00:00\",\"2023-07-05T00:00:00\",\"2023-07-06T00:00:00\",\"2023-07-07T00:00:00\",\"2023-07-10T00:00:00\",\"2023-07-11T00:00:00\",\"2023-07-12T00:00:00\",\"2023-07-13T00:00:00\",\"2023-07-14T00:00:00\",\"2023-07-17T00:00:00\",\"2023-07-18T00:00:00\",\"2023-07-19T00:00:00\",\"2023-07-20T00:00:00\",\"2023-07-21T00:00:00\",\"2023-07-24T00:00:00\",\"2023-07-25T00:00:00\",\"2023-07-26T00:00:00\",\"2023-07-27T00:00:00\",\"2023-07-28T00:00:00\",\"2023-07-31T00:00:00\",\"2023-08-01T00:00:00\",\"2023-08-02T00:00:00\",\"2023-08-03T00:00:00\",\"2023-08-04T00:00:00\",\"2023-08-07T00:00:00\",\"2023-08-08T00:00:00\",\"2023-08-09T00:00:00\",\"2023-08-10T00:00:00\",\"2023-08-11T00:00:00\",\"2023-08-14T00:00:00\",\"2023-08-15T00:00:00\",\"2023-08-16T00:00:00\",\"2023-08-17T00:00:00\",\"2023-08-18T00:00:00\",\"2023-08-21T00:00:00\",\"2023-08-22T00:00:00\",\"2023-08-23T00:00:00\",\"2023-08-24T00:00:00\",\"2023-08-25T00:00:00\",\"2023-08-28T00:00:00\",\"2023-08-29T00:00:00\",\"2023-08-30T00:00:00\",\"2023-08-31T00:00:00\",\"2023-09-01T00:00:00\",\"2023-09-05T00:00:00\",\"2023-09-06T00:00:00\",\"2023-09-07T00:00:00\",\"2023-09-08T00:00:00\",\"2023-09-11T00:00:00\",\"2023-09-12T00:00:00\",\"2023-09-13T00:00:00\",\"2023-09-14T00:00:00\",\"2023-09-15T00:00:00\",\"2023-09-18T00:00:00\",\"2023-09-19T00:00:00\",\"2023-09-20T00:00:00\",\"2023-09-21T00:00:00\",\"2023-09-22T00:00:00\",\"2023-09-25T00:00:00\",\"2023-09-26T00:00:00\",\"2023-09-27T00:00:00\",\"2023-09-28T00:00:00\",\"2023-09-29T00:00:00\",\"2023-10-02T00:00:00\",\"2023-10-03T00:00:00\",\"2023-10-04T00:00:00\",\"2023-10-05T00:00:00\",\"2023-10-06T00:00:00\",\"2023-10-09T00:00:00\",\"2023-10-10T00:00:00\",\"2023-10-11T00:00:00\",\"2023-10-12T00:00:00\",\"2023-10-13T00:00:00\",\"2023-10-16T00:00:00\",\"2023-10-17T00:00:00\",\"2023-10-18T00:00:00\",\"2023-10-19T00:00:00\",\"2023-10-20T00:00:00\",\"2023-10-23T00:00:00\",\"2023-10-24T00:00:00\",\"2023-10-25T00:00:00\",\"2023-10-26T00:00:00\",\"2023-10-27T00:00:00\",\"2023-10-30T00:00:00\",\"2023-10-31T00:00:00\",\"2023-11-01T00:00:00\",\"2023-11-02T00:00:00\",\"2023-11-03T00:00:00\",\"2023-11-06T00:00:00\",\"2023-11-07T00:00:00\",\"2023-11-08T00:00:00\",\"2023-11-09T00:00:00\",\"2023-11-10T00:00:00\",\"2023-11-13T00:00:00\",\"2023-11-14T00:00:00\",\"2023-11-15T00:00:00\",\"2023-11-16T00:00:00\",\"2023-11-17T00:00:00\",\"2023-11-20T00:00:00\",\"2023-11-21T00:00:00\",\"2023-11-22T00:00:00\",\"2023-11-24T00:00:00\",\"2023-11-27T00:00:00\",\"2023-11-28T00:00:00\",\"2023-11-29T00:00:00\",\"2023-11-30T00:00:00\",\"2023-12-01T00:00:00\",\"2023-12-04T00:00:00\",\"2023-12-05T00:00:00\",\"2023-12-06T00:00:00\",\"2023-12-07T00:00:00\",\"2023-12-08T00:00:00\",\"2023-12-11T00:00:00\",\"2023-12-12T00:00:00\",\"2023-12-13T00:00:00\",\"2023-12-14T00:00:00\",\"2023-12-15T00:00:00\",\"2023-12-18T00:00:00\",\"2023-12-19T00:00:00\",\"2023-12-20T00:00:00\",\"2023-12-21T00:00:00\",\"2023-12-22T00:00:00\",\"2023-12-26T00:00:00\",\"2023-12-27T00:00:00\",\"2023-12-28T00:00:00\",\"2023-12-29T00:00:00\"],\"y\":[264.3299865722656,264.3900146484375,262.1600036621094,269.4700012207031,267.25,268.9100036621094,268.80999755859375,266.69000244140625,268.8900146484375,274.1099853515625,266.0400085449219,263.5799865722656,268.5799865722656,269.2900085449219,269.55999755859375,273.0,274.7200012207031,272.4599914550781,270.8900146484375,267.3999938964844,266.2699890136719,263.2099914550781,264.2300109863281,267.9200134277344,267.3399963378906,262.82000732421875,260.6600036621094,262.4200134277344,266.20001220703125,266.6099853515625,266.55999755859375,265.8299865722656,269.989990234375,268.54998779296875,268.6400146484375,266.7799987792969,263.67999267578125,264.7799987792969,263.9100036621094,262.7200012207031,267.57000732421875,269.07000732421875,270.6400146484375,267.1300048828125,265.3299865722656,261.6300048828125,262.0299987792969,263.0799865722656,265.8999938964844,266.3399963378906,270.57000732421875,267.20001220703125,270.739990234375,270.2099914550781,267.8699951171875,269.6199951171875,271.3299865722656,273.8399963378906,275.8500061035156,277.44000244140625,277.7900085449219,279.6099853515625,282.1400146484375,282.2799987792969,282.0199890136719,282.8900146484375,283.7799987792969,284.4800109863281,285.29998779296875,289.07000732421875,288.9800109863281,289.30999755859375,290.9100036621094,291.2699890136719,291.0,292.05999755859375,293.20001220703125,291.510009765625,289.760009765625,294.7200012207031,295.75,297.5799865722656,298.07000732421875,295.2200012207031,295.1600036621094,296.6000061035156,296.69000244140625,296.6600036621094,296.57000732421875,294.7900085449219,296.1400146484375,295.8999938964844,294.1499938964844,293.4599914550781,294.04998779296875,295.54998779296875,289.3500061035156,286.3699951171875,285.9200134277344,285.5199890136719,286.0400085449219,284.9200134277344,285.1099853515625,287.8699951171875,289.9100036621094,288.42999267578125,284.5400085449219,281.8999938964844,285.7799987792969,286.7900085449219,288.57000732421875,288.54998779296875,288.44000244140625,292.6099853515625,293.70001220703125,293.0400085449219,294.5199890136719,293.29998779296875,289.9100036621094,289.0899963378906,291.29998779296875,291.739990234375,294.4700012207031,298.4100036621094,294.8399963378906,296.8999938964844,294.9200134277344,292.1000061035156,294.489990234375,294.739990234375,295.6099853515625,295.2200012207031,294.94000244140625,294.67999267578125,293.82000732421875,294.1300048828125,297.1300048828125,295.6099853515625,295.30999755859375,292.3599853515625,291.75,295.19000244140625,294.0299987792969,293.20001220703125,291.07000732421875,289.6199951171875,291.0199890136719,287.0199890136719,291.3999938964844,289.5799865722656,288.2300109863281,287.6000061035156,288.6199951171875,288.80999755859375,288.29998779296875,285.3999938964844,281.8599853515625,281.739990234375,280.0400085449219,280.30999755859375,281.8699951171875,282.3500061035156,284.5799865722656,283.67999267578125,283.5899963378906,284.239990234375,281.1499938964844,280.94000244140625,279.1600036621094,275.44000244140625,278.3299865722656,279.2200012207031,279.760009765625,280.7099914550781,281.7699890136719,284.760009765625,278.2300109863281,277.7200012207031,278.1300048828125,277.20001220703125,271.2200012207031,272.2200012207031,269.7799987792969,267.7200012207031,263.6400146484375,265.5899963378906,263.44000244140625,257.75,254.49000549316406,255.80999755859375,252.22999572753906,248.22000122070312,249.9199981689453,251.52000427246094,250.9199981689453,246.19000244140625,248.30999755859375,249.94000244140625,251.13999938964844,256.0299987792969,258.3800048828125,258.1099853515625,254.75,257.2699890136719,258.0299987792969,255.8300018310547,255.75999450683594,260.1499938964844,262.1700134277344,261.9700012207031,266.8500061035156,267.8699951171875,268.9100036621094,268.6700134277344,267.489990234375,266.9100036621094,267.7900085449219,269.20001220703125,271.489990234375,270.3900146484375,276.1199951171875,275.75,279.0299987792969,280.4700012207031,281.92999267578125,282.5400085449219,281.8399963378906,282.0899963378906,280.3800048828125,281.8399963378906,285.9599914550781,286.1300048828125,286.5400085449219,286.8599853515625,286.7900085449219,285.5299987792969,289.1499938964844,291.4200134277344,295.92999267578125,290.0199890136719,287.2699890136719,290.2300109863281,290.7300109863281,288.989990234375,291.3900146484375,291.70001220703125,292.8599853515625,294.54998779296875,295.8399963378906,296.510009765625],\"type\":\"scatter\"}],                        {\"template\":{\"data\":{\"barpolar\":[{\"marker\":{\"line\":{\"color\":\"white\",\"width\":0.5},\"pattern\":{\"fillmode\":\"overlay\",\"size\":10,\"solidity\":0.2}},\"type\":\"barpolar\"}],\"bar\":[{\"error_x\":{\"color\":\"#2a3f5f\"},\"error_y\":{\"color\":\"#2a3f5f\"},\"marker\":{\"line\":{\"color\":\"white\",\"width\":0.5},\"pattern\":{\"fillmode\":\"overlay\",\"size\":10,\"solidity\":0.2}},\"type\":\"bar\"}],\"carpet\":[{\"aaxis\":{\"endlinecolor\":\"#2a3f5f\",\"gridcolor\":\"#C8D4E3\",\"linecolor\":\"#C8D4E3\",\"minorgridcolor\":\"#C8D4E3\",\"startlinecolor\":\"#2a3f5f\"},\"baxis\":{\"endlinecolor\":\"#2a3f5f\",\"gridcolor\":\"#C8D4E3\",\"linecolor\":\"#C8D4E3\",\"minorgridcolor\":\"#C8D4E3\",\"startlinecolor\":\"#2a3f5f\"},\"type\":\"carpet\"}],\"choropleth\":[{\"colorbar\":{\"outlinewidth\":0,\"ticks\":\"\"},\"type\":\"choropleth\"}],\"contourcarpet\":[{\"colorbar\":{\"outlinewidth\":0,\"ticks\":\"\"},\"type\":\"contourcarpet\"}],\"contour\":[{\"colorbar\":{\"outlinewidth\":0,\"ticks\":\"\"},\"colorscale\":[[0.0,\"#0d0887\"],[0.1111111111111111,\"#46039f\"],[0.2222222222222222,\"#7201a8\"],[0.3333333333333333,\"#9c179e\"],[0.4444444444444444,\"#bd3786\"],[0.5555555555555556,\"#d8576b\"],[0.6666666666666666,\"#ed7953\"],[0.7777777777777778,\"#fb9f3a\"],[0.8888888888888888,\"#fdca26\"],[1.0,\"#f0f921\"]],\"type\":\"contour\"}],\"heatmapgl\":[{\"colorbar\":{\"outlinewidth\":0,\"ticks\":\"\"},\"colorscale\":[[0.0,\"#0d0887\"],[0.1111111111111111,\"#46039f\"],[0.2222222222222222,\"#7201a8\"],[0.3333333333333333,\"#9c179e\"],[0.4444444444444444,\"#bd3786\"],[0.5555555555555556,\"#d8576b\"],[0.6666666666666666,\"#ed7953\"],[0.7777777777777778,\"#fb9f3a\"],[0.8888888888888888,\"#fdca26\"],[1.0,\"#f0f921\"]],\"type\":\"heatmapgl\"}],\"heatmap\":[{\"colorbar\":{\"outlinewidth\":0,\"ticks\":\"\"},\"colorscale\":[[0.0,\"#0d0887\"],[0.1111111111111111,\"#46039f\"],[0.2222222222222222,\"#7201a8\"],[0.3333333333333333,\"#9c179e\"],[0.4444444444444444,\"#bd3786\"],[0.5555555555555556,\"#d8576b\"],[0.6666666666666666,\"#ed7953\"],[0.7777777777777778,\"#fb9f3a\"],[0.8888888888888888,\"#fdca26\"],[1.0,\"#f0f921\"]],\"type\":\"heatmap\"}],\"histogram2dcontour\":[{\"colorbar\":{\"outlinewidth\":0,\"ticks\":\"\"},\"colorscale\":[[0.0,\"#0d0887\"],[0.1111111111111111,\"#46039f\"],[0.2222222222222222,\"#7201a8\"],[0.3333333333333333,\"#9c179e\"],[0.4444444444444444,\"#bd3786\"],[0.5555555555555556,\"#d8576b\"],[0.6666666666666666,\"#ed7953\"],[0.7777777777777778,\"#fb9f3a\"],[0.8888888888888888,\"#fdca26\"],[1.0,\"#f0f921\"]],\"type\":\"histogram2dcontour\"}],\"histogram2d\":[{\"colorbar\":{\"outlinewidth\":0,\"ticks\":\"\"},\"colorscale\":[[0.0,\"#0d0887\"],[0.1111111111111111,\"#46039f\"],[0.2222222222222222,\"#7201a8\"],[0.3333333333333333,\"#9c179e\"],[0.4444444444444444,\"#bd3786\"],[0.5555555555555556,\"#d8576b\"],[0.6666666666666666,\"#ed7953\"],[0.7777777777777778,\"#fb9f3a\"],[0.8888888888888888,\"#fdca26\"],[1.0,\"#f0f921\"]],\"type\":\"histogram2d\"}],\"histogram\":[{\"marker\":{\"pattern\":{\"fillmode\":\"overlay\",\"size\":10,\"solidity\":0.2}},\"type\":\"histogram\"}],\"mesh3d\":[{\"colorbar\":{\"outlinewidth\":0,\"ticks\":\"\"},\"type\":\"mesh3d\"}],\"parcoords\":[{\"line\":{\"colorbar\":{\"outlinewidth\":0,\"ticks\":\"\"}},\"type\":\"parcoords\"}],\"pie\":[{\"automargin\":true,\"type\":\"pie\"}],\"scatter3d\":[{\"line\":{\"colorbar\":{\"outlinewidth\":0,\"ticks\":\"\"}},\"marker\":{\"colorbar\":{\"outlinewidth\":0,\"ticks\":\"\"}},\"type\":\"scatter3d\"}],\"scattercarpet\":[{\"marker\":{\"colorbar\":{\"outlinewidth\":0,\"ticks\":\"\"}},\"type\":\"scattercarpet\"}],\"scattergeo\":[{\"marker\":{\"colorbar\":{\"outlinewidth\":0,\"ticks\":\"\"}},\"type\":\"scattergeo\"}],\"scattergl\":[{\"marker\":{\"colorbar\":{\"outlinewidth\":0,\"ticks\":\"\"}},\"type\":\"scattergl\"}],\"scattermapbox\":[{\"marker\":{\"colorbar\":{\"outlinewidth\":0,\"ticks\":\"\"}},\"type\":\"scattermapbox\"}],\"scatterpolargl\":[{\"marker\":{\"colorbar\":{\"outlinewidth\":0,\"ticks\":\"\"}},\"type\":\"scatterpolargl\"}],\"scatterpolar\":[{\"marker\":{\"colorbar\":{\"outlinewidth\":0,\"ticks\":\"\"}},\"type\":\"scatterpolar\"}],\"scatter\":[{\"fillpattern\":{\"fillmode\":\"overlay\",\"size\":10,\"solidity\":0.2},\"type\":\"scatter\"}],\"scatterternary\":[{\"marker\":{\"colorbar\":{\"outlinewidth\":0,\"ticks\":\"\"}},\"type\":\"scatterternary\"}],\"surface\":[{\"colorbar\":{\"outlinewidth\":0,\"ticks\":\"\"},\"colorscale\":[[0.0,\"#0d0887\"],[0.1111111111111111,\"#46039f\"],[0.2222222222222222,\"#7201a8\"],[0.3333333333333333,\"#9c179e\"],[0.4444444444444444,\"#bd3786\"],[0.5555555555555556,\"#d8576b\"],[0.6666666666666666,\"#ed7953\"],[0.7777777777777778,\"#fb9f3a\"],[0.8888888888888888,\"#fdca26\"],[1.0,\"#f0f921\"]],\"type\":\"surface\"}],\"table\":[{\"cells\":{\"fill\":{\"color\":\"#EBF0F8\"},\"line\":{\"color\":\"white\"}},\"header\":{\"fill\":{\"color\":\"#C8D4E3\"},\"line\":{\"color\":\"white\"}},\"type\":\"table\"}]},\"layout\":{\"annotationdefaults\":{\"arrowcolor\":\"#2a3f5f\",\"arrowhead\":0,\"arrowwidth\":1},\"autotypenumbers\":\"strict\",\"coloraxis\":{\"colorbar\":{\"outlinewidth\":0,\"ticks\":\"\"}},\"colorscale\":{\"diverging\":[[0,\"#8e0152\"],[0.1,\"#c51b7d\"],[0.2,\"#de77ae\"],[0.3,\"#f1b6da\"],[0.4,\"#fde0ef\"],[0.5,\"#f7f7f7\"],[0.6,\"#e6f5d0\"],[0.7,\"#b8e186\"],[0.8,\"#7fbc41\"],[0.9,\"#4d9221\"],[1,\"#276419\"]],\"sequential\":[[0.0,\"#0d0887\"],[0.1111111111111111,\"#46039f\"],[0.2222222222222222,\"#7201a8\"],[0.3333333333333333,\"#9c179e\"],[0.4444444444444444,\"#bd3786\"],[0.5555555555555556,\"#d8576b\"],[0.6666666666666666,\"#ed7953\"],[0.7777777777777778,\"#fb9f3a\"],[0.8888888888888888,\"#fdca26\"],[1.0,\"#f0f921\"]],\"sequentialminus\":[[0.0,\"#0d0887\"],[0.1111111111111111,\"#46039f\"],[0.2222222222222222,\"#7201a8\"],[0.3333333333333333,\"#9c179e\"],[0.4444444444444444,\"#bd3786\"],[0.5555555555555556,\"#d8576b\"],[0.6666666666666666,\"#ed7953\"],[0.7777777777777778,\"#fb9f3a\"],[0.8888888888888888,\"#fdca26\"],[1.0,\"#f0f921\"]]},\"colorway\":[\"#636efa\",\"#EF553B\",\"#00cc96\",\"#ab63fa\",\"#FFA15A\",\"#19d3f3\",\"#FF6692\",\"#B6E880\",\"#FF97FF\",\"#FECB52\"],\"font\":{\"color\":\"#2a3f5f\"},\"geo\":{\"bgcolor\":\"white\",\"lakecolor\":\"white\",\"landcolor\":\"white\",\"showlakes\":true,\"showland\":true,\"subunitcolor\":\"#C8D4E3\"},\"hoverlabel\":{\"align\":\"left\"},\"hovermode\":\"closest\",\"mapbox\":{\"style\":\"light\"},\"paper_bgcolor\":\"white\",\"plot_bgcolor\":\"white\",\"polar\":{\"angularaxis\":{\"gridcolor\":\"#EBF0F8\",\"linecolor\":\"#EBF0F8\",\"ticks\":\"\"},\"bgcolor\":\"white\",\"radialaxis\":{\"gridcolor\":\"#EBF0F8\",\"linecolor\":\"#EBF0F8\",\"ticks\":\"\"}},\"scene\":{\"xaxis\":{\"backgroundcolor\":\"white\",\"gridcolor\":\"#DFE8F3\",\"gridwidth\":2,\"linecolor\":\"#EBF0F8\",\"showbackground\":true,\"ticks\":\"\",\"zerolinecolor\":\"#EBF0F8\"},\"yaxis\":{\"backgroundcolor\":\"white\",\"gridcolor\":\"#DFE8F3\",\"gridwidth\":2,\"linecolor\":\"#EBF0F8\",\"showbackground\":true,\"ticks\":\"\",\"zerolinecolor\":\"#EBF0F8\"},\"zaxis\":{\"backgroundcolor\":\"white\",\"gridcolor\":\"#DFE8F3\",\"gridwidth\":2,\"linecolor\":\"#EBF0F8\",\"showbackground\":true,\"ticks\":\"\",\"zerolinecolor\":\"#EBF0F8\"}},\"shapedefaults\":{\"line\":{\"color\":\"#2a3f5f\"}},\"ternary\":{\"aaxis\":{\"gridcolor\":\"#DFE8F3\",\"linecolor\":\"#A2B1C6\",\"ticks\":\"\"},\"baxis\":{\"gridcolor\":\"#DFE8F3\",\"linecolor\":\"#A2B1C6\",\"ticks\":\"\"},\"bgcolor\":\"white\",\"caxis\":{\"gridcolor\":\"#DFE8F3\",\"linecolor\":\"#A2B1C6\",\"ticks\":\"\"}},\"title\":{\"x\":0.05},\"xaxis\":{\"automargin\":true,\"gridcolor\":\"#EBF0F8\",\"linecolor\":\"#EBF0F8\",\"ticks\":\"\",\"title\":{\"standoff\":15},\"zerolinecolor\":\"#EBF0F8\",\"zerolinewidth\":2},\"yaxis\":{\"automargin\":true,\"gridcolor\":\"#EBF0F8\",\"linecolor\":\"#EBF0F8\",\"ticks\":\"\",\"title\":{\"standoff\":15},\"zerolinecolor\":\"#EBF0F8\",\"zerolinewidth\":2}}},\"xaxis\":{\"title\":{\"text\":\"Date\"},\"showgrid\":true},\"yaxis\":{\"title\":{\"text\":\"Close (USD)\"},\"showgrid\":true},\"title\":{\"text\":\"Close Prices Across Multiple Stocks\"},\"legend\":{\"title\":{\"text\":\"Stocks\"}}},                        {\"responsive\": true}                    ).then(function(){\n",
       "                            \n",
       "var gd = document.getElementById('9341b19a-71e3-4512-a255-0368e78f16ce');\n",
       "var x = new MutationObserver(function (mutations, observer) {{\n",
       "        var display = window.getComputedStyle(gd).display;\n",
       "        if (!display || display === 'none') {{\n",
       "            console.log([gd, 'removed!']);\n",
       "            Plotly.purge(gd);\n",
       "            observer.disconnect();\n",
       "        }}\n",
       "}});\n",
       "\n",
       "// Listen for the removal of the full notebook cells\n",
       "var notebookContainer = gd.closest('#notebook-container');\n",
       "if (notebookContainer) {{\n",
       "    x.observe(notebookContainer, {childList: true});\n",
       "}}\n",
       "\n",
       "// Listen for the clearing of the current output cell\n",
       "var outputEl = gd.closest('.output');\n",
       "if (outputEl) {{\n",
       "    x.observe(outputEl, {childList: true});\n",
       "}}\n",
       "\n",
       "                        })                };                });            </script>        </div>"
      ]
     },
     "metadata": {},
     "output_type": "display_data"
    }
   ],
   "source": [
    " fig = plot_interactive_metric_across_stocks(stock_data, 'Close')"
   ]
  },
  {
   "cell_type": "markdown",
   "id": "ec6bfbc9",
   "metadata": {},
   "source": [
    "# Data Preparation"
   ]
  },
  {
   "cell_type": "code",
   "execution_count": 200,
   "id": "82dfd61d",
   "metadata": {},
   "outputs": [],
   "source": [
    "# Initialize an empty dictionary for ticker-to-integer mapping\n",
    "ticker_dict = {}\n",
    "ticker_counter = 0  # Start counter for assigning integer values\n",
    "\n",
    "def get_ticker_value(ticker):\n",
    "    global ticker_dict, ticker_counter\n",
    "    \n",
    "    # If ticker is not already in the dictionary, add it\n",
    "    if ticker not in ticker_dict:\n",
    "        ticker_dict[ticker] = ticker_counter\n",
    "        ticker_counter += 1\n",
    "    \n",
    "    # Return the integer value for the ticker\n",
    "    return ticker_dict[ticker]"
   ]
  },
  {
   "cell_type": "code",
   "execution_count": 201,
   "id": "ad9da580",
   "metadata": {},
   "outputs": [],
   "source": [
    "\n",
    "def prepare_data(df, ticker):\n",
    "    \"\"\"\n",
    "    Prepares the features and target with a 1-day shift in the target (Close price).\n",
    "    Adds a ticker column with the specified ticker value and performs one-hot encoding for it.\n",
    "    \"\"\"\n",
    "    ticker_dict = {}\n",
    "\n",
    "    # Features: 'SMA_5', 'MA_20', 'Upper_Band', 'Lower_Band', 'Close', 'Volume'\n",
    "    features = df[['SMA_5', 'MA_20', 'Upper_Band', 'Lower_Band', 'Close', 'Volume']].copy()\n",
    "\n",
    "    # Get the integer value for the ticker from the dictionary\n",
    "    ticker_encoded = get_ticker_value(ticker)\n",
    "\n",
    "    # Add the ticker integer value as a new column\n",
    "    features['Ticker'] = ticker_encoded\n",
    "    \n",
    "    # Target: Tomorrow's Close price (shifted by -1)\n",
    "    target = df['Close'].shift(-1)\n",
    "\n",
    "    # Concatenate features and target into a single DataFrame for consistent row dropping\n",
    "    combined = pd.concat([features, target], axis=1)\n",
    "    combined.columns = list(features.columns) + ['Target']\n",
    "\n",
    "    # Drop rows where any NaNs exist in features or target\n",
    "    combined = combined.dropna()\n",
    "\n",
    "    # Split back into features and target\n",
    "    features = combined.iloc[:, :-1]  # All columns except the last\n",
    "    target = combined.iloc[:, -1]     # The last column is the target (next day's Close)\n",
    "\n",
    "    return features, target"
   ]
  },
  {
   "cell_type": "code",
   "execution_count": 202,
   "id": "f732ee30",
   "metadata": {},
   "outputs": [],
   "source": [
    "# Prepare features and target for each stock\n",
    "all_features, all_targets = [], []\n",
    "for ticker, df in stock_data.items():\n",
    "    features, target = prepare_data(df, ticker)\n",
    "    all_features.append(features)\n",
    "    all_targets.append(target)"
   ]
  },
  {
   "cell_type": "code",
   "execution_count": 203,
   "id": "7f4d40d2",
   "metadata": {},
   "outputs": [
    {
     "data": {
      "text/html": [
       "<div>\n",
       "<style scoped>\n",
       "    .dataframe tbody tr th:only-of-type {\n",
       "        vertical-align: middle;\n",
       "    }\n",
       "\n",
       "    .dataframe tbody tr th {\n",
       "        vertical-align: top;\n",
       "    }\n",
       "\n",
       "    .dataframe thead th {\n",
       "        text-align: right;\n",
       "    }\n",
       "</style>\n",
       "<table border=\"1\" class=\"dataframe\">\n",
       "  <thead>\n",
       "    <tr style=\"text-align: right;\">\n",
       "      <th></th>\n",
       "      <th>SMA_5</th>\n",
       "      <th>MA_20</th>\n",
       "      <th>Upper_Band</th>\n",
       "      <th>Lower_Band</th>\n",
       "      <th>Close</th>\n",
       "      <th>Volume</th>\n",
       "      <th>Ticker</th>\n",
       "    </tr>\n",
       "    <tr>\n",
       "      <th>Date</th>\n",
       "      <th></th>\n",
       "      <th></th>\n",
       "      <th></th>\n",
       "      <th></th>\n",
       "      <th></th>\n",
       "      <th></th>\n",
       "      <th></th>\n",
       "    </tr>\n",
       "  </thead>\n",
       "  <tbody>\n",
       "    <tr>\n",
       "      <th>2023-01-17</th>\n",
       "      <td>342.986005</td>\n",
       "      <td>339.643005</td>\n",
       "      <td>350.588768</td>\n",
       "      <td>328.697243</td>\n",
       "      <td>344.380005</td>\n",
       "      <td>2512700</td>\n",
       "      <td>1</td>\n",
       "    </tr>\n",
       "    <tr>\n",
       "      <th>2023-01-18</th>\n",
       "      <td>343.508002</td>\n",
       "      <td>340.082004</td>\n",
       "      <td>350.893702</td>\n",
       "      <td>329.270306</td>\n",
       "      <td>341.309998</td>\n",
       "      <td>2079800</td>\n",
       "      <td>1</td>\n",
       "    </tr>\n",
       "    <tr>\n",
       "      <th>2023-01-19</th>\n",
       "      <td>343.428003</td>\n",
       "      <td>340.194003</td>\n",
       "      <td>351.089721</td>\n",
       "      <td>329.298286</td>\n",
       "      <td>342.529999</td>\n",
       "      <td>2467000</td>\n",
       "      <td>1</td>\n",
       "    </tr>\n",
       "    <tr>\n",
       "      <th>2023-01-20</th>\n",
       "      <td>345.796002</td>\n",
       "      <td>342.988004</td>\n",
       "      <td>354.780246</td>\n",
       "      <td>331.195761</td>\n",
       "      <td>356.380005</td>\n",
       "      <td>3149400</td>\n",
       "      <td>1</td>\n",
       "    </tr>\n",
       "    <tr>\n",
       "      <th>2023-01-23</th>\n",
       "      <td>349.916003</td>\n",
       "      <td>346.211005</td>\n",
       "      <td>362.374510</td>\n",
       "      <td>330.047499</td>\n",
       "      <td>364.980011</td>\n",
       "      <td>3187100</td>\n",
       "      <td>1</td>\n",
       "    </tr>\n",
       "    <tr>\n",
       "      <th>...</th>\n",
       "      <td>...</td>\n",
       "      <td>...</td>\n",
       "      <td>...</td>\n",
       "      <td>...</td>\n",
       "      <td>...</td>\n",
       "      <td>...</td>\n",
       "      <td>...</td>\n",
       "    </tr>\n",
       "    <tr>\n",
       "      <th>2023-12-21</th>\n",
       "      <td>596.930005</td>\n",
       "      <td>606.242004</td>\n",
       "      <td>640.075704</td>\n",
       "      <td>572.408305</td>\n",
       "      <td>600.140015</td>\n",
       "      <td>3192800</td>\n",
       "      <td>1</td>\n",
       "    </tr>\n",
       "    <tr>\n",
       "      <th>2023-12-22</th>\n",
       "      <td>599.744006</td>\n",
       "      <td>605.116003</td>\n",
       "      <td>639.141299</td>\n",
       "      <td>571.090708</td>\n",
       "      <td>598.750000</td>\n",
       "      <td>1659800</td>\n",
       "      <td>1</td>\n",
       "    </tr>\n",
       "    <tr>\n",
       "      <th>2023-12-26</th>\n",
       "      <td>599.570007</td>\n",
       "      <td>602.422003</td>\n",
       "      <td>633.519931</td>\n",
       "      <td>571.324075</td>\n",
       "      <td>598.260010</td>\n",
       "      <td>1595100</td>\n",
       "      <td>1</td>\n",
       "    </tr>\n",
       "    <tr>\n",
       "      <th>2023-12-27</th>\n",
       "      <td>597.858008</td>\n",
       "      <td>598.664008</td>\n",
       "      <td>620.765966</td>\n",
       "      <td>576.562049</td>\n",
       "      <td>596.080017</td>\n",
       "      <td>1394900</td>\n",
       "      <td>1</td>\n",
       "    </tr>\n",
       "    <tr>\n",
       "      <th>2023-12-28</th>\n",
       "      <td>597.750012</td>\n",
       "      <td>595.790009</td>\n",
       "      <td>608.635205</td>\n",
       "      <td>582.944812</td>\n",
       "      <td>595.520020</td>\n",
       "      <td>1702600</td>\n",
       "      <td>1</td>\n",
       "    </tr>\n",
       "  </tbody>\n",
       "</table>\n",
       "<p>240 rows × 7 columns</p>\n",
       "</div>"
      ],
      "text/plain": [
       "                 SMA_5       MA_20  Upper_Band  Lower_Band       Close  \\\n",
       "Date                                                                     \n",
       "2023-01-17  342.986005  339.643005  350.588768  328.697243  344.380005   \n",
       "2023-01-18  343.508002  340.082004  350.893702  329.270306  341.309998   \n",
       "2023-01-19  343.428003  340.194003  351.089721  329.298286  342.529999   \n",
       "2023-01-20  345.796002  342.988004  354.780246  331.195761  356.380005   \n",
       "2023-01-23  349.916003  346.211005  362.374510  330.047499  364.980011   \n",
       "...                ...         ...         ...         ...         ...   \n",
       "2023-12-21  596.930005  606.242004  640.075704  572.408305  600.140015   \n",
       "2023-12-22  599.744006  605.116003  639.141299  571.090708  598.750000   \n",
       "2023-12-26  599.570007  602.422003  633.519931  571.324075  598.260010   \n",
       "2023-12-27  597.858008  598.664008  620.765966  576.562049  596.080017   \n",
       "2023-12-28  597.750012  595.790009  608.635205  582.944812  595.520020   \n",
       "\n",
       "             Volume  Ticker  \n",
       "Date                         \n",
       "2023-01-17  2512700       1  \n",
       "2023-01-18  2079800       1  \n",
       "2023-01-19  2467000       1  \n",
       "2023-01-20  3149400       1  \n",
       "2023-01-23  3187100       1  \n",
       "...             ...     ...  \n",
       "2023-12-21  3192800       1  \n",
       "2023-12-22  1659800       1  \n",
       "2023-12-26  1595100       1  \n",
       "2023-12-27  1394900       1  \n",
       "2023-12-28  1702600       1  \n",
       "\n",
       "[240 rows x 7 columns]"
      ]
     },
     "execution_count": 203,
     "metadata": {},
     "output_type": "execute_result"
    }
   ],
   "source": [
    "all_features[1]"
   ]
  },
  {
   "cell_type": "code",
   "execution_count": 204,
   "id": "35b83226",
   "metadata": {},
   "outputs": [],
   "source": [
    "# Combine all stocks into a single dataset\n",
    "X = pd.concat(all_features)\n",
    "y = pd.concat(all_targets)\n"
   ]
  },
  {
   "cell_type": "code",
   "execution_count": 205,
   "id": "58133917",
   "metadata": {},
   "outputs": [
    {
     "name": "stdout",
     "output_type": "stream",
     "text": [
      "META processed (Index: 0)\n",
      "ADBE processed (Index: 1)\n",
      "MA processed (Index: 2)\n",
      "GS processed (Index: 3)\n",
      "NFLX processed (Index: 4)\n",
      "LMT processed (Index: 5)\n",
      "MCD processed (Index: 6)\n"
     ]
    }
   ],
   "source": [
    "\n",
    "# Assume that X originally has a date/index column\n",
    "date_index = X.index  # Save the date index separately\n",
    "\n",
    "# Normalize the data using MinMaxScaler (exclude the date/index column)\n",
    "scaler = MinMaxScaler()\n",
    "X_scaled = scaler.fit_transform(X)\n",
    "\n",
    "# Convert to PyTorch tensors (after scaling)\n",
    "X_tensor = torch.tensor(X_scaled, dtype=torch.float32)\n",
    "y_tensor = torch.tensor(y.values, dtype=torch.float32).view(-1, 1)\n",
    "\n",
    "# Prepare for concatenation across all stocks\n",
    "X_train_all, X_test_all, X_sequential_test_all = [], [], []\n",
    "y_train_all, y_test_all, y_sequential_test_all = [], [], []\n",
    "date_train_all, date_test_all, date_sequential_test_all = [], [], []\n",
    "\n",
    "# Length of data for one stock\n",
    "one_stock_length = len(all_features[0])\n",
    "\n",
    "# Loop through each ticker and process its data\n",
    "for index, ticker in enumerate(tickers):\n",
    "    # Split the stock data for current ticker\n",
    "    start_index = one_stock_length * index\n",
    "    end_index = one_stock_length * (index + 1)\n",
    "    \n",
    "    X_stock = X_tensor[start_index:end_index]\n",
    "    y_stock = y_tensor[start_index:end_index]\n",
    "    date_stock = date_index[start_index:end_index]\n",
    "\n",
    "    # Train-Test split (80% train, 20% test) without shuffling\n",
    "    X_train_stock, X_test_temp_stock, y_train_stock, y_test_temp_stock, date_train_stock, date_test_temp_stock = train_test_split(\n",
    "        X_stock, y_stock, date_stock, test_size=wandb.config.percentage_test, random_state=42, shuffle=False\n",
    "    )\n",
    "    \n",
    "    # Shuffle only the training data\n",
    "    train_size = len(X_train_stock)\n",
    "    indices = torch.randperm(train_size).numpy()  # Create random indices to shuffle\n",
    "    X_train_stock = X_train_stock[indices]  # Shuffle training features\n",
    "    y_train_stock = y_train_stock[indices]  # Shuffle training labels\n",
    "    date_train_stock = date_train_stock[indices]  # Shuffle training dates\n",
    "\n",
    "    # Sequential Test Split (taking the last 20% of the test data for sequential testing)\n",
    "    sequential_test_size_stock = int(len(X_test_temp_stock) * wandb.config.percentage_sequence_test_days)\n",
    "\n",
    "    # Regular Test Set (80% of test data for regular testing)\n",
    "    X_test_stock = X_test_temp_stock[:-sequential_test_size_stock]\n",
    "    y_test_stock = y_test_temp_stock[:-sequential_test_size_stock]\n",
    "    date_test_stock = date_test_temp_stock[:-sequential_test_size_stock]\n",
    "\n",
    "    # Sequential Test Set (last 20% of the test data for sequential testing)\n",
    "    X_sequential_test_stock = X_test_temp_stock[-sequential_test_size_stock:]\n",
    "    y_sequential_test_stock = y_test_temp_stock[-sequential_test_size_stock:]\n",
    "    date_sequential_test_stock = date_test_temp_stock[-sequential_test_size_stock:]\n",
    "\n",
    "    # Collect data for this ticker\n",
    "    X_train_all.append(X_train_stock)\n",
    "    y_train_all.append(y_train_stock)\n",
    "    date_train_all.append(date_train_stock)\n",
    "\n",
    "    X_test_all.append(X_test_stock)\n",
    "    y_test_all.append(y_test_stock)\n",
    "    date_test_all.append(date_test_stock)\n",
    "\n",
    "    X_sequential_test_all.append(X_sequential_test_stock)\n",
    "    y_sequential_test_all.append(y_sequential_test_stock)\n",
    "    date_sequential_test_all.append(date_sequential_test_stock)\n",
    "\n",
    "    print(f\"{ticker} processed (Index: {index})\")\n"
   ]
  },
  {
   "cell_type": "code",
   "execution_count": 206,
   "id": "b47de2a1",
   "metadata": {},
   "outputs": [],
   "source": [
    "aa = torch.tensor(date_train_all[0].astype('int64') // 10**9, dtype=torch.float32)\n",
    "bb = torch.cat([torch.tensor(date_index.astype('int64') // 10**9, dtype=torch.int32) for date_index in date_train_all])\n"
   ]
  },
  {
   "cell_type": "code",
   "execution_count": 207,
   "id": "55e364ea",
   "metadata": {},
   "outputs": [],
   "source": [
    "# Concatenate all the individual ticker data back together\n",
    "\n",
    "# Keep in mind that Unix timestamps in seconds will exceed this range in the future (after 2038).\n",
    "# If you are storing dates far into the future or past, consider using int64 instead.\n",
    "X_train = torch.cat(X_train_all, dim=0)\n",
    "y_train = torch.cat(y_train_all, dim=0)\n",
    "date_train = torch.cat([torch.tensor(date_index.astype('int64') // 10**9, dtype=torch.int32) for date_index in date_train_all])\n",
    "\n",
    "X_test = torch.cat(X_test_all, dim=0)\n",
    "y_test = torch.cat(y_test_all, dim=0)\n",
    "date_test = torch.cat([torch.tensor(date_index.astype('int64') // 10**9, dtype=torch.int32) for date_index in date_test_all])\n",
    "\n",
    "X_sequential_test = torch.cat(X_sequential_test_all, dim=0)\n",
    "y_sequential_test = torch.cat(y_sequential_test_all, dim=0)\n",
    "date_sequential_test = torch.cat([torch.tensor(date_index.astype('int64') // 10**9, dtype=torch.int32) for date_index in date_sequential_test_all])\n",
    "\n",
    "# Create DataLoader for mini-batches\n",
    "train_dataset = TensorDataset(X_train, y_train, date_train)\n",
    "test_dataset = TensorDataset(X_test, y_test, date_test)\n",
    "test_sequence_dataset = TensorDataset(X_sequential_test, y_sequential_test, date_sequential_test)\n",
    "\n",
    "train_loader = DataLoader(train_dataset, batch_size=wandb.config.batch_size, shuffle=True)\n",
    "test_loader = DataLoader(test_dataset, batch_size=wandb.config.batch_size, shuffle=False)\n",
    "# the sequence batch size is for 1 stock per patch\n",
    "test_sequence_loader = DataLoader(test_sequence_dataset, batch_size=(int)(y_sequential_test.shape[0]/len(wandb.config.tickers)), shuffle=False)"
   ]
  },
  {
   "cell_type": "code",
   "execution_count": 208,
   "id": "6e9caccf",
   "metadata": {},
   "outputs": [
    {
     "name": "stdout",
     "output_type": "stream",
     "text": [
      "Stats\n",
      "Length of train data torch.Size([1344, 7])\n",
      "Length of test data torch.Size([273, 7])\n",
      "Length of sequencial test data torch.Size([63, 7])\n",
      "Number of Stocks 7\n"
     ]
    }
   ],
   "source": [
    "print(\"Stats\")\n",
    "print(\"Length of train data\", X_train.shape)\n",
    "print(\"Length of test data\", X_test.shape)\n",
    "print(\"Length of sequencial test data\", X_sequential_test.shape)\n",
    "print(\"Number of Stocks\", len(tickers))\n"
   ]
  },
  {
   "cell_type": "markdown",
   "id": "e7132f3d",
   "metadata": {},
   "source": [
    "## Model Def"
   ]
  },
  {
   "cell_type": "code",
   "execution_count": 209,
   "id": "670f56f2",
   "metadata": {},
   "outputs": [],
   "source": [
    "class StockPredictor(nn.Module):\n",
    "    def __init__(self, input_size):\n",
    "        super(StockPredictor, self).__init__()\n",
    "        self.fc1 = nn.Linear(input_size, 64)\n",
    "        self.fc2 = nn.Linear(64, 32)\n",
    "        self.fc3 = nn.Linear(32, 1)  # Output layer\n",
    "        \n",
    "    def forward(self, x):\n",
    "        x = torch.relu(self.fc1(x))\n",
    "        x = torch.relu(self.fc2(x))\n",
    "        x = self.fc3(x)\n",
    "        return x"
   ]
  },
  {
   "cell_type": "code",
   "execution_count": 210,
   "id": "7b74c3fc",
   "metadata": {},
   "outputs": [],
   "source": [
    "# Initialize model, loss function, and optimizer\n",
    "input_size = X_train.shape[1]\n",
    "model = StockPredictor(input_size)\n",
    "criterion = nn.MSELoss()  # Mean Squared Error for regression\n",
    "optimizer = optim.Adam(model.parameters(), lr=wandb.config.learning_rate)\n"
   ]
  },
  {
   "cell_type": "markdown",
   "id": "71491e81",
   "metadata": {},
   "source": [
    "# Model Train and Testing"
   ]
  },
  {
   "cell_type": "code",
   "execution_count": 211,
   "id": "a569c0d8",
   "metadata": {},
   "outputs": [],
   "source": [
    "# Training loop\n",
    "def train_model(model, train_loader, criterion, optimizer, epochs=20):\n",
    "    model.train()  # Set model to training mode\n",
    "    for epoch in range(epochs):\n",
    "        running_loss = 0.0\n",
    "        for inputs, targets, dates in train_loader:\n",
    "            optimizer.zero_grad()  # Zero the parameter gradients\n",
    "            outputs = model(inputs)\n",
    "            loss = criterion(outputs, targets)\n",
    "            loss.backward()  # Backpropagate\n",
    "            optimizer.step()  # Update weights\n",
    "            \n",
    "            running_loss += loss.item()\n",
    "\n",
    "        avg_loss = running_loss / len(train_loader)  # Calculate average loss for the epoch\n",
    "        print(f\"Epoch [{epoch+1}/{epochs}], Loss: {running_loss/len(train_loader):.4f}\")\n",
    "        # Log losses to W&B\n",
    "        wandb.log({\"epoch\": epoch + 1, \"train_loss_average\": avg_loss})"
   ]
  },
  {
   "cell_type": "code",
   "execution_count": 212,
   "id": "fc0634b0",
   "metadata": {},
   "outputs": [
    {
     "data": {
      "text/plain": [
       "torch.Size([1344, 1])"
      ]
     },
     "execution_count": 212,
     "metadata": {},
     "output_type": "execute_result"
    }
   ],
   "source": [
    "y_train.shape"
   ]
  },
  {
   "cell_type": "code",
   "execution_count": 213,
   "id": "e2c49ef7",
   "metadata": {},
   "outputs": [],
   "source": [
    "def evaluate_model(model, test_loader, criterion):\n",
    "    model.eval()  # Set model to evaluation mode\n",
    "    with torch.no_grad():\n",
    "        total_loss = 0.0\n",
    "        for inputs, targets, dates in test_loader:\n",
    "            outputs = model(inputs)\n",
    "            loss = criterion(outputs, targets)\n",
    "            total_loss += loss.item()\n",
    "    \n",
    "    avg_loss = total_loss / len(test_loader)\n",
    "    print(f\"Test Loss: {avg_loss:.4f}\")\n",
    "    wandb.log({\"test_loss\": avg_loss})\n",
    "    "
   ]
  },
  {
   "cell_type": "code",
   "execution_count": 214,
   "id": "c0d744ce",
   "metadata": {},
   "outputs": [
    {
     "name": "stdout",
     "output_type": "stream",
     "text": [
      "Epoch [1/10], Loss: 136155.4355\n",
      "Epoch [2/10], Loss: 133615.5225\n",
      "Epoch [3/10], Loss: 125120.3047\n",
      "Epoch [4/10], Loss: 105574.8041\n",
      "Epoch [5/10], Loss: 73847.6858\n",
      "Epoch [6/10], Loss: 37250.6675\n",
      "Epoch [7/10], Loss: 11335.3608\n",
      "Epoch [8/10], Loss: 2156.4665\n",
      "Epoch [9/10], Loss: 950.5323\n",
      "Epoch [10/10], Loss: 863.8245\n"
     ]
    }
   ],
   "source": [
    "# Train the model\n",
    "train_model(model, train_loader, criterion, optimizer, wandb.config.epochs)"
   ]
  },
  {
   "cell_type": "code",
   "execution_count": 215,
   "id": "3bc7989c",
   "metadata": {},
   "outputs": [
    {
     "name": "stdout",
     "output_type": "stream",
     "text": [
      "Test Loss: 1092.0506\n"
     ]
    }
   ],
   "source": [
    "# Evaluate the model\n",
    "evaluate_model(model, test_loader, criterion)"
   ]
  },
  {
   "cell_type": "code",
   "execution_count": 216,
   "id": "0a21c44f",
   "metadata": {},
   "outputs": [],
   "source": [
    "def evaluate_model_sequence3(model, test_sequence_loader, wandb_log = True, days_back_to_plot = 30):\n",
    "    # Normalizing the ticker dictionary to map ticker values to a normalized range\n",
    "    normalized_ticker_dict = {ticker: round((value - min(ticker_dict.values())) / (max(ticker_dict.values()) - min(ticker_dict.values())), 4) for ticker, value in ticker_dict.items()}\n",
    "    # Reverse the normalized dict to get the ticker name back from the normalized value\n",
    "    ticker_reversed = {value: ticker for  ticker, value in normalized_ticker_dict.items()}\n",
    "\n",
    "    model.eval()  # Set model to evaluation mode\n",
    "    \n",
    "    with torch.no_grad():\n",
    "        results = {}\n",
    "        \n",
    "        # Create a Plotly figure\n",
    "        fig = go.Figure()\n",
    "        traces = []\n",
    "        all_tickers = set()  # Set to keep track of unique tickers\n",
    "        total_loss = 0.0\n",
    "\n",
    "        # Iterate through the sequential test loader\n",
    "        for inputs, targets, current_dates in test_sequence_loader:\n",
    "            # Get the normalized value of the ticker from inputs and find the ticker name\n",
    "            stock_ticker_key = round(inputs[0][-1].item(), 4)\n",
    "            ticker_name = ticker_reversed[stock_ticker_key]\n",
    "            all_tickers.add(ticker_name)  # Add ticker to the set\n",
    "            \n",
    "            # Convert the dates to readable format (datetime)\n",
    "            dates = [datetime.fromtimestamp(ts.item()).date() for ts in current_dates]\n",
    "\n",
    "            # Pass inputs through the model to get predictions\n",
    "            outputs = model(inputs)\n",
    "\n",
    "            # Extract true values and predicted values\n",
    "            true_values = targets.cpu().numpy()\n",
    "            predicted_values = outputs.cpu().numpy()\n",
    "\n",
    "            # Determine the start date for the current prediction\n",
    "            start_date = dates[0]\n",
    "            actual_start_date = pd.to_datetime(start_date) - timedelta(days=days_back_to_plot)  # Ensure start_date is a datetime\n",
    "            \n",
    "            # Add traces for true and predicted values to a list\n",
    "            color = generate_bright_random_color()\n",
    "\n",
    "            # Extract actual values for the previous 30 days from stock_data\n",
    "            ticker_data = stock_data[ticker_name]\n",
    "            actual_values_df = ticker_data.loc[(ticker_data.index >= actual_start_date)]\n",
    "\n",
    "            actual_dates = actual_values_df.index.tolist()  # Get the index as dates\n",
    "            actual_values = actual_values_df['Close'].values.tolist() \n",
    "\n",
    "\n",
    "            traces.append(go.Scatter(\n",
    "                x=actual_dates,\n",
    "                y=actual_values,\n",
    "                mode='lines',\n",
    "                name=f'{ticker_name} True Values',\n",
    "                line=dict(color=color)\n",
    "            ))\n",
    "            \n",
    "            traces.append(go.Scatter(\n",
    "                x=dates,\n",
    "                y=predicted_values.reshape(-1),\n",
    "                mode='lines',\n",
    "                name=f'{ticker_name} Predictions',\n",
    "                line=dict(color=color, dash='dash')\n",
    "            ))\n",
    "\n",
    "            # Calculate some loss metric (e.g., Mean Squared Error)\n",
    "            mse_loss = ((true_values - predicted_values) ** 2).mean()\n",
    "            total_loss += mse_loss\n",
    "            \n",
    "            # Log loss metric to WandB\n",
    "            if wandb_log:\n",
    "                wandb.log({f'{ticker_name}_mse_loss_sequential': mse_loss})\n",
    "        \n",
    "        if wandb_log:\n",
    "            wandb.log({\"avg_sequential_test_loss\": total_loss/len(tickers)})\n",
    "        return plot_predictions_true_and_actual(traces, tickers)\n"
   ]
  },
  {
   "cell_type": "code",
   "execution_count": 217,
   "id": "fd704541",
   "metadata": {
    "scrolled": true
   },
   "outputs": [
    {
     "data": {
      "application/vnd.plotly.v1+json": {
       "config": {
        "plotlyServerURL": "https://plotly.com"
       },
       "data": [
        {
         "line": {
          "color": "hsl(262, 73.00247024906851%, 54.67866226188668%)"
         },
         "mode": "lines",
         "name": "META True Values",
         "type": "scatter",
         "x": [
          "2023-11-15T00:00:00",
          "2023-11-16T00:00:00",
          "2023-11-17T00:00:00",
          "2023-11-20T00:00:00",
          "2023-11-21T00:00:00",
          "2023-11-22T00:00:00",
          "2023-11-24T00:00:00",
          "2023-11-27T00:00:00",
          "2023-11-28T00:00:00",
          "2023-11-29T00:00:00",
          "2023-11-30T00:00:00",
          "2023-12-01T00:00:00",
          "2023-12-04T00:00:00",
          "2023-12-05T00:00:00",
          "2023-12-06T00:00:00",
          "2023-12-07T00:00:00",
          "2023-12-08T00:00:00",
          "2023-12-11T00:00:00",
          "2023-12-12T00:00:00",
          "2023-12-13T00:00:00",
          "2023-12-14T00:00:00",
          "2023-12-15T00:00:00",
          "2023-12-18T00:00:00",
          "2023-12-19T00:00:00",
          "2023-12-20T00:00:00",
          "2023-12-21T00:00:00",
          "2023-12-22T00:00:00",
          "2023-12-26T00:00:00",
          "2023-12-27T00:00:00",
          "2023-12-28T00:00:00",
          "2023-12-29T00:00:00"
         ],
         "y": [
          332.7099914550781,
          334.19000244140625,
          335.0400085449219,
          339.9700012207031,
          336.9800109863281,
          341.489990234375,
          338.2300109863281,
          334.70001220703125,
          338.989990234375,
          332.20001220703125,
          327.1499938964844,
          324.82000732421875,
          320.0199890136719,
          318.2900085449219,
          317.45001220703125,
          326.5899963378906,
          332.75,
          325.2799987792969,
          334.2200012207031,
          334.739990234375,
          333.1700134277344,
          334.9200134277344,
          344.6199951171875,
          350.3599853515625,
          349.2799987792969,
          354.0899963378906,
          353.3900146484375,
          354.8299865722656,
          357.8299865722656,
          358.32000732421875,
          353.9599914550781
         ]
        },
        {
         "line": {
          "color": "hsl(262, 73.00247024906851%, 54.67866226188668%)",
          "dash": "dash"
         },
         "mode": "lines",
         "name": "META Predictions",
         "type": "scatter",
         "x": [
          "2023-12-15",
          "2023-12-18",
          "2023-12-19",
          "2023-12-20",
          "2023-12-21",
          "2023-12-22",
          "2023-12-26",
          "2023-12-27",
          "2023-12-28"
         ],
         "y": [
          306.5460510253906,
          303.1202697753906,
          305.65875244140625,
          306.9281311035156,
          309.3328552246094,
          308.7178039550781,
          309.8272399902344,
          314.104248046875,
          314.94635009765625
         ]
        },
        {
         "line": {
          "color": "hsl(314, 93.48883749487193%, 69.04818792358189%)"
         },
         "mode": "lines",
         "name": "ADBE True Values",
         "type": "scatter",
         "x": [
          "2023-11-15T00:00:00",
          "2023-11-16T00:00:00",
          "2023-11-17T00:00:00",
          "2023-11-20T00:00:00",
          "2023-11-21T00:00:00",
          "2023-11-22T00:00:00",
          "2023-11-24T00:00:00",
          "2023-11-27T00:00:00",
          "2023-11-28T00:00:00",
          "2023-11-29T00:00:00",
          "2023-11-30T00:00:00",
          "2023-12-01T00:00:00",
          "2023-12-04T00:00:00",
          "2023-12-05T00:00:00",
          "2023-12-06T00:00:00",
          "2023-12-07T00:00:00",
          "2023-12-08T00:00:00",
          "2023-12-11T00:00:00",
          "2023-12-12T00:00:00",
          "2023-12-13T00:00:00",
          "2023-12-14T00:00:00",
          "2023-12-15T00:00:00",
          "2023-12-18T00:00:00",
          "2023-12-19T00:00:00",
          "2023-12-20T00:00:00",
          "2023-12-21T00:00:00",
          "2023-12-22T00:00:00",
          "2023-12-26T00:00:00",
          "2023-12-27T00:00:00",
          "2023-12-28T00:00:00",
          "2023-12-29T00:00:00"
         ],
         "y": [
          595.3099975585938,
          602.0599975585938,
          602.6599731445312,
          612.7000122070312,
          610.989990234375,
          619.719970703125,
          619.4299926757812,
          619.27001953125,
          623.3200073242188,
          617.3900146484375,
          611.010009765625,
          612.469970703125,
          604.5599975585938,
          602.219970703125,
          595.7000122070312,
          608.780029296875,
          610.010009765625,
          625.2000122070312,
          633.6599731445312,
          624.260009765625,
          584.6400146484375,
          584.6799926757812,
          599.1300048828125,
          604.6400146484375,
          596.0599975585938,
          600.1400146484375,
          598.75,
          598.260009765625,
          596.0800170898438,
          595.52001953125,
          596.5999755859375
         ]
        },
        {
         "line": {
          "color": "hsl(314, 93.48883749487193%, 69.04818792358189%)",
          "dash": "dash"
         },
         "mode": "lines",
         "name": "ADBE Predictions",
         "type": "scatter",
         "x": [
          "2023-12-15",
          "2023-12-18",
          "2023-12-19",
          "2023-12-20",
          "2023-12-21",
          "2023-12-22",
          "2023-12-26",
          "2023-12-27",
          "2023-12-28"
         ],
         "y": [
          557.619873046875,
          556.8392944335938,
          556.0986328125,
          552.6427001953125,
          553.7796630859375,
          552.3759765625,
          550.7181396484375,
          547.8931274414062,
          546.465576171875
         ]
        },
        {
         "line": {
          "color": "hsl(72, 75.38507318987504%, 64.4596531252965%)"
         },
         "mode": "lines",
         "name": "MA True Values",
         "type": "scatter",
         "x": [
          "2023-11-15T00:00:00",
          "2023-11-16T00:00:00",
          "2023-11-17T00:00:00",
          "2023-11-20T00:00:00",
          "2023-11-21T00:00:00",
          "2023-11-22T00:00:00",
          "2023-11-24T00:00:00",
          "2023-11-27T00:00:00",
          "2023-11-28T00:00:00",
          "2023-11-29T00:00:00",
          "2023-11-30T00:00:00",
          "2023-12-01T00:00:00",
          "2023-12-04T00:00:00",
          "2023-12-05T00:00:00",
          "2023-12-06T00:00:00",
          "2023-12-07T00:00:00",
          "2023-12-08T00:00:00",
          "2023-12-11T00:00:00",
          "2023-12-12T00:00:00",
          "2023-12-13T00:00:00",
          "2023-12-14T00:00:00",
          "2023-12-15T00:00:00",
          "2023-12-18T00:00:00",
          "2023-12-19T00:00:00",
          "2023-12-20T00:00:00",
          "2023-12-21T00:00:00",
          "2023-12-22T00:00:00",
          "2023-12-26T00:00:00",
          "2023-12-27T00:00:00",
          "2023-12-28T00:00:00",
          "2023-12-29T00:00:00"
         ],
         "y": [
          396.8299865722656,
          397.1000061035156,
          400.29998779296875,
          404.3999938964844,
          408.95001220703125,
          410.3299865722656,
          412.5,
          408.9700012207031,
          409.010009765625,
          409.82000732421875,
          413.8299865722656,
          414.3599853515625,
          408.2300109863281,
          408.69000244140625,
          410.3800048828125,
          413.1499938964844,
          412.1600036621094,
          415.7099914550781,
          420.75,
          424.67999267578125,
          418.55999755859375,
          418.57000732421875,
          424.42999267578125,
          425.4700012207031,
          419.45001220703125,
          423.44000244140625,
          424.1000061035156,
          423.6700134277344,
          424.3599853515625,
          426.32000732421875,
          426.510009765625
         ]
        },
        {
         "line": {
          "color": "hsl(72, 75.38507318987504%, 64.4596531252965%)",
          "dash": "dash"
         },
         "mode": "lines",
         "name": "MA Predictions",
         "type": "scatter",
         "x": [
          "2023-12-15",
          "2023-12-18",
          "2023-12-19",
          "2023-12-20",
          "2023-12-21",
          "2023-12-22",
          "2023-12-26",
          "2023-12-27",
          "2023-12-28"
         ],
         "y": [
          398.0412292480469,
          398.41314697265625,
          399.4419860839844,
          399.27825927734375,
          400.1919250488281,
          400.91326904296875,
          400.9620666503906,
          401.29339599609375,
          402.0763854980469
         ]
        },
        {
         "line": {
          "color": "hsl(208, 93.71994177526761%, 50.47137801627807%)"
         },
         "mode": "lines",
         "name": "GS True Values",
         "type": "scatter",
         "x": [
          "2023-11-15T00:00:00",
          "2023-11-16T00:00:00",
          "2023-11-17T00:00:00",
          "2023-11-20T00:00:00",
          "2023-11-21T00:00:00",
          "2023-11-22T00:00:00",
          "2023-11-24T00:00:00",
          "2023-11-27T00:00:00",
          "2023-11-28T00:00:00",
          "2023-11-29T00:00:00",
          "2023-11-30T00:00:00",
          "2023-12-01T00:00:00",
          "2023-12-04T00:00:00",
          "2023-12-05T00:00:00",
          "2023-12-06T00:00:00",
          "2023-12-07T00:00:00",
          "2023-12-08T00:00:00",
          "2023-12-11T00:00:00",
          "2023-12-12T00:00:00",
          "2023-12-13T00:00:00",
          "2023-12-14T00:00:00",
          "2023-12-15T00:00:00",
          "2023-12-18T00:00:00",
          "2023-12-19T00:00:00",
          "2023-12-20T00:00:00",
          "2023-12-21T00:00:00",
          "2023-12-22T00:00:00",
          "2023-12-26T00:00:00",
          "2023-12-27T00:00:00",
          "2023-12-28T00:00:00",
          "2023-12-29T00:00:00"
         ],
         "y": [
          337.6000061035156,
          336.6700134277344,
          339.19000244140625,
          339.45001220703125,
          334.9700012207031,
          338.6400146484375,
          339.1499938964844,
          337.7099914550781,
          337.6499938964844,
          340.260009765625,
          341.5400085449219,
          348.42999267578125,
          349.3900146484375,
          341.75,
          341.9700012207031,
          344.6199951171875,
          350.8299865722656,
          351.760009765625,
          352.6099853515625,
          362.7300109863281,
          383.4700012207031,
          380.510009765625,
          376.3999938964844,
          382.45001220703125,
          377.5199890136719,
          380.57000732421875,
          380.6499938964844,
          381.6099853515625,
          384.4800109863281,
          386.4100036621094,
          385.7699890136719
         ]
        },
        {
         "line": {
          "color": "hsl(208, 93.71994177526761%, 50.47137801627807%)",
          "dash": "dash"
         },
         "mode": "lines",
         "name": "GS Predictions",
         "type": "scatter",
         "x": [
          "2023-12-15",
          "2023-12-18",
          "2023-12-19",
          "2023-12-20",
          "2023-12-21",
          "2023-12-22",
          "2023-12-26",
          "2023-12-27",
          "2023-12-28"
         ],
         "y": [
          361.3177795410156,
          361.8061218261719,
          365.7807922363281,
          367.3349914550781,
          369.5223693847656,
          371.4447326660156,
          373.1112365722656,
          375.96295166015625,
          377.83148193359375
         ]
        },
        {
         "line": {
          "color": "hsl(270, 78.34862100599783%, 59.9487179491248%)"
         },
         "mode": "lines",
         "name": "NFLX True Values",
         "type": "scatter",
         "x": [
          "2023-11-15T00:00:00",
          "2023-11-16T00:00:00",
          "2023-11-17T00:00:00",
          "2023-11-20T00:00:00",
          "2023-11-21T00:00:00",
          "2023-11-22T00:00:00",
          "2023-11-24T00:00:00",
          "2023-11-27T00:00:00",
          "2023-11-28T00:00:00",
          "2023-11-29T00:00:00",
          "2023-11-30T00:00:00",
          "2023-12-01T00:00:00",
          "2023-12-04T00:00:00",
          "2023-12-05T00:00:00",
          "2023-12-06T00:00:00",
          "2023-12-07T00:00:00",
          "2023-12-08T00:00:00",
          "2023-12-11T00:00:00",
          "2023-12-12T00:00:00",
          "2023-12-13T00:00:00",
          "2023-12-14T00:00:00",
          "2023-12-15T00:00:00",
          "2023-12-18T00:00:00",
          "2023-12-19T00:00:00",
          "2023-12-20T00:00:00",
          "2023-12-21T00:00:00",
          "2023-12-22T00:00:00",
          "2023-12-26T00:00:00",
          "2023-12-27T00:00:00",
          "2023-12-28T00:00:00",
          "2023-12-29T00:00:00"
         ],
         "y": [
          461.94000244140625,
          466.95001220703125,
          465.9100036621094,
          474.4700012207031,
          474.95001220703125,
          478,
          479.55999755859375,
          479.1700134277344,
          479,
          477.19000244140625,
          473.9700012207031,
          465.739990234375,
          453.8999938964844,
          455.1499938964844,
          446.7300109863281,
          452,
          453.760009765625,
          459.8900146484375,
          463,
          479.9800109863281,
          469.8299865722656,
          472.05999755859375,
          486.1199951171875,
          495.0199890136719,
          489.2699890136719,
          491.6099853515625,
          486.760009765625,
          491.19000244140625,
          491.7900085449219,
          490.510009765625,
          486.8800048828125
         ]
        },
        {
         "line": {
          "color": "hsl(270, 78.34862100599783%, 59.9487179491248%)",
          "dash": "dash"
         },
         "mode": "lines",
         "name": "NFLX Predictions",
         "type": "scatter",
         "x": [
          "2023-12-15",
          "2023-12-18",
          "2023-12-19",
          "2023-12-20",
          "2023-12-21",
          "2023-12-22",
          "2023-12-26",
          "2023-12-27",
          "2023-12-28"
         ],
         "y": [
          471.0022277832031,
          475.1975402832031,
          478.3806457519531,
          480.6172180175781,
          482.88568115234375,
          484.4594421386719,
          486.8113708496094,
          488.8592834472656,
          488.7320251464844
         ]
        },
        {
         "line": {
          "color": "hsl(266, 90.16134605737001%, 60.52462717340605%)"
         },
         "mode": "lines",
         "name": "LMT True Values",
         "type": "scatter",
         "x": [
          "2023-11-15T00:00:00",
          "2023-11-16T00:00:00",
          "2023-11-17T00:00:00",
          "2023-11-20T00:00:00",
          "2023-11-21T00:00:00",
          "2023-11-22T00:00:00",
          "2023-11-24T00:00:00",
          "2023-11-27T00:00:00",
          "2023-11-28T00:00:00",
          "2023-11-29T00:00:00",
          "2023-11-30T00:00:00",
          "2023-12-01T00:00:00",
          "2023-12-04T00:00:00",
          "2023-12-05T00:00:00",
          "2023-12-06T00:00:00",
          "2023-12-07T00:00:00",
          "2023-12-08T00:00:00",
          "2023-12-11T00:00:00",
          "2023-12-12T00:00:00",
          "2023-12-13T00:00:00",
          "2023-12-14T00:00:00",
          "2023-12-15T00:00:00",
          "2023-12-18T00:00:00",
          "2023-12-19T00:00:00",
          "2023-12-20T00:00:00",
          "2023-12-21T00:00:00",
          "2023-12-22T00:00:00",
          "2023-12-26T00:00:00",
          "2023-12-27T00:00:00",
          "2023-12-28T00:00:00",
          "2023-12-29T00:00:00"
         ],
         "y": [
          445.1400146484375,
          445.5899963378906,
          444.67999267578125,
          443.80999755859375,
          448.1499938964844,
          450.3999938964844,
          452.010009765625,
          445.489990234375,
          448.2699890136719,
          445.010009765625,
          447.7699890136719,
          449.4100036621094,
          450.69000244140625,
          446.239990234375,
          449.4100036621094,
          447.1099853515625,
          448.0199890136719,
          451.260009765625,
          451.6300048828125,
          451.44000244140625,
          445.2699890136719,
          441.80999755859375,
          446.9100036621094,
          447.7900085449219,
          442.6000061035156,
          448.0199890136719,
          448.2200012207031,
          450.17999267578125,
          448.9700012207031,
          451.2300109863281,
          453.239990234375
         ]
        },
        {
         "line": {
          "color": "hsl(266, 90.16134605737001%, 60.52462717340605%)",
          "dash": "dash"
         },
         "mode": "lines",
         "name": "LMT Predictions",
         "type": "scatter",
         "x": [
          "2023-12-15",
          "2023-12-18",
          "2023-12-19",
          "2023-12-20",
          "2023-12-21",
          "2023-12-22",
          "2023-12-26",
          "2023-12-27",
          "2023-12-28"
         ],
         "y": [
          466.71246337890625,
          465.4334411621094,
          465.218994140625,
          464.0083312988281,
          464.66302490234375,
          464.9200744628906,
          465.2455139160156,
          465.0499572753906,
          465.7554016113281
         ]
        },
        {
         "line": {
          "color": "hsl(257, 95.56937233045008%, 62.16022674821908%)"
         },
         "mode": "lines",
         "name": "MCD True Values",
         "type": "scatter",
         "x": [
          "2023-11-15T00:00:00",
          "2023-11-16T00:00:00",
          "2023-11-17T00:00:00",
          "2023-11-20T00:00:00",
          "2023-11-21T00:00:00",
          "2023-11-22T00:00:00",
          "2023-11-24T00:00:00",
          "2023-11-27T00:00:00",
          "2023-11-28T00:00:00",
          "2023-11-29T00:00:00",
          "2023-11-30T00:00:00",
          "2023-12-01T00:00:00",
          "2023-12-04T00:00:00",
          "2023-12-05T00:00:00",
          "2023-12-06T00:00:00",
          "2023-12-07T00:00:00",
          "2023-12-08T00:00:00",
          "2023-12-11T00:00:00",
          "2023-12-12T00:00:00",
          "2023-12-13T00:00:00",
          "2023-12-14T00:00:00",
          "2023-12-15T00:00:00",
          "2023-12-18T00:00:00",
          "2023-12-19T00:00:00",
          "2023-12-20T00:00:00",
          "2023-12-21T00:00:00",
          "2023-12-22T00:00:00",
          "2023-12-26T00:00:00",
          "2023-12-27T00:00:00",
          "2023-12-28T00:00:00",
          "2023-12-29T00:00:00"
         ],
         "y": [
          270.3900146484375,
          276.1199951171875,
          275.75,
          279.0299987792969,
          280.4700012207031,
          281.92999267578125,
          282.5400085449219,
          281.8399963378906,
          282.0899963378906,
          280.3800048828125,
          281.8399963378906,
          285.9599914550781,
          286.1300048828125,
          286.5400085449219,
          286.8599853515625,
          286.7900085449219,
          285.5299987792969,
          289.1499938964844,
          291.4200134277344,
          295.92999267578125,
          290.0199890136719,
          287.2699890136719,
          290.2300109863281,
          290.7300109863281,
          288.989990234375,
          291.3900146484375,
          291.70001220703125,
          292.8599853515625,
          294.54998779296875,
          295.8399963378906,
          296.510009765625
         ]
        },
        {
         "line": {
          "color": "hsl(257, 95.56937233045008%, 62.16022674821908%)",
          "dash": "dash"
         },
         "mode": "lines",
         "name": "MCD Predictions",
         "type": "scatter",
         "x": [
          "2023-12-15",
          "2023-12-18",
          "2023-12-19",
          "2023-12-20",
          "2023-12-21",
          "2023-12-22",
          "2023-12-26",
          "2023-12-27",
          "2023-12-28"
         ],
         "y": [
          336.725341796875,
          335.0237121582031,
          335.04632568359375,
          334.8549499511719,
          335.5316162109375,
          335.7066955566406,
          336.0034484863281,
          336.9322814941406,
          337.39678955078125
         ]
        }
       ],
       "layout": {
        "legend": {
         "title": {
          "text": "Legend"
         }
        },
        "paper_bgcolor": "white",
        "plot_bgcolor": "white",
        "showlegend": true,
        "template": {
         "data": {
          "bar": [
           {
            "error_x": {
             "color": "#2a3f5f"
            },
            "error_y": {
             "color": "#2a3f5f"
            },
            "marker": {
             "line": {
              "color": "#E5ECF6",
              "width": 0.5
             },
             "pattern": {
              "fillmode": "overlay",
              "size": 10,
              "solidity": 0.2
             }
            },
            "type": "bar"
           }
          ],
          "barpolar": [
           {
            "marker": {
             "line": {
              "color": "#E5ECF6",
              "width": 0.5
             },
             "pattern": {
              "fillmode": "overlay",
              "size": 10,
              "solidity": 0.2
             }
            },
            "type": "barpolar"
           }
          ],
          "carpet": [
           {
            "aaxis": {
             "endlinecolor": "#2a3f5f",
             "gridcolor": "white",
             "linecolor": "white",
             "minorgridcolor": "white",
             "startlinecolor": "#2a3f5f"
            },
            "baxis": {
             "endlinecolor": "#2a3f5f",
             "gridcolor": "white",
             "linecolor": "white",
             "minorgridcolor": "white",
             "startlinecolor": "#2a3f5f"
            },
            "type": "carpet"
           }
          ],
          "choropleth": [
           {
            "colorbar": {
             "outlinewidth": 0,
             "ticks": ""
            },
            "type": "choropleth"
           }
          ],
          "contour": [
           {
            "colorbar": {
             "outlinewidth": 0,
             "ticks": ""
            },
            "colorscale": [
             [
              0,
              "#0d0887"
             ],
             [
              0.1111111111111111,
              "#46039f"
             ],
             [
              0.2222222222222222,
              "#7201a8"
             ],
             [
              0.3333333333333333,
              "#9c179e"
             ],
             [
              0.4444444444444444,
              "#bd3786"
             ],
             [
              0.5555555555555556,
              "#d8576b"
             ],
             [
              0.6666666666666666,
              "#ed7953"
             ],
             [
              0.7777777777777778,
              "#fb9f3a"
             ],
             [
              0.8888888888888888,
              "#fdca26"
             ],
             [
              1,
              "#f0f921"
             ]
            ],
            "type": "contour"
           }
          ],
          "contourcarpet": [
           {
            "colorbar": {
             "outlinewidth": 0,
             "ticks": ""
            },
            "type": "contourcarpet"
           }
          ],
          "heatmap": [
           {
            "colorbar": {
             "outlinewidth": 0,
             "ticks": ""
            },
            "colorscale": [
             [
              0,
              "#0d0887"
             ],
             [
              0.1111111111111111,
              "#46039f"
             ],
             [
              0.2222222222222222,
              "#7201a8"
             ],
             [
              0.3333333333333333,
              "#9c179e"
             ],
             [
              0.4444444444444444,
              "#bd3786"
             ],
             [
              0.5555555555555556,
              "#d8576b"
             ],
             [
              0.6666666666666666,
              "#ed7953"
             ],
             [
              0.7777777777777778,
              "#fb9f3a"
             ],
             [
              0.8888888888888888,
              "#fdca26"
             ],
             [
              1,
              "#f0f921"
             ]
            ],
            "type": "heatmap"
           }
          ],
          "heatmapgl": [
           {
            "colorbar": {
             "outlinewidth": 0,
             "ticks": ""
            },
            "colorscale": [
             [
              0,
              "#0d0887"
             ],
             [
              0.1111111111111111,
              "#46039f"
             ],
             [
              0.2222222222222222,
              "#7201a8"
             ],
             [
              0.3333333333333333,
              "#9c179e"
             ],
             [
              0.4444444444444444,
              "#bd3786"
             ],
             [
              0.5555555555555556,
              "#d8576b"
             ],
             [
              0.6666666666666666,
              "#ed7953"
             ],
             [
              0.7777777777777778,
              "#fb9f3a"
             ],
             [
              0.8888888888888888,
              "#fdca26"
             ],
             [
              1,
              "#f0f921"
             ]
            ],
            "type": "heatmapgl"
           }
          ],
          "histogram": [
           {
            "marker": {
             "pattern": {
              "fillmode": "overlay",
              "size": 10,
              "solidity": 0.2
             }
            },
            "type": "histogram"
           }
          ],
          "histogram2d": [
           {
            "colorbar": {
             "outlinewidth": 0,
             "ticks": ""
            },
            "colorscale": [
             [
              0,
              "#0d0887"
             ],
             [
              0.1111111111111111,
              "#46039f"
             ],
             [
              0.2222222222222222,
              "#7201a8"
             ],
             [
              0.3333333333333333,
              "#9c179e"
             ],
             [
              0.4444444444444444,
              "#bd3786"
             ],
             [
              0.5555555555555556,
              "#d8576b"
             ],
             [
              0.6666666666666666,
              "#ed7953"
             ],
             [
              0.7777777777777778,
              "#fb9f3a"
             ],
             [
              0.8888888888888888,
              "#fdca26"
             ],
             [
              1,
              "#f0f921"
             ]
            ],
            "type": "histogram2d"
           }
          ],
          "histogram2dcontour": [
           {
            "colorbar": {
             "outlinewidth": 0,
             "ticks": ""
            },
            "colorscale": [
             [
              0,
              "#0d0887"
             ],
             [
              0.1111111111111111,
              "#46039f"
             ],
             [
              0.2222222222222222,
              "#7201a8"
             ],
             [
              0.3333333333333333,
              "#9c179e"
             ],
             [
              0.4444444444444444,
              "#bd3786"
             ],
             [
              0.5555555555555556,
              "#d8576b"
             ],
             [
              0.6666666666666666,
              "#ed7953"
             ],
             [
              0.7777777777777778,
              "#fb9f3a"
             ],
             [
              0.8888888888888888,
              "#fdca26"
             ],
             [
              1,
              "#f0f921"
             ]
            ],
            "type": "histogram2dcontour"
           }
          ],
          "mesh3d": [
           {
            "colorbar": {
             "outlinewidth": 0,
             "ticks": ""
            },
            "type": "mesh3d"
           }
          ],
          "parcoords": [
           {
            "line": {
             "colorbar": {
              "outlinewidth": 0,
              "ticks": ""
             }
            },
            "type": "parcoords"
           }
          ],
          "pie": [
           {
            "automargin": true,
            "type": "pie"
           }
          ],
          "scatter": [
           {
            "fillpattern": {
             "fillmode": "overlay",
             "size": 10,
             "solidity": 0.2
            },
            "type": "scatter"
           }
          ],
          "scatter3d": [
           {
            "line": {
             "colorbar": {
              "outlinewidth": 0,
              "ticks": ""
             }
            },
            "marker": {
             "colorbar": {
              "outlinewidth": 0,
              "ticks": ""
             }
            },
            "type": "scatter3d"
           }
          ],
          "scattercarpet": [
           {
            "marker": {
             "colorbar": {
              "outlinewidth": 0,
              "ticks": ""
             }
            },
            "type": "scattercarpet"
           }
          ],
          "scattergeo": [
           {
            "marker": {
             "colorbar": {
              "outlinewidth": 0,
              "ticks": ""
             }
            },
            "type": "scattergeo"
           }
          ],
          "scattergl": [
           {
            "marker": {
             "colorbar": {
              "outlinewidth": 0,
              "ticks": ""
             }
            },
            "type": "scattergl"
           }
          ],
          "scattermapbox": [
           {
            "marker": {
             "colorbar": {
              "outlinewidth": 0,
              "ticks": ""
             }
            },
            "type": "scattermapbox"
           }
          ],
          "scatterpolar": [
           {
            "marker": {
             "colorbar": {
              "outlinewidth": 0,
              "ticks": ""
             }
            },
            "type": "scatterpolar"
           }
          ],
          "scatterpolargl": [
           {
            "marker": {
             "colorbar": {
              "outlinewidth": 0,
              "ticks": ""
             }
            },
            "type": "scatterpolargl"
           }
          ],
          "scatterternary": [
           {
            "marker": {
             "colorbar": {
              "outlinewidth": 0,
              "ticks": ""
             }
            },
            "type": "scatterternary"
           }
          ],
          "surface": [
           {
            "colorbar": {
             "outlinewidth": 0,
             "ticks": ""
            },
            "colorscale": [
             [
              0,
              "#0d0887"
             ],
             [
              0.1111111111111111,
              "#46039f"
             ],
             [
              0.2222222222222222,
              "#7201a8"
             ],
             [
              0.3333333333333333,
              "#9c179e"
             ],
             [
              0.4444444444444444,
              "#bd3786"
             ],
             [
              0.5555555555555556,
              "#d8576b"
             ],
             [
              0.6666666666666666,
              "#ed7953"
             ],
             [
              0.7777777777777778,
              "#fb9f3a"
             ],
             [
              0.8888888888888888,
              "#fdca26"
             ],
             [
              1,
              "#f0f921"
             ]
            ],
            "type": "surface"
           }
          ],
          "table": [
           {
            "cells": {
             "fill": {
              "color": "#EBF0F8"
             },
             "line": {
              "color": "white"
             }
            },
            "header": {
             "fill": {
              "color": "#C8D4E3"
             },
             "line": {
              "color": "white"
             }
            },
            "type": "table"
           }
          ]
         },
         "layout": {
          "annotationdefaults": {
           "arrowcolor": "#2a3f5f",
           "arrowhead": 0,
           "arrowwidth": 1
          },
          "autotypenumbers": "strict",
          "coloraxis": {
           "colorbar": {
            "outlinewidth": 0,
            "ticks": ""
           }
          },
          "colorscale": {
           "diverging": [
            [
             0,
             "#8e0152"
            ],
            [
             0.1,
             "#c51b7d"
            ],
            [
             0.2,
             "#de77ae"
            ],
            [
             0.3,
             "#f1b6da"
            ],
            [
             0.4,
             "#fde0ef"
            ],
            [
             0.5,
             "#f7f7f7"
            ],
            [
             0.6,
             "#e6f5d0"
            ],
            [
             0.7,
             "#b8e186"
            ],
            [
             0.8,
             "#7fbc41"
            ],
            [
             0.9,
             "#4d9221"
            ],
            [
             1,
             "#276419"
            ]
           ],
           "sequential": [
            [
             0,
             "#0d0887"
            ],
            [
             0.1111111111111111,
             "#46039f"
            ],
            [
             0.2222222222222222,
             "#7201a8"
            ],
            [
             0.3333333333333333,
             "#9c179e"
            ],
            [
             0.4444444444444444,
             "#bd3786"
            ],
            [
             0.5555555555555556,
             "#d8576b"
            ],
            [
             0.6666666666666666,
             "#ed7953"
            ],
            [
             0.7777777777777778,
             "#fb9f3a"
            ],
            [
             0.8888888888888888,
             "#fdca26"
            ],
            [
             1,
             "#f0f921"
            ]
           ],
           "sequentialminus": [
            [
             0,
             "#0d0887"
            ],
            [
             0.1111111111111111,
             "#46039f"
            ],
            [
             0.2222222222222222,
             "#7201a8"
            ],
            [
             0.3333333333333333,
             "#9c179e"
            ],
            [
             0.4444444444444444,
             "#bd3786"
            ],
            [
             0.5555555555555556,
             "#d8576b"
            ],
            [
             0.6666666666666666,
             "#ed7953"
            ],
            [
             0.7777777777777778,
             "#fb9f3a"
            ],
            [
             0.8888888888888888,
             "#fdca26"
            ],
            [
             1,
             "#f0f921"
            ]
           ]
          },
          "colorway": [
           "#636efa",
           "#EF553B",
           "#00cc96",
           "#ab63fa",
           "#FFA15A",
           "#19d3f3",
           "#FF6692",
           "#B6E880",
           "#FF97FF",
           "#FECB52"
          ],
          "font": {
           "color": "#2a3f5f"
          },
          "geo": {
           "bgcolor": "white",
           "lakecolor": "white",
           "landcolor": "#E5ECF6",
           "showlakes": true,
           "showland": true,
           "subunitcolor": "white"
          },
          "hoverlabel": {
           "align": "left"
          },
          "hovermode": "closest",
          "mapbox": {
           "style": "light"
          },
          "paper_bgcolor": "white",
          "plot_bgcolor": "#E5ECF6",
          "polar": {
           "angularaxis": {
            "gridcolor": "white",
            "linecolor": "white",
            "ticks": ""
           },
           "bgcolor": "#E5ECF6",
           "radialaxis": {
            "gridcolor": "white",
            "linecolor": "white",
            "ticks": ""
           }
          },
          "scene": {
           "xaxis": {
            "backgroundcolor": "#E5ECF6",
            "gridcolor": "white",
            "gridwidth": 2,
            "linecolor": "white",
            "showbackground": true,
            "ticks": "",
            "zerolinecolor": "white"
           },
           "yaxis": {
            "backgroundcolor": "#E5ECF6",
            "gridcolor": "white",
            "gridwidth": 2,
            "linecolor": "white",
            "showbackground": true,
            "ticks": "",
            "zerolinecolor": "white"
           },
           "zaxis": {
            "backgroundcolor": "#E5ECF6",
            "gridcolor": "white",
            "gridwidth": 2,
            "linecolor": "white",
            "showbackground": true,
            "ticks": "",
            "zerolinecolor": "white"
           }
          },
          "shapedefaults": {
           "line": {
            "color": "#2a3f5f"
           }
          },
          "ternary": {
           "aaxis": {
            "gridcolor": "white",
            "linecolor": "white",
            "ticks": ""
           },
           "baxis": {
            "gridcolor": "white",
            "linecolor": "white",
            "ticks": ""
           },
           "bgcolor": "#E5ECF6",
           "caxis": {
            "gridcolor": "white",
            "linecolor": "white",
            "ticks": ""
           }
          },
          "title": {
           "x": 0.05
          },
          "xaxis": {
           "automargin": true,
           "gridcolor": "white",
           "linecolor": "white",
           "ticks": "",
           "title": {
            "standoff": 15
           },
           "zerolinecolor": "white",
           "zerolinewidth": 2
          },
          "yaxis": {
           "automargin": true,
           "gridcolor": "white",
           "linecolor": "white",
           "ticks": "",
           "title": {
            "standoff": 15
           },
           "zerolinecolor": "white",
           "zerolinewidth": 2
          }
         }
        },
        "title": {
         "text": "Predictions vs True Values for Selected Stocks"
        },
        "updatemenus": [
         {
          "active": 7,
          "buttons": [
           {
            "args": [
             {
              "visible": [
               true,
               true,
               false,
               false,
               false,
               false,
               false,
               false,
               false,
               false,
               false,
               false,
               false,
               false
              ]
             },
             {
              "title": "META Predictions vs True Values"
             }
            ],
            "label": "META",
            "method": "update"
           },
           {
            "args": [
             {
              "visible": [
               false,
               false,
               true,
               true,
               false,
               false,
               false,
               false,
               false,
               false,
               false,
               false,
               false,
               false
              ]
             },
             {
              "title": "ADBE Predictions vs True Values"
             }
            ],
            "label": "ADBE",
            "method": "update"
           },
           {
            "args": [
             {
              "visible": [
               false,
               false,
               false,
               false,
               true,
               true,
               false,
               false,
               false,
               false,
               false,
               false,
               false,
               false
              ]
             },
             {
              "title": "MA Predictions vs True Values"
             }
            ],
            "label": "MA",
            "method": "update"
           },
           {
            "args": [
             {
              "visible": [
               false,
               false,
               false,
               false,
               false,
               false,
               true,
               true,
               false,
               false,
               false,
               false,
               false,
               false
              ]
             },
             {
              "title": "GS Predictions vs True Values"
             }
            ],
            "label": "GS",
            "method": "update"
           },
           {
            "args": [
             {
              "visible": [
               false,
               false,
               false,
               false,
               false,
               false,
               false,
               false,
               true,
               true,
               false,
               false,
               false,
               false
              ]
             },
             {
              "title": "NFLX Predictions vs True Values"
             }
            ],
            "label": "NFLX",
            "method": "update"
           },
           {
            "args": [
             {
              "visible": [
               false,
               false,
               false,
               false,
               false,
               false,
               false,
               false,
               false,
               false,
               true,
               true,
               false,
               false
              ]
             },
             {
              "title": "LMT Predictions vs True Values"
             }
            ],
            "label": "LMT",
            "method": "update"
           },
           {
            "args": [
             {
              "visible": [
               false,
               false,
               false,
               false,
               false,
               false,
               false,
               false,
               false,
               false,
               false,
               false,
               true,
               true
              ]
             },
             {
              "title": "MCD Predictions vs True Values"
             }
            ],
            "label": "MCD",
            "method": "update"
           },
           {
            "args": [
             {
              "visible": [
               true,
               true,
               true,
               true,
               true,
               true,
               true,
               true,
               true,
               true,
               true,
               true,
               true,
               true
              ]
             },
             {
              "title": "All Stocks Predictions vs True Values"
             }
            ],
            "label": "All",
            "method": "update"
           }
          ],
          "direction": "down",
          "showactive": true
         }
        ],
        "xaxis": {
         "gridcolor": "lightgray",
         "gridwidth": 1,
         "title": {
          "text": "Date"
         }
        },
        "yaxis": {
         "gridcolor": "lightgray",
         "gridwidth": 1,
         "title": {
          "text": "Value"
         }
        }
       }
      },
      "text/html": [
       "<div>                            <div id=\"404876ee-6cec-41ca-8011-ee494a9b14d8\" class=\"plotly-graph-div\" style=\"height:525px; width:100%;\"></div>            <script type=\"text/javascript\">                require([\"plotly\"], function(Plotly) {                    window.PLOTLYENV=window.PLOTLYENV || {};                                    if (document.getElementById(\"404876ee-6cec-41ca-8011-ee494a9b14d8\")) {                    Plotly.newPlot(                        \"404876ee-6cec-41ca-8011-ee494a9b14d8\",                        [{\"line\":{\"color\":\"hsl(262, 73.00247024906851%, 54.67866226188668%)\"},\"mode\":\"lines\",\"name\":\"META True Values\",\"x\":[\"2023-11-15T00:00:00\",\"2023-11-16T00:00:00\",\"2023-11-17T00:00:00\",\"2023-11-20T00:00:00\",\"2023-11-21T00:00:00\",\"2023-11-22T00:00:00\",\"2023-11-24T00:00:00\",\"2023-11-27T00:00:00\",\"2023-11-28T00:00:00\",\"2023-11-29T00:00:00\",\"2023-11-30T00:00:00\",\"2023-12-01T00:00:00\",\"2023-12-04T00:00:00\",\"2023-12-05T00:00:00\",\"2023-12-06T00:00:00\",\"2023-12-07T00:00:00\",\"2023-12-08T00:00:00\",\"2023-12-11T00:00:00\",\"2023-12-12T00:00:00\",\"2023-12-13T00:00:00\",\"2023-12-14T00:00:00\",\"2023-12-15T00:00:00\",\"2023-12-18T00:00:00\",\"2023-12-19T00:00:00\",\"2023-12-20T00:00:00\",\"2023-12-21T00:00:00\",\"2023-12-22T00:00:00\",\"2023-12-26T00:00:00\",\"2023-12-27T00:00:00\",\"2023-12-28T00:00:00\",\"2023-12-29T00:00:00\"],\"y\":[332.7099914550781,334.19000244140625,335.0400085449219,339.9700012207031,336.9800109863281,341.489990234375,338.2300109863281,334.70001220703125,338.989990234375,332.20001220703125,327.1499938964844,324.82000732421875,320.0199890136719,318.2900085449219,317.45001220703125,326.5899963378906,332.75,325.2799987792969,334.2200012207031,334.739990234375,333.1700134277344,334.9200134277344,344.6199951171875,350.3599853515625,349.2799987792969,354.0899963378906,353.3900146484375,354.8299865722656,357.8299865722656,358.32000732421875,353.9599914550781],\"type\":\"scatter\"},{\"line\":{\"color\":\"hsl(262, 73.00247024906851%, 54.67866226188668%)\",\"dash\":\"dash\"},\"mode\":\"lines\",\"name\":\"META Predictions\",\"x\":[\"2023-12-15\",\"2023-12-18\",\"2023-12-19\",\"2023-12-20\",\"2023-12-21\",\"2023-12-22\",\"2023-12-26\",\"2023-12-27\",\"2023-12-28\"],\"y\":[306.5460510253906,303.1202697753906,305.65875244140625,306.9281311035156,309.3328552246094,308.7178039550781,309.8272399902344,314.104248046875,314.94635009765625],\"type\":\"scatter\"},{\"line\":{\"color\":\"hsl(314, 93.48883749487193%, 69.04818792358189%)\"},\"mode\":\"lines\",\"name\":\"ADBE True Values\",\"x\":[\"2023-11-15T00:00:00\",\"2023-11-16T00:00:00\",\"2023-11-17T00:00:00\",\"2023-11-20T00:00:00\",\"2023-11-21T00:00:00\",\"2023-11-22T00:00:00\",\"2023-11-24T00:00:00\",\"2023-11-27T00:00:00\",\"2023-11-28T00:00:00\",\"2023-11-29T00:00:00\",\"2023-11-30T00:00:00\",\"2023-12-01T00:00:00\",\"2023-12-04T00:00:00\",\"2023-12-05T00:00:00\",\"2023-12-06T00:00:00\",\"2023-12-07T00:00:00\",\"2023-12-08T00:00:00\",\"2023-12-11T00:00:00\",\"2023-12-12T00:00:00\",\"2023-12-13T00:00:00\",\"2023-12-14T00:00:00\",\"2023-12-15T00:00:00\",\"2023-12-18T00:00:00\",\"2023-12-19T00:00:00\",\"2023-12-20T00:00:00\",\"2023-12-21T00:00:00\",\"2023-12-22T00:00:00\",\"2023-12-26T00:00:00\",\"2023-12-27T00:00:00\",\"2023-12-28T00:00:00\",\"2023-12-29T00:00:00\"],\"y\":[595.3099975585938,602.0599975585938,602.6599731445312,612.7000122070312,610.989990234375,619.719970703125,619.4299926757812,619.27001953125,623.3200073242188,617.3900146484375,611.010009765625,612.469970703125,604.5599975585938,602.219970703125,595.7000122070312,608.780029296875,610.010009765625,625.2000122070312,633.6599731445312,624.260009765625,584.6400146484375,584.6799926757812,599.1300048828125,604.6400146484375,596.0599975585938,600.1400146484375,598.75,598.260009765625,596.0800170898438,595.52001953125,596.5999755859375],\"type\":\"scatter\"},{\"line\":{\"color\":\"hsl(314, 93.48883749487193%, 69.04818792358189%)\",\"dash\":\"dash\"},\"mode\":\"lines\",\"name\":\"ADBE Predictions\",\"x\":[\"2023-12-15\",\"2023-12-18\",\"2023-12-19\",\"2023-12-20\",\"2023-12-21\",\"2023-12-22\",\"2023-12-26\",\"2023-12-27\",\"2023-12-28\"],\"y\":[557.619873046875,556.8392944335938,556.0986328125,552.6427001953125,553.7796630859375,552.3759765625,550.7181396484375,547.8931274414062,546.465576171875],\"type\":\"scatter\"},{\"line\":{\"color\":\"hsl(72, 75.38507318987504%, 64.4596531252965%)\"},\"mode\":\"lines\",\"name\":\"MA True Values\",\"x\":[\"2023-11-15T00:00:00\",\"2023-11-16T00:00:00\",\"2023-11-17T00:00:00\",\"2023-11-20T00:00:00\",\"2023-11-21T00:00:00\",\"2023-11-22T00:00:00\",\"2023-11-24T00:00:00\",\"2023-11-27T00:00:00\",\"2023-11-28T00:00:00\",\"2023-11-29T00:00:00\",\"2023-11-30T00:00:00\",\"2023-12-01T00:00:00\",\"2023-12-04T00:00:00\",\"2023-12-05T00:00:00\",\"2023-12-06T00:00:00\",\"2023-12-07T00:00:00\",\"2023-12-08T00:00:00\",\"2023-12-11T00:00:00\",\"2023-12-12T00:00:00\",\"2023-12-13T00:00:00\",\"2023-12-14T00:00:00\",\"2023-12-15T00:00:00\",\"2023-12-18T00:00:00\",\"2023-12-19T00:00:00\",\"2023-12-20T00:00:00\",\"2023-12-21T00:00:00\",\"2023-12-22T00:00:00\",\"2023-12-26T00:00:00\",\"2023-12-27T00:00:00\",\"2023-12-28T00:00:00\",\"2023-12-29T00:00:00\"],\"y\":[396.8299865722656,397.1000061035156,400.29998779296875,404.3999938964844,408.95001220703125,410.3299865722656,412.5,408.9700012207031,409.010009765625,409.82000732421875,413.8299865722656,414.3599853515625,408.2300109863281,408.69000244140625,410.3800048828125,413.1499938964844,412.1600036621094,415.7099914550781,420.75,424.67999267578125,418.55999755859375,418.57000732421875,424.42999267578125,425.4700012207031,419.45001220703125,423.44000244140625,424.1000061035156,423.6700134277344,424.3599853515625,426.32000732421875,426.510009765625],\"type\":\"scatter\"},{\"line\":{\"color\":\"hsl(72, 75.38507318987504%, 64.4596531252965%)\",\"dash\":\"dash\"},\"mode\":\"lines\",\"name\":\"MA Predictions\",\"x\":[\"2023-12-15\",\"2023-12-18\",\"2023-12-19\",\"2023-12-20\",\"2023-12-21\",\"2023-12-22\",\"2023-12-26\",\"2023-12-27\",\"2023-12-28\"],\"y\":[398.0412292480469,398.41314697265625,399.4419860839844,399.27825927734375,400.1919250488281,400.91326904296875,400.9620666503906,401.29339599609375,402.0763854980469],\"type\":\"scatter\"},{\"line\":{\"color\":\"hsl(208, 93.71994177526761%, 50.47137801627807%)\"},\"mode\":\"lines\",\"name\":\"GS True Values\",\"x\":[\"2023-11-15T00:00:00\",\"2023-11-16T00:00:00\",\"2023-11-17T00:00:00\",\"2023-11-20T00:00:00\",\"2023-11-21T00:00:00\",\"2023-11-22T00:00:00\",\"2023-11-24T00:00:00\",\"2023-11-27T00:00:00\",\"2023-11-28T00:00:00\",\"2023-11-29T00:00:00\",\"2023-11-30T00:00:00\",\"2023-12-01T00:00:00\",\"2023-12-04T00:00:00\",\"2023-12-05T00:00:00\",\"2023-12-06T00:00:00\",\"2023-12-07T00:00:00\",\"2023-12-08T00:00:00\",\"2023-12-11T00:00:00\",\"2023-12-12T00:00:00\",\"2023-12-13T00:00:00\",\"2023-12-14T00:00:00\",\"2023-12-15T00:00:00\",\"2023-12-18T00:00:00\",\"2023-12-19T00:00:00\",\"2023-12-20T00:00:00\",\"2023-12-21T00:00:00\",\"2023-12-22T00:00:00\",\"2023-12-26T00:00:00\",\"2023-12-27T00:00:00\",\"2023-12-28T00:00:00\",\"2023-12-29T00:00:00\"],\"y\":[337.6000061035156,336.6700134277344,339.19000244140625,339.45001220703125,334.9700012207031,338.6400146484375,339.1499938964844,337.7099914550781,337.6499938964844,340.260009765625,341.5400085449219,348.42999267578125,349.3900146484375,341.75,341.9700012207031,344.6199951171875,350.8299865722656,351.760009765625,352.6099853515625,362.7300109863281,383.4700012207031,380.510009765625,376.3999938964844,382.45001220703125,377.5199890136719,380.57000732421875,380.6499938964844,381.6099853515625,384.4800109863281,386.4100036621094,385.7699890136719],\"type\":\"scatter\"},{\"line\":{\"color\":\"hsl(208, 93.71994177526761%, 50.47137801627807%)\",\"dash\":\"dash\"},\"mode\":\"lines\",\"name\":\"GS Predictions\",\"x\":[\"2023-12-15\",\"2023-12-18\",\"2023-12-19\",\"2023-12-20\",\"2023-12-21\",\"2023-12-22\",\"2023-12-26\",\"2023-12-27\",\"2023-12-28\"],\"y\":[361.3177795410156,361.8061218261719,365.7807922363281,367.3349914550781,369.5223693847656,371.4447326660156,373.1112365722656,375.96295166015625,377.83148193359375],\"type\":\"scatter\"},{\"line\":{\"color\":\"hsl(270, 78.34862100599783%, 59.9487179491248%)\"},\"mode\":\"lines\",\"name\":\"NFLX True Values\",\"x\":[\"2023-11-15T00:00:00\",\"2023-11-16T00:00:00\",\"2023-11-17T00:00:00\",\"2023-11-20T00:00:00\",\"2023-11-21T00:00:00\",\"2023-11-22T00:00:00\",\"2023-11-24T00:00:00\",\"2023-11-27T00:00:00\",\"2023-11-28T00:00:00\",\"2023-11-29T00:00:00\",\"2023-11-30T00:00:00\",\"2023-12-01T00:00:00\",\"2023-12-04T00:00:00\",\"2023-12-05T00:00:00\",\"2023-12-06T00:00:00\",\"2023-12-07T00:00:00\",\"2023-12-08T00:00:00\",\"2023-12-11T00:00:00\",\"2023-12-12T00:00:00\",\"2023-12-13T00:00:00\",\"2023-12-14T00:00:00\",\"2023-12-15T00:00:00\",\"2023-12-18T00:00:00\",\"2023-12-19T00:00:00\",\"2023-12-20T00:00:00\",\"2023-12-21T00:00:00\",\"2023-12-22T00:00:00\",\"2023-12-26T00:00:00\",\"2023-12-27T00:00:00\",\"2023-12-28T00:00:00\",\"2023-12-29T00:00:00\"],\"y\":[461.94000244140625,466.95001220703125,465.9100036621094,474.4700012207031,474.95001220703125,478.0,479.55999755859375,479.1700134277344,479.0,477.19000244140625,473.9700012207031,465.739990234375,453.8999938964844,455.1499938964844,446.7300109863281,452.0,453.760009765625,459.8900146484375,463.0,479.9800109863281,469.8299865722656,472.05999755859375,486.1199951171875,495.0199890136719,489.2699890136719,491.6099853515625,486.760009765625,491.19000244140625,491.7900085449219,490.510009765625,486.8800048828125],\"type\":\"scatter\"},{\"line\":{\"color\":\"hsl(270, 78.34862100599783%, 59.9487179491248%)\",\"dash\":\"dash\"},\"mode\":\"lines\",\"name\":\"NFLX Predictions\",\"x\":[\"2023-12-15\",\"2023-12-18\",\"2023-12-19\",\"2023-12-20\",\"2023-12-21\",\"2023-12-22\",\"2023-12-26\",\"2023-12-27\",\"2023-12-28\"],\"y\":[471.0022277832031,475.1975402832031,478.3806457519531,480.6172180175781,482.88568115234375,484.4594421386719,486.8113708496094,488.8592834472656,488.7320251464844],\"type\":\"scatter\"},{\"line\":{\"color\":\"hsl(266, 90.16134605737001%, 60.52462717340605%)\"},\"mode\":\"lines\",\"name\":\"LMT True Values\",\"x\":[\"2023-11-15T00:00:00\",\"2023-11-16T00:00:00\",\"2023-11-17T00:00:00\",\"2023-11-20T00:00:00\",\"2023-11-21T00:00:00\",\"2023-11-22T00:00:00\",\"2023-11-24T00:00:00\",\"2023-11-27T00:00:00\",\"2023-11-28T00:00:00\",\"2023-11-29T00:00:00\",\"2023-11-30T00:00:00\",\"2023-12-01T00:00:00\",\"2023-12-04T00:00:00\",\"2023-12-05T00:00:00\",\"2023-12-06T00:00:00\",\"2023-12-07T00:00:00\",\"2023-12-08T00:00:00\",\"2023-12-11T00:00:00\",\"2023-12-12T00:00:00\",\"2023-12-13T00:00:00\",\"2023-12-14T00:00:00\",\"2023-12-15T00:00:00\",\"2023-12-18T00:00:00\",\"2023-12-19T00:00:00\",\"2023-12-20T00:00:00\",\"2023-12-21T00:00:00\",\"2023-12-22T00:00:00\",\"2023-12-26T00:00:00\",\"2023-12-27T00:00:00\",\"2023-12-28T00:00:00\",\"2023-12-29T00:00:00\"],\"y\":[445.1400146484375,445.5899963378906,444.67999267578125,443.80999755859375,448.1499938964844,450.3999938964844,452.010009765625,445.489990234375,448.2699890136719,445.010009765625,447.7699890136719,449.4100036621094,450.69000244140625,446.239990234375,449.4100036621094,447.1099853515625,448.0199890136719,451.260009765625,451.6300048828125,451.44000244140625,445.2699890136719,441.80999755859375,446.9100036621094,447.7900085449219,442.6000061035156,448.0199890136719,448.2200012207031,450.17999267578125,448.9700012207031,451.2300109863281,453.239990234375],\"type\":\"scatter\"},{\"line\":{\"color\":\"hsl(266, 90.16134605737001%, 60.52462717340605%)\",\"dash\":\"dash\"},\"mode\":\"lines\",\"name\":\"LMT Predictions\",\"x\":[\"2023-12-15\",\"2023-12-18\",\"2023-12-19\",\"2023-12-20\",\"2023-12-21\",\"2023-12-22\",\"2023-12-26\",\"2023-12-27\",\"2023-12-28\"],\"y\":[466.71246337890625,465.4334411621094,465.218994140625,464.0083312988281,464.66302490234375,464.9200744628906,465.2455139160156,465.0499572753906,465.7554016113281],\"type\":\"scatter\"},{\"line\":{\"color\":\"hsl(257, 95.56937233045008%, 62.16022674821908%)\"},\"mode\":\"lines\",\"name\":\"MCD True Values\",\"x\":[\"2023-11-15T00:00:00\",\"2023-11-16T00:00:00\",\"2023-11-17T00:00:00\",\"2023-11-20T00:00:00\",\"2023-11-21T00:00:00\",\"2023-11-22T00:00:00\",\"2023-11-24T00:00:00\",\"2023-11-27T00:00:00\",\"2023-11-28T00:00:00\",\"2023-11-29T00:00:00\",\"2023-11-30T00:00:00\",\"2023-12-01T00:00:00\",\"2023-12-04T00:00:00\",\"2023-12-05T00:00:00\",\"2023-12-06T00:00:00\",\"2023-12-07T00:00:00\",\"2023-12-08T00:00:00\",\"2023-12-11T00:00:00\",\"2023-12-12T00:00:00\",\"2023-12-13T00:00:00\",\"2023-12-14T00:00:00\",\"2023-12-15T00:00:00\",\"2023-12-18T00:00:00\",\"2023-12-19T00:00:00\",\"2023-12-20T00:00:00\",\"2023-12-21T00:00:00\",\"2023-12-22T00:00:00\",\"2023-12-26T00:00:00\",\"2023-12-27T00:00:00\",\"2023-12-28T00:00:00\",\"2023-12-29T00:00:00\"],\"y\":[270.3900146484375,276.1199951171875,275.75,279.0299987792969,280.4700012207031,281.92999267578125,282.5400085449219,281.8399963378906,282.0899963378906,280.3800048828125,281.8399963378906,285.9599914550781,286.1300048828125,286.5400085449219,286.8599853515625,286.7900085449219,285.5299987792969,289.1499938964844,291.4200134277344,295.92999267578125,290.0199890136719,287.2699890136719,290.2300109863281,290.7300109863281,288.989990234375,291.3900146484375,291.70001220703125,292.8599853515625,294.54998779296875,295.8399963378906,296.510009765625],\"type\":\"scatter\"},{\"line\":{\"color\":\"hsl(257, 95.56937233045008%, 62.16022674821908%)\",\"dash\":\"dash\"},\"mode\":\"lines\",\"name\":\"MCD Predictions\",\"x\":[\"2023-12-15\",\"2023-12-18\",\"2023-12-19\",\"2023-12-20\",\"2023-12-21\",\"2023-12-22\",\"2023-12-26\",\"2023-12-27\",\"2023-12-28\"],\"y\":[336.725341796875,335.0237121582031,335.04632568359375,334.8549499511719,335.5316162109375,335.7066955566406,336.0034484863281,336.9322814941406,337.39678955078125],\"type\":\"scatter\"}],                        {\"template\":{\"data\":{\"histogram2dcontour\":[{\"type\":\"histogram2dcontour\",\"colorbar\":{\"outlinewidth\":0,\"ticks\":\"\"},\"colorscale\":[[0.0,\"#0d0887\"],[0.1111111111111111,\"#46039f\"],[0.2222222222222222,\"#7201a8\"],[0.3333333333333333,\"#9c179e\"],[0.4444444444444444,\"#bd3786\"],[0.5555555555555556,\"#d8576b\"],[0.6666666666666666,\"#ed7953\"],[0.7777777777777778,\"#fb9f3a\"],[0.8888888888888888,\"#fdca26\"],[1.0,\"#f0f921\"]]}],\"choropleth\":[{\"type\":\"choropleth\",\"colorbar\":{\"outlinewidth\":0,\"ticks\":\"\"}}],\"histogram2d\":[{\"type\":\"histogram2d\",\"colorbar\":{\"outlinewidth\":0,\"ticks\":\"\"},\"colorscale\":[[0.0,\"#0d0887\"],[0.1111111111111111,\"#46039f\"],[0.2222222222222222,\"#7201a8\"],[0.3333333333333333,\"#9c179e\"],[0.4444444444444444,\"#bd3786\"],[0.5555555555555556,\"#d8576b\"],[0.6666666666666666,\"#ed7953\"],[0.7777777777777778,\"#fb9f3a\"],[0.8888888888888888,\"#fdca26\"],[1.0,\"#f0f921\"]]}],\"heatmap\":[{\"type\":\"heatmap\",\"colorbar\":{\"outlinewidth\":0,\"ticks\":\"\"},\"colorscale\":[[0.0,\"#0d0887\"],[0.1111111111111111,\"#46039f\"],[0.2222222222222222,\"#7201a8\"],[0.3333333333333333,\"#9c179e\"],[0.4444444444444444,\"#bd3786\"],[0.5555555555555556,\"#d8576b\"],[0.6666666666666666,\"#ed7953\"],[0.7777777777777778,\"#fb9f3a\"],[0.8888888888888888,\"#fdca26\"],[1.0,\"#f0f921\"]]}],\"heatmapgl\":[{\"type\":\"heatmapgl\",\"colorbar\":{\"outlinewidth\":0,\"ticks\":\"\"},\"colorscale\":[[0.0,\"#0d0887\"],[0.1111111111111111,\"#46039f\"],[0.2222222222222222,\"#7201a8\"],[0.3333333333333333,\"#9c179e\"],[0.4444444444444444,\"#bd3786\"],[0.5555555555555556,\"#d8576b\"],[0.6666666666666666,\"#ed7953\"],[0.7777777777777778,\"#fb9f3a\"],[0.8888888888888888,\"#fdca26\"],[1.0,\"#f0f921\"]]}],\"contourcarpet\":[{\"type\":\"contourcarpet\",\"colorbar\":{\"outlinewidth\":0,\"ticks\":\"\"}}],\"contour\":[{\"type\":\"contour\",\"colorbar\":{\"outlinewidth\":0,\"ticks\":\"\"},\"colorscale\":[[0.0,\"#0d0887\"],[0.1111111111111111,\"#46039f\"],[0.2222222222222222,\"#7201a8\"],[0.3333333333333333,\"#9c179e\"],[0.4444444444444444,\"#bd3786\"],[0.5555555555555556,\"#d8576b\"],[0.6666666666666666,\"#ed7953\"],[0.7777777777777778,\"#fb9f3a\"],[0.8888888888888888,\"#fdca26\"],[1.0,\"#f0f921\"]]}],\"surface\":[{\"type\":\"surface\",\"colorbar\":{\"outlinewidth\":0,\"ticks\":\"\"},\"colorscale\":[[0.0,\"#0d0887\"],[0.1111111111111111,\"#46039f\"],[0.2222222222222222,\"#7201a8\"],[0.3333333333333333,\"#9c179e\"],[0.4444444444444444,\"#bd3786\"],[0.5555555555555556,\"#d8576b\"],[0.6666666666666666,\"#ed7953\"],[0.7777777777777778,\"#fb9f3a\"],[0.8888888888888888,\"#fdca26\"],[1.0,\"#f0f921\"]]}],\"mesh3d\":[{\"type\":\"mesh3d\",\"colorbar\":{\"outlinewidth\":0,\"ticks\":\"\"}}],\"scatter\":[{\"fillpattern\":{\"fillmode\":\"overlay\",\"size\":10,\"solidity\":0.2},\"type\":\"scatter\"}],\"parcoords\":[{\"type\":\"parcoords\",\"line\":{\"colorbar\":{\"outlinewidth\":0,\"ticks\":\"\"}}}],\"scatterpolargl\":[{\"type\":\"scatterpolargl\",\"marker\":{\"colorbar\":{\"outlinewidth\":0,\"ticks\":\"\"}}}],\"bar\":[{\"error_x\":{\"color\":\"#2a3f5f\"},\"error_y\":{\"color\":\"#2a3f5f\"},\"marker\":{\"line\":{\"color\":\"#E5ECF6\",\"width\":0.5},\"pattern\":{\"fillmode\":\"overlay\",\"size\":10,\"solidity\":0.2}},\"type\":\"bar\"}],\"scattergeo\":[{\"type\":\"scattergeo\",\"marker\":{\"colorbar\":{\"outlinewidth\":0,\"ticks\":\"\"}}}],\"scatterpolar\":[{\"type\":\"scatterpolar\",\"marker\":{\"colorbar\":{\"outlinewidth\":0,\"ticks\":\"\"}}}],\"histogram\":[{\"marker\":{\"pattern\":{\"fillmode\":\"overlay\",\"size\":10,\"solidity\":0.2}},\"type\":\"histogram\"}],\"scattergl\":[{\"type\":\"scattergl\",\"marker\":{\"colorbar\":{\"outlinewidth\":0,\"ticks\":\"\"}}}],\"scatter3d\":[{\"type\":\"scatter3d\",\"line\":{\"colorbar\":{\"outlinewidth\":0,\"ticks\":\"\"}},\"marker\":{\"colorbar\":{\"outlinewidth\":0,\"ticks\":\"\"}}}],\"scattermapbox\":[{\"type\":\"scattermapbox\",\"marker\":{\"colorbar\":{\"outlinewidth\":0,\"ticks\":\"\"}}}],\"scatterternary\":[{\"type\":\"scatterternary\",\"marker\":{\"colorbar\":{\"outlinewidth\":0,\"ticks\":\"\"}}}],\"scattercarpet\":[{\"type\":\"scattercarpet\",\"marker\":{\"colorbar\":{\"outlinewidth\":0,\"ticks\":\"\"}}}],\"carpet\":[{\"aaxis\":{\"endlinecolor\":\"#2a3f5f\",\"gridcolor\":\"white\",\"linecolor\":\"white\",\"minorgridcolor\":\"white\",\"startlinecolor\":\"#2a3f5f\"},\"baxis\":{\"endlinecolor\":\"#2a3f5f\",\"gridcolor\":\"white\",\"linecolor\":\"white\",\"minorgridcolor\":\"white\",\"startlinecolor\":\"#2a3f5f\"},\"type\":\"carpet\"}],\"table\":[{\"cells\":{\"fill\":{\"color\":\"#EBF0F8\"},\"line\":{\"color\":\"white\"}},\"header\":{\"fill\":{\"color\":\"#C8D4E3\"},\"line\":{\"color\":\"white\"}},\"type\":\"table\"}],\"barpolar\":[{\"marker\":{\"line\":{\"color\":\"#E5ECF6\",\"width\":0.5},\"pattern\":{\"fillmode\":\"overlay\",\"size\":10,\"solidity\":0.2}},\"type\":\"barpolar\"}],\"pie\":[{\"automargin\":true,\"type\":\"pie\"}]},\"layout\":{\"autotypenumbers\":\"strict\",\"colorway\":[\"#636efa\",\"#EF553B\",\"#00cc96\",\"#ab63fa\",\"#FFA15A\",\"#19d3f3\",\"#FF6692\",\"#B6E880\",\"#FF97FF\",\"#FECB52\"],\"font\":{\"color\":\"#2a3f5f\"},\"hovermode\":\"closest\",\"hoverlabel\":{\"align\":\"left\"},\"paper_bgcolor\":\"white\",\"plot_bgcolor\":\"#E5ECF6\",\"polar\":{\"bgcolor\":\"#E5ECF6\",\"angularaxis\":{\"gridcolor\":\"white\",\"linecolor\":\"white\",\"ticks\":\"\"},\"radialaxis\":{\"gridcolor\":\"white\",\"linecolor\":\"white\",\"ticks\":\"\"}},\"ternary\":{\"bgcolor\":\"#E5ECF6\",\"aaxis\":{\"gridcolor\":\"white\",\"linecolor\":\"white\",\"ticks\":\"\"},\"baxis\":{\"gridcolor\":\"white\",\"linecolor\":\"white\",\"ticks\":\"\"},\"caxis\":{\"gridcolor\":\"white\",\"linecolor\":\"white\",\"ticks\":\"\"}},\"coloraxis\":{\"colorbar\":{\"outlinewidth\":0,\"ticks\":\"\"}},\"colorscale\":{\"sequential\":[[0.0,\"#0d0887\"],[0.1111111111111111,\"#46039f\"],[0.2222222222222222,\"#7201a8\"],[0.3333333333333333,\"#9c179e\"],[0.4444444444444444,\"#bd3786\"],[0.5555555555555556,\"#d8576b\"],[0.6666666666666666,\"#ed7953\"],[0.7777777777777778,\"#fb9f3a\"],[0.8888888888888888,\"#fdca26\"],[1.0,\"#f0f921\"]],\"sequentialminus\":[[0.0,\"#0d0887\"],[0.1111111111111111,\"#46039f\"],[0.2222222222222222,\"#7201a8\"],[0.3333333333333333,\"#9c179e\"],[0.4444444444444444,\"#bd3786\"],[0.5555555555555556,\"#d8576b\"],[0.6666666666666666,\"#ed7953\"],[0.7777777777777778,\"#fb9f3a\"],[0.8888888888888888,\"#fdca26\"],[1.0,\"#f0f921\"]],\"diverging\":[[0,\"#8e0152\"],[0.1,\"#c51b7d\"],[0.2,\"#de77ae\"],[0.3,\"#f1b6da\"],[0.4,\"#fde0ef\"],[0.5,\"#f7f7f7\"],[0.6,\"#e6f5d0\"],[0.7,\"#b8e186\"],[0.8,\"#7fbc41\"],[0.9,\"#4d9221\"],[1,\"#276419\"]]},\"xaxis\":{\"gridcolor\":\"white\",\"linecolor\":\"white\",\"ticks\":\"\",\"title\":{\"standoff\":15},\"zerolinecolor\":\"white\",\"automargin\":true,\"zerolinewidth\":2},\"yaxis\":{\"gridcolor\":\"white\",\"linecolor\":\"white\",\"ticks\":\"\",\"title\":{\"standoff\":15},\"zerolinecolor\":\"white\",\"automargin\":true,\"zerolinewidth\":2},\"scene\":{\"xaxis\":{\"backgroundcolor\":\"#E5ECF6\",\"gridcolor\":\"white\",\"linecolor\":\"white\",\"showbackground\":true,\"ticks\":\"\",\"zerolinecolor\":\"white\",\"gridwidth\":2},\"yaxis\":{\"backgroundcolor\":\"#E5ECF6\",\"gridcolor\":\"white\",\"linecolor\":\"white\",\"showbackground\":true,\"ticks\":\"\",\"zerolinecolor\":\"white\",\"gridwidth\":2},\"zaxis\":{\"backgroundcolor\":\"#E5ECF6\",\"gridcolor\":\"white\",\"linecolor\":\"white\",\"showbackground\":true,\"ticks\":\"\",\"zerolinecolor\":\"white\",\"gridwidth\":2}},\"shapedefaults\":{\"line\":{\"color\":\"#2a3f5f\"}},\"annotationdefaults\":{\"arrowcolor\":\"#2a3f5f\",\"arrowhead\":0,\"arrowwidth\":1},\"geo\":{\"bgcolor\":\"white\",\"landcolor\":\"#E5ECF6\",\"subunitcolor\":\"white\",\"showland\":true,\"showlakes\":true,\"lakecolor\":\"white\"},\"title\":{\"x\":0.05},\"mapbox\":{\"style\":\"light\"}}},\"xaxis\":{\"title\":{\"text\":\"Date\"},\"gridcolor\":\"lightgray\",\"gridwidth\":1},\"yaxis\":{\"title\":{\"text\":\"Value\"},\"gridcolor\":\"lightgray\",\"gridwidth\":1},\"title\":{\"text\":\"Predictions vs True Values for Selected Stocks\"},\"legend\":{\"title\":{\"text\":\"Legend\"}},\"showlegend\":true,\"updatemenus\":[{\"active\":7,\"buttons\":[{\"args\":[{\"visible\":[true,true,false,false,false,false,false,false,false,false,false,false,false,false]},{\"title\":\"META Predictions vs True Values\"}],\"label\":\"META\",\"method\":\"update\"},{\"args\":[{\"visible\":[false,false,true,true,false,false,false,false,false,false,false,false,false,false]},{\"title\":\"ADBE Predictions vs True Values\"}],\"label\":\"ADBE\",\"method\":\"update\"},{\"args\":[{\"visible\":[false,false,false,false,true,true,false,false,false,false,false,false,false,false]},{\"title\":\"MA Predictions vs True Values\"}],\"label\":\"MA\",\"method\":\"update\"},{\"args\":[{\"visible\":[false,false,false,false,false,false,true,true,false,false,false,false,false,false]},{\"title\":\"GS Predictions vs True Values\"}],\"label\":\"GS\",\"method\":\"update\"},{\"args\":[{\"visible\":[false,false,false,false,false,false,false,false,true,true,false,false,false,false]},{\"title\":\"NFLX Predictions vs True Values\"}],\"label\":\"NFLX\",\"method\":\"update\"},{\"args\":[{\"visible\":[false,false,false,false,false,false,false,false,false,false,true,true,false,false]},{\"title\":\"LMT Predictions vs True Values\"}],\"label\":\"LMT\",\"method\":\"update\"},{\"args\":[{\"visible\":[false,false,false,false,false,false,false,false,false,false,false,false,true,true]},{\"title\":\"MCD Predictions vs True Values\"}],\"label\":\"MCD\",\"method\":\"update\"},{\"args\":[{\"visible\":[true,true,true,true,true,true,true,true,true,true,true,true,true,true]},{\"title\":\"All Stocks Predictions vs True Values\"}],\"label\":\"All\",\"method\":\"update\"}],\"direction\":\"down\",\"showactive\":true}],\"plot_bgcolor\":\"white\",\"paper_bgcolor\":\"white\"},                        {\"responsive\": true}                    ).then(function(){\n",
       "                            \n",
       "var gd = document.getElementById('404876ee-6cec-41ca-8011-ee494a9b14d8');\n",
       "var x = new MutationObserver(function (mutations, observer) {{\n",
       "        var display = window.getComputedStyle(gd).display;\n",
       "        if (!display || display === 'none') {{\n",
       "            console.log([gd, 'removed!']);\n",
       "            Plotly.purge(gd);\n",
       "            observer.disconnect();\n",
       "        }}\n",
       "}});\n",
       "\n",
       "// Listen for the removal of the full notebook cells\n",
       "var notebookContainer = gd.closest('#notebook-container');\n",
       "if (notebookContainer) {{\n",
       "    x.observe(notebookContainer, {childList: true});\n",
       "}}\n",
       "\n",
       "// Listen for the clearing of the current output cell\n",
       "var outputEl = gd.closest('.output');\n",
       "if (outputEl) {{\n",
       "    x.observe(outputEl, {childList: true});\n",
       "}}\n",
       "\n",
       "                        })                };                });            </script>        </div>"
      ]
     },
     "metadata": {},
     "output_type": "display_data"
    },
    {
     "data": {
      "application/vnd.plotly.v1+json": {
       "config": {
        "plotlyServerURL": "https://plotly.com"
       },
       "data": [
        {
         "line": {
          "color": "hsl(262, 73.00247024906851%, 54.67866226188668%)"
         },
         "mode": "lines",
         "name": "META True Values",
         "type": "scatter",
         "x": [
          "2023-11-15T00:00:00",
          "2023-11-16T00:00:00",
          "2023-11-17T00:00:00",
          "2023-11-20T00:00:00",
          "2023-11-21T00:00:00",
          "2023-11-22T00:00:00",
          "2023-11-24T00:00:00",
          "2023-11-27T00:00:00",
          "2023-11-28T00:00:00",
          "2023-11-29T00:00:00",
          "2023-11-30T00:00:00",
          "2023-12-01T00:00:00",
          "2023-12-04T00:00:00",
          "2023-12-05T00:00:00",
          "2023-12-06T00:00:00",
          "2023-12-07T00:00:00",
          "2023-12-08T00:00:00",
          "2023-12-11T00:00:00",
          "2023-12-12T00:00:00",
          "2023-12-13T00:00:00",
          "2023-12-14T00:00:00",
          "2023-12-15T00:00:00",
          "2023-12-18T00:00:00",
          "2023-12-19T00:00:00",
          "2023-12-20T00:00:00",
          "2023-12-21T00:00:00",
          "2023-12-22T00:00:00",
          "2023-12-26T00:00:00",
          "2023-12-27T00:00:00",
          "2023-12-28T00:00:00",
          "2023-12-29T00:00:00"
         ],
         "y": [
          332.7099914550781,
          334.19000244140625,
          335.0400085449219,
          339.9700012207031,
          336.9800109863281,
          341.489990234375,
          338.2300109863281,
          334.70001220703125,
          338.989990234375,
          332.20001220703125,
          327.1499938964844,
          324.82000732421875,
          320.0199890136719,
          318.2900085449219,
          317.45001220703125,
          326.5899963378906,
          332.75,
          325.2799987792969,
          334.2200012207031,
          334.739990234375,
          333.1700134277344,
          334.9200134277344,
          344.6199951171875,
          350.3599853515625,
          349.2799987792969,
          354.0899963378906,
          353.3900146484375,
          354.8299865722656,
          357.8299865722656,
          358.32000732421875,
          353.9599914550781
         ]
        },
        {
         "line": {
          "color": "hsl(262, 73.00247024906851%, 54.67866226188668%)",
          "dash": "dash"
         },
         "mode": "lines",
         "name": "META Predictions",
         "type": "scatter",
         "x": [
          "2023-12-15",
          "2023-12-18",
          "2023-12-19",
          "2023-12-20",
          "2023-12-21",
          "2023-12-22",
          "2023-12-26",
          "2023-12-27",
          "2023-12-28"
         ],
         "y": [
          306.5460510253906,
          303.1202697753906,
          305.65875244140625,
          306.9281311035156,
          309.3328552246094,
          308.7178039550781,
          309.8272399902344,
          314.104248046875,
          314.94635009765625
         ]
        },
        {
         "line": {
          "color": "hsl(314, 93.48883749487193%, 69.04818792358189%)"
         },
         "mode": "lines",
         "name": "ADBE True Values",
         "type": "scatter",
         "x": [
          "2023-11-15T00:00:00",
          "2023-11-16T00:00:00",
          "2023-11-17T00:00:00",
          "2023-11-20T00:00:00",
          "2023-11-21T00:00:00",
          "2023-11-22T00:00:00",
          "2023-11-24T00:00:00",
          "2023-11-27T00:00:00",
          "2023-11-28T00:00:00",
          "2023-11-29T00:00:00",
          "2023-11-30T00:00:00",
          "2023-12-01T00:00:00",
          "2023-12-04T00:00:00",
          "2023-12-05T00:00:00",
          "2023-12-06T00:00:00",
          "2023-12-07T00:00:00",
          "2023-12-08T00:00:00",
          "2023-12-11T00:00:00",
          "2023-12-12T00:00:00",
          "2023-12-13T00:00:00",
          "2023-12-14T00:00:00",
          "2023-12-15T00:00:00",
          "2023-12-18T00:00:00",
          "2023-12-19T00:00:00",
          "2023-12-20T00:00:00",
          "2023-12-21T00:00:00",
          "2023-12-22T00:00:00",
          "2023-12-26T00:00:00",
          "2023-12-27T00:00:00",
          "2023-12-28T00:00:00",
          "2023-12-29T00:00:00"
         ],
         "y": [
          595.3099975585938,
          602.0599975585938,
          602.6599731445312,
          612.7000122070312,
          610.989990234375,
          619.719970703125,
          619.4299926757812,
          619.27001953125,
          623.3200073242188,
          617.3900146484375,
          611.010009765625,
          612.469970703125,
          604.5599975585938,
          602.219970703125,
          595.7000122070312,
          608.780029296875,
          610.010009765625,
          625.2000122070312,
          633.6599731445312,
          624.260009765625,
          584.6400146484375,
          584.6799926757812,
          599.1300048828125,
          604.6400146484375,
          596.0599975585938,
          600.1400146484375,
          598.75,
          598.260009765625,
          596.0800170898438,
          595.52001953125,
          596.5999755859375
         ]
        },
        {
         "line": {
          "color": "hsl(314, 93.48883749487193%, 69.04818792358189%)",
          "dash": "dash"
         },
         "mode": "lines",
         "name": "ADBE Predictions",
         "type": "scatter",
         "x": [
          "2023-12-15",
          "2023-12-18",
          "2023-12-19",
          "2023-12-20",
          "2023-12-21",
          "2023-12-22",
          "2023-12-26",
          "2023-12-27",
          "2023-12-28"
         ],
         "y": [
          557.619873046875,
          556.8392944335938,
          556.0986328125,
          552.6427001953125,
          553.7796630859375,
          552.3759765625,
          550.7181396484375,
          547.8931274414062,
          546.465576171875
         ]
        },
        {
         "line": {
          "color": "hsl(72, 75.38507318987504%, 64.4596531252965%)"
         },
         "mode": "lines",
         "name": "MA True Values",
         "type": "scatter",
         "x": [
          "2023-11-15T00:00:00",
          "2023-11-16T00:00:00",
          "2023-11-17T00:00:00",
          "2023-11-20T00:00:00",
          "2023-11-21T00:00:00",
          "2023-11-22T00:00:00",
          "2023-11-24T00:00:00",
          "2023-11-27T00:00:00",
          "2023-11-28T00:00:00",
          "2023-11-29T00:00:00",
          "2023-11-30T00:00:00",
          "2023-12-01T00:00:00",
          "2023-12-04T00:00:00",
          "2023-12-05T00:00:00",
          "2023-12-06T00:00:00",
          "2023-12-07T00:00:00",
          "2023-12-08T00:00:00",
          "2023-12-11T00:00:00",
          "2023-12-12T00:00:00",
          "2023-12-13T00:00:00",
          "2023-12-14T00:00:00",
          "2023-12-15T00:00:00",
          "2023-12-18T00:00:00",
          "2023-12-19T00:00:00",
          "2023-12-20T00:00:00",
          "2023-12-21T00:00:00",
          "2023-12-22T00:00:00",
          "2023-12-26T00:00:00",
          "2023-12-27T00:00:00",
          "2023-12-28T00:00:00",
          "2023-12-29T00:00:00"
         ],
         "y": [
          396.8299865722656,
          397.1000061035156,
          400.29998779296875,
          404.3999938964844,
          408.95001220703125,
          410.3299865722656,
          412.5,
          408.9700012207031,
          409.010009765625,
          409.82000732421875,
          413.8299865722656,
          414.3599853515625,
          408.2300109863281,
          408.69000244140625,
          410.3800048828125,
          413.1499938964844,
          412.1600036621094,
          415.7099914550781,
          420.75,
          424.67999267578125,
          418.55999755859375,
          418.57000732421875,
          424.42999267578125,
          425.4700012207031,
          419.45001220703125,
          423.44000244140625,
          424.1000061035156,
          423.6700134277344,
          424.3599853515625,
          426.32000732421875,
          426.510009765625
         ]
        },
        {
         "line": {
          "color": "hsl(72, 75.38507318987504%, 64.4596531252965%)",
          "dash": "dash"
         },
         "mode": "lines",
         "name": "MA Predictions",
         "type": "scatter",
         "x": [
          "2023-12-15",
          "2023-12-18",
          "2023-12-19",
          "2023-12-20",
          "2023-12-21",
          "2023-12-22",
          "2023-12-26",
          "2023-12-27",
          "2023-12-28"
         ],
         "y": [
          398.0412292480469,
          398.41314697265625,
          399.4419860839844,
          399.27825927734375,
          400.1919250488281,
          400.91326904296875,
          400.9620666503906,
          401.29339599609375,
          402.0763854980469
         ]
        },
        {
         "line": {
          "color": "hsl(208, 93.71994177526761%, 50.47137801627807%)"
         },
         "mode": "lines",
         "name": "GS True Values",
         "type": "scatter",
         "x": [
          "2023-11-15T00:00:00",
          "2023-11-16T00:00:00",
          "2023-11-17T00:00:00",
          "2023-11-20T00:00:00",
          "2023-11-21T00:00:00",
          "2023-11-22T00:00:00",
          "2023-11-24T00:00:00",
          "2023-11-27T00:00:00",
          "2023-11-28T00:00:00",
          "2023-11-29T00:00:00",
          "2023-11-30T00:00:00",
          "2023-12-01T00:00:00",
          "2023-12-04T00:00:00",
          "2023-12-05T00:00:00",
          "2023-12-06T00:00:00",
          "2023-12-07T00:00:00",
          "2023-12-08T00:00:00",
          "2023-12-11T00:00:00",
          "2023-12-12T00:00:00",
          "2023-12-13T00:00:00",
          "2023-12-14T00:00:00",
          "2023-12-15T00:00:00",
          "2023-12-18T00:00:00",
          "2023-12-19T00:00:00",
          "2023-12-20T00:00:00",
          "2023-12-21T00:00:00",
          "2023-12-22T00:00:00",
          "2023-12-26T00:00:00",
          "2023-12-27T00:00:00",
          "2023-12-28T00:00:00",
          "2023-12-29T00:00:00"
         ],
         "y": [
          337.6000061035156,
          336.6700134277344,
          339.19000244140625,
          339.45001220703125,
          334.9700012207031,
          338.6400146484375,
          339.1499938964844,
          337.7099914550781,
          337.6499938964844,
          340.260009765625,
          341.5400085449219,
          348.42999267578125,
          349.3900146484375,
          341.75,
          341.9700012207031,
          344.6199951171875,
          350.8299865722656,
          351.760009765625,
          352.6099853515625,
          362.7300109863281,
          383.4700012207031,
          380.510009765625,
          376.3999938964844,
          382.45001220703125,
          377.5199890136719,
          380.57000732421875,
          380.6499938964844,
          381.6099853515625,
          384.4800109863281,
          386.4100036621094,
          385.7699890136719
         ]
        },
        {
         "line": {
          "color": "hsl(208, 93.71994177526761%, 50.47137801627807%)",
          "dash": "dash"
         },
         "mode": "lines",
         "name": "GS Predictions",
         "type": "scatter",
         "x": [
          "2023-12-15",
          "2023-12-18",
          "2023-12-19",
          "2023-12-20",
          "2023-12-21",
          "2023-12-22",
          "2023-12-26",
          "2023-12-27",
          "2023-12-28"
         ],
         "y": [
          361.3177795410156,
          361.8061218261719,
          365.7807922363281,
          367.3349914550781,
          369.5223693847656,
          371.4447326660156,
          373.1112365722656,
          375.96295166015625,
          377.83148193359375
         ]
        },
        {
         "line": {
          "color": "hsl(270, 78.34862100599783%, 59.9487179491248%)"
         },
         "mode": "lines",
         "name": "NFLX True Values",
         "type": "scatter",
         "x": [
          "2023-11-15T00:00:00",
          "2023-11-16T00:00:00",
          "2023-11-17T00:00:00",
          "2023-11-20T00:00:00",
          "2023-11-21T00:00:00",
          "2023-11-22T00:00:00",
          "2023-11-24T00:00:00",
          "2023-11-27T00:00:00",
          "2023-11-28T00:00:00",
          "2023-11-29T00:00:00",
          "2023-11-30T00:00:00",
          "2023-12-01T00:00:00",
          "2023-12-04T00:00:00",
          "2023-12-05T00:00:00",
          "2023-12-06T00:00:00",
          "2023-12-07T00:00:00",
          "2023-12-08T00:00:00",
          "2023-12-11T00:00:00",
          "2023-12-12T00:00:00",
          "2023-12-13T00:00:00",
          "2023-12-14T00:00:00",
          "2023-12-15T00:00:00",
          "2023-12-18T00:00:00",
          "2023-12-19T00:00:00",
          "2023-12-20T00:00:00",
          "2023-12-21T00:00:00",
          "2023-12-22T00:00:00",
          "2023-12-26T00:00:00",
          "2023-12-27T00:00:00",
          "2023-12-28T00:00:00",
          "2023-12-29T00:00:00"
         ],
         "y": [
          461.94000244140625,
          466.95001220703125,
          465.9100036621094,
          474.4700012207031,
          474.95001220703125,
          478,
          479.55999755859375,
          479.1700134277344,
          479,
          477.19000244140625,
          473.9700012207031,
          465.739990234375,
          453.8999938964844,
          455.1499938964844,
          446.7300109863281,
          452,
          453.760009765625,
          459.8900146484375,
          463,
          479.9800109863281,
          469.8299865722656,
          472.05999755859375,
          486.1199951171875,
          495.0199890136719,
          489.2699890136719,
          491.6099853515625,
          486.760009765625,
          491.19000244140625,
          491.7900085449219,
          490.510009765625,
          486.8800048828125
         ]
        },
        {
         "line": {
          "color": "hsl(270, 78.34862100599783%, 59.9487179491248%)",
          "dash": "dash"
         },
         "mode": "lines",
         "name": "NFLX Predictions",
         "type": "scatter",
         "x": [
          "2023-12-15",
          "2023-12-18",
          "2023-12-19",
          "2023-12-20",
          "2023-12-21",
          "2023-12-22",
          "2023-12-26",
          "2023-12-27",
          "2023-12-28"
         ],
         "y": [
          471.0022277832031,
          475.1975402832031,
          478.3806457519531,
          480.6172180175781,
          482.88568115234375,
          484.4594421386719,
          486.8113708496094,
          488.8592834472656,
          488.7320251464844
         ]
        },
        {
         "line": {
          "color": "hsl(266, 90.16134605737001%, 60.52462717340605%)"
         },
         "mode": "lines",
         "name": "LMT True Values",
         "type": "scatter",
         "x": [
          "2023-11-15T00:00:00",
          "2023-11-16T00:00:00",
          "2023-11-17T00:00:00",
          "2023-11-20T00:00:00",
          "2023-11-21T00:00:00",
          "2023-11-22T00:00:00",
          "2023-11-24T00:00:00",
          "2023-11-27T00:00:00",
          "2023-11-28T00:00:00",
          "2023-11-29T00:00:00",
          "2023-11-30T00:00:00",
          "2023-12-01T00:00:00",
          "2023-12-04T00:00:00",
          "2023-12-05T00:00:00",
          "2023-12-06T00:00:00",
          "2023-12-07T00:00:00",
          "2023-12-08T00:00:00",
          "2023-12-11T00:00:00",
          "2023-12-12T00:00:00",
          "2023-12-13T00:00:00",
          "2023-12-14T00:00:00",
          "2023-12-15T00:00:00",
          "2023-12-18T00:00:00",
          "2023-12-19T00:00:00",
          "2023-12-20T00:00:00",
          "2023-12-21T00:00:00",
          "2023-12-22T00:00:00",
          "2023-12-26T00:00:00",
          "2023-12-27T00:00:00",
          "2023-12-28T00:00:00",
          "2023-12-29T00:00:00"
         ],
         "y": [
          445.1400146484375,
          445.5899963378906,
          444.67999267578125,
          443.80999755859375,
          448.1499938964844,
          450.3999938964844,
          452.010009765625,
          445.489990234375,
          448.2699890136719,
          445.010009765625,
          447.7699890136719,
          449.4100036621094,
          450.69000244140625,
          446.239990234375,
          449.4100036621094,
          447.1099853515625,
          448.0199890136719,
          451.260009765625,
          451.6300048828125,
          451.44000244140625,
          445.2699890136719,
          441.80999755859375,
          446.9100036621094,
          447.7900085449219,
          442.6000061035156,
          448.0199890136719,
          448.2200012207031,
          450.17999267578125,
          448.9700012207031,
          451.2300109863281,
          453.239990234375
         ]
        },
        {
         "line": {
          "color": "hsl(266, 90.16134605737001%, 60.52462717340605%)",
          "dash": "dash"
         },
         "mode": "lines",
         "name": "LMT Predictions",
         "type": "scatter",
         "x": [
          "2023-12-15",
          "2023-12-18",
          "2023-12-19",
          "2023-12-20",
          "2023-12-21",
          "2023-12-22",
          "2023-12-26",
          "2023-12-27",
          "2023-12-28"
         ],
         "y": [
          466.71246337890625,
          465.4334411621094,
          465.218994140625,
          464.0083312988281,
          464.66302490234375,
          464.9200744628906,
          465.2455139160156,
          465.0499572753906,
          465.7554016113281
         ]
        },
        {
         "line": {
          "color": "hsl(257, 95.56937233045008%, 62.16022674821908%)"
         },
         "mode": "lines",
         "name": "MCD True Values",
         "type": "scatter",
         "x": [
          "2023-11-15T00:00:00",
          "2023-11-16T00:00:00",
          "2023-11-17T00:00:00",
          "2023-11-20T00:00:00",
          "2023-11-21T00:00:00",
          "2023-11-22T00:00:00",
          "2023-11-24T00:00:00",
          "2023-11-27T00:00:00",
          "2023-11-28T00:00:00",
          "2023-11-29T00:00:00",
          "2023-11-30T00:00:00",
          "2023-12-01T00:00:00",
          "2023-12-04T00:00:00",
          "2023-12-05T00:00:00",
          "2023-12-06T00:00:00",
          "2023-12-07T00:00:00",
          "2023-12-08T00:00:00",
          "2023-12-11T00:00:00",
          "2023-12-12T00:00:00",
          "2023-12-13T00:00:00",
          "2023-12-14T00:00:00",
          "2023-12-15T00:00:00",
          "2023-12-18T00:00:00",
          "2023-12-19T00:00:00",
          "2023-12-20T00:00:00",
          "2023-12-21T00:00:00",
          "2023-12-22T00:00:00",
          "2023-12-26T00:00:00",
          "2023-12-27T00:00:00",
          "2023-12-28T00:00:00",
          "2023-12-29T00:00:00"
         ],
         "y": [
          270.3900146484375,
          276.1199951171875,
          275.75,
          279.0299987792969,
          280.4700012207031,
          281.92999267578125,
          282.5400085449219,
          281.8399963378906,
          282.0899963378906,
          280.3800048828125,
          281.8399963378906,
          285.9599914550781,
          286.1300048828125,
          286.5400085449219,
          286.8599853515625,
          286.7900085449219,
          285.5299987792969,
          289.1499938964844,
          291.4200134277344,
          295.92999267578125,
          290.0199890136719,
          287.2699890136719,
          290.2300109863281,
          290.7300109863281,
          288.989990234375,
          291.3900146484375,
          291.70001220703125,
          292.8599853515625,
          294.54998779296875,
          295.8399963378906,
          296.510009765625
         ]
        },
        {
         "line": {
          "color": "hsl(257, 95.56937233045008%, 62.16022674821908%)",
          "dash": "dash"
         },
         "mode": "lines",
         "name": "MCD Predictions",
         "type": "scatter",
         "x": [
          "2023-12-15",
          "2023-12-18",
          "2023-12-19",
          "2023-12-20",
          "2023-12-21",
          "2023-12-22",
          "2023-12-26",
          "2023-12-27",
          "2023-12-28"
         ],
         "y": [
          336.725341796875,
          335.0237121582031,
          335.04632568359375,
          334.8549499511719,
          335.5316162109375,
          335.7066955566406,
          336.0034484863281,
          336.9322814941406,
          337.39678955078125
         ]
        }
       ],
       "layout": {
        "legend": {
         "title": {
          "text": "Legend"
         }
        },
        "paper_bgcolor": "white",
        "plot_bgcolor": "white",
        "showlegend": true,
        "template": {
         "data": {
          "bar": [
           {
            "error_x": {
             "color": "#2a3f5f"
            },
            "error_y": {
             "color": "#2a3f5f"
            },
            "marker": {
             "line": {
              "color": "#E5ECF6",
              "width": 0.5
             },
             "pattern": {
              "fillmode": "overlay",
              "size": 10,
              "solidity": 0.2
             }
            },
            "type": "bar"
           }
          ],
          "barpolar": [
           {
            "marker": {
             "line": {
              "color": "#E5ECF6",
              "width": 0.5
             },
             "pattern": {
              "fillmode": "overlay",
              "size": 10,
              "solidity": 0.2
             }
            },
            "type": "barpolar"
           }
          ],
          "carpet": [
           {
            "aaxis": {
             "endlinecolor": "#2a3f5f",
             "gridcolor": "white",
             "linecolor": "white",
             "minorgridcolor": "white",
             "startlinecolor": "#2a3f5f"
            },
            "baxis": {
             "endlinecolor": "#2a3f5f",
             "gridcolor": "white",
             "linecolor": "white",
             "minorgridcolor": "white",
             "startlinecolor": "#2a3f5f"
            },
            "type": "carpet"
           }
          ],
          "choropleth": [
           {
            "colorbar": {
             "outlinewidth": 0,
             "ticks": ""
            },
            "type": "choropleth"
           }
          ],
          "contour": [
           {
            "colorbar": {
             "outlinewidth": 0,
             "ticks": ""
            },
            "colorscale": [
             [
              0,
              "#0d0887"
             ],
             [
              0.1111111111111111,
              "#46039f"
             ],
             [
              0.2222222222222222,
              "#7201a8"
             ],
             [
              0.3333333333333333,
              "#9c179e"
             ],
             [
              0.4444444444444444,
              "#bd3786"
             ],
             [
              0.5555555555555556,
              "#d8576b"
             ],
             [
              0.6666666666666666,
              "#ed7953"
             ],
             [
              0.7777777777777778,
              "#fb9f3a"
             ],
             [
              0.8888888888888888,
              "#fdca26"
             ],
             [
              1,
              "#f0f921"
             ]
            ],
            "type": "contour"
           }
          ],
          "contourcarpet": [
           {
            "colorbar": {
             "outlinewidth": 0,
             "ticks": ""
            },
            "type": "contourcarpet"
           }
          ],
          "heatmap": [
           {
            "colorbar": {
             "outlinewidth": 0,
             "ticks": ""
            },
            "colorscale": [
             [
              0,
              "#0d0887"
             ],
             [
              0.1111111111111111,
              "#46039f"
             ],
             [
              0.2222222222222222,
              "#7201a8"
             ],
             [
              0.3333333333333333,
              "#9c179e"
             ],
             [
              0.4444444444444444,
              "#bd3786"
             ],
             [
              0.5555555555555556,
              "#d8576b"
             ],
             [
              0.6666666666666666,
              "#ed7953"
             ],
             [
              0.7777777777777778,
              "#fb9f3a"
             ],
             [
              0.8888888888888888,
              "#fdca26"
             ],
             [
              1,
              "#f0f921"
             ]
            ],
            "type": "heatmap"
           }
          ],
          "heatmapgl": [
           {
            "colorbar": {
             "outlinewidth": 0,
             "ticks": ""
            },
            "colorscale": [
             [
              0,
              "#0d0887"
             ],
             [
              0.1111111111111111,
              "#46039f"
             ],
             [
              0.2222222222222222,
              "#7201a8"
             ],
             [
              0.3333333333333333,
              "#9c179e"
             ],
             [
              0.4444444444444444,
              "#bd3786"
             ],
             [
              0.5555555555555556,
              "#d8576b"
             ],
             [
              0.6666666666666666,
              "#ed7953"
             ],
             [
              0.7777777777777778,
              "#fb9f3a"
             ],
             [
              0.8888888888888888,
              "#fdca26"
             ],
             [
              1,
              "#f0f921"
             ]
            ],
            "type": "heatmapgl"
           }
          ],
          "histogram": [
           {
            "marker": {
             "pattern": {
              "fillmode": "overlay",
              "size": 10,
              "solidity": 0.2
             }
            },
            "type": "histogram"
           }
          ],
          "histogram2d": [
           {
            "colorbar": {
             "outlinewidth": 0,
             "ticks": ""
            },
            "colorscale": [
             [
              0,
              "#0d0887"
             ],
             [
              0.1111111111111111,
              "#46039f"
             ],
             [
              0.2222222222222222,
              "#7201a8"
             ],
             [
              0.3333333333333333,
              "#9c179e"
             ],
             [
              0.4444444444444444,
              "#bd3786"
             ],
             [
              0.5555555555555556,
              "#d8576b"
             ],
             [
              0.6666666666666666,
              "#ed7953"
             ],
             [
              0.7777777777777778,
              "#fb9f3a"
             ],
             [
              0.8888888888888888,
              "#fdca26"
             ],
             [
              1,
              "#f0f921"
             ]
            ],
            "type": "histogram2d"
           }
          ],
          "histogram2dcontour": [
           {
            "colorbar": {
             "outlinewidth": 0,
             "ticks": ""
            },
            "colorscale": [
             [
              0,
              "#0d0887"
             ],
             [
              0.1111111111111111,
              "#46039f"
             ],
             [
              0.2222222222222222,
              "#7201a8"
             ],
             [
              0.3333333333333333,
              "#9c179e"
             ],
             [
              0.4444444444444444,
              "#bd3786"
             ],
             [
              0.5555555555555556,
              "#d8576b"
             ],
             [
              0.6666666666666666,
              "#ed7953"
             ],
             [
              0.7777777777777778,
              "#fb9f3a"
             ],
             [
              0.8888888888888888,
              "#fdca26"
             ],
             [
              1,
              "#f0f921"
             ]
            ],
            "type": "histogram2dcontour"
           }
          ],
          "mesh3d": [
           {
            "colorbar": {
             "outlinewidth": 0,
             "ticks": ""
            },
            "type": "mesh3d"
           }
          ],
          "parcoords": [
           {
            "line": {
             "colorbar": {
              "outlinewidth": 0,
              "ticks": ""
             }
            },
            "type": "parcoords"
           }
          ],
          "pie": [
           {
            "automargin": true,
            "type": "pie"
           }
          ],
          "scatter": [
           {
            "fillpattern": {
             "fillmode": "overlay",
             "size": 10,
             "solidity": 0.2
            },
            "type": "scatter"
           }
          ],
          "scatter3d": [
           {
            "line": {
             "colorbar": {
              "outlinewidth": 0,
              "ticks": ""
             }
            },
            "marker": {
             "colorbar": {
              "outlinewidth": 0,
              "ticks": ""
             }
            },
            "type": "scatter3d"
           }
          ],
          "scattercarpet": [
           {
            "marker": {
             "colorbar": {
              "outlinewidth": 0,
              "ticks": ""
             }
            },
            "type": "scattercarpet"
           }
          ],
          "scattergeo": [
           {
            "marker": {
             "colorbar": {
              "outlinewidth": 0,
              "ticks": ""
             }
            },
            "type": "scattergeo"
           }
          ],
          "scattergl": [
           {
            "marker": {
             "colorbar": {
              "outlinewidth": 0,
              "ticks": ""
             }
            },
            "type": "scattergl"
           }
          ],
          "scattermapbox": [
           {
            "marker": {
             "colorbar": {
              "outlinewidth": 0,
              "ticks": ""
             }
            },
            "type": "scattermapbox"
           }
          ],
          "scatterpolar": [
           {
            "marker": {
             "colorbar": {
              "outlinewidth": 0,
              "ticks": ""
             }
            },
            "type": "scatterpolar"
           }
          ],
          "scatterpolargl": [
           {
            "marker": {
             "colorbar": {
              "outlinewidth": 0,
              "ticks": ""
             }
            },
            "type": "scatterpolargl"
           }
          ],
          "scatterternary": [
           {
            "marker": {
             "colorbar": {
              "outlinewidth": 0,
              "ticks": ""
             }
            },
            "type": "scatterternary"
           }
          ],
          "surface": [
           {
            "colorbar": {
             "outlinewidth": 0,
             "ticks": ""
            },
            "colorscale": [
             [
              0,
              "#0d0887"
             ],
             [
              0.1111111111111111,
              "#46039f"
             ],
             [
              0.2222222222222222,
              "#7201a8"
             ],
             [
              0.3333333333333333,
              "#9c179e"
             ],
             [
              0.4444444444444444,
              "#bd3786"
             ],
             [
              0.5555555555555556,
              "#d8576b"
             ],
             [
              0.6666666666666666,
              "#ed7953"
             ],
             [
              0.7777777777777778,
              "#fb9f3a"
             ],
             [
              0.8888888888888888,
              "#fdca26"
             ],
             [
              1,
              "#f0f921"
             ]
            ],
            "type": "surface"
           }
          ],
          "table": [
           {
            "cells": {
             "fill": {
              "color": "#EBF0F8"
             },
             "line": {
              "color": "white"
             }
            },
            "header": {
             "fill": {
              "color": "#C8D4E3"
             },
             "line": {
              "color": "white"
             }
            },
            "type": "table"
           }
          ]
         },
         "layout": {
          "annotationdefaults": {
           "arrowcolor": "#2a3f5f",
           "arrowhead": 0,
           "arrowwidth": 1
          },
          "autotypenumbers": "strict",
          "coloraxis": {
           "colorbar": {
            "outlinewidth": 0,
            "ticks": ""
           }
          },
          "colorscale": {
           "diverging": [
            [
             0,
             "#8e0152"
            ],
            [
             0.1,
             "#c51b7d"
            ],
            [
             0.2,
             "#de77ae"
            ],
            [
             0.3,
             "#f1b6da"
            ],
            [
             0.4,
             "#fde0ef"
            ],
            [
             0.5,
             "#f7f7f7"
            ],
            [
             0.6,
             "#e6f5d0"
            ],
            [
             0.7,
             "#b8e186"
            ],
            [
             0.8,
             "#7fbc41"
            ],
            [
             0.9,
             "#4d9221"
            ],
            [
             1,
             "#276419"
            ]
           ],
           "sequential": [
            [
             0,
             "#0d0887"
            ],
            [
             0.1111111111111111,
             "#46039f"
            ],
            [
             0.2222222222222222,
             "#7201a8"
            ],
            [
             0.3333333333333333,
             "#9c179e"
            ],
            [
             0.4444444444444444,
             "#bd3786"
            ],
            [
             0.5555555555555556,
             "#d8576b"
            ],
            [
             0.6666666666666666,
             "#ed7953"
            ],
            [
             0.7777777777777778,
             "#fb9f3a"
            ],
            [
             0.8888888888888888,
             "#fdca26"
            ],
            [
             1,
             "#f0f921"
            ]
           ],
           "sequentialminus": [
            [
             0,
             "#0d0887"
            ],
            [
             0.1111111111111111,
             "#46039f"
            ],
            [
             0.2222222222222222,
             "#7201a8"
            ],
            [
             0.3333333333333333,
             "#9c179e"
            ],
            [
             0.4444444444444444,
             "#bd3786"
            ],
            [
             0.5555555555555556,
             "#d8576b"
            ],
            [
             0.6666666666666666,
             "#ed7953"
            ],
            [
             0.7777777777777778,
             "#fb9f3a"
            ],
            [
             0.8888888888888888,
             "#fdca26"
            ],
            [
             1,
             "#f0f921"
            ]
           ]
          },
          "colorway": [
           "#636efa",
           "#EF553B",
           "#00cc96",
           "#ab63fa",
           "#FFA15A",
           "#19d3f3",
           "#FF6692",
           "#B6E880",
           "#FF97FF",
           "#FECB52"
          ],
          "font": {
           "color": "#2a3f5f"
          },
          "geo": {
           "bgcolor": "white",
           "lakecolor": "white",
           "landcolor": "#E5ECF6",
           "showlakes": true,
           "showland": true,
           "subunitcolor": "white"
          },
          "hoverlabel": {
           "align": "left"
          },
          "hovermode": "closest",
          "mapbox": {
           "style": "light"
          },
          "paper_bgcolor": "white",
          "plot_bgcolor": "#E5ECF6",
          "polar": {
           "angularaxis": {
            "gridcolor": "white",
            "linecolor": "white",
            "ticks": ""
           },
           "bgcolor": "#E5ECF6",
           "radialaxis": {
            "gridcolor": "white",
            "linecolor": "white",
            "ticks": ""
           }
          },
          "scene": {
           "xaxis": {
            "backgroundcolor": "#E5ECF6",
            "gridcolor": "white",
            "gridwidth": 2,
            "linecolor": "white",
            "showbackground": true,
            "ticks": "",
            "zerolinecolor": "white"
           },
           "yaxis": {
            "backgroundcolor": "#E5ECF6",
            "gridcolor": "white",
            "gridwidth": 2,
            "linecolor": "white",
            "showbackground": true,
            "ticks": "",
            "zerolinecolor": "white"
           },
           "zaxis": {
            "backgroundcolor": "#E5ECF6",
            "gridcolor": "white",
            "gridwidth": 2,
            "linecolor": "white",
            "showbackground": true,
            "ticks": "",
            "zerolinecolor": "white"
           }
          },
          "shapedefaults": {
           "line": {
            "color": "#2a3f5f"
           }
          },
          "ternary": {
           "aaxis": {
            "gridcolor": "white",
            "linecolor": "white",
            "ticks": ""
           },
           "baxis": {
            "gridcolor": "white",
            "linecolor": "white",
            "ticks": ""
           },
           "bgcolor": "#E5ECF6",
           "caxis": {
            "gridcolor": "white",
            "linecolor": "white",
            "ticks": ""
           }
          },
          "title": {
           "x": 0.05
          },
          "xaxis": {
           "automargin": true,
           "gridcolor": "white",
           "linecolor": "white",
           "ticks": "",
           "title": {
            "standoff": 15
           },
           "zerolinecolor": "white",
           "zerolinewidth": 2
          },
          "yaxis": {
           "automargin": true,
           "gridcolor": "white",
           "linecolor": "white",
           "ticks": "",
           "title": {
            "standoff": 15
           },
           "zerolinecolor": "white",
           "zerolinewidth": 2
          }
         }
        },
        "title": {
         "text": "Predictions vs True Values for Selected Stocks"
        },
        "updatemenus": [
         {
          "active": 7,
          "buttons": [
           {
            "args": [
             {
              "visible": [
               true,
               true,
               false,
               false,
               false,
               false,
               false,
               false,
               false,
               false,
               false,
               false,
               false,
               false
              ]
             },
             {
              "title": "META Predictions vs True Values"
             }
            ],
            "label": "META",
            "method": "update"
           },
           {
            "args": [
             {
              "visible": [
               false,
               false,
               true,
               true,
               false,
               false,
               false,
               false,
               false,
               false,
               false,
               false,
               false,
               false
              ]
             },
             {
              "title": "ADBE Predictions vs True Values"
             }
            ],
            "label": "ADBE",
            "method": "update"
           },
           {
            "args": [
             {
              "visible": [
               false,
               false,
               false,
               false,
               true,
               true,
               false,
               false,
               false,
               false,
               false,
               false,
               false,
               false
              ]
             },
             {
              "title": "MA Predictions vs True Values"
             }
            ],
            "label": "MA",
            "method": "update"
           },
           {
            "args": [
             {
              "visible": [
               false,
               false,
               false,
               false,
               false,
               false,
               true,
               true,
               false,
               false,
               false,
               false,
               false,
               false
              ]
             },
             {
              "title": "GS Predictions vs True Values"
             }
            ],
            "label": "GS",
            "method": "update"
           },
           {
            "args": [
             {
              "visible": [
               false,
               false,
               false,
               false,
               false,
               false,
               false,
               false,
               true,
               true,
               false,
               false,
               false,
               false
              ]
             },
             {
              "title": "NFLX Predictions vs True Values"
             }
            ],
            "label": "NFLX",
            "method": "update"
           },
           {
            "args": [
             {
              "visible": [
               false,
               false,
               false,
               false,
               false,
               false,
               false,
               false,
               false,
               false,
               true,
               true,
               false,
               false
              ]
             },
             {
              "title": "LMT Predictions vs True Values"
             }
            ],
            "label": "LMT",
            "method": "update"
           },
           {
            "args": [
             {
              "visible": [
               false,
               false,
               false,
               false,
               false,
               false,
               false,
               false,
               false,
               false,
               false,
               false,
               true,
               true
              ]
             },
             {
              "title": "MCD Predictions vs True Values"
             }
            ],
            "label": "MCD",
            "method": "update"
           },
           {
            "args": [
             {
              "visible": [
               true,
               true,
               true,
               true,
               true,
               true,
               true,
               true,
               true,
               true,
               true,
               true,
               true,
               true
              ]
             },
             {
              "title": "All Stocks Predictions vs True Values"
             }
            ],
            "label": "All",
            "method": "update"
           }
          ],
          "direction": "down",
          "showactive": true
         }
        ],
        "xaxis": {
         "gridcolor": "lightgray",
         "gridwidth": 1,
         "title": {
          "text": "Date"
         }
        },
        "yaxis": {
         "gridcolor": "lightgray",
         "gridwidth": 1,
         "title": {
          "text": "Value"
         }
        }
       }
      },
      "text/html": [
       "<div>                            <div id=\"7da1c7fd-1850-46f9-92ac-f0770b89659a\" class=\"plotly-graph-div\" style=\"height:525px; width:100%;\"></div>            <script type=\"text/javascript\">                require([\"plotly\"], function(Plotly) {                    window.PLOTLYENV=window.PLOTLYENV || {};                                    if (document.getElementById(\"7da1c7fd-1850-46f9-92ac-f0770b89659a\")) {                    Plotly.newPlot(                        \"7da1c7fd-1850-46f9-92ac-f0770b89659a\",                        [{\"line\":{\"color\":\"hsl(262, 73.00247024906851%, 54.67866226188668%)\"},\"mode\":\"lines\",\"name\":\"META True Values\",\"x\":[\"2023-11-15T00:00:00\",\"2023-11-16T00:00:00\",\"2023-11-17T00:00:00\",\"2023-11-20T00:00:00\",\"2023-11-21T00:00:00\",\"2023-11-22T00:00:00\",\"2023-11-24T00:00:00\",\"2023-11-27T00:00:00\",\"2023-11-28T00:00:00\",\"2023-11-29T00:00:00\",\"2023-11-30T00:00:00\",\"2023-12-01T00:00:00\",\"2023-12-04T00:00:00\",\"2023-12-05T00:00:00\",\"2023-12-06T00:00:00\",\"2023-12-07T00:00:00\",\"2023-12-08T00:00:00\",\"2023-12-11T00:00:00\",\"2023-12-12T00:00:00\",\"2023-12-13T00:00:00\",\"2023-12-14T00:00:00\",\"2023-12-15T00:00:00\",\"2023-12-18T00:00:00\",\"2023-12-19T00:00:00\",\"2023-12-20T00:00:00\",\"2023-12-21T00:00:00\",\"2023-12-22T00:00:00\",\"2023-12-26T00:00:00\",\"2023-12-27T00:00:00\",\"2023-12-28T00:00:00\",\"2023-12-29T00:00:00\"],\"y\":[332.7099914550781,334.19000244140625,335.0400085449219,339.9700012207031,336.9800109863281,341.489990234375,338.2300109863281,334.70001220703125,338.989990234375,332.20001220703125,327.1499938964844,324.82000732421875,320.0199890136719,318.2900085449219,317.45001220703125,326.5899963378906,332.75,325.2799987792969,334.2200012207031,334.739990234375,333.1700134277344,334.9200134277344,344.6199951171875,350.3599853515625,349.2799987792969,354.0899963378906,353.3900146484375,354.8299865722656,357.8299865722656,358.32000732421875,353.9599914550781],\"type\":\"scatter\"},{\"line\":{\"color\":\"hsl(262, 73.00247024906851%, 54.67866226188668%)\",\"dash\":\"dash\"},\"mode\":\"lines\",\"name\":\"META Predictions\",\"x\":[\"2023-12-15\",\"2023-12-18\",\"2023-12-19\",\"2023-12-20\",\"2023-12-21\",\"2023-12-22\",\"2023-12-26\",\"2023-12-27\",\"2023-12-28\"],\"y\":[306.5460510253906,303.1202697753906,305.65875244140625,306.9281311035156,309.3328552246094,308.7178039550781,309.8272399902344,314.104248046875,314.94635009765625],\"type\":\"scatter\"},{\"line\":{\"color\":\"hsl(314, 93.48883749487193%, 69.04818792358189%)\"},\"mode\":\"lines\",\"name\":\"ADBE True Values\",\"x\":[\"2023-11-15T00:00:00\",\"2023-11-16T00:00:00\",\"2023-11-17T00:00:00\",\"2023-11-20T00:00:00\",\"2023-11-21T00:00:00\",\"2023-11-22T00:00:00\",\"2023-11-24T00:00:00\",\"2023-11-27T00:00:00\",\"2023-11-28T00:00:00\",\"2023-11-29T00:00:00\",\"2023-11-30T00:00:00\",\"2023-12-01T00:00:00\",\"2023-12-04T00:00:00\",\"2023-12-05T00:00:00\",\"2023-12-06T00:00:00\",\"2023-12-07T00:00:00\",\"2023-12-08T00:00:00\",\"2023-12-11T00:00:00\",\"2023-12-12T00:00:00\",\"2023-12-13T00:00:00\",\"2023-12-14T00:00:00\",\"2023-12-15T00:00:00\",\"2023-12-18T00:00:00\",\"2023-12-19T00:00:00\",\"2023-12-20T00:00:00\",\"2023-12-21T00:00:00\",\"2023-12-22T00:00:00\",\"2023-12-26T00:00:00\",\"2023-12-27T00:00:00\",\"2023-12-28T00:00:00\",\"2023-12-29T00:00:00\"],\"y\":[595.3099975585938,602.0599975585938,602.6599731445312,612.7000122070312,610.989990234375,619.719970703125,619.4299926757812,619.27001953125,623.3200073242188,617.3900146484375,611.010009765625,612.469970703125,604.5599975585938,602.219970703125,595.7000122070312,608.780029296875,610.010009765625,625.2000122070312,633.6599731445312,624.260009765625,584.6400146484375,584.6799926757812,599.1300048828125,604.6400146484375,596.0599975585938,600.1400146484375,598.75,598.260009765625,596.0800170898438,595.52001953125,596.5999755859375],\"type\":\"scatter\"},{\"line\":{\"color\":\"hsl(314, 93.48883749487193%, 69.04818792358189%)\",\"dash\":\"dash\"},\"mode\":\"lines\",\"name\":\"ADBE Predictions\",\"x\":[\"2023-12-15\",\"2023-12-18\",\"2023-12-19\",\"2023-12-20\",\"2023-12-21\",\"2023-12-22\",\"2023-12-26\",\"2023-12-27\",\"2023-12-28\"],\"y\":[557.619873046875,556.8392944335938,556.0986328125,552.6427001953125,553.7796630859375,552.3759765625,550.7181396484375,547.8931274414062,546.465576171875],\"type\":\"scatter\"},{\"line\":{\"color\":\"hsl(72, 75.38507318987504%, 64.4596531252965%)\"},\"mode\":\"lines\",\"name\":\"MA True Values\",\"x\":[\"2023-11-15T00:00:00\",\"2023-11-16T00:00:00\",\"2023-11-17T00:00:00\",\"2023-11-20T00:00:00\",\"2023-11-21T00:00:00\",\"2023-11-22T00:00:00\",\"2023-11-24T00:00:00\",\"2023-11-27T00:00:00\",\"2023-11-28T00:00:00\",\"2023-11-29T00:00:00\",\"2023-11-30T00:00:00\",\"2023-12-01T00:00:00\",\"2023-12-04T00:00:00\",\"2023-12-05T00:00:00\",\"2023-12-06T00:00:00\",\"2023-12-07T00:00:00\",\"2023-12-08T00:00:00\",\"2023-12-11T00:00:00\",\"2023-12-12T00:00:00\",\"2023-12-13T00:00:00\",\"2023-12-14T00:00:00\",\"2023-12-15T00:00:00\",\"2023-12-18T00:00:00\",\"2023-12-19T00:00:00\",\"2023-12-20T00:00:00\",\"2023-12-21T00:00:00\",\"2023-12-22T00:00:00\",\"2023-12-26T00:00:00\",\"2023-12-27T00:00:00\",\"2023-12-28T00:00:00\",\"2023-12-29T00:00:00\"],\"y\":[396.8299865722656,397.1000061035156,400.29998779296875,404.3999938964844,408.95001220703125,410.3299865722656,412.5,408.9700012207031,409.010009765625,409.82000732421875,413.8299865722656,414.3599853515625,408.2300109863281,408.69000244140625,410.3800048828125,413.1499938964844,412.1600036621094,415.7099914550781,420.75,424.67999267578125,418.55999755859375,418.57000732421875,424.42999267578125,425.4700012207031,419.45001220703125,423.44000244140625,424.1000061035156,423.6700134277344,424.3599853515625,426.32000732421875,426.510009765625],\"type\":\"scatter\"},{\"line\":{\"color\":\"hsl(72, 75.38507318987504%, 64.4596531252965%)\",\"dash\":\"dash\"},\"mode\":\"lines\",\"name\":\"MA Predictions\",\"x\":[\"2023-12-15\",\"2023-12-18\",\"2023-12-19\",\"2023-12-20\",\"2023-12-21\",\"2023-12-22\",\"2023-12-26\",\"2023-12-27\",\"2023-12-28\"],\"y\":[398.0412292480469,398.41314697265625,399.4419860839844,399.27825927734375,400.1919250488281,400.91326904296875,400.9620666503906,401.29339599609375,402.0763854980469],\"type\":\"scatter\"},{\"line\":{\"color\":\"hsl(208, 93.71994177526761%, 50.47137801627807%)\"},\"mode\":\"lines\",\"name\":\"GS True Values\",\"x\":[\"2023-11-15T00:00:00\",\"2023-11-16T00:00:00\",\"2023-11-17T00:00:00\",\"2023-11-20T00:00:00\",\"2023-11-21T00:00:00\",\"2023-11-22T00:00:00\",\"2023-11-24T00:00:00\",\"2023-11-27T00:00:00\",\"2023-11-28T00:00:00\",\"2023-11-29T00:00:00\",\"2023-11-30T00:00:00\",\"2023-12-01T00:00:00\",\"2023-12-04T00:00:00\",\"2023-12-05T00:00:00\",\"2023-12-06T00:00:00\",\"2023-12-07T00:00:00\",\"2023-12-08T00:00:00\",\"2023-12-11T00:00:00\",\"2023-12-12T00:00:00\",\"2023-12-13T00:00:00\",\"2023-12-14T00:00:00\",\"2023-12-15T00:00:00\",\"2023-12-18T00:00:00\",\"2023-12-19T00:00:00\",\"2023-12-20T00:00:00\",\"2023-12-21T00:00:00\",\"2023-12-22T00:00:00\",\"2023-12-26T00:00:00\",\"2023-12-27T00:00:00\",\"2023-12-28T00:00:00\",\"2023-12-29T00:00:00\"],\"y\":[337.6000061035156,336.6700134277344,339.19000244140625,339.45001220703125,334.9700012207031,338.6400146484375,339.1499938964844,337.7099914550781,337.6499938964844,340.260009765625,341.5400085449219,348.42999267578125,349.3900146484375,341.75,341.9700012207031,344.6199951171875,350.8299865722656,351.760009765625,352.6099853515625,362.7300109863281,383.4700012207031,380.510009765625,376.3999938964844,382.45001220703125,377.5199890136719,380.57000732421875,380.6499938964844,381.6099853515625,384.4800109863281,386.4100036621094,385.7699890136719],\"type\":\"scatter\"},{\"line\":{\"color\":\"hsl(208, 93.71994177526761%, 50.47137801627807%)\",\"dash\":\"dash\"},\"mode\":\"lines\",\"name\":\"GS Predictions\",\"x\":[\"2023-12-15\",\"2023-12-18\",\"2023-12-19\",\"2023-12-20\",\"2023-12-21\",\"2023-12-22\",\"2023-12-26\",\"2023-12-27\",\"2023-12-28\"],\"y\":[361.3177795410156,361.8061218261719,365.7807922363281,367.3349914550781,369.5223693847656,371.4447326660156,373.1112365722656,375.96295166015625,377.83148193359375],\"type\":\"scatter\"},{\"line\":{\"color\":\"hsl(270, 78.34862100599783%, 59.9487179491248%)\"},\"mode\":\"lines\",\"name\":\"NFLX True Values\",\"x\":[\"2023-11-15T00:00:00\",\"2023-11-16T00:00:00\",\"2023-11-17T00:00:00\",\"2023-11-20T00:00:00\",\"2023-11-21T00:00:00\",\"2023-11-22T00:00:00\",\"2023-11-24T00:00:00\",\"2023-11-27T00:00:00\",\"2023-11-28T00:00:00\",\"2023-11-29T00:00:00\",\"2023-11-30T00:00:00\",\"2023-12-01T00:00:00\",\"2023-12-04T00:00:00\",\"2023-12-05T00:00:00\",\"2023-12-06T00:00:00\",\"2023-12-07T00:00:00\",\"2023-12-08T00:00:00\",\"2023-12-11T00:00:00\",\"2023-12-12T00:00:00\",\"2023-12-13T00:00:00\",\"2023-12-14T00:00:00\",\"2023-12-15T00:00:00\",\"2023-12-18T00:00:00\",\"2023-12-19T00:00:00\",\"2023-12-20T00:00:00\",\"2023-12-21T00:00:00\",\"2023-12-22T00:00:00\",\"2023-12-26T00:00:00\",\"2023-12-27T00:00:00\",\"2023-12-28T00:00:00\",\"2023-12-29T00:00:00\"],\"y\":[461.94000244140625,466.95001220703125,465.9100036621094,474.4700012207031,474.95001220703125,478.0,479.55999755859375,479.1700134277344,479.0,477.19000244140625,473.9700012207031,465.739990234375,453.8999938964844,455.1499938964844,446.7300109863281,452.0,453.760009765625,459.8900146484375,463.0,479.9800109863281,469.8299865722656,472.05999755859375,486.1199951171875,495.0199890136719,489.2699890136719,491.6099853515625,486.760009765625,491.19000244140625,491.7900085449219,490.510009765625,486.8800048828125],\"type\":\"scatter\"},{\"line\":{\"color\":\"hsl(270, 78.34862100599783%, 59.9487179491248%)\",\"dash\":\"dash\"},\"mode\":\"lines\",\"name\":\"NFLX Predictions\",\"x\":[\"2023-12-15\",\"2023-12-18\",\"2023-12-19\",\"2023-12-20\",\"2023-12-21\",\"2023-12-22\",\"2023-12-26\",\"2023-12-27\",\"2023-12-28\"],\"y\":[471.0022277832031,475.1975402832031,478.3806457519531,480.6172180175781,482.88568115234375,484.4594421386719,486.8113708496094,488.8592834472656,488.7320251464844],\"type\":\"scatter\"},{\"line\":{\"color\":\"hsl(266, 90.16134605737001%, 60.52462717340605%)\"},\"mode\":\"lines\",\"name\":\"LMT True Values\",\"x\":[\"2023-11-15T00:00:00\",\"2023-11-16T00:00:00\",\"2023-11-17T00:00:00\",\"2023-11-20T00:00:00\",\"2023-11-21T00:00:00\",\"2023-11-22T00:00:00\",\"2023-11-24T00:00:00\",\"2023-11-27T00:00:00\",\"2023-11-28T00:00:00\",\"2023-11-29T00:00:00\",\"2023-11-30T00:00:00\",\"2023-12-01T00:00:00\",\"2023-12-04T00:00:00\",\"2023-12-05T00:00:00\",\"2023-12-06T00:00:00\",\"2023-12-07T00:00:00\",\"2023-12-08T00:00:00\",\"2023-12-11T00:00:00\",\"2023-12-12T00:00:00\",\"2023-12-13T00:00:00\",\"2023-12-14T00:00:00\",\"2023-12-15T00:00:00\",\"2023-12-18T00:00:00\",\"2023-12-19T00:00:00\",\"2023-12-20T00:00:00\",\"2023-12-21T00:00:00\",\"2023-12-22T00:00:00\",\"2023-12-26T00:00:00\",\"2023-12-27T00:00:00\",\"2023-12-28T00:00:00\",\"2023-12-29T00:00:00\"],\"y\":[445.1400146484375,445.5899963378906,444.67999267578125,443.80999755859375,448.1499938964844,450.3999938964844,452.010009765625,445.489990234375,448.2699890136719,445.010009765625,447.7699890136719,449.4100036621094,450.69000244140625,446.239990234375,449.4100036621094,447.1099853515625,448.0199890136719,451.260009765625,451.6300048828125,451.44000244140625,445.2699890136719,441.80999755859375,446.9100036621094,447.7900085449219,442.6000061035156,448.0199890136719,448.2200012207031,450.17999267578125,448.9700012207031,451.2300109863281,453.239990234375],\"type\":\"scatter\"},{\"line\":{\"color\":\"hsl(266, 90.16134605737001%, 60.52462717340605%)\",\"dash\":\"dash\"},\"mode\":\"lines\",\"name\":\"LMT Predictions\",\"x\":[\"2023-12-15\",\"2023-12-18\",\"2023-12-19\",\"2023-12-20\",\"2023-12-21\",\"2023-12-22\",\"2023-12-26\",\"2023-12-27\",\"2023-12-28\"],\"y\":[466.71246337890625,465.4334411621094,465.218994140625,464.0083312988281,464.66302490234375,464.9200744628906,465.2455139160156,465.0499572753906,465.7554016113281],\"type\":\"scatter\"},{\"line\":{\"color\":\"hsl(257, 95.56937233045008%, 62.16022674821908%)\"},\"mode\":\"lines\",\"name\":\"MCD True Values\",\"x\":[\"2023-11-15T00:00:00\",\"2023-11-16T00:00:00\",\"2023-11-17T00:00:00\",\"2023-11-20T00:00:00\",\"2023-11-21T00:00:00\",\"2023-11-22T00:00:00\",\"2023-11-24T00:00:00\",\"2023-11-27T00:00:00\",\"2023-11-28T00:00:00\",\"2023-11-29T00:00:00\",\"2023-11-30T00:00:00\",\"2023-12-01T00:00:00\",\"2023-12-04T00:00:00\",\"2023-12-05T00:00:00\",\"2023-12-06T00:00:00\",\"2023-12-07T00:00:00\",\"2023-12-08T00:00:00\",\"2023-12-11T00:00:00\",\"2023-12-12T00:00:00\",\"2023-12-13T00:00:00\",\"2023-12-14T00:00:00\",\"2023-12-15T00:00:00\",\"2023-12-18T00:00:00\",\"2023-12-19T00:00:00\",\"2023-12-20T00:00:00\",\"2023-12-21T00:00:00\",\"2023-12-22T00:00:00\",\"2023-12-26T00:00:00\",\"2023-12-27T00:00:00\",\"2023-12-28T00:00:00\",\"2023-12-29T00:00:00\"],\"y\":[270.3900146484375,276.1199951171875,275.75,279.0299987792969,280.4700012207031,281.92999267578125,282.5400085449219,281.8399963378906,282.0899963378906,280.3800048828125,281.8399963378906,285.9599914550781,286.1300048828125,286.5400085449219,286.8599853515625,286.7900085449219,285.5299987792969,289.1499938964844,291.4200134277344,295.92999267578125,290.0199890136719,287.2699890136719,290.2300109863281,290.7300109863281,288.989990234375,291.3900146484375,291.70001220703125,292.8599853515625,294.54998779296875,295.8399963378906,296.510009765625],\"type\":\"scatter\"},{\"line\":{\"color\":\"hsl(257, 95.56937233045008%, 62.16022674821908%)\",\"dash\":\"dash\"},\"mode\":\"lines\",\"name\":\"MCD Predictions\",\"x\":[\"2023-12-15\",\"2023-12-18\",\"2023-12-19\",\"2023-12-20\",\"2023-12-21\",\"2023-12-22\",\"2023-12-26\",\"2023-12-27\",\"2023-12-28\"],\"y\":[336.725341796875,335.0237121582031,335.04632568359375,334.8549499511719,335.5316162109375,335.7066955566406,336.0034484863281,336.9322814941406,337.39678955078125],\"type\":\"scatter\"}],                        {\"template\":{\"data\":{\"histogram2dcontour\":[{\"type\":\"histogram2dcontour\",\"colorbar\":{\"outlinewidth\":0,\"ticks\":\"\"},\"colorscale\":[[0.0,\"#0d0887\"],[0.1111111111111111,\"#46039f\"],[0.2222222222222222,\"#7201a8\"],[0.3333333333333333,\"#9c179e\"],[0.4444444444444444,\"#bd3786\"],[0.5555555555555556,\"#d8576b\"],[0.6666666666666666,\"#ed7953\"],[0.7777777777777778,\"#fb9f3a\"],[0.8888888888888888,\"#fdca26\"],[1.0,\"#f0f921\"]]}],\"choropleth\":[{\"type\":\"choropleth\",\"colorbar\":{\"outlinewidth\":0,\"ticks\":\"\"}}],\"histogram2d\":[{\"type\":\"histogram2d\",\"colorbar\":{\"outlinewidth\":0,\"ticks\":\"\"},\"colorscale\":[[0.0,\"#0d0887\"],[0.1111111111111111,\"#46039f\"],[0.2222222222222222,\"#7201a8\"],[0.3333333333333333,\"#9c179e\"],[0.4444444444444444,\"#bd3786\"],[0.5555555555555556,\"#d8576b\"],[0.6666666666666666,\"#ed7953\"],[0.7777777777777778,\"#fb9f3a\"],[0.8888888888888888,\"#fdca26\"],[1.0,\"#f0f921\"]]}],\"heatmap\":[{\"type\":\"heatmap\",\"colorbar\":{\"outlinewidth\":0,\"ticks\":\"\"},\"colorscale\":[[0.0,\"#0d0887\"],[0.1111111111111111,\"#46039f\"],[0.2222222222222222,\"#7201a8\"],[0.3333333333333333,\"#9c179e\"],[0.4444444444444444,\"#bd3786\"],[0.5555555555555556,\"#d8576b\"],[0.6666666666666666,\"#ed7953\"],[0.7777777777777778,\"#fb9f3a\"],[0.8888888888888888,\"#fdca26\"],[1.0,\"#f0f921\"]]}],\"heatmapgl\":[{\"type\":\"heatmapgl\",\"colorbar\":{\"outlinewidth\":0,\"ticks\":\"\"},\"colorscale\":[[0.0,\"#0d0887\"],[0.1111111111111111,\"#46039f\"],[0.2222222222222222,\"#7201a8\"],[0.3333333333333333,\"#9c179e\"],[0.4444444444444444,\"#bd3786\"],[0.5555555555555556,\"#d8576b\"],[0.6666666666666666,\"#ed7953\"],[0.7777777777777778,\"#fb9f3a\"],[0.8888888888888888,\"#fdca26\"],[1.0,\"#f0f921\"]]}],\"contourcarpet\":[{\"type\":\"contourcarpet\",\"colorbar\":{\"outlinewidth\":0,\"ticks\":\"\"}}],\"contour\":[{\"type\":\"contour\",\"colorbar\":{\"outlinewidth\":0,\"ticks\":\"\"},\"colorscale\":[[0.0,\"#0d0887\"],[0.1111111111111111,\"#46039f\"],[0.2222222222222222,\"#7201a8\"],[0.3333333333333333,\"#9c179e\"],[0.4444444444444444,\"#bd3786\"],[0.5555555555555556,\"#d8576b\"],[0.6666666666666666,\"#ed7953\"],[0.7777777777777778,\"#fb9f3a\"],[0.8888888888888888,\"#fdca26\"],[1.0,\"#f0f921\"]]}],\"surface\":[{\"type\":\"surface\",\"colorbar\":{\"outlinewidth\":0,\"ticks\":\"\"},\"colorscale\":[[0.0,\"#0d0887\"],[0.1111111111111111,\"#46039f\"],[0.2222222222222222,\"#7201a8\"],[0.3333333333333333,\"#9c179e\"],[0.4444444444444444,\"#bd3786\"],[0.5555555555555556,\"#d8576b\"],[0.6666666666666666,\"#ed7953\"],[0.7777777777777778,\"#fb9f3a\"],[0.8888888888888888,\"#fdca26\"],[1.0,\"#f0f921\"]]}],\"mesh3d\":[{\"type\":\"mesh3d\",\"colorbar\":{\"outlinewidth\":0,\"ticks\":\"\"}}],\"scatter\":[{\"fillpattern\":{\"fillmode\":\"overlay\",\"size\":10,\"solidity\":0.2},\"type\":\"scatter\"}],\"parcoords\":[{\"type\":\"parcoords\",\"line\":{\"colorbar\":{\"outlinewidth\":0,\"ticks\":\"\"}}}],\"scatterpolargl\":[{\"type\":\"scatterpolargl\",\"marker\":{\"colorbar\":{\"outlinewidth\":0,\"ticks\":\"\"}}}],\"bar\":[{\"error_x\":{\"color\":\"#2a3f5f\"},\"error_y\":{\"color\":\"#2a3f5f\"},\"marker\":{\"line\":{\"color\":\"#E5ECF6\",\"width\":0.5},\"pattern\":{\"fillmode\":\"overlay\",\"size\":10,\"solidity\":0.2}},\"type\":\"bar\"}],\"scattergeo\":[{\"type\":\"scattergeo\",\"marker\":{\"colorbar\":{\"outlinewidth\":0,\"ticks\":\"\"}}}],\"scatterpolar\":[{\"type\":\"scatterpolar\",\"marker\":{\"colorbar\":{\"outlinewidth\":0,\"ticks\":\"\"}}}],\"histogram\":[{\"marker\":{\"pattern\":{\"fillmode\":\"overlay\",\"size\":10,\"solidity\":0.2}},\"type\":\"histogram\"}],\"scattergl\":[{\"type\":\"scattergl\",\"marker\":{\"colorbar\":{\"outlinewidth\":0,\"ticks\":\"\"}}}],\"scatter3d\":[{\"type\":\"scatter3d\",\"line\":{\"colorbar\":{\"outlinewidth\":0,\"ticks\":\"\"}},\"marker\":{\"colorbar\":{\"outlinewidth\":0,\"ticks\":\"\"}}}],\"scattermapbox\":[{\"type\":\"scattermapbox\",\"marker\":{\"colorbar\":{\"outlinewidth\":0,\"ticks\":\"\"}}}],\"scatterternary\":[{\"type\":\"scatterternary\",\"marker\":{\"colorbar\":{\"outlinewidth\":0,\"ticks\":\"\"}}}],\"scattercarpet\":[{\"type\":\"scattercarpet\",\"marker\":{\"colorbar\":{\"outlinewidth\":0,\"ticks\":\"\"}}}],\"carpet\":[{\"aaxis\":{\"endlinecolor\":\"#2a3f5f\",\"gridcolor\":\"white\",\"linecolor\":\"white\",\"minorgridcolor\":\"white\",\"startlinecolor\":\"#2a3f5f\"},\"baxis\":{\"endlinecolor\":\"#2a3f5f\",\"gridcolor\":\"white\",\"linecolor\":\"white\",\"minorgridcolor\":\"white\",\"startlinecolor\":\"#2a3f5f\"},\"type\":\"carpet\"}],\"table\":[{\"cells\":{\"fill\":{\"color\":\"#EBF0F8\"},\"line\":{\"color\":\"white\"}},\"header\":{\"fill\":{\"color\":\"#C8D4E3\"},\"line\":{\"color\":\"white\"}},\"type\":\"table\"}],\"barpolar\":[{\"marker\":{\"line\":{\"color\":\"#E5ECF6\",\"width\":0.5},\"pattern\":{\"fillmode\":\"overlay\",\"size\":10,\"solidity\":0.2}},\"type\":\"barpolar\"}],\"pie\":[{\"automargin\":true,\"type\":\"pie\"}]},\"layout\":{\"autotypenumbers\":\"strict\",\"colorway\":[\"#636efa\",\"#EF553B\",\"#00cc96\",\"#ab63fa\",\"#FFA15A\",\"#19d3f3\",\"#FF6692\",\"#B6E880\",\"#FF97FF\",\"#FECB52\"],\"font\":{\"color\":\"#2a3f5f\"},\"hovermode\":\"closest\",\"hoverlabel\":{\"align\":\"left\"},\"paper_bgcolor\":\"white\",\"plot_bgcolor\":\"#E5ECF6\",\"polar\":{\"bgcolor\":\"#E5ECF6\",\"angularaxis\":{\"gridcolor\":\"white\",\"linecolor\":\"white\",\"ticks\":\"\"},\"radialaxis\":{\"gridcolor\":\"white\",\"linecolor\":\"white\",\"ticks\":\"\"}},\"ternary\":{\"bgcolor\":\"#E5ECF6\",\"aaxis\":{\"gridcolor\":\"white\",\"linecolor\":\"white\",\"ticks\":\"\"},\"baxis\":{\"gridcolor\":\"white\",\"linecolor\":\"white\",\"ticks\":\"\"},\"caxis\":{\"gridcolor\":\"white\",\"linecolor\":\"white\",\"ticks\":\"\"}},\"coloraxis\":{\"colorbar\":{\"outlinewidth\":0,\"ticks\":\"\"}},\"colorscale\":{\"sequential\":[[0.0,\"#0d0887\"],[0.1111111111111111,\"#46039f\"],[0.2222222222222222,\"#7201a8\"],[0.3333333333333333,\"#9c179e\"],[0.4444444444444444,\"#bd3786\"],[0.5555555555555556,\"#d8576b\"],[0.6666666666666666,\"#ed7953\"],[0.7777777777777778,\"#fb9f3a\"],[0.8888888888888888,\"#fdca26\"],[1.0,\"#f0f921\"]],\"sequentialminus\":[[0.0,\"#0d0887\"],[0.1111111111111111,\"#46039f\"],[0.2222222222222222,\"#7201a8\"],[0.3333333333333333,\"#9c179e\"],[0.4444444444444444,\"#bd3786\"],[0.5555555555555556,\"#d8576b\"],[0.6666666666666666,\"#ed7953\"],[0.7777777777777778,\"#fb9f3a\"],[0.8888888888888888,\"#fdca26\"],[1.0,\"#f0f921\"]],\"diverging\":[[0,\"#8e0152\"],[0.1,\"#c51b7d\"],[0.2,\"#de77ae\"],[0.3,\"#f1b6da\"],[0.4,\"#fde0ef\"],[0.5,\"#f7f7f7\"],[0.6,\"#e6f5d0\"],[0.7,\"#b8e186\"],[0.8,\"#7fbc41\"],[0.9,\"#4d9221\"],[1,\"#276419\"]]},\"xaxis\":{\"gridcolor\":\"white\",\"linecolor\":\"white\",\"ticks\":\"\",\"title\":{\"standoff\":15},\"zerolinecolor\":\"white\",\"automargin\":true,\"zerolinewidth\":2},\"yaxis\":{\"gridcolor\":\"white\",\"linecolor\":\"white\",\"ticks\":\"\",\"title\":{\"standoff\":15},\"zerolinecolor\":\"white\",\"automargin\":true,\"zerolinewidth\":2},\"scene\":{\"xaxis\":{\"backgroundcolor\":\"#E5ECF6\",\"gridcolor\":\"white\",\"linecolor\":\"white\",\"showbackground\":true,\"ticks\":\"\",\"zerolinecolor\":\"white\",\"gridwidth\":2},\"yaxis\":{\"backgroundcolor\":\"#E5ECF6\",\"gridcolor\":\"white\",\"linecolor\":\"white\",\"showbackground\":true,\"ticks\":\"\",\"zerolinecolor\":\"white\",\"gridwidth\":2},\"zaxis\":{\"backgroundcolor\":\"#E5ECF6\",\"gridcolor\":\"white\",\"linecolor\":\"white\",\"showbackground\":true,\"ticks\":\"\",\"zerolinecolor\":\"white\",\"gridwidth\":2}},\"shapedefaults\":{\"line\":{\"color\":\"#2a3f5f\"}},\"annotationdefaults\":{\"arrowcolor\":\"#2a3f5f\",\"arrowhead\":0,\"arrowwidth\":1},\"geo\":{\"bgcolor\":\"white\",\"landcolor\":\"#E5ECF6\",\"subunitcolor\":\"white\",\"showland\":true,\"showlakes\":true,\"lakecolor\":\"white\"},\"title\":{\"x\":0.05},\"mapbox\":{\"style\":\"light\"}}},\"xaxis\":{\"title\":{\"text\":\"Date\"},\"gridcolor\":\"lightgray\",\"gridwidth\":1},\"yaxis\":{\"title\":{\"text\":\"Value\"},\"gridcolor\":\"lightgray\",\"gridwidth\":1},\"title\":{\"text\":\"Predictions vs True Values for Selected Stocks\"},\"legend\":{\"title\":{\"text\":\"Legend\"}},\"showlegend\":true,\"updatemenus\":[{\"active\":7,\"buttons\":[{\"args\":[{\"visible\":[true,true,false,false,false,false,false,false,false,false,false,false,false,false]},{\"title\":\"META Predictions vs True Values\"}],\"label\":\"META\",\"method\":\"update\"},{\"args\":[{\"visible\":[false,false,true,true,false,false,false,false,false,false,false,false,false,false]},{\"title\":\"ADBE Predictions vs True Values\"}],\"label\":\"ADBE\",\"method\":\"update\"},{\"args\":[{\"visible\":[false,false,false,false,true,true,false,false,false,false,false,false,false,false]},{\"title\":\"MA Predictions vs True Values\"}],\"label\":\"MA\",\"method\":\"update\"},{\"args\":[{\"visible\":[false,false,false,false,false,false,true,true,false,false,false,false,false,false]},{\"title\":\"GS Predictions vs True Values\"}],\"label\":\"GS\",\"method\":\"update\"},{\"args\":[{\"visible\":[false,false,false,false,false,false,false,false,true,true,false,false,false,false]},{\"title\":\"NFLX Predictions vs True Values\"}],\"label\":\"NFLX\",\"method\":\"update\"},{\"args\":[{\"visible\":[false,false,false,false,false,false,false,false,false,false,true,true,false,false]},{\"title\":\"LMT Predictions vs True Values\"}],\"label\":\"LMT\",\"method\":\"update\"},{\"args\":[{\"visible\":[false,false,false,false,false,false,false,false,false,false,false,false,true,true]},{\"title\":\"MCD Predictions vs True Values\"}],\"label\":\"MCD\",\"method\":\"update\"},{\"args\":[{\"visible\":[true,true,true,true,true,true,true,true,true,true,true,true,true,true]},{\"title\":\"All Stocks Predictions vs True Values\"}],\"label\":\"All\",\"method\":\"update\"}],\"direction\":\"down\",\"showactive\":true}],\"plot_bgcolor\":\"white\",\"paper_bgcolor\":\"white\"},                        {\"responsive\": true}                    ).then(function(){\n",
       "                            \n",
       "var gd = document.getElementById('7da1c7fd-1850-46f9-92ac-f0770b89659a');\n",
       "var x = new MutationObserver(function (mutations, observer) {{\n",
       "        var display = window.getComputedStyle(gd).display;\n",
       "        if (!display || display === 'none') {{\n",
       "            console.log([gd, 'removed!']);\n",
       "            Plotly.purge(gd);\n",
       "            observer.disconnect();\n",
       "        }}\n",
       "}});\n",
       "\n",
       "// Listen for the removal of the full notebook cells\n",
       "var notebookContainer = gd.closest('#notebook-container');\n",
       "if (notebookContainer) {{\n",
       "    x.observe(notebookContainer, {childList: true});\n",
       "}}\n",
       "\n",
       "// Listen for the clearing of the current output cell\n",
       "var outputEl = gd.closest('.output');\n",
       "if (outputEl) {{\n",
       "    x.observe(outputEl, {childList: true});\n",
       "}}\n",
       "\n",
       "                        })                };                });            </script>        </div>"
      ]
     },
     "metadata": {},
     "output_type": "display_data"
    }
   ],
   "source": [
    "evaluate_model_sequence3(model, test_sequence_loader)"
   ]
  },
  {
   "cell_type": "code",
   "execution_count": 218,
   "id": "80f13313",
   "metadata": {},
   "outputs": [
    {
     "data": {
      "application/vnd.plotly.v1+json": {
       "config": {
        "plotlyServerURL": "https://plotly.com"
       },
       "data": [
        {
         "line": {
          "color": "hsl(222, 99.26510890272999%, 66.86289216405419%)"
         },
         "mode": "lines",
         "name": "META True Values",
         "type": "scatter",
         "x": [
          "2023-09-18T00:00:00",
          "2023-09-19T00:00:00",
          "2023-09-20T00:00:00",
          "2023-09-21T00:00:00",
          "2023-09-22T00:00:00",
          "2023-09-25T00:00:00",
          "2023-09-26T00:00:00",
          "2023-09-27T00:00:00",
          "2023-09-28T00:00:00",
          "2023-09-29T00:00:00",
          "2023-10-02T00:00:00",
          "2023-10-03T00:00:00",
          "2023-10-04T00:00:00",
          "2023-10-05T00:00:00",
          "2023-10-06T00:00:00",
          "2023-10-09T00:00:00",
          "2023-10-10T00:00:00",
          "2023-10-11T00:00:00",
          "2023-10-12T00:00:00",
          "2023-10-13T00:00:00",
          "2023-10-16T00:00:00",
          "2023-10-17T00:00:00",
          "2023-10-18T00:00:00",
          "2023-10-19T00:00:00",
          "2023-10-20T00:00:00",
          "2023-10-23T00:00:00",
          "2023-10-24T00:00:00",
          "2023-10-25T00:00:00",
          "2023-10-26T00:00:00",
          "2023-10-27T00:00:00",
          "2023-10-30T00:00:00",
          "2023-10-31T00:00:00",
          "2023-11-01T00:00:00",
          "2023-11-02T00:00:00",
          "2023-11-03T00:00:00",
          "2023-11-06T00:00:00",
          "2023-11-07T00:00:00",
          "2023-11-08T00:00:00",
          "2023-11-09T00:00:00",
          "2023-11-10T00:00:00",
          "2023-11-13T00:00:00",
          "2023-11-14T00:00:00",
          "2023-11-15T00:00:00",
          "2023-11-16T00:00:00",
          "2023-11-17T00:00:00",
          "2023-11-20T00:00:00",
          "2023-11-21T00:00:00",
          "2023-11-22T00:00:00",
          "2023-11-24T00:00:00",
          "2023-11-27T00:00:00",
          "2023-11-28T00:00:00",
          "2023-11-29T00:00:00",
          "2023-11-30T00:00:00",
          "2023-12-01T00:00:00",
          "2023-12-04T00:00:00",
          "2023-12-05T00:00:00",
          "2023-12-06T00:00:00",
          "2023-12-07T00:00:00",
          "2023-12-08T00:00:00",
          "2023-12-11T00:00:00",
          "2023-12-12T00:00:00",
          "2023-12-13T00:00:00",
          "2023-12-14T00:00:00",
          "2023-12-15T00:00:00",
          "2023-12-18T00:00:00",
          "2023-12-19T00:00:00",
          "2023-12-20T00:00:00",
          "2023-12-21T00:00:00",
          "2023-12-22T00:00:00",
          "2023-12-26T00:00:00",
          "2023-12-27T00:00:00",
          "2023-12-28T00:00:00",
          "2023-12-29T00:00:00"
         ],
         "y": [
          302.54998779296875,
          305.07000732421875,
          299.6700134277344,
          295.7300109863281,
          299.0799865722656,
          300.8299865722656,
          298.9599914550781,
          297.739990234375,
          303.9599914550781,
          300.2099914550781,
          306.82000732421875,
          300.94000244140625,
          305.5799865722656,
          304.7900085449219,
          315.42999267578125,
          318.3599853515625,
          321.8399963378906,
          327.82000732421875,
          324.1600036621094,
          314.69000244140625,
          321.1499938964844,
          324,
          316.9700012207031,
          312.80999755859375,
          308.6499938964844,
          314.010009765625,
          312.54998779296875,
          299.5299987792969,
          288.3500061035156,
          296.7300109863281,
          302.6600036621094,
          301.2699890136719,
          311.8500061035156,
          310.8699951171875,
          314.6000061035156,
          315.79998779296875,
          318.82000732421875,
          319.7799987792969,
          320.54998779296875,
          328.7699890136719,
          329.19000244140625,
          336.30999755859375,
          332.7099914550781,
          334.19000244140625,
          335.0400085449219,
          339.9700012207031,
          336.9800109863281,
          341.489990234375,
          338.2300109863281,
          334.70001220703125,
          338.989990234375,
          332.20001220703125,
          327.1499938964844,
          324.82000732421875,
          320.0199890136719,
          318.2900085449219,
          317.45001220703125,
          326.5899963378906,
          332.75,
          325.2799987792969,
          334.2200012207031,
          334.739990234375,
          333.1700134277344,
          334.9200134277344,
          344.6199951171875,
          350.3599853515625,
          349.2799987792969,
          354.0899963378906,
          353.3900146484375,
          354.8299865722656,
          357.8299865722656,
          358.32000732421875,
          353.9599914550781
         ]
        },
        {
         "line": {
          "color": "hsl(222, 99.26510890272999%, 66.86289216405419%)",
          "dash": "dash"
         },
         "mode": "lines",
         "name": "META Predictions",
         "type": "scatter",
         "x": [
          "2023-12-15",
          "2023-12-18",
          "2023-12-19",
          "2023-12-20",
          "2023-12-21",
          "2023-12-22",
          "2023-12-26",
          "2023-12-27",
          "2023-12-28"
         ],
         "y": [
          306.5460510253906,
          303.1202697753906,
          305.65875244140625,
          306.9281311035156,
          309.3328552246094,
          308.7178039550781,
          309.8272399902344,
          314.104248046875,
          314.94635009765625
         ]
        },
        {
         "line": {
          "color": "hsl(42, 89.71464001613543%, 57.836558646645045%)"
         },
         "mode": "lines",
         "name": "ADBE True Values",
         "type": "scatter",
         "x": [
          "2023-09-18T00:00:00",
          "2023-09-19T00:00:00",
          "2023-09-20T00:00:00",
          "2023-09-21T00:00:00",
          "2023-09-22T00:00:00",
          "2023-09-25T00:00:00",
          "2023-09-26T00:00:00",
          "2023-09-27T00:00:00",
          "2023-09-28T00:00:00",
          "2023-09-29T00:00:00",
          "2023-10-02T00:00:00",
          "2023-10-03T00:00:00",
          "2023-10-04T00:00:00",
          "2023-10-05T00:00:00",
          "2023-10-06T00:00:00",
          "2023-10-09T00:00:00",
          "2023-10-10T00:00:00",
          "2023-10-11T00:00:00",
          "2023-10-12T00:00:00",
          "2023-10-13T00:00:00",
          "2023-10-16T00:00:00",
          "2023-10-17T00:00:00",
          "2023-10-18T00:00:00",
          "2023-10-19T00:00:00",
          "2023-10-20T00:00:00",
          "2023-10-23T00:00:00",
          "2023-10-24T00:00:00",
          "2023-10-25T00:00:00",
          "2023-10-26T00:00:00",
          "2023-10-27T00:00:00",
          "2023-10-30T00:00:00",
          "2023-10-31T00:00:00",
          "2023-11-01T00:00:00",
          "2023-11-02T00:00:00",
          "2023-11-03T00:00:00",
          "2023-11-06T00:00:00",
          "2023-11-07T00:00:00",
          "2023-11-08T00:00:00",
          "2023-11-09T00:00:00",
          "2023-11-10T00:00:00",
          "2023-11-13T00:00:00",
          "2023-11-14T00:00:00",
          "2023-11-15T00:00:00",
          "2023-11-16T00:00:00",
          "2023-11-17T00:00:00",
          "2023-11-20T00:00:00",
          "2023-11-21T00:00:00",
          "2023-11-22T00:00:00",
          "2023-11-24T00:00:00",
          "2023-11-27T00:00:00",
          "2023-11-28T00:00:00",
          "2023-11-29T00:00:00",
          "2023-11-30T00:00:00",
          "2023-12-01T00:00:00",
          "2023-12-04T00:00:00",
          "2023-12-05T00:00:00",
          "2023-12-06T00:00:00",
          "2023-12-07T00:00:00",
          "2023-12-08T00:00:00",
          "2023-12-11T00:00:00",
          "2023-12-12T00:00:00",
          "2023-12-13T00:00:00",
          "2023-12-14T00:00:00",
          "2023-12-15T00:00:00",
          "2023-12-18T00:00:00",
          "2023-12-19T00:00:00",
          "2023-12-20T00:00:00",
          "2023-12-21T00:00:00",
          "2023-12-22T00:00:00",
          "2023-12-26T00:00:00",
          "2023-12-27T00:00:00",
          "2023-12-28T00:00:00",
          "2023-12-29T00:00:00"
         ],
         "y": [
          532.4199829101562,
          541.6900024414062,
          535.780029296875,
          513.8800048828125,
          512.9000244140625,
          511.6000061035156,
          506.29998779296875,
          502.6000061035156,
          504.6700134277344,
          509.8999938964844,
          521.1300048828125,
          507.0299987792969,
          518.4199829101562,
          516.4400024414062,
          526.6799926757812,
          529.2899780273438,
          532.719970703125,
          549.9099731445312,
          559.6300048828125,
          548.760009765625,
          550.739990234375,
          560.0900268554688,
          557.8699951171875,
          555.739990234375,
          540.9600219726562,
          540.4099731445312,
          539.5599975585938,
          521.1400146484375,
          514.280029296875,
          508.1199951171875,
          526.9400024414062,
          532.0599975585938,
          544.5,
          558.7100219726562,
          563.6599731445312,
          565.4500122070312,
          585.2000122070312,
          585.3099975585938,
          577.739990234375,
          597.219970703125,
          590.3400268554688,
          604.3300170898438,
          595.3099975585938,
          602.0599975585938,
          602.6599731445312,
          612.7000122070312,
          610.989990234375,
          619.719970703125,
          619.4299926757812,
          619.27001953125,
          623.3200073242188,
          617.3900146484375,
          611.010009765625,
          612.469970703125,
          604.5599975585938,
          602.219970703125,
          595.7000122070312,
          608.780029296875,
          610.010009765625,
          625.2000122070312,
          633.6599731445312,
          624.260009765625,
          584.6400146484375,
          584.6799926757812,
          599.1300048828125,
          604.6400146484375,
          596.0599975585938,
          600.1400146484375,
          598.75,
          598.260009765625,
          596.0800170898438,
          595.52001953125,
          596.5999755859375
         ]
        },
        {
         "line": {
          "color": "hsl(42, 89.71464001613543%, 57.836558646645045%)",
          "dash": "dash"
         },
         "mode": "lines",
         "name": "ADBE Predictions",
         "type": "scatter",
         "x": [
          "2023-12-15",
          "2023-12-18",
          "2023-12-19",
          "2023-12-20",
          "2023-12-21",
          "2023-12-22",
          "2023-12-26",
          "2023-12-27",
          "2023-12-28"
         ],
         "y": [
          557.619873046875,
          556.8392944335938,
          556.0986328125,
          552.6427001953125,
          553.7796630859375,
          552.3759765625,
          550.7181396484375,
          547.8931274414062,
          546.465576171875
         ]
        },
        {
         "line": {
          "color": "hsl(231, 83.31851886256193%, 63.104337534287055%)"
         },
         "mode": "lines",
         "name": "MA True Values",
         "type": "scatter",
         "x": [
          "2023-09-18T00:00:00",
          "2023-09-19T00:00:00",
          "2023-09-20T00:00:00",
          "2023-09-21T00:00:00",
          "2023-09-22T00:00:00",
          "2023-09-25T00:00:00",
          "2023-09-26T00:00:00",
          "2023-09-27T00:00:00",
          "2023-09-28T00:00:00",
          "2023-09-29T00:00:00",
          "2023-10-02T00:00:00",
          "2023-10-03T00:00:00",
          "2023-10-04T00:00:00",
          "2023-10-05T00:00:00",
          "2023-10-06T00:00:00",
          "2023-10-09T00:00:00",
          "2023-10-10T00:00:00",
          "2023-10-11T00:00:00",
          "2023-10-12T00:00:00",
          "2023-10-13T00:00:00",
          "2023-10-16T00:00:00",
          "2023-10-17T00:00:00",
          "2023-10-18T00:00:00",
          "2023-10-19T00:00:00",
          "2023-10-20T00:00:00",
          "2023-10-23T00:00:00",
          "2023-10-24T00:00:00",
          "2023-10-25T00:00:00",
          "2023-10-26T00:00:00",
          "2023-10-27T00:00:00",
          "2023-10-30T00:00:00",
          "2023-10-31T00:00:00",
          "2023-11-01T00:00:00",
          "2023-11-02T00:00:00",
          "2023-11-03T00:00:00",
          "2023-11-06T00:00:00",
          "2023-11-07T00:00:00",
          "2023-11-08T00:00:00",
          "2023-11-09T00:00:00",
          "2023-11-10T00:00:00",
          "2023-11-13T00:00:00",
          "2023-11-14T00:00:00",
          "2023-11-15T00:00:00",
          "2023-11-16T00:00:00",
          "2023-11-17T00:00:00",
          "2023-11-20T00:00:00",
          "2023-11-21T00:00:00",
          "2023-11-22T00:00:00",
          "2023-11-24T00:00:00",
          "2023-11-27T00:00:00",
          "2023-11-28T00:00:00",
          "2023-11-29T00:00:00",
          "2023-11-30T00:00:00",
          "2023-12-01T00:00:00",
          "2023-12-04T00:00:00",
          "2023-12-05T00:00:00",
          "2023-12-06T00:00:00",
          "2023-12-07T00:00:00",
          "2023-12-08T00:00:00",
          "2023-12-11T00:00:00",
          "2023-12-12T00:00:00",
          "2023-12-13T00:00:00",
          "2023-12-14T00:00:00",
          "2023-12-15T00:00:00",
          "2023-12-18T00:00:00",
          "2023-12-19T00:00:00",
          "2023-12-20T00:00:00",
          "2023-12-21T00:00:00",
          "2023-12-22T00:00:00",
          "2023-12-26T00:00:00",
          "2023-12-27T00:00:00",
          "2023-12-28T00:00:00",
          "2023-12-29T00:00:00"
         ],
         "y": [
          417.1300048828125,
          413.5299987792969,
          410.5199890136719,
          403.3599853515625,
          402.2200012207031,
          402.489990234375,
          395.3800048828125,
          395.4800109863281,
          399.44000244140625,
          395.9100036621094,
          395.8500061035156,
          391.05999755859375,
          393.760009765625,
          394.20001220703125,
          397.9700012207031,
          394.739990234375,
          400.3699951171875,
          399.80999755859375,
          399.8999938964844,
          398.0299987792969,
          401.1600036621094,
          401.7699890136719,
          393.2099914550781,
          387.8699951171875,
          384.4100036621094,
          383.6700134277344,
          386.9100036621094,
          386.30999755859375,
          364.5899963378906,
          364.0799865722656,
          372.4200134277344,
          376.3500061035156,
          377.82000732421875,
          382.69000244140625,
          386.04998779296875,
          386.1600036621094,
          388.8699951171875,
          389.70001220703125,
          387.9599914550781,
          394.3800048828125,
          394.3500061035156,
          397.6499938964844,
          396.8299865722656,
          397.1000061035156,
          400.29998779296875,
          404.3999938964844,
          408.95001220703125,
          410.3299865722656,
          412.5,
          408.9700012207031,
          409.010009765625,
          409.82000732421875,
          413.8299865722656,
          414.3599853515625,
          408.2300109863281,
          408.69000244140625,
          410.3800048828125,
          413.1499938964844,
          412.1600036621094,
          415.7099914550781,
          420.75,
          424.67999267578125,
          418.55999755859375,
          418.57000732421875,
          424.42999267578125,
          425.4700012207031,
          419.45001220703125,
          423.44000244140625,
          424.1000061035156,
          423.6700134277344,
          424.3599853515625,
          426.32000732421875,
          426.510009765625
         ]
        },
        {
         "line": {
          "color": "hsl(231, 83.31851886256193%, 63.104337534287055%)",
          "dash": "dash"
         },
         "mode": "lines",
         "name": "MA Predictions",
         "type": "scatter",
         "x": [
          "2023-12-15",
          "2023-12-18",
          "2023-12-19",
          "2023-12-20",
          "2023-12-21",
          "2023-12-22",
          "2023-12-26",
          "2023-12-27",
          "2023-12-28"
         ],
         "y": [
          398.0412292480469,
          398.41314697265625,
          399.4419860839844,
          399.27825927734375,
          400.1919250488281,
          400.91326904296875,
          400.9620666503906,
          401.29339599609375,
          402.0763854980469
         ]
        },
        {
         "line": {
          "color": "hsl(52, 90.32028060157067%, 68.89505653639326%)"
         },
         "mode": "lines",
         "name": "GS True Values",
         "type": "scatter",
         "x": [
          "2023-09-18T00:00:00",
          "2023-09-19T00:00:00",
          "2023-09-20T00:00:00",
          "2023-09-21T00:00:00",
          "2023-09-22T00:00:00",
          "2023-09-25T00:00:00",
          "2023-09-26T00:00:00",
          "2023-09-27T00:00:00",
          "2023-09-28T00:00:00",
          "2023-09-29T00:00:00",
          "2023-10-02T00:00:00",
          "2023-10-03T00:00:00",
          "2023-10-04T00:00:00",
          "2023-10-05T00:00:00",
          "2023-10-06T00:00:00",
          "2023-10-09T00:00:00",
          "2023-10-10T00:00:00",
          "2023-10-11T00:00:00",
          "2023-10-12T00:00:00",
          "2023-10-13T00:00:00",
          "2023-10-16T00:00:00",
          "2023-10-17T00:00:00",
          "2023-10-18T00:00:00",
          "2023-10-19T00:00:00",
          "2023-10-20T00:00:00",
          "2023-10-23T00:00:00",
          "2023-10-24T00:00:00",
          "2023-10-25T00:00:00",
          "2023-10-26T00:00:00",
          "2023-10-27T00:00:00",
          "2023-10-30T00:00:00",
          "2023-10-31T00:00:00",
          "2023-11-01T00:00:00",
          "2023-11-02T00:00:00",
          "2023-11-03T00:00:00",
          "2023-11-06T00:00:00",
          "2023-11-07T00:00:00",
          "2023-11-08T00:00:00",
          "2023-11-09T00:00:00",
          "2023-11-10T00:00:00",
          "2023-11-13T00:00:00",
          "2023-11-14T00:00:00",
          "2023-11-15T00:00:00",
          "2023-11-16T00:00:00",
          "2023-11-17T00:00:00",
          "2023-11-20T00:00:00",
          "2023-11-21T00:00:00",
          "2023-11-22T00:00:00",
          "2023-11-24T00:00:00",
          "2023-11-27T00:00:00",
          "2023-11-28T00:00:00",
          "2023-11-29T00:00:00",
          "2023-11-30T00:00:00",
          "2023-12-01T00:00:00",
          "2023-12-04T00:00:00",
          "2023-12-05T00:00:00",
          "2023-12-06T00:00:00",
          "2023-12-07T00:00:00",
          "2023-12-08T00:00:00",
          "2023-12-11T00:00:00",
          "2023-12-12T00:00:00",
          "2023-12-13T00:00:00",
          "2023-12-14T00:00:00",
          "2023-12-15T00:00:00",
          "2023-12-18T00:00:00",
          "2023-12-19T00:00:00",
          "2023-12-20T00:00:00",
          "2023-12-21T00:00:00",
          "2023-12-22T00:00:00",
          "2023-12-26T00:00:00",
          "2023-12-27T00:00:00",
          "2023-12-28T00:00:00",
          "2023-12-29T00:00:00"
         ],
         "y": [
          343.32000732421875,
          341.8900146484375,
          336.70001220703125,
          330.239990234375,
          327.8900146484375,
          328.8399963378906,
          323.82000732421875,
          321.95001220703125,
          325.20001220703125,
          323.57000732421875,
          318.5,
          306.1199951171875,
          308.6000061035156,
          310.5,
          312.4800109863281,
          312.6099853515625,
          314.7699890136719,
          313.0199890136719,
          309.8500061035156,
          309.29998779296875,
          314.3900146484375,
          309.3599853515625,
          301.9599914550781,
          299.19000244140625,
          300.04998779296875,
          299.2200012207031,
          299.17999267578125,
          296.760009765625,
          296.989990234375,
          289.9100036621094,
          300.8299865722656,
          303.6099853515625,
          307.1600036621094,
          313.760009765625,
          327.6199951171875,
          323.9100036621094,
          323.95001220703125,
          324.55999755859375,
          320.7799987792969,
          325.510009765625,
          326.9100036621094,
          338.7200012207031,
          337.6000061035156,
          336.6700134277344,
          339.19000244140625,
          339.45001220703125,
          334.9700012207031,
          338.6400146484375,
          339.1499938964844,
          337.7099914550781,
          337.6499938964844,
          340.260009765625,
          341.5400085449219,
          348.42999267578125,
          349.3900146484375,
          341.75,
          341.9700012207031,
          344.6199951171875,
          350.8299865722656,
          351.760009765625,
          352.6099853515625,
          362.7300109863281,
          383.4700012207031,
          380.510009765625,
          376.3999938964844,
          382.45001220703125,
          377.5199890136719,
          380.57000732421875,
          380.6499938964844,
          381.6099853515625,
          384.4800109863281,
          386.4100036621094,
          385.7699890136719
         ]
        },
        {
         "line": {
          "color": "hsl(52, 90.32028060157067%, 68.89505653639326%)",
          "dash": "dash"
         },
         "mode": "lines",
         "name": "GS Predictions",
         "type": "scatter",
         "x": [
          "2023-12-15",
          "2023-12-18",
          "2023-12-19",
          "2023-12-20",
          "2023-12-21",
          "2023-12-22",
          "2023-12-26",
          "2023-12-27",
          "2023-12-28"
         ],
         "y": [
          361.3177795410156,
          361.8061218261719,
          365.7807922363281,
          367.3349914550781,
          369.5223693847656,
          371.4447326660156,
          373.1112365722656,
          375.96295166015625,
          377.83148193359375
         ]
        },
        {
         "line": {
          "color": "hsl(131, 98.4496093964755%, 52.42744920449858%)"
         },
         "mode": "lines",
         "name": "NFLX True Values",
         "type": "scatter",
         "x": [
          "2023-09-18T00:00:00",
          "2023-09-19T00:00:00",
          "2023-09-20T00:00:00",
          "2023-09-21T00:00:00",
          "2023-09-22T00:00:00",
          "2023-09-25T00:00:00",
          "2023-09-26T00:00:00",
          "2023-09-27T00:00:00",
          "2023-09-28T00:00:00",
          "2023-09-29T00:00:00",
          "2023-10-02T00:00:00",
          "2023-10-03T00:00:00",
          "2023-10-04T00:00:00",
          "2023-10-05T00:00:00",
          "2023-10-06T00:00:00",
          "2023-10-09T00:00:00",
          "2023-10-10T00:00:00",
          "2023-10-11T00:00:00",
          "2023-10-12T00:00:00",
          "2023-10-13T00:00:00",
          "2023-10-16T00:00:00",
          "2023-10-17T00:00:00",
          "2023-10-18T00:00:00",
          "2023-10-19T00:00:00",
          "2023-10-20T00:00:00",
          "2023-10-23T00:00:00",
          "2023-10-24T00:00:00",
          "2023-10-25T00:00:00",
          "2023-10-26T00:00:00",
          "2023-10-27T00:00:00",
          "2023-10-30T00:00:00",
          "2023-10-31T00:00:00",
          "2023-11-01T00:00:00",
          "2023-11-02T00:00:00",
          "2023-11-03T00:00:00",
          "2023-11-06T00:00:00",
          "2023-11-07T00:00:00",
          "2023-11-08T00:00:00",
          "2023-11-09T00:00:00",
          "2023-11-10T00:00:00",
          "2023-11-13T00:00:00",
          "2023-11-14T00:00:00",
          "2023-11-15T00:00:00",
          "2023-11-16T00:00:00",
          "2023-11-17T00:00:00",
          "2023-11-20T00:00:00",
          "2023-11-21T00:00:00",
          "2023-11-22T00:00:00",
          "2023-11-24T00:00:00",
          "2023-11-27T00:00:00",
          "2023-11-28T00:00:00",
          "2023-11-29T00:00:00",
          "2023-11-30T00:00:00",
          "2023-12-01T00:00:00",
          "2023-12-04T00:00:00",
          "2023-12-05T00:00:00",
          "2023-12-06T00:00:00",
          "2023-12-07T00:00:00",
          "2023-12-08T00:00:00",
          "2023-12-11T00:00:00",
          "2023-12-12T00:00:00",
          "2023-12-13T00:00:00",
          "2023-12-14T00:00:00",
          "2023-12-15T00:00:00",
          "2023-12-18T00:00:00",
          "2023-12-19T00:00:00",
          "2023-12-20T00:00:00",
          "2023-12-21T00:00:00",
          "2023-12-22T00:00:00",
          "2023-12-26T00:00:00",
          "2023-12-27T00:00:00",
          "2023-12-28T00:00:00",
          "2023-12-29T00:00:00"
         ],
         "y": [
          394.3999938964844,
          396.20001220703125,
          386.29998779296875,
          384.1499938964844,
          379.80999755859375,
          384.79998779296875,
          379.25,
          377.5899963378906,
          376.3599853515625,
          377.6000061035156,
          380.3299865722656,
          376.75,
          376.8999938964844,
          372.5899963378906,
          381.510009765625,
          385.95001220703125,
          373.32000732421875,
          365.92999267578125,
          361.20001220703125,
          355.67999267578125,
          360.82000732421875,
          355.7200012207031,
          346.19000244140625,
          401.7699890136719,
          400.9599914550781,
          406.8399963378906,
          413.7300109863281,
          411.25,
          403.5400085449219,
          397.8699951171875,
          410.0799865722656,
          411.69000244140625,
          420.19000244140625,
          424.7099914550781,
          432.3599853515625,
          434.739990234375,
          434.6099853515625,
          436.6499938964844,
          435.1499938964844,
          447.239990234375,
          444.6199951171875,
          448.6499938964844,
          461.94000244140625,
          466.95001220703125,
          465.9100036621094,
          474.4700012207031,
          474.95001220703125,
          478,
          479.55999755859375,
          479.1700134277344,
          479,
          477.19000244140625,
          473.9700012207031,
          465.739990234375,
          453.8999938964844,
          455.1499938964844,
          446.7300109863281,
          452,
          453.760009765625,
          459.8900146484375,
          463,
          479.9800109863281,
          469.8299865722656,
          472.05999755859375,
          486.1199951171875,
          495.0199890136719,
          489.2699890136719,
          491.6099853515625,
          486.760009765625,
          491.19000244140625,
          491.7900085449219,
          490.510009765625,
          486.8800048828125
         ]
        },
        {
         "line": {
          "color": "hsl(131, 98.4496093964755%, 52.42744920449858%)",
          "dash": "dash"
         },
         "mode": "lines",
         "name": "NFLX Predictions",
         "type": "scatter",
         "x": [
          "2023-12-15",
          "2023-12-18",
          "2023-12-19",
          "2023-12-20",
          "2023-12-21",
          "2023-12-22",
          "2023-12-26",
          "2023-12-27",
          "2023-12-28"
         ],
         "y": [
          471.0022277832031,
          475.1975402832031,
          478.3806457519531,
          480.6172180175781,
          482.88568115234375,
          484.4594421386719,
          486.8113708496094,
          488.8592834472656,
          488.7320251464844
         ]
        },
        {
         "line": {
          "color": "hsl(72, 79.13012944410121%, 60.885336057842224%)"
         },
         "mode": "lines",
         "name": "LMT True Values",
         "type": "scatter",
         "x": [
          "2023-09-18T00:00:00",
          "2023-09-19T00:00:00",
          "2023-09-20T00:00:00",
          "2023-09-21T00:00:00",
          "2023-09-22T00:00:00",
          "2023-09-25T00:00:00",
          "2023-09-26T00:00:00",
          "2023-09-27T00:00:00",
          "2023-09-28T00:00:00",
          "2023-09-29T00:00:00",
          "2023-10-02T00:00:00",
          "2023-10-03T00:00:00",
          "2023-10-04T00:00:00",
          "2023-10-05T00:00:00",
          "2023-10-06T00:00:00",
          "2023-10-09T00:00:00",
          "2023-10-10T00:00:00",
          "2023-10-11T00:00:00",
          "2023-10-12T00:00:00",
          "2023-10-13T00:00:00",
          "2023-10-16T00:00:00",
          "2023-10-17T00:00:00",
          "2023-10-18T00:00:00",
          "2023-10-19T00:00:00",
          "2023-10-20T00:00:00",
          "2023-10-23T00:00:00",
          "2023-10-24T00:00:00",
          "2023-10-25T00:00:00",
          "2023-10-26T00:00:00",
          "2023-10-27T00:00:00",
          "2023-10-30T00:00:00",
          "2023-10-31T00:00:00",
          "2023-11-01T00:00:00",
          "2023-11-02T00:00:00",
          "2023-11-03T00:00:00",
          "2023-11-06T00:00:00",
          "2023-11-07T00:00:00",
          "2023-11-08T00:00:00",
          "2023-11-09T00:00:00",
          "2023-11-10T00:00:00",
          "2023-11-13T00:00:00",
          "2023-11-14T00:00:00",
          "2023-11-15T00:00:00",
          "2023-11-16T00:00:00",
          "2023-11-17T00:00:00",
          "2023-11-20T00:00:00",
          "2023-11-21T00:00:00",
          "2023-11-22T00:00:00",
          "2023-11-24T00:00:00",
          "2023-11-27T00:00:00",
          "2023-11-28T00:00:00",
          "2023-11-29T00:00:00",
          "2023-11-30T00:00:00",
          "2023-12-01T00:00:00",
          "2023-12-04T00:00:00",
          "2023-12-05T00:00:00",
          "2023-12-06T00:00:00",
          "2023-12-07T00:00:00",
          "2023-12-08T00:00:00",
          "2023-12-11T00:00:00",
          "2023-12-12T00:00:00",
          "2023-12-13T00:00:00",
          "2023-12-14T00:00:00",
          "2023-12-15T00:00:00",
          "2023-12-18T00:00:00",
          "2023-12-19T00:00:00",
          "2023-12-20T00:00:00",
          "2023-12-21T00:00:00",
          "2023-12-22T00:00:00",
          "2023-12-26T00:00:00",
          "2023-12-27T00:00:00",
          "2023-12-28T00:00:00",
          "2023-12-29T00:00:00"
         ],
         "y": [
          429.8599853515625,
          425.30999755859375,
          426.95001220703125,
          417.5400085449219,
          413.6499938964844,
          412.8999938964844,
          408.75,
          408.7200012207031,
          410.9599914550781,
          408.9599914550781,
          407.82000732421875,
          403.8299865722656,
          401.3299865722656,
          397.3500061035156,
          400.7300109863281,
          436.5299987792969,
          435.1000061035156,
          436.6499938964844,
          434.1400146484375,
          441.05999755859375,
          440.4100036621094,
          441.1300048828125,
          446.07000732421875,
          449.17999267578125,
          444.1700134277344,
          446.1600036621094,
          440.8999938964844,
          447.69000244140625,
          445.9700012207031,
          443.3900146484375,
          445.8399963378906,
          454.6400146484375,
          452.3800048828125,
          458.0400085449219,
          453.3399963378906,
          451.1600036621094,
          450.1499938964844,
          444.6600036621094,
          442.4599914550781,
          444.8699951171875,
          445.0299987792969,
          444.2200012207031,
          445.1400146484375,
          445.5899963378906,
          444.67999267578125,
          443.80999755859375,
          448.1499938964844,
          450.3999938964844,
          452.010009765625,
          445.489990234375,
          448.2699890136719,
          445.010009765625,
          447.7699890136719,
          449.4100036621094,
          450.69000244140625,
          446.239990234375,
          449.4100036621094,
          447.1099853515625,
          448.0199890136719,
          451.260009765625,
          451.6300048828125,
          451.44000244140625,
          445.2699890136719,
          441.80999755859375,
          446.9100036621094,
          447.7900085449219,
          442.6000061035156,
          448.0199890136719,
          448.2200012207031,
          450.17999267578125,
          448.9700012207031,
          451.2300109863281,
          453.239990234375
         ]
        },
        {
         "line": {
          "color": "hsl(72, 79.13012944410121%, 60.885336057842224%)",
          "dash": "dash"
         },
         "mode": "lines",
         "name": "LMT Predictions",
         "type": "scatter",
         "x": [
          "2023-12-15",
          "2023-12-18",
          "2023-12-19",
          "2023-12-20",
          "2023-12-21",
          "2023-12-22",
          "2023-12-26",
          "2023-12-27",
          "2023-12-28"
         ],
         "y": [
          466.71246337890625,
          465.4334411621094,
          465.218994140625,
          464.0083312988281,
          464.66302490234375,
          464.9200744628906,
          465.2455139160156,
          465.0499572753906,
          465.7554016113281
         ]
        },
        {
         "line": {
          "color": "hsl(229, 95.5696892500273%, 51.102802679381696%)"
         },
         "mode": "lines",
         "name": "MCD True Values",
         "type": "scatter",
         "x": [
          "2023-09-18T00:00:00",
          "2023-09-19T00:00:00",
          "2023-09-20T00:00:00",
          "2023-09-21T00:00:00",
          "2023-09-22T00:00:00",
          "2023-09-25T00:00:00",
          "2023-09-26T00:00:00",
          "2023-09-27T00:00:00",
          "2023-09-28T00:00:00",
          "2023-09-29T00:00:00",
          "2023-10-02T00:00:00",
          "2023-10-03T00:00:00",
          "2023-10-04T00:00:00",
          "2023-10-05T00:00:00",
          "2023-10-06T00:00:00",
          "2023-10-09T00:00:00",
          "2023-10-10T00:00:00",
          "2023-10-11T00:00:00",
          "2023-10-12T00:00:00",
          "2023-10-13T00:00:00",
          "2023-10-16T00:00:00",
          "2023-10-17T00:00:00",
          "2023-10-18T00:00:00",
          "2023-10-19T00:00:00",
          "2023-10-20T00:00:00",
          "2023-10-23T00:00:00",
          "2023-10-24T00:00:00",
          "2023-10-25T00:00:00",
          "2023-10-26T00:00:00",
          "2023-10-27T00:00:00",
          "2023-10-30T00:00:00",
          "2023-10-31T00:00:00",
          "2023-11-01T00:00:00",
          "2023-11-02T00:00:00",
          "2023-11-03T00:00:00",
          "2023-11-06T00:00:00",
          "2023-11-07T00:00:00",
          "2023-11-08T00:00:00",
          "2023-11-09T00:00:00",
          "2023-11-10T00:00:00",
          "2023-11-13T00:00:00",
          "2023-11-14T00:00:00",
          "2023-11-15T00:00:00",
          "2023-11-16T00:00:00",
          "2023-11-17T00:00:00",
          "2023-11-20T00:00:00",
          "2023-11-21T00:00:00",
          "2023-11-22T00:00:00",
          "2023-11-24T00:00:00",
          "2023-11-27T00:00:00",
          "2023-11-28T00:00:00",
          "2023-11-29T00:00:00",
          "2023-11-30T00:00:00",
          "2023-12-01T00:00:00",
          "2023-12-04T00:00:00",
          "2023-12-05T00:00:00",
          "2023-12-06T00:00:00",
          "2023-12-07T00:00:00",
          "2023-12-08T00:00:00",
          "2023-12-11T00:00:00",
          "2023-12-12T00:00:00",
          "2023-12-13T00:00:00",
          "2023-12-14T00:00:00",
          "2023-12-15T00:00:00",
          "2023-12-18T00:00:00",
          "2023-12-19T00:00:00",
          "2023-12-20T00:00:00",
          "2023-12-21T00:00:00",
          "2023-12-22T00:00:00",
          "2023-12-26T00:00:00",
          "2023-12-27T00:00:00",
          "2023-12-28T00:00:00",
          "2023-12-29T00:00:00"
         ],
         "y": [
          277.7200012207031,
          278.1300048828125,
          277.20001220703125,
          271.2200012207031,
          272.2200012207031,
          269.7799987792969,
          267.7200012207031,
          263.6400146484375,
          265.5899963378906,
          263.44000244140625,
          257.75,
          254.49000549316406,
          255.80999755859375,
          252.22999572753906,
          248.22000122070312,
          249.9199981689453,
          251.52000427246094,
          250.9199981689453,
          246.19000244140625,
          248.30999755859375,
          249.94000244140625,
          251.13999938964844,
          256.0299987792969,
          258.3800048828125,
          258.1099853515625,
          254.75,
          257.2699890136719,
          258.0299987792969,
          255.8300018310547,
          255.75999450683594,
          260.1499938964844,
          262.1700134277344,
          261.9700012207031,
          266.8500061035156,
          267.8699951171875,
          268.9100036621094,
          268.6700134277344,
          267.489990234375,
          266.9100036621094,
          267.7900085449219,
          269.20001220703125,
          271.489990234375,
          270.3900146484375,
          276.1199951171875,
          275.75,
          279.0299987792969,
          280.4700012207031,
          281.92999267578125,
          282.5400085449219,
          281.8399963378906,
          282.0899963378906,
          280.3800048828125,
          281.8399963378906,
          285.9599914550781,
          286.1300048828125,
          286.5400085449219,
          286.8599853515625,
          286.7900085449219,
          285.5299987792969,
          289.1499938964844,
          291.4200134277344,
          295.92999267578125,
          290.0199890136719,
          287.2699890136719,
          290.2300109863281,
          290.7300109863281,
          288.989990234375,
          291.3900146484375,
          291.70001220703125,
          292.8599853515625,
          294.54998779296875,
          295.8399963378906,
          296.510009765625
         ]
        },
        {
         "line": {
          "color": "hsl(229, 95.5696892500273%, 51.102802679381696%)",
          "dash": "dash"
         },
         "mode": "lines",
         "name": "MCD Predictions",
         "type": "scatter",
         "x": [
          "2023-12-15",
          "2023-12-18",
          "2023-12-19",
          "2023-12-20",
          "2023-12-21",
          "2023-12-22",
          "2023-12-26",
          "2023-12-27",
          "2023-12-28"
         ],
         "y": [
          336.725341796875,
          335.0237121582031,
          335.04632568359375,
          334.8549499511719,
          335.5316162109375,
          335.7066955566406,
          336.0034484863281,
          336.9322814941406,
          337.39678955078125
         ]
        }
       ],
       "layout": {
        "legend": {
         "title": {
          "text": "Legend"
         }
        },
        "paper_bgcolor": "white",
        "plot_bgcolor": "white",
        "showlegend": true,
        "template": {
         "data": {
          "bar": [
           {
            "error_x": {
             "color": "#2a3f5f"
            },
            "error_y": {
             "color": "#2a3f5f"
            },
            "marker": {
             "line": {
              "color": "#E5ECF6",
              "width": 0.5
             },
             "pattern": {
              "fillmode": "overlay",
              "size": 10,
              "solidity": 0.2
             }
            },
            "type": "bar"
           }
          ],
          "barpolar": [
           {
            "marker": {
             "line": {
              "color": "#E5ECF6",
              "width": 0.5
             },
             "pattern": {
              "fillmode": "overlay",
              "size": 10,
              "solidity": 0.2
             }
            },
            "type": "barpolar"
           }
          ],
          "carpet": [
           {
            "aaxis": {
             "endlinecolor": "#2a3f5f",
             "gridcolor": "white",
             "linecolor": "white",
             "minorgridcolor": "white",
             "startlinecolor": "#2a3f5f"
            },
            "baxis": {
             "endlinecolor": "#2a3f5f",
             "gridcolor": "white",
             "linecolor": "white",
             "minorgridcolor": "white",
             "startlinecolor": "#2a3f5f"
            },
            "type": "carpet"
           }
          ],
          "choropleth": [
           {
            "colorbar": {
             "outlinewidth": 0,
             "ticks": ""
            },
            "type": "choropleth"
           }
          ],
          "contour": [
           {
            "colorbar": {
             "outlinewidth": 0,
             "ticks": ""
            },
            "colorscale": [
             [
              0,
              "#0d0887"
             ],
             [
              0.1111111111111111,
              "#46039f"
             ],
             [
              0.2222222222222222,
              "#7201a8"
             ],
             [
              0.3333333333333333,
              "#9c179e"
             ],
             [
              0.4444444444444444,
              "#bd3786"
             ],
             [
              0.5555555555555556,
              "#d8576b"
             ],
             [
              0.6666666666666666,
              "#ed7953"
             ],
             [
              0.7777777777777778,
              "#fb9f3a"
             ],
             [
              0.8888888888888888,
              "#fdca26"
             ],
             [
              1,
              "#f0f921"
             ]
            ],
            "type": "contour"
           }
          ],
          "contourcarpet": [
           {
            "colorbar": {
             "outlinewidth": 0,
             "ticks": ""
            },
            "type": "contourcarpet"
           }
          ],
          "heatmap": [
           {
            "colorbar": {
             "outlinewidth": 0,
             "ticks": ""
            },
            "colorscale": [
             [
              0,
              "#0d0887"
             ],
             [
              0.1111111111111111,
              "#46039f"
             ],
             [
              0.2222222222222222,
              "#7201a8"
             ],
             [
              0.3333333333333333,
              "#9c179e"
             ],
             [
              0.4444444444444444,
              "#bd3786"
             ],
             [
              0.5555555555555556,
              "#d8576b"
             ],
             [
              0.6666666666666666,
              "#ed7953"
             ],
             [
              0.7777777777777778,
              "#fb9f3a"
             ],
             [
              0.8888888888888888,
              "#fdca26"
             ],
             [
              1,
              "#f0f921"
             ]
            ],
            "type": "heatmap"
           }
          ],
          "heatmapgl": [
           {
            "colorbar": {
             "outlinewidth": 0,
             "ticks": ""
            },
            "colorscale": [
             [
              0,
              "#0d0887"
             ],
             [
              0.1111111111111111,
              "#46039f"
             ],
             [
              0.2222222222222222,
              "#7201a8"
             ],
             [
              0.3333333333333333,
              "#9c179e"
             ],
             [
              0.4444444444444444,
              "#bd3786"
             ],
             [
              0.5555555555555556,
              "#d8576b"
             ],
             [
              0.6666666666666666,
              "#ed7953"
             ],
             [
              0.7777777777777778,
              "#fb9f3a"
             ],
             [
              0.8888888888888888,
              "#fdca26"
             ],
             [
              1,
              "#f0f921"
             ]
            ],
            "type": "heatmapgl"
           }
          ],
          "histogram": [
           {
            "marker": {
             "pattern": {
              "fillmode": "overlay",
              "size": 10,
              "solidity": 0.2
             }
            },
            "type": "histogram"
           }
          ],
          "histogram2d": [
           {
            "colorbar": {
             "outlinewidth": 0,
             "ticks": ""
            },
            "colorscale": [
             [
              0,
              "#0d0887"
             ],
             [
              0.1111111111111111,
              "#46039f"
             ],
             [
              0.2222222222222222,
              "#7201a8"
             ],
             [
              0.3333333333333333,
              "#9c179e"
             ],
             [
              0.4444444444444444,
              "#bd3786"
             ],
             [
              0.5555555555555556,
              "#d8576b"
             ],
             [
              0.6666666666666666,
              "#ed7953"
             ],
             [
              0.7777777777777778,
              "#fb9f3a"
             ],
             [
              0.8888888888888888,
              "#fdca26"
             ],
             [
              1,
              "#f0f921"
             ]
            ],
            "type": "histogram2d"
           }
          ],
          "histogram2dcontour": [
           {
            "colorbar": {
             "outlinewidth": 0,
             "ticks": ""
            },
            "colorscale": [
             [
              0,
              "#0d0887"
             ],
             [
              0.1111111111111111,
              "#46039f"
             ],
             [
              0.2222222222222222,
              "#7201a8"
             ],
             [
              0.3333333333333333,
              "#9c179e"
             ],
             [
              0.4444444444444444,
              "#bd3786"
             ],
             [
              0.5555555555555556,
              "#d8576b"
             ],
             [
              0.6666666666666666,
              "#ed7953"
             ],
             [
              0.7777777777777778,
              "#fb9f3a"
             ],
             [
              0.8888888888888888,
              "#fdca26"
             ],
             [
              1,
              "#f0f921"
             ]
            ],
            "type": "histogram2dcontour"
           }
          ],
          "mesh3d": [
           {
            "colorbar": {
             "outlinewidth": 0,
             "ticks": ""
            },
            "type": "mesh3d"
           }
          ],
          "parcoords": [
           {
            "line": {
             "colorbar": {
              "outlinewidth": 0,
              "ticks": ""
             }
            },
            "type": "parcoords"
           }
          ],
          "pie": [
           {
            "automargin": true,
            "type": "pie"
           }
          ],
          "scatter": [
           {
            "fillpattern": {
             "fillmode": "overlay",
             "size": 10,
             "solidity": 0.2
            },
            "type": "scatter"
           }
          ],
          "scatter3d": [
           {
            "line": {
             "colorbar": {
              "outlinewidth": 0,
              "ticks": ""
             }
            },
            "marker": {
             "colorbar": {
              "outlinewidth": 0,
              "ticks": ""
             }
            },
            "type": "scatter3d"
           }
          ],
          "scattercarpet": [
           {
            "marker": {
             "colorbar": {
              "outlinewidth": 0,
              "ticks": ""
             }
            },
            "type": "scattercarpet"
           }
          ],
          "scattergeo": [
           {
            "marker": {
             "colorbar": {
              "outlinewidth": 0,
              "ticks": ""
             }
            },
            "type": "scattergeo"
           }
          ],
          "scattergl": [
           {
            "marker": {
             "colorbar": {
              "outlinewidth": 0,
              "ticks": ""
             }
            },
            "type": "scattergl"
           }
          ],
          "scattermapbox": [
           {
            "marker": {
             "colorbar": {
              "outlinewidth": 0,
              "ticks": ""
             }
            },
            "type": "scattermapbox"
           }
          ],
          "scatterpolar": [
           {
            "marker": {
             "colorbar": {
              "outlinewidth": 0,
              "ticks": ""
             }
            },
            "type": "scatterpolar"
           }
          ],
          "scatterpolargl": [
           {
            "marker": {
             "colorbar": {
              "outlinewidth": 0,
              "ticks": ""
             }
            },
            "type": "scatterpolargl"
           }
          ],
          "scatterternary": [
           {
            "marker": {
             "colorbar": {
              "outlinewidth": 0,
              "ticks": ""
             }
            },
            "type": "scatterternary"
           }
          ],
          "surface": [
           {
            "colorbar": {
             "outlinewidth": 0,
             "ticks": ""
            },
            "colorscale": [
             [
              0,
              "#0d0887"
             ],
             [
              0.1111111111111111,
              "#46039f"
             ],
             [
              0.2222222222222222,
              "#7201a8"
             ],
             [
              0.3333333333333333,
              "#9c179e"
             ],
             [
              0.4444444444444444,
              "#bd3786"
             ],
             [
              0.5555555555555556,
              "#d8576b"
             ],
             [
              0.6666666666666666,
              "#ed7953"
             ],
             [
              0.7777777777777778,
              "#fb9f3a"
             ],
             [
              0.8888888888888888,
              "#fdca26"
             ],
             [
              1,
              "#f0f921"
             ]
            ],
            "type": "surface"
           }
          ],
          "table": [
           {
            "cells": {
             "fill": {
              "color": "#EBF0F8"
             },
             "line": {
              "color": "white"
             }
            },
            "header": {
             "fill": {
              "color": "#C8D4E3"
             },
             "line": {
              "color": "white"
             }
            },
            "type": "table"
           }
          ]
         },
         "layout": {
          "annotationdefaults": {
           "arrowcolor": "#2a3f5f",
           "arrowhead": 0,
           "arrowwidth": 1
          },
          "autotypenumbers": "strict",
          "coloraxis": {
           "colorbar": {
            "outlinewidth": 0,
            "ticks": ""
           }
          },
          "colorscale": {
           "diverging": [
            [
             0,
             "#8e0152"
            ],
            [
             0.1,
             "#c51b7d"
            ],
            [
             0.2,
             "#de77ae"
            ],
            [
             0.3,
             "#f1b6da"
            ],
            [
             0.4,
             "#fde0ef"
            ],
            [
             0.5,
             "#f7f7f7"
            ],
            [
             0.6,
             "#e6f5d0"
            ],
            [
             0.7,
             "#b8e186"
            ],
            [
             0.8,
             "#7fbc41"
            ],
            [
             0.9,
             "#4d9221"
            ],
            [
             1,
             "#276419"
            ]
           ],
           "sequential": [
            [
             0,
             "#0d0887"
            ],
            [
             0.1111111111111111,
             "#46039f"
            ],
            [
             0.2222222222222222,
             "#7201a8"
            ],
            [
             0.3333333333333333,
             "#9c179e"
            ],
            [
             0.4444444444444444,
             "#bd3786"
            ],
            [
             0.5555555555555556,
             "#d8576b"
            ],
            [
             0.6666666666666666,
             "#ed7953"
            ],
            [
             0.7777777777777778,
             "#fb9f3a"
            ],
            [
             0.8888888888888888,
             "#fdca26"
            ],
            [
             1,
             "#f0f921"
            ]
           ],
           "sequentialminus": [
            [
             0,
             "#0d0887"
            ],
            [
             0.1111111111111111,
             "#46039f"
            ],
            [
             0.2222222222222222,
             "#7201a8"
            ],
            [
             0.3333333333333333,
             "#9c179e"
            ],
            [
             0.4444444444444444,
             "#bd3786"
            ],
            [
             0.5555555555555556,
             "#d8576b"
            ],
            [
             0.6666666666666666,
             "#ed7953"
            ],
            [
             0.7777777777777778,
             "#fb9f3a"
            ],
            [
             0.8888888888888888,
             "#fdca26"
            ],
            [
             1,
             "#f0f921"
            ]
           ]
          },
          "colorway": [
           "#636efa",
           "#EF553B",
           "#00cc96",
           "#ab63fa",
           "#FFA15A",
           "#19d3f3",
           "#FF6692",
           "#B6E880",
           "#FF97FF",
           "#FECB52"
          ],
          "font": {
           "color": "#2a3f5f"
          },
          "geo": {
           "bgcolor": "white",
           "lakecolor": "white",
           "landcolor": "#E5ECF6",
           "showlakes": true,
           "showland": true,
           "subunitcolor": "white"
          },
          "hoverlabel": {
           "align": "left"
          },
          "hovermode": "closest",
          "mapbox": {
           "style": "light"
          },
          "paper_bgcolor": "white",
          "plot_bgcolor": "#E5ECF6",
          "polar": {
           "angularaxis": {
            "gridcolor": "white",
            "linecolor": "white",
            "ticks": ""
           },
           "bgcolor": "#E5ECF6",
           "radialaxis": {
            "gridcolor": "white",
            "linecolor": "white",
            "ticks": ""
           }
          },
          "scene": {
           "xaxis": {
            "backgroundcolor": "#E5ECF6",
            "gridcolor": "white",
            "gridwidth": 2,
            "linecolor": "white",
            "showbackground": true,
            "ticks": "",
            "zerolinecolor": "white"
           },
           "yaxis": {
            "backgroundcolor": "#E5ECF6",
            "gridcolor": "white",
            "gridwidth": 2,
            "linecolor": "white",
            "showbackground": true,
            "ticks": "",
            "zerolinecolor": "white"
           },
           "zaxis": {
            "backgroundcolor": "#E5ECF6",
            "gridcolor": "white",
            "gridwidth": 2,
            "linecolor": "white",
            "showbackground": true,
            "ticks": "",
            "zerolinecolor": "white"
           }
          },
          "shapedefaults": {
           "line": {
            "color": "#2a3f5f"
           }
          },
          "ternary": {
           "aaxis": {
            "gridcolor": "white",
            "linecolor": "white",
            "ticks": ""
           },
           "baxis": {
            "gridcolor": "white",
            "linecolor": "white",
            "ticks": ""
           },
           "bgcolor": "#E5ECF6",
           "caxis": {
            "gridcolor": "white",
            "linecolor": "white",
            "ticks": ""
           }
          },
          "title": {
           "x": 0.05
          },
          "xaxis": {
           "automargin": true,
           "gridcolor": "white",
           "linecolor": "white",
           "ticks": "",
           "title": {
            "standoff": 15
           },
           "zerolinecolor": "white",
           "zerolinewidth": 2
          },
          "yaxis": {
           "automargin": true,
           "gridcolor": "white",
           "linecolor": "white",
           "ticks": "",
           "title": {
            "standoff": 15
           },
           "zerolinecolor": "white",
           "zerolinewidth": 2
          }
         }
        },
        "title": {
         "text": "Predictions vs True Values for Selected Stocks"
        },
        "updatemenus": [
         {
          "active": 7,
          "buttons": [
           {
            "args": [
             {
              "visible": [
               true,
               true,
               false,
               false,
               false,
               false,
               false,
               false,
               false,
               false,
               false,
               false,
               false,
               false
              ]
             },
             {
              "title": "META Predictions vs True Values"
             }
            ],
            "label": "META",
            "method": "update"
           },
           {
            "args": [
             {
              "visible": [
               false,
               false,
               true,
               true,
               false,
               false,
               false,
               false,
               false,
               false,
               false,
               false,
               false,
               false
              ]
             },
             {
              "title": "ADBE Predictions vs True Values"
             }
            ],
            "label": "ADBE",
            "method": "update"
           },
           {
            "args": [
             {
              "visible": [
               false,
               false,
               false,
               false,
               true,
               true,
               false,
               false,
               false,
               false,
               false,
               false,
               false,
               false
              ]
             },
             {
              "title": "MA Predictions vs True Values"
             }
            ],
            "label": "MA",
            "method": "update"
           },
           {
            "args": [
             {
              "visible": [
               false,
               false,
               false,
               false,
               false,
               false,
               true,
               true,
               false,
               false,
               false,
               false,
               false,
               false
              ]
             },
             {
              "title": "GS Predictions vs True Values"
             }
            ],
            "label": "GS",
            "method": "update"
           },
           {
            "args": [
             {
              "visible": [
               false,
               false,
               false,
               false,
               false,
               false,
               false,
               false,
               true,
               true,
               false,
               false,
               false,
               false
              ]
             },
             {
              "title": "NFLX Predictions vs True Values"
             }
            ],
            "label": "NFLX",
            "method": "update"
           },
           {
            "args": [
             {
              "visible": [
               false,
               false,
               false,
               false,
               false,
               false,
               false,
               false,
               false,
               false,
               true,
               true,
               false,
               false
              ]
             },
             {
              "title": "LMT Predictions vs True Values"
             }
            ],
            "label": "LMT",
            "method": "update"
           },
           {
            "args": [
             {
              "visible": [
               false,
               false,
               false,
               false,
               false,
               false,
               false,
               false,
               false,
               false,
               false,
               false,
               true,
               true
              ]
             },
             {
              "title": "MCD Predictions vs True Values"
             }
            ],
            "label": "MCD",
            "method": "update"
           },
           {
            "args": [
             {
              "visible": [
               true,
               true,
               true,
               true,
               true,
               true,
               true,
               true,
               true,
               true,
               true,
               true,
               true,
               true
              ]
             },
             {
              "title": "All Stocks Predictions vs True Values"
             }
            ],
            "label": "All",
            "method": "update"
           }
          ],
          "direction": "down",
          "showactive": true
         }
        ],
        "xaxis": {
         "gridcolor": "lightgray",
         "gridwidth": 1,
         "title": {
          "text": "Date"
         }
        },
        "yaxis": {
         "gridcolor": "lightgray",
         "gridwidth": 1,
         "title": {
          "text": "Value"
         }
        }
       }
      },
      "text/html": [
       "<div>                            <div id=\"791408d2-c014-49f4-a760-2e927c00fdda\" class=\"plotly-graph-div\" style=\"height:525px; width:100%;\"></div>            <script type=\"text/javascript\">                require([\"plotly\"], function(Plotly) {                    window.PLOTLYENV=window.PLOTLYENV || {};                                    if (document.getElementById(\"791408d2-c014-49f4-a760-2e927c00fdda\")) {                    Plotly.newPlot(                        \"791408d2-c014-49f4-a760-2e927c00fdda\",                        [{\"line\":{\"color\":\"hsl(222, 99.26510890272999%, 66.86289216405419%)\"},\"mode\":\"lines\",\"name\":\"META True Values\",\"x\":[\"2023-09-18T00:00:00\",\"2023-09-19T00:00:00\",\"2023-09-20T00:00:00\",\"2023-09-21T00:00:00\",\"2023-09-22T00:00:00\",\"2023-09-25T00:00:00\",\"2023-09-26T00:00:00\",\"2023-09-27T00:00:00\",\"2023-09-28T00:00:00\",\"2023-09-29T00:00:00\",\"2023-10-02T00:00:00\",\"2023-10-03T00:00:00\",\"2023-10-04T00:00:00\",\"2023-10-05T00:00:00\",\"2023-10-06T00:00:00\",\"2023-10-09T00:00:00\",\"2023-10-10T00:00:00\",\"2023-10-11T00:00:00\",\"2023-10-12T00:00:00\",\"2023-10-13T00:00:00\",\"2023-10-16T00:00:00\",\"2023-10-17T00:00:00\",\"2023-10-18T00:00:00\",\"2023-10-19T00:00:00\",\"2023-10-20T00:00:00\",\"2023-10-23T00:00:00\",\"2023-10-24T00:00:00\",\"2023-10-25T00:00:00\",\"2023-10-26T00:00:00\",\"2023-10-27T00:00:00\",\"2023-10-30T00:00:00\",\"2023-10-31T00:00:00\",\"2023-11-01T00:00:00\",\"2023-11-02T00:00:00\",\"2023-11-03T00:00:00\",\"2023-11-06T00:00:00\",\"2023-11-07T00:00:00\",\"2023-11-08T00:00:00\",\"2023-11-09T00:00:00\",\"2023-11-10T00:00:00\",\"2023-11-13T00:00:00\",\"2023-11-14T00:00:00\",\"2023-11-15T00:00:00\",\"2023-11-16T00:00:00\",\"2023-11-17T00:00:00\",\"2023-11-20T00:00:00\",\"2023-11-21T00:00:00\",\"2023-11-22T00:00:00\",\"2023-11-24T00:00:00\",\"2023-11-27T00:00:00\",\"2023-11-28T00:00:00\",\"2023-11-29T00:00:00\",\"2023-11-30T00:00:00\",\"2023-12-01T00:00:00\",\"2023-12-04T00:00:00\",\"2023-12-05T00:00:00\",\"2023-12-06T00:00:00\",\"2023-12-07T00:00:00\",\"2023-12-08T00:00:00\",\"2023-12-11T00:00:00\",\"2023-12-12T00:00:00\",\"2023-12-13T00:00:00\",\"2023-12-14T00:00:00\",\"2023-12-15T00:00:00\",\"2023-12-18T00:00:00\",\"2023-12-19T00:00:00\",\"2023-12-20T00:00:00\",\"2023-12-21T00:00:00\",\"2023-12-22T00:00:00\",\"2023-12-26T00:00:00\",\"2023-12-27T00:00:00\",\"2023-12-28T00:00:00\",\"2023-12-29T00:00:00\"],\"y\":[302.54998779296875,305.07000732421875,299.6700134277344,295.7300109863281,299.0799865722656,300.8299865722656,298.9599914550781,297.739990234375,303.9599914550781,300.2099914550781,306.82000732421875,300.94000244140625,305.5799865722656,304.7900085449219,315.42999267578125,318.3599853515625,321.8399963378906,327.82000732421875,324.1600036621094,314.69000244140625,321.1499938964844,324.0,316.9700012207031,312.80999755859375,308.6499938964844,314.010009765625,312.54998779296875,299.5299987792969,288.3500061035156,296.7300109863281,302.6600036621094,301.2699890136719,311.8500061035156,310.8699951171875,314.6000061035156,315.79998779296875,318.82000732421875,319.7799987792969,320.54998779296875,328.7699890136719,329.19000244140625,336.30999755859375,332.7099914550781,334.19000244140625,335.0400085449219,339.9700012207031,336.9800109863281,341.489990234375,338.2300109863281,334.70001220703125,338.989990234375,332.20001220703125,327.1499938964844,324.82000732421875,320.0199890136719,318.2900085449219,317.45001220703125,326.5899963378906,332.75,325.2799987792969,334.2200012207031,334.739990234375,333.1700134277344,334.9200134277344,344.6199951171875,350.3599853515625,349.2799987792969,354.0899963378906,353.3900146484375,354.8299865722656,357.8299865722656,358.32000732421875,353.9599914550781],\"type\":\"scatter\"},{\"line\":{\"color\":\"hsl(222, 99.26510890272999%, 66.86289216405419%)\",\"dash\":\"dash\"},\"mode\":\"lines\",\"name\":\"META Predictions\",\"x\":[\"2023-12-15\",\"2023-12-18\",\"2023-12-19\",\"2023-12-20\",\"2023-12-21\",\"2023-12-22\",\"2023-12-26\",\"2023-12-27\",\"2023-12-28\"],\"y\":[306.5460510253906,303.1202697753906,305.65875244140625,306.9281311035156,309.3328552246094,308.7178039550781,309.8272399902344,314.104248046875,314.94635009765625],\"type\":\"scatter\"},{\"line\":{\"color\":\"hsl(42, 89.71464001613543%, 57.836558646645045%)\"},\"mode\":\"lines\",\"name\":\"ADBE True Values\",\"x\":[\"2023-09-18T00:00:00\",\"2023-09-19T00:00:00\",\"2023-09-20T00:00:00\",\"2023-09-21T00:00:00\",\"2023-09-22T00:00:00\",\"2023-09-25T00:00:00\",\"2023-09-26T00:00:00\",\"2023-09-27T00:00:00\",\"2023-09-28T00:00:00\",\"2023-09-29T00:00:00\",\"2023-10-02T00:00:00\",\"2023-10-03T00:00:00\",\"2023-10-04T00:00:00\",\"2023-10-05T00:00:00\",\"2023-10-06T00:00:00\",\"2023-10-09T00:00:00\",\"2023-10-10T00:00:00\",\"2023-10-11T00:00:00\",\"2023-10-12T00:00:00\",\"2023-10-13T00:00:00\",\"2023-10-16T00:00:00\",\"2023-10-17T00:00:00\",\"2023-10-18T00:00:00\",\"2023-10-19T00:00:00\",\"2023-10-20T00:00:00\",\"2023-10-23T00:00:00\",\"2023-10-24T00:00:00\",\"2023-10-25T00:00:00\",\"2023-10-26T00:00:00\",\"2023-10-27T00:00:00\",\"2023-10-30T00:00:00\",\"2023-10-31T00:00:00\",\"2023-11-01T00:00:00\",\"2023-11-02T00:00:00\",\"2023-11-03T00:00:00\",\"2023-11-06T00:00:00\",\"2023-11-07T00:00:00\",\"2023-11-08T00:00:00\",\"2023-11-09T00:00:00\",\"2023-11-10T00:00:00\",\"2023-11-13T00:00:00\",\"2023-11-14T00:00:00\",\"2023-11-15T00:00:00\",\"2023-11-16T00:00:00\",\"2023-11-17T00:00:00\",\"2023-11-20T00:00:00\",\"2023-11-21T00:00:00\",\"2023-11-22T00:00:00\",\"2023-11-24T00:00:00\",\"2023-11-27T00:00:00\",\"2023-11-28T00:00:00\",\"2023-11-29T00:00:00\",\"2023-11-30T00:00:00\",\"2023-12-01T00:00:00\",\"2023-12-04T00:00:00\",\"2023-12-05T00:00:00\",\"2023-12-06T00:00:00\",\"2023-12-07T00:00:00\",\"2023-12-08T00:00:00\",\"2023-12-11T00:00:00\",\"2023-12-12T00:00:00\",\"2023-12-13T00:00:00\",\"2023-12-14T00:00:00\",\"2023-12-15T00:00:00\",\"2023-12-18T00:00:00\",\"2023-12-19T00:00:00\",\"2023-12-20T00:00:00\",\"2023-12-21T00:00:00\",\"2023-12-22T00:00:00\",\"2023-12-26T00:00:00\",\"2023-12-27T00:00:00\",\"2023-12-28T00:00:00\",\"2023-12-29T00:00:00\"],\"y\":[532.4199829101562,541.6900024414062,535.780029296875,513.8800048828125,512.9000244140625,511.6000061035156,506.29998779296875,502.6000061035156,504.6700134277344,509.8999938964844,521.1300048828125,507.0299987792969,518.4199829101562,516.4400024414062,526.6799926757812,529.2899780273438,532.719970703125,549.9099731445312,559.6300048828125,548.760009765625,550.739990234375,560.0900268554688,557.8699951171875,555.739990234375,540.9600219726562,540.4099731445312,539.5599975585938,521.1400146484375,514.280029296875,508.1199951171875,526.9400024414062,532.0599975585938,544.5,558.7100219726562,563.6599731445312,565.4500122070312,585.2000122070312,585.3099975585938,577.739990234375,597.219970703125,590.3400268554688,604.3300170898438,595.3099975585938,602.0599975585938,602.6599731445312,612.7000122070312,610.989990234375,619.719970703125,619.4299926757812,619.27001953125,623.3200073242188,617.3900146484375,611.010009765625,612.469970703125,604.5599975585938,602.219970703125,595.7000122070312,608.780029296875,610.010009765625,625.2000122070312,633.6599731445312,624.260009765625,584.6400146484375,584.6799926757812,599.1300048828125,604.6400146484375,596.0599975585938,600.1400146484375,598.75,598.260009765625,596.0800170898438,595.52001953125,596.5999755859375],\"type\":\"scatter\"},{\"line\":{\"color\":\"hsl(42, 89.71464001613543%, 57.836558646645045%)\",\"dash\":\"dash\"},\"mode\":\"lines\",\"name\":\"ADBE Predictions\",\"x\":[\"2023-12-15\",\"2023-12-18\",\"2023-12-19\",\"2023-12-20\",\"2023-12-21\",\"2023-12-22\",\"2023-12-26\",\"2023-12-27\",\"2023-12-28\"],\"y\":[557.619873046875,556.8392944335938,556.0986328125,552.6427001953125,553.7796630859375,552.3759765625,550.7181396484375,547.8931274414062,546.465576171875],\"type\":\"scatter\"},{\"line\":{\"color\":\"hsl(231, 83.31851886256193%, 63.104337534287055%)\"},\"mode\":\"lines\",\"name\":\"MA True Values\",\"x\":[\"2023-09-18T00:00:00\",\"2023-09-19T00:00:00\",\"2023-09-20T00:00:00\",\"2023-09-21T00:00:00\",\"2023-09-22T00:00:00\",\"2023-09-25T00:00:00\",\"2023-09-26T00:00:00\",\"2023-09-27T00:00:00\",\"2023-09-28T00:00:00\",\"2023-09-29T00:00:00\",\"2023-10-02T00:00:00\",\"2023-10-03T00:00:00\",\"2023-10-04T00:00:00\",\"2023-10-05T00:00:00\",\"2023-10-06T00:00:00\",\"2023-10-09T00:00:00\",\"2023-10-10T00:00:00\",\"2023-10-11T00:00:00\",\"2023-10-12T00:00:00\",\"2023-10-13T00:00:00\",\"2023-10-16T00:00:00\",\"2023-10-17T00:00:00\",\"2023-10-18T00:00:00\",\"2023-10-19T00:00:00\",\"2023-10-20T00:00:00\",\"2023-10-23T00:00:00\",\"2023-10-24T00:00:00\",\"2023-10-25T00:00:00\",\"2023-10-26T00:00:00\",\"2023-10-27T00:00:00\",\"2023-10-30T00:00:00\",\"2023-10-31T00:00:00\",\"2023-11-01T00:00:00\",\"2023-11-02T00:00:00\",\"2023-11-03T00:00:00\",\"2023-11-06T00:00:00\",\"2023-11-07T00:00:00\",\"2023-11-08T00:00:00\",\"2023-11-09T00:00:00\",\"2023-11-10T00:00:00\",\"2023-11-13T00:00:00\",\"2023-11-14T00:00:00\",\"2023-11-15T00:00:00\",\"2023-11-16T00:00:00\",\"2023-11-17T00:00:00\",\"2023-11-20T00:00:00\",\"2023-11-21T00:00:00\",\"2023-11-22T00:00:00\",\"2023-11-24T00:00:00\",\"2023-11-27T00:00:00\",\"2023-11-28T00:00:00\",\"2023-11-29T00:00:00\",\"2023-11-30T00:00:00\",\"2023-12-01T00:00:00\",\"2023-12-04T00:00:00\",\"2023-12-05T00:00:00\",\"2023-12-06T00:00:00\",\"2023-12-07T00:00:00\",\"2023-12-08T00:00:00\",\"2023-12-11T00:00:00\",\"2023-12-12T00:00:00\",\"2023-12-13T00:00:00\",\"2023-12-14T00:00:00\",\"2023-12-15T00:00:00\",\"2023-12-18T00:00:00\",\"2023-12-19T00:00:00\",\"2023-12-20T00:00:00\",\"2023-12-21T00:00:00\",\"2023-12-22T00:00:00\",\"2023-12-26T00:00:00\",\"2023-12-27T00:00:00\",\"2023-12-28T00:00:00\",\"2023-12-29T00:00:00\"],\"y\":[417.1300048828125,413.5299987792969,410.5199890136719,403.3599853515625,402.2200012207031,402.489990234375,395.3800048828125,395.4800109863281,399.44000244140625,395.9100036621094,395.8500061035156,391.05999755859375,393.760009765625,394.20001220703125,397.9700012207031,394.739990234375,400.3699951171875,399.80999755859375,399.8999938964844,398.0299987792969,401.1600036621094,401.7699890136719,393.2099914550781,387.8699951171875,384.4100036621094,383.6700134277344,386.9100036621094,386.30999755859375,364.5899963378906,364.0799865722656,372.4200134277344,376.3500061035156,377.82000732421875,382.69000244140625,386.04998779296875,386.1600036621094,388.8699951171875,389.70001220703125,387.9599914550781,394.3800048828125,394.3500061035156,397.6499938964844,396.8299865722656,397.1000061035156,400.29998779296875,404.3999938964844,408.95001220703125,410.3299865722656,412.5,408.9700012207031,409.010009765625,409.82000732421875,413.8299865722656,414.3599853515625,408.2300109863281,408.69000244140625,410.3800048828125,413.1499938964844,412.1600036621094,415.7099914550781,420.75,424.67999267578125,418.55999755859375,418.57000732421875,424.42999267578125,425.4700012207031,419.45001220703125,423.44000244140625,424.1000061035156,423.6700134277344,424.3599853515625,426.32000732421875,426.510009765625],\"type\":\"scatter\"},{\"line\":{\"color\":\"hsl(231, 83.31851886256193%, 63.104337534287055%)\",\"dash\":\"dash\"},\"mode\":\"lines\",\"name\":\"MA Predictions\",\"x\":[\"2023-12-15\",\"2023-12-18\",\"2023-12-19\",\"2023-12-20\",\"2023-12-21\",\"2023-12-22\",\"2023-12-26\",\"2023-12-27\",\"2023-12-28\"],\"y\":[398.0412292480469,398.41314697265625,399.4419860839844,399.27825927734375,400.1919250488281,400.91326904296875,400.9620666503906,401.29339599609375,402.0763854980469],\"type\":\"scatter\"},{\"line\":{\"color\":\"hsl(52, 90.32028060157067%, 68.89505653639326%)\"},\"mode\":\"lines\",\"name\":\"GS True Values\",\"x\":[\"2023-09-18T00:00:00\",\"2023-09-19T00:00:00\",\"2023-09-20T00:00:00\",\"2023-09-21T00:00:00\",\"2023-09-22T00:00:00\",\"2023-09-25T00:00:00\",\"2023-09-26T00:00:00\",\"2023-09-27T00:00:00\",\"2023-09-28T00:00:00\",\"2023-09-29T00:00:00\",\"2023-10-02T00:00:00\",\"2023-10-03T00:00:00\",\"2023-10-04T00:00:00\",\"2023-10-05T00:00:00\",\"2023-10-06T00:00:00\",\"2023-10-09T00:00:00\",\"2023-10-10T00:00:00\",\"2023-10-11T00:00:00\",\"2023-10-12T00:00:00\",\"2023-10-13T00:00:00\",\"2023-10-16T00:00:00\",\"2023-10-17T00:00:00\",\"2023-10-18T00:00:00\",\"2023-10-19T00:00:00\",\"2023-10-20T00:00:00\",\"2023-10-23T00:00:00\",\"2023-10-24T00:00:00\",\"2023-10-25T00:00:00\",\"2023-10-26T00:00:00\",\"2023-10-27T00:00:00\",\"2023-10-30T00:00:00\",\"2023-10-31T00:00:00\",\"2023-11-01T00:00:00\",\"2023-11-02T00:00:00\",\"2023-11-03T00:00:00\",\"2023-11-06T00:00:00\",\"2023-11-07T00:00:00\",\"2023-11-08T00:00:00\",\"2023-11-09T00:00:00\",\"2023-11-10T00:00:00\",\"2023-11-13T00:00:00\",\"2023-11-14T00:00:00\",\"2023-11-15T00:00:00\",\"2023-11-16T00:00:00\",\"2023-11-17T00:00:00\",\"2023-11-20T00:00:00\",\"2023-11-21T00:00:00\",\"2023-11-22T00:00:00\",\"2023-11-24T00:00:00\",\"2023-11-27T00:00:00\",\"2023-11-28T00:00:00\",\"2023-11-29T00:00:00\",\"2023-11-30T00:00:00\",\"2023-12-01T00:00:00\",\"2023-12-04T00:00:00\",\"2023-12-05T00:00:00\",\"2023-12-06T00:00:00\",\"2023-12-07T00:00:00\",\"2023-12-08T00:00:00\",\"2023-12-11T00:00:00\",\"2023-12-12T00:00:00\",\"2023-12-13T00:00:00\",\"2023-12-14T00:00:00\",\"2023-12-15T00:00:00\",\"2023-12-18T00:00:00\",\"2023-12-19T00:00:00\",\"2023-12-20T00:00:00\",\"2023-12-21T00:00:00\",\"2023-12-22T00:00:00\",\"2023-12-26T00:00:00\",\"2023-12-27T00:00:00\",\"2023-12-28T00:00:00\",\"2023-12-29T00:00:00\"],\"y\":[343.32000732421875,341.8900146484375,336.70001220703125,330.239990234375,327.8900146484375,328.8399963378906,323.82000732421875,321.95001220703125,325.20001220703125,323.57000732421875,318.5,306.1199951171875,308.6000061035156,310.5,312.4800109863281,312.6099853515625,314.7699890136719,313.0199890136719,309.8500061035156,309.29998779296875,314.3900146484375,309.3599853515625,301.9599914550781,299.19000244140625,300.04998779296875,299.2200012207031,299.17999267578125,296.760009765625,296.989990234375,289.9100036621094,300.8299865722656,303.6099853515625,307.1600036621094,313.760009765625,327.6199951171875,323.9100036621094,323.95001220703125,324.55999755859375,320.7799987792969,325.510009765625,326.9100036621094,338.7200012207031,337.6000061035156,336.6700134277344,339.19000244140625,339.45001220703125,334.9700012207031,338.6400146484375,339.1499938964844,337.7099914550781,337.6499938964844,340.260009765625,341.5400085449219,348.42999267578125,349.3900146484375,341.75,341.9700012207031,344.6199951171875,350.8299865722656,351.760009765625,352.6099853515625,362.7300109863281,383.4700012207031,380.510009765625,376.3999938964844,382.45001220703125,377.5199890136719,380.57000732421875,380.6499938964844,381.6099853515625,384.4800109863281,386.4100036621094,385.7699890136719],\"type\":\"scatter\"},{\"line\":{\"color\":\"hsl(52, 90.32028060157067%, 68.89505653639326%)\",\"dash\":\"dash\"},\"mode\":\"lines\",\"name\":\"GS Predictions\",\"x\":[\"2023-12-15\",\"2023-12-18\",\"2023-12-19\",\"2023-12-20\",\"2023-12-21\",\"2023-12-22\",\"2023-12-26\",\"2023-12-27\",\"2023-12-28\"],\"y\":[361.3177795410156,361.8061218261719,365.7807922363281,367.3349914550781,369.5223693847656,371.4447326660156,373.1112365722656,375.96295166015625,377.83148193359375],\"type\":\"scatter\"},{\"line\":{\"color\":\"hsl(131, 98.4496093964755%, 52.42744920449858%)\"},\"mode\":\"lines\",\"name\":\"NFLX True Values\",\"x\":[\"2023-09-18T00:00:00\",\"2023-09-19T00:00:00\",\"2023-09-20T00:00:00\",\"2023-09-21T00:00:00\",\"2023-09-22T00:00:00\",\"2023-09-25T00:00:00\",\"2023-09-26T00:00:00\",\"2023-09-27T00:00:00\",\"2023-09-28T00:00:00\",\"2023-09-29T00:00:00\",\"2023-10-02T00:00:00\",\"2023-10-03T00:00:00\",\"2023-10-04T00:00:00\",\"2023-10-05T00:00:00\",\"2023-10-06T00:00:00\",\"2023-10-09T00:00:00\",\"2023-10-10T00:00:00\",\"2023-10-11T00:00:00\",\"2023-10-12T00:00:00\",\"2023-10-13T00:00:00\",\"2023-10-16T00:00:00\",\"2023-10-17T00:00:00\",\"2023-10-18T00:00:00\",\"2023-10-19T00:00:00\",\"2023-10-20T00:00:00\",\"2023-10-23T00:00:00\",\"2023-10-24T00:00:00\",\"2023-10-25T00:00:00\",\"2023-10-26T00:00:00\",\"2023-10-27T00:00:00\",\"2023-10-30T00:00:00\",\"2023-10-31T00:00:00\",\"2023-11-01T00:00:00\",\"2023-11-02T00:00:00\",\"2023-11-03T00:00:00\",\"2023-11-06T00:00:00\",\"2023-11-07T00:00:00\",\"2023-11-08T00:00:00\",\"2023-11-09T00:00:00\",\"2023-11-10T00:00:00\",\"2023-11-13T00:00:00\",\"2023-11-14T00:00:00\",\"2023-11-15T00:00:00\",\"2023-11-16T00:00:00\",\"2023-11-17T00:00:00\",\"2023-11-20T00:00:00\",\"2023-11-21T00:00:00\",\"2023-11-22T00:00:00\",\"2023-11-24T00:00:00\",\"2023-11-27T00:00:00\",\"2023-11-28T00:00:00\",\"2023-11-29T00:00:00\",\"2023-11-30T00:00:00\",\"2023-12-01T00:00:00\",\"2023-12-04T00:00:00\",\"2023-12-05T00:00:00\",\"2023-12-06T00:00:00\",\"2023-12-07T00:00:00\",\"2023-12-08T00:00:00\",\"2023-12-11T00:00:00\",\"2023-12-12T00:00:00\",\"2023-12-13T00:00:00\",\"2023-12-14T00:00:00\",\"2023-12-15T00:00:00\",\"2023-12-18T00:00:00\",\"2023-12-19T00:00:00\",\"2023-12-20T00:00:00\",\"2023-12-21T00:00:00\",\"2023-12-22T00:00:00\",\"2023-12-26T00:00:00\",\"2023-12-27T00:00:00\",\"2023-12-28T00:00:00\",\"2023-12-29T00:00:00\"],\"y\":[394.3999938964844,396.20001220703125,386.29998779296875,384.1499938964844,379.80999755859375,384.79998779296875,379.25,377.5899963378906,376.3599853515625,377.6000061035156,380.3299865722656,376.75,376.8999938964844,372.5899963378906,381.510009765625,385.95001220703125,373.32000732421875,365.92999267578125,361.20001220703125,355.67999267578125,360.82000732421875,355.7200012207031,346.19000244140625,401.7699890136719,400.9599914550781,406.8399963378906,413.7300109863281,411.25,403.5400085449219,397.8699951171875,410.0799865722656,411.69000244140625,420.19000244140625,424.7099914550781,432.3599853515625,434.739990234375,434.6099853515625,436.6499938964844,435.1499938964844,447.239990234375,444.6199951171875,448.6499938964844,461.94000244140625,466.95001220703125,465.9100036621094,474.4700012207031,474.95001220703125,478.0,479.55999755859375,479.1700134277344,479.0,477.19000244140625,473.9700012207031,465.739990234375,453.8999938964844,455.1499938964844,446.7300109863281,452.0,453.760009765625,459.8900146484375,463.0,479.9800109863281,469.8299865722656,472.05999755859375,486.1199951171875,495.0199890136719,489.2699890136719,491.6099853515625,486.760009765625,491.19000244140625,491.7900085449219,490.510009765625,486.8800048828125],\"type\":\"scatter\"},{\"line\":{\"color\":\"hsl(131, 98.4496093964755%, 52.42744920449858%)\",\"dash\":\"dash\"},\"mode\":\"lines\",\"name\":\"NFLX Predictions\",\"x\":[\"2023-12-15\",\"2023-12-18\",\"2023-12-19\",\"2023-12-20\",\"2023-12-21\",\"2023-12-22\",\"2023-12-26\",\"2023-12-27\",\"2023-12-28\"],\"y\":[471.0022277832031,475.1975402832031,478.3806457519531,480.6172180175781,482.88568115234375,484.4594421386719,486.8113708496094,488.8592834472656,488.7320251464844],\"type\":\"scatter\"},{\"line\":{\"color\":\"hsl(72, 79.13012944410121%, 60.885336057842224%)\"},\"mode\":\"lines\",\"name\":\"LMT True Values\",\"x\":[\"2023-09-18T00:00:00\",\"2023-09-19T00:00:00\",\"2023-09-20T00:00:00\",\"2023-09-21T00:00:00\",\"2023-09-22T00:00:00\",\"2023-09-25T00:00:00\",\"2023-09-26T00:00:00\",\"2023-09-27T00:00:00\",\"2023-09-28T00:00:00\",\"2023-09-29T00:00:00\",\"2023-10-02T00:00:00\",\"2023-10-03T00:00:00\",\"2023-10-04T00:00:00\",\"2023-10-05T00:00:00\",\"2023-10-06T00:00:00\",\"2023-10-09T00:00:00\",\"2023-10-10T00:00:00\",\"2023-10-11T00:00:00\",\"2023-10-12T00:00:00\",\"2023-10-13T00:00:00\",\"2023-10-16T00:00:00\",\"2023-10-17T00:00:00\",\"2023-10-18T00:00:00\",\"2023-10-19T00:00:00\",\"2023-10-20T00:00:00\",\"2023-10-23T00:00:00\",\"2023-10-24T00:00:00\",\"2023-10-25T00:00:00\",\"2023-10-26T00:00:00\",\"2023-10-27T00:00:00\",\"2023-10-30T00:00:00\",\"2023-10-31T00:00:00\",\"2023-11-01T00:00:00\",\"2023-11-02T00:00:00\",\"2023-11-03T00:00:00\",\"2023-11-06T00:00:00\",\"2023-11-07T00:00:00\",\"2023-11-08T00:00:00\",\"2023-11-09T00:00:00\",\"2023-11-10T00:00:00\",\"2023-11-13T00:00:00\",\"2023-11-14T00:00:00\",\"2023-11-15T00:00:00\",\"2023-11-16T00:00:00\",\"2023-11-17T00:00:00\",\"2023-11-20T00:00:00\",\"2023-11-21T00:00:00\",\"2023-11-22T00:00:00\",\"2023-11-24T00:00:00\",\"2023-11-27T00:00:00\",\"2023-11-28T00:00:00\",\"2023-11-29T00:00:00\",\"2023-11-30T00:00:00\",\"2023-12-01T00:00:00\",\"2023-12-04T00:00:00\",\"2023-12-05T00:00:00\",\"2023-12-06T00:00:00\",\"2023-12-07T00:00:00\",\"2023-12-08T00:00:00\",\"2023-12-11T00:00:00\",\"2023-12-12T00:00:00\",\"2023-12-13T00:00:00\",\"2023-12-14T00:00:00\",\"2023-12-15T00:00:00\",\"2023-12-18T00:00:00\",\"2023-12-19T00:00:00\",\"2023-12-20T00:00:00\",\"2023-12-21T00:00:00\",\"2023-12-22T00:00:00\",\"2023-12-26T00:00:00\",\"2023-12-27T00:00:00\",\"2023-12-28T00:00:00\",\"2023-12-29T00:00:00\"],\"y\":[429.8599853515625,425.30999755859375,426.95001220703125,417.5400085449219,413.6499938964844,412.8999938964844,408.75,408.7200012207031,410.9599914550781,408.9599914550781,407.82000732421875,403.8299865722656,401.3299865722656,397.3500061035156,400.7300109863281,436.5299987792969,435.1000061035156,436.6499938964844,434.1400146484375,441.05999755859375,440.4100036621094,441.1300048828125,446.07000732421875,449.17999267578125,444.1700134277344,446.1600036621094,440.8999938964844,447.69000244140625,445.9700012207031,443.3900146484375,445.8399963378906,454.6400146484375,452.3800048828125,458.0400085449219,453.3399963378906,451.1600036621094,450.1499938964844,444.6600036621094,442.4599914550781,444.8699951171875,445.0299987792969,444.2200012207031,445.1400146484375,445.5899963378906,444.67999267578125,443.80999755859375,448.1499938964844,450.3999938964844,452.010009765625,445.489990234375,448.2699890136719,445.010009765625,447.7699890136719,449.4100036621094,450.69000244140625,446.239990234375,449.4100036621094,447.1099853515625,448.0199890136719,451.260009765625,451.6300048828125,451.44000244140625,445.2699890136719,441.80999755859375,446.9100036621094,447.7900085449219,442.6000061035156,448.0199890136719,448.2200012207031,450.17999267578125,448.9700012207031,451.2300109863281,453.239990234375],\"type\":\"scatter\"},{\"line\":{\"color\":\"hsl(72, 79.13012944410121%, 60.885336057842224%)\",\"dash\":\"dash\"},\"mode\":\"lines\",\"name\":\"LMT Predictions\",\"x\":[\"2023-12-15\",\"2023-12-18\",\"2023-12-19\",\"2023-12-20\",\"2023-12-21\",\"2023-12-22\",\"2023-12-26\",\"2023-12-27\",\"2023-12-28\"],\"y\":[466.71246337890625,465.4334411621094,465.218994140625,464.0083312988281,464.66302490234375,464.9200744628906,465.2455139160156,465.0499572753906,465.7554016113281],\"type\":\"scatter\"},{\"line\":{\"color\":\"hsl(229, 95.5696892500273%, 51.102802679381696%)\"},\"mode\":\"lines\",\"name\":\"MCD True Values\",\"x\":[\"2023-09-18T00:00:00\",\"2023-09-19T00:00:00\",\"2023-09-20T00:00:00\",\"2023-09-21T00:00:00\",\"2023-09-22T00:00:00\",\"2023-09-25T00:00:00\",\"2023-09-26T00:00:00\",\"2023-09-27T00:00:00\",\"2023-09-28T00:00:00\",\"2023-09-29T00:00:00\",\"2023-10-02T00:00:00\",\"2023-10-03T00:00:00\",\"2023-10-04T00:00:00\",\"2023-10-05T00:00:00\",\"2023-10-06T00:00:00\",\"2023-10-09T00:00:00\",\"2023-10-10T00:00:00\",\"2023-10-11T00:00:00\",\"2023-10-12T00:00:00\",\"2023-10-13T00:00:00\",\"2023-10-16T00:00:00\",\"2023-10-17T00:00:00\",\"2023-10-18T00:00:00\",\"2023-10-19T00:00:00\",\"2023-10-20T00:00:00\",\"2023-10-23T00:00:00\",\"2023-10-24T00:00:00\",\"2023-10-25T00:00:00\",\"2023-10-26T00:00:00\",\"2023-10-27T00:00:00\",\"2023-10-30T00:00:00\",\"2023-10-31T00:00:00\",\"2023-11-01T00:00:00\",\"2023-11-02T00:00:00\",\"2023-11-03T00:00:00\",\"2023-11-06T00:00:00\",\"2023-11-07T00:00:00\",\"2023-11-08T00:00:00\",\"2023-11-09T00:00:00\",\"2023-11-10T00:00:00\",\"2023-11-13T00:00:00\",\"2023-11-14T00:00:00\",\"2023-11-15T00:00:00\",\"2023-11-16T00:00:00\",\"2023-11-17T00:00:00\",\"2023-11-20T00:00:00\",\"2023-11-21T00:00:00\",\"2023-11-22T00:00:00\",\"2023-11-24T00:00:00\",\"2023-11-27T00:00:00\",\"2023-11-28T00:00:00\",\"2023-11-29T00:00:00\",\"2023-11-30T00:00:00\",\"2023-12-01T00:00:00\",\"2023-12-04T00:00:00\",\"2023-12-05T00:00:00\",\"2023-12-06T00:00:00\",\"2023-12-07T00:00:00\",\"2023-12-08T00:00:00\",\"2023-12-11T00:00:00\",\"2023-12-12T00:00:00\",\"2023-12-13T00:00:00\",\"2023-12-14T00:00:00\",\"2023-12-15T00:00:00\",\"2023-12-18T00:00:00\",\"2023-12-19T00:00:00\",\"2023-12-20T00:00:00\",\"2023-12-21T00:00:00\",\"2023-12-22T00:00:00\",\"2023-12-26T00:00:00\",\"2023-12-27T00:00:00\",\"2023-12-28T00:00:00\",\"2023-12-29T00:00:00\"],\"y\":[277.7200012207031,278.1300048828125,277.20001220703125,271.2200012207031,272.2200012207031,269.7799987792969,267.7200012207031,263.6400146484375,265.5899963378906,263.44000244140625,257.75,254.49000549316406,255.80999755859375,252.22999572753906,248.22000122070312,249.9199981689453,251.52000427246094,250.9199981689453,246.19000244140625,248.30999755859375,249.94000244140625,251.13999938964844,256.0299987792969,258.3800048828125,258.1099853515625,254.75,257.2699890136719,258.0299987792969,255.8300018310547,255.75999450683594,260.1499938964844,262.1700134277344,261.9700012207031,266.8500061035156,267.8699951171875,268.9100036621094,268.6700134277344,267.489990234375,266.9100036621094,267.7900085449219,269.20001220703125,271.489990234375,270.3900146484375,276.1199951171875,275.75,279.0299987792969,280.4700012207031,281.92999267578125,282.5400085449219,281.8399963378906,282.0899963378906,280.3800048828125,281.8399963378906,285.9599914550781,286.1300048828125,286.5400085449219,286.8599853515625,286.7900085449219,285.5299987792969,289.1499938964844,291.4200134277344,295.92999267578125,290.0199890136719,287.2699890136719,290.2300109863281,290.7300109863281,288.989990234375,291.3900146484375,291.70001220703125,292.8599853515625,294.54998779296875,295.8399963378906,296.510009765625],\"type\":\"scatter\"},{\"line\":{\"color\":\"hsl(229, 95.5696892500273%, 51.102802679381696%)\",\"dash\":\"dash\"},\"mode\":\"lines\",\"name\":\"MCD Predictions\",\"x\":[\"2023-12-15\",\"2023-12-18\",\"2023-12-19\",\"2023-12-20\",\"2023-12-21\",\"2023-12-22\",\"2023-12-26\",\"2023-12-27\",\"2023-12-28\"],\"y\":[336.725341796875,335.0237121582031,335.04632568359375,334.8549499511719,335.5316162109375,335.7066955566406,336.0034484863281,336.9322814941406,337.39678955078125],\"type\":\"scatter\"}],                        {\"template\":{\"data\":{\"histogram2dcontour\":[{\"type\":\"histogram2dcontour\",\"colorbar\":{\"outlinewidth\":0,\"ticks\":\"\"},\"colorscale\":[[0.0,\"#0d0887\"],[0.1111111111111111,\"#46039f\"],[0.2222222222222222,\"#7201a8\"],[0.3333333333333333,\"#9c179e\"],[0.4444444444444444,\"#bd3786\"],[0.5555555555555556,\"#d8576b\"],[0.6666666666666666,\"#ed7953\"],[0.7777777777777778,\"#fb9f3a\"],[0.8888888888888888,\"#fdca26\"],[1.0,\"#f0f921\"]]}],\"choropleth\":[{\"type\":\"choropleth\",\"colorbar\":{\"outlinewidth\":0,\"ticks\":\"\"}}],\"histogram2d\":[{\"type\":\"histogram2d\",\"colorbar\":{\"outlinewidth\":0,\"ticks\":\"\"},\"colorscale\":[[0.0,\"#0d0887\"],[0.1111111111111111,\"#46039f\"],[0.2222222222222222,\"#7201a8\"],[0.3333333333333333,\"#9c179e\"],[0.4444444444444444,\"#bd3786\"],[0.5555555555555556,\"#d8576b\"],[0.6666666666666666,\"#ed7953\"],[0.7777777777777778,\"#fb9f3a\"],[0.8888888888888888,\"#fdca26\"],[1.0,\"#f0f921\"]]}],\"heatmap\":[{\"type\":\"heatmap\",\"colorbar\":{\"outlinewidth\":0,\"ticks\":\"\"},\"colorscale\":[[0.0,\"#0d0887\"],[0.1111111111111111,\"#46039f\"],[0.2222222222222222,\"#7201a8\"],[0.3333333333333333,\"#9c179e\"],[0.4444444444444444,\"#bd3786\"],[0.5555555555555556,\"#d8576b\"],[0.6666666666666666,\"#ed7953\"],[0.7777777777777778,\"#fb9f3a\"],[0.8888888888888888,\"#fdca26\"],[1.0,\"#f0f921\"]]}],\"heatmapgl\":[{\"type\":\"heatmapgl\",\"colorbar\":{\"outlinewidth\":0,\"ticks\":\"\"},\"colorscale\":[[0.0,\"#0d0887\"],[0.1111111111111111,\"#46039f\"],[0.2222222222222222,\"#7201a8\"],[0.3333333333333333,\"#9c179e\"],[0.4444444444444444,\"#bd3786\"],[0.5555555555555556,\"#d8576b\"],[0.6666666666666666,\"#ed7953\"],[0.7777777777777778,\"#fb9f3a\"],[0.8888888888888888,\"#fdca26\"],[1.0,\"#f0f921\"]]}],\"contourcarpet\":[{\"type\":\"contourcarpet\",\"colorbar\":{\"outlinewidth\":0,\"ticks\":\"\"}}],\"contour\":[{\"type\":\"contour\",\"colorbar\":{\"outlinewidth\":0,\"ticks\":\"\"},\"colorscale\":[[0.0,\"#0d0887\"],[0.1111111111111111,\"#46039f\"],[0.2222222222222222,\"#7201a8\"],[0.3333333333333333,\"#9c179e\"],[0.4444444444444444,\"#bd3786\"],[0.5555555555555556,\"#d8576b\"],[0.6666666666666666,\"#ed7953\"],[0.7777777777777778,\"#fb9f3a\"],[0.8888888888888888,\"#fdca26\"],[1.0,\"#f0f921\"]]}],\"surface\":[{\"type\":\"surface\",\"colorbar\":{\"outlinewidth\":0,\"ticks\":\"\"},\"colorscale\":[[0.0,\"#0d0887\"],[0.1111111111111111,\"#46039f\"],[0.2222222222222222,\"#7201a8\"],[0.3333333333333333,\"#9c179e\"],[0.4444444444444444,\"#bd3786\"],[0.5555555555555556,\"#d8576b\"],[0.6666666666666666,\"#ed7953\"],[0.7777777777777778,\"#fb9f3a\"],[0.8888888888888888,\"#fdca26\"],[1.0,\"#f0f921\"]]}],\"mesh3d\":[{\"type\":\"mesh3d\",\"colorbar\":{\"outlinewidth\":0,\"ticks\":\"\"}}],\"scatter\":[{\"fillpattern\":{\"fillmode\":\"overlay\",\"size\":10,\"solidity\":0.2},\"type\":\"scatter\"}],\"parcoords\":[{\"type\":\"parcoords\",\"line\":{\"colorbar\":{\"outlinewidth\":0,\"ticks\":\"\"}}}],\"scatterpolargl\":[{\"type\":\"scatterpolargl\",\"marker\":{\"colorbar\":{\"outlinewidth\":0,\"ticks\":\"\"}}}],\"bar\":[{\"error_x\":{\"color\":\"#2a3f5f\"},\"error_y\":{\"color\":\"#2a3f5f\"},\"marker\":{\"line\":{\"color\":\"#E5ECF6\",\"width\":0.5},\"pattern\":{\"fillmode\":\"overlay\",\"size\":10,\"solidity\":0.2}},\"type\":\"bar\"}],\"scattergeo\":[{\"type\":\"scattergeo\",\"marker\":{\"colorbar\":{\"outlinewidth\":0,\"ticks\":\"\"}}}],\"scatterpolar\":[{\"type\":\"scatterpolar\",\"marker\":{\"colorbar\":{\"outlinewidth\":0,\"ticks\":\"\"}}}],\"histogram\":[{\"marker\":{\"pattern\":{\"fillmode\":\"overlay\",\"size\":10,\"solidity\":0.2}},\"type\":\"histogram\"}],\"scattergl\":[{\"type\":\"scattergl\",\"marker\":{\"colorbar\":{\"outlinewidth\":0,\"ticks\":\"\"}}}],\"scatter3d\":[{\"type\":\"scatter3d\",\"line\":{\"colorbar\":{\"outlinewidth\":0,\"ticks\":\"\"}},\"marker\":{\"colorbar\":{\"outlinewidth\":0,\"ticks\":\"\"}}}],\"scattermapbox\":[{\"type\":\"scattermapbox\",\"marker\":{\"colorbar\":{\"outlinewidth\":0,\"ticks\":\"\"}}}],\"scatterternary\":[{\"type\":\"scatterternary\",\"marker\":{\"colorbar\":{\"outlinewidth\":0,\"ticks\":\"\"}}}],\"scattercarpet\":[{\"type\":\"scattercarpet\",\"marker\":{\"colorbar\":{\"outlinewidth\":0,\"ticks\":\"\"}}}],\"carpet\":[{\"aaxis\":{\"endlinecolor\":\"#2a3f5f\",\"gridcolor\":\"white\",\"linecolor\":\"white\",\"minorgridcolor\":\"white\",\"startlinecolor\":\"#2a3f5f\"},\"baxis\":{\"endlinecolor\":\"#2a3f5f\",\"gridcolor\":\"white\",\"linecolor\":\"white\",\"minorgridcolor\":\"white\",\"startlinecolor\":\"#2a3f5f\"},\"type\":\"carpet\"}],\"table\":[{\"cells\":{\"fill\":{\"color\":\"#EBF0F8\"},\"line\":{\"color\":\"white\"}},\"header\":{\"fill\":{\"color\":\"#C8D4E3\"},\"line\":{\"color\":\"white\"}},\"type\":\"table\"}],\"barpolar\":[{\"marker\":{\"line\":{\"color\":\"#E5ECF6\",\"width\":0.5},\"pattern\":{\"fillmode\":\"overlay\",\"size\":10,\"solidity\":0.2}},\"type\":\"barpolar\"}],\"pie\":[{\"automargin\":true,\"type\":\"pie\"}]},\"layout\":{\"autotypenumbers\":\"strict\",\"colorway\":[\"#636efa\",\"#EF553B\",\"#00cc96\",\"#ab63fa\",\"#FFA15A\",\"#19d3f3\",\"#FF6692\",\"#B6E880\",\"#FF97FF\",\"#FECB52\"],\"font\":{\"color\":\"#2a3f5f\"},\"hovermode\":\"closest\",\"hoverlabel\":{\"align\":\"left\"},\"paper_bgcolor\":\"white\",\"plot_bgcolor\":\"#E5ECF6\",\"polar\":{\"bgcolor\":\"#E5ECF6\",\"angularaxis\":{\"gridcolor\":\"white\",\"linecolor\":\"white\",\"ticks\":\"\"},\"radialaxis\":{\"gridcolor\":\"white\",\"linecolor\":\"white\",\"ticks\":\"\"}},\"ternary\":{\"bgcolor\":\"#E5ECF6\",\"aaxis\":{\"gridcolor\":\"white\",\"linecolor\":\"white\",\"ticks\":\"\"},\"baxis\":{\"gridcolor\":\"white\",\"linecolor\":\"white\",\"ticks\":\"\"},\"caxis\":{\"gridcolor\":\"white\",\"linecolor\":\"white\",\"ticks\":\"\"}},\"coloraxis\":{\"colorbar\":{\"outlinewidth\":0,\"ticks\":\"\"}},\"colorscale\":{\"sequential\":[[0.0,\"#0d0887\"],[0.1111111111111111,\"#46039f\"],[0.2222222222222222,\"#7201a8\"],[0.3333333333333333,\"#9c179e\"],[0.4444444444444444,\"#bd3786\"],[0.5555555555555556,\"#d8576b\"],[0.6666666666666666,\"#ed7953\"],[0.7777777777777778,\"#fb9f3a\"],[0.8888888888888888,\"#fdca26\"],[1.0,\"#f0f921\"]],\"sequentialminus\":[[0.0,\"#0d0887\"],[0.1111111111111111,\"#46039f\"],[0.2222222222222222,\"#7201a8\"],[0.3333333333333333,\"#9c179e\"],[0.4444444444444444,\"#bd3786\"],[0.5555555555555556,\"#d8576b\"],[0.6666666666666666,\"#ed7953\"],[0.7777777777777778,\"#fb9f3a\"],[0.8888888888888888,\"#fdca26\"],[1.0,\"#f0f921\"]],\"diverging\":[[0,\"#8e0152\"],[0.1,\"#c51b7d\"],[0.2,\"#de77ae\"],[0.3,\"#f1b6da\"],[0.4,\"#fde0ef\"],[0.5,\"#f7f7f7\"],[0.6,\"#e6f5d0\"],[0.7,\"#b8e186\"],[0.8,\"#7fbc41\"],[0.9,\"#4d9221\"],[1,\"#276419\"]]},\"xaxis\":{\"gridcolor\":\"white\",\"linecolor\":\"white\",\"ticks\":\"\",\"title\":{\"standoff\":15},\"zerolinecolor\":\"white\",\"automargin\":true,\"zerolinewidth\":2},\"yaxis\":{\"gridcolor\":\"white\",\"linecolor\":\"white\",\"ticks\":\"\",\"title\":{\"standoff\":15},\"zerolinecolor\":\"white\",\"automargin\":true,\"zerolinewidth\":2},\"scene\":{\"xaxis\":{\"backgroundcolor\":\"#E5ECF6\",\"gridcolor\":\"white\",\"linecolor\":\"white\",\"showbackground\":true,\"ticks\":\"\",\"zerolinecolor\":\"white\",\"gridwidth\":2},\"yaxis\":{\"backgroundcolor\":\"#E5ECF6\",\"gridcolor\":\"white\",\"linecolor\":\"white\",\"showbackground\":true,\"ticks\":\"\",\"zerolinecolor\":\"white\",\"gridwidth\":2},\"zaxis\":{\"backgroundcolor\":\"#E5ECF6\",\"gridcolor\":\"white\",\"linecolor\":\"white\",\"showbackground\":true,\"ticks\":\"\",\"zerolinecolor\":\"white\",\"gridwidth\":2}},\"shapedefaults\":{\"line\":{\"color\":\"#2a3f5f\"}},\"annotationdefaults\":{\"arrowcolor\":\"#2a3f5f\",\"arrowhead\":0,\"arrowwidth\":1},\"geo\":{\"bgcolor\":\"white\",\"landcolor\":\"#E5ECF6\",\"subunitcolor\":\"white\",\"showland\":true,\"showlakes\":true,\"lakecolor\":\"white\"},\"title\":{\"x\":0.05},\"mapbox\":{\"style\":\"light\"}}},\"xaxis\":{\"title\":{\"text\":\"Date\"},\"gridcolor\":\"lightgray\",\"gridwidth\":1},\"yaxis\":{\"title\":{\"text\":\"Value\"},\"gridcolor\":\"lightgray\",\"gridwidth\":1},\"title\":{\"text\":\"Predictions vs True Values for Selected Stocks\"},\"legend\":{\"title\":{\"text\":\"Legend\"}},\"showlegend\":true,\"updatemenus\":[{\"active\":7,\"buttons\":[{\"args\":[{\"visible\":[true,true,false,false,false,false,false,false,false,false,false,false,false,false]},{\"title\":\"META Predictions vs True Values\"}],\"label\":\"META\",\"method\":\"update\"},{\"args\":[{\"visible\":[false,false,true,true,false,false,false,false,false,false,false,false,false,false]},{\"title\":\"ADBE Predictions vs True Values\"}],\"label\":\"ADBE\",\"method\":\"update\"},{\"args\":[{\"visible\":[false,false,false,false,true,true,false,false,false,false,false,false,false,false]},{\"title\":\"MA Predictions vs True Values\"}],\"label\":\"MA\",\"method\":\"update\"},{\"args\":[{\"visible\":[false,false,false,false,false,false,true,true,false,false,false,false,false,false]},{\"title\":\"GS Predictions vs True Values\"}],\"label\":\"GS\",\"method\":\"update\"},{\"args\":[{\"visible\":[false,false,false,false,false,false,false,false,true,true,false,false,false,false]},{\"title\":\"NFLX Predictions vs True Values\"}],\"label\":\"NFLX\",\"method\":\"update\"},{\"args\":[{\"visible\":[false,false,false,false,false,false,false,false,false,false,true,true,false,false]},{\"title\":\"LMT Predictions vs True Values\"}],\"label\":\"LMT\",\"method\":\"update\"},{\"args\":[{\"visible\":[false,false,false,false,false,false,false,false,false,false,false,false,true,true]},{\"title\":\"MCD Predictions vs True Values\"}],\"label\":\"MCD\",\"method\":\"update\"},{\"args\":[{\"visible\":[true,true,true,true,true,true,true,true,true,true,true,true,true,true]},{\"title\":\"All Stocks Predictions vs True Values\"}],\"label\":\"All\",\"method\":\"update\"}],\"direction\":\"down\",\"showactive\":true}],\"plot_bgcolor\":\"white\",\"paper_bgcolor\":\"white\"},                        {\"responsive\": true}                    ).then(function(){\n",
       "                            \n",
       "var gd = document.getElementById('791408d2-c014-49f4-a760-2e927c00fdda');\n",
       "var x = new MutationObserver(function (mutations, observer) {{\n",
       "        var display = window.getComputedStyle(gd).display;\n",
       "        if (!display || display === 'none') {{\n",
       "            console.log([gd, 'removed!']);\n",
       "            Plotly.purge(gd);\n",
       "            observer.disconnect();\n",
       "        }}\n",
       "}});\n",
       "\n",
       "// Listen for the removal of the full notebook cells\n",
       "var notebookContainer = gd.closest('#notebook-container');\n",
       "if (notebookContainer) {{\n",
       "    x.observe(notebookContainer, {childList: true});\n",
       "}}\n",
       "\n",
       "// Listen for the clearing of the current output cell\n",
       "var outputEl = gd.closest('.output');\n",
       "if (outputEl) {{\n",
       "    x.observe(outputEl, {childList: true});\n",
       "}}\n",
       "\n",
       "                        })                };                });            </script>        </div>"
      ]
     },
     "metadata": {},
     "output_type": "display_data"
    }
   ],
   "source": [
    "fig = evaluate_model_sequence3(model, test_sequence_loader, wandb_log = False, days_back_to_plot = 90)\n",
    "# Log the Plotly figure using wandb.Plotly\n",
    "wandb.log({\"Sequencer Evaluator\": wandb.Plotly(fig)})"
   ]
  },
  {
   "cell_type": "code",
   "execution_count": 219,
   "id": "788d36cb",
   "metadata": {},
   "outputs": [
    {
     "data": {
      "application/vnd.plotly.v1+json": {
       "config": {
        "plotlyServerURL": "https://plotly.com"
       },
       "data": [
        {
         "line": {
          "color": "hsl(281, 98.99617164029127%, 63.17167440640314%)"
         },
         "mode": "lines",
         "name": "META True Values",
         "type": "scatter",
         "x": [
          "2023-11-15T00:00:00",
          "2023-11-16T00:00:00",
          "2023-11-17T00:00:00",
          "2023-11-20T00:00:00",
          "2023-11-21T00:00:00",
          "2023-11-22T00:00:00",
          "2023-11-24T00:00:00",
          "2023-11-27T00:00:00",
          "2023-11-28T00:00:00",
          "2023-11-29T00:00:00",
          "2023-11-30T00:00:00",
          "2023-12-01T00:00:00",
          "2023-12-04T00:00:00",
          "2023-12-05T00:00:00",
          "2023-12-06T00:00:00",
          "2023-12-07T00:00:00",
          "2023-12-08T00:00:00",
          "2023-12-11T00:00:00",
          "2023-12-12T00:00:00",
          "2023-12-13T00:00:00",
          "2023-12-14T00:00:00",
          "2023-12-15T00:00:00",
          "2023-12-18T00:00:00",
          "2023-12-19T00:00:00",
          "2023-12-20T00:00:00",
          "2023-12-21T00:00:00",
          "2023-12-22T00:00:00",
          "2023-12-26T00:00:00",
          "2023-12-27T00:00:00",
          "2023-12-28T00:00:00",
          "2023-12-29T00:00:00"
         ],
         "y": [
          332.7099914550781,
          334.19000244140625,
          335.0400085449219,
          339.9700012207031,
          336.9800109863281,
          341.489990234375,
          338.2300109863281,
          334.70001220703125,
          338.989990234375,
          332.20001220703125,
          327.1499938964844,
          324.82000732421875,
          320.0199890136719,
          318.2900085449219,
          317.45001220703125,
          326.5899963378906,
          332.75,
          325.2799987792969,
          334.2200012207031,
          334.739990234375,
          333.1700134277344,
          334.9200134277344,
          344.6199951171875,
          350.3599853515625,
          349.2799987792969,
          354.0899963378906,
          353.3900146484375,
          354.8299865722656,
          357.8299865722656,
          358.32000732421875,
          353.9599914550781
         ]
        },
        {
         "line": {
          "color": "hsl(281, 98.99617164029127%, 63.17167440640314%)",
          "dash": "dash"
         },
         "mode": "lines",
         "name": "META Predictions",
         "type": "scatter",
         "x": [
          "2023-12-15",
          "2023-12-18",
          "2023-12-19",
          "2023-12-20",
          "2023-12-21",
          "2023-12-22",
          "2023-12-26",
          "2023-12-27",
          "2023-12-28"
         ],
         "y": [
          306.5460510253906,
          303.1202697753906,
          305.65875244140625,
          306.9281311035156,
          309.3328552246094,
          308.7178039550781,
          309.8272399902344,
          314.104248046875,
          314.94635009765625
         ]
        },
        {
         "line": {
          "color": "hsl(25, 70.39152612191467%, 61.726810451215655%)"
         },
         "mode": "lines",
         "name": "ADBE True Values",
         "type": "scatter",
         "x": [
          "2023-11-15T00:00:00",
          "2023-11-16T00:00:00",
          "2023-11-17T00:00:00",
          "2023-11-20T00:00:00",
          "2023-11-21T00:00:00",
          "2023-11-22T00:00:00",
          "2023-11-24T00:00:00",
          "2023-11-27T00:00:00",
          "2023-11-28T00:00:00",
          "2023-11-29T00:00:00",
          "2023-11-30T00:00:00",
          "2023-12-01T00:00:00",
          "2023-12-04T00:00:00",
          "2023-12-05T00:00:00",
          "2023-12-06T00:00:00",
          "2023-12-07T00:00:00",
          "2023-12-08T00:00:00",
          "2023-12-11T00:00:00",
          "2023-12-12T00:00:00",
          "2023-12-13T00:00:00",
          "2023-12-14T00:00:00",
          "2023-12-15T00:00:00",
          "2023-12-18T00:00:00",
          "2023-12-19T00:00:00",
          "2023-12-20T00:00:00",
          "2023-12-21T00:00:00",
          "2023-12-22T00:00:00",
          "2023-12-26T00:00:00",
          "2023-12-27T00:00:00",
          "2023-12-28T00:00:00",
          "2023-12-29T00:00:00"
         ],
         "y": [
          595.3099975585938,
          602.0599975585938,
          602.6599731445312,
          612.7000122070312,
          610.989990234375,
          619.719970703125,
          619.4299926757812,
          619.27001953125,
          623.3200073242188,
          617.3900146484375,
          611.010009765625,
          612.469970703125,
          604.5599975585938,
          602.219970703125,
          595.7000122070312,
          608.780029296875,
          610.010009765625,
          625.2000122070312,
          633.6599731445312,
          624.260009765625,
          584.6400146484375,
          584.6799926757812,
          599.1300048828125,
          604.6400146484375,
          596.0599975585938,
          600.1400146484375,
          598.75,
          598.260009765625,
          596.0800170898438,
          595.52001953125,
          596.5999755859375
         ]
        },
        {
         "line": {
          "color": "hsl(25, 70.39152612191467%, 61.726810451215655%)",
          "dash": "dash"
         },
         "mode": "lines",
         "name": "ADBE Predictions",
         "type": "scatter",
         "x": [
          "2023-12-15",
          "2023-12-18",
          "2023-12-19",
          "2023-12-20",
          "2023-12-21",
          "2023-12-22",
          "2023-12-26",
          "2023-12-27",
          "2023-12-28"
         ],
         "y": [
          557.619873046875,
          556.8392944335938,
          556.0986328125,
          552.6427001953125,
          553.7796630859375,
          552.3759765625,
          550.7181396484375,
          547.8931274414062,
          546.465576171875
         ]
        },
        {
         "line": {
          "color": "hsl(230, 98.7760074988849%, 60.81941596311302%)"
         },
         "mode": "lines",
         "name": "MA True Values",
         "type": "scatter",
         "x": [
          "2023-11-15T00:00:00",
          "2023-11-16T00:00:00",
          "2023-11-17T00:00:00",
          "2023-11-20T00:00:00",
          "2023-11-21T00:00:00",
          "2023-11-22T00:00:00",
          "2023-11-24T00:00:00",
          "2023-11-27T00:00:00",
          "2023-11-28T00:00:00",
          "2023-11-29T00:00:00",
          "2023-11-30T00:00:00",
          "2023-12-01T00:00:00",
          "2023-12-04T00:00:00",
          "2023-12-05T00:00:00",
          "2023-12-06T00:00:00",
          "2023-12-07T00:00:00",
          "2023-12-08T00:00:00",
          "2023-12-11T00:00:00",
          "2023-12-12T00:00:00",
          "2023-12-13T00:00:00",
          "2023-12-14T00:00:00",
          "2023-12-15T00:00:00",
          "2023-12-18T00:00:00",
          "2023-12-19T00:00:00",
          "2023-12-20T00:00:00",
          "2023-12-21T00:00:00",
          "2023-12-22T00:00:00",
          "2023-12-26T00:00:00",
          "2023-12-27T00:00:00",
          "2023-12-28T00:00:00",
          "2023-12-29T00:00:00"
         ],
         "y": [
          396.8299865722656,
          397.1000061035156,
          400.29998779296875,
          404.3999938964844,
          408.95001220703125,
          410.3299865722656,
          412.5,
          408.9700012207031,
          409.010009765625,
          409.82000732421875,
          413.8299865722656,
          414.3599853515625,
          408.2300109863281,
          408.69000244140625,
          410.3800048828125,
          413.1499938964844,
          412.1600036621094,
          415.7099914550781,
          420.75,
          424.67999267578125,
          418.55999755859375,
          418.57000732421875,
          424.42999267578125,
          425.4700012207031,
          419.45001220703125,
          423.44000244140625,
          424.1000061035156,
          423.6700134277344,
          424.3599853515625,
          426.32000732421875,
          426.510009765625
         ]
        },
        {
         "line": {
          "color": "hsl(230, 98.7760074988849%, 60.81941596311302%)",
          "dash": "dash"
         },
         "mode": "lines",
         "name": "MA Predictions",
         "type": "scatter",
         "x": [
          "2023-12-15",
          "2023-12-18",
          "2023-12-19",
          "2023-12-20",
          "2023-12-21",
          "2023-12-22",
          "2023-12-26",
          "2023-12-27",
          "2023-12-28"
         ],
         "y": [
          398.0412292480469,
          398.41314697265625,
          399.4419860839844,
          399.27825927734375,
          400.1919250488281,
          400.91326904296875,
          400.9620666503906,
          401.29339599609375,
          402.0763854980469
         ]
        },
        {
         "line": {
          "color": "hsl(234, 99.0983192528544%, 56.391193470080104%)"
         },
         "mode": "lines",
         "name": "GS True Values",
         "type": "scatter",
         "x": [
          "2023-11-15T00:00:00",
          "2023-11-16T00:00:00",
          "2023-11-17T00:00:00",
          "2023-11-20T00:00:00",
          "2023-11-21T00:00:00",
          "2023-11-22T00:00:00",
          "2023-11-24T00:00:00",
          "2023-11-27T00:00:00",
          "2023-11-28T00:00:00",
          "2023-11-29T00:00:00",
          "2023-11-30T00:00:00",
          "2023-12-01T00:00:00",
          "2023-12-04T00:00:00",
          "2023-12-05T00:00:00",
          "2023-12-06T00:00:00",
          "2023-12-07T00:00:00",
          "2023-12-08T00:00:00",
          "2023-12-11T00:00:00",
          "2023-12-12T00:00:00",
          "2023-12-13T00:00:00",
          "2023-12-14T00:00:00",
          "2023-12-15T00:00:00",
          "2023-12-18T00:00:00",
          "2023-12-19T00:00:00",
          "2023-12-20T00:00:00",
          "2023-12-21T00:00:00",
          "2023-12-22T00:00:00",
          "2023-12-26T00:00:00",
          "2023-12-27T00:00:00",
          "2023-12-28T00:00:00",
          "2023-12-29T00:00:00"
         ],
         "y": [
          337.6000061035156,
          336.6700134277344,
          339.19000244140625,
          339.45001220703125,
          334.9700012207031,
          338.6400146484375,
          339.1499938964844,
          337.7099914550781,
          337.6499938964844,
          340.260009765625,
          341.5400085449219,
          348.42999267578125,
          349.3900146484375,
          341.75,
          341.9700012207031,
          344.6199951171875,
          350.8299865722656,
          351.760009765625,
          352.6099853515625,
          362.7300109863281,
          383.4700012207031,
          380.510009765625,
          376.3999938964844,
          382.45001220703125,
          377.5199890136719,
          380.57000732421875,
          380.6499938964844,
          381.6099853515625,
          384.4800109863281,
          386.4100036621094,
          385.7699890136719
         ]
        },
        {
         "line": {
          "color": "hsl(234, 99.0983192528544%, 56.391193470080104%)",
          "dash": "dash"
         },
         "mode": "lines",
         "name": "GS Predictions",
         "type": "scatter",
         "x": [
          "2023-12-15",
          "2023-12-18",
          "2023-12-19",
          "2023-12-20",
          "2023-12-21",
          "2023-12-22",
          "2023-12-26",
          "2023-12-27",
          "2023-12-28"
         ],
         "y": [
          361.3177795410156,
          361.8061218261719,
          365.7807922363281,
          367.3349914550781,
          369.5223693847656,
          371.4447326660156,
          373.1112365722656,
          375.96295166015625,
          377.83148193359375
         ]
        },
        {
         "line": {
          "color": "hsl(278, 77.60997816572096%, 58.30547931705533%)"
         },
         "mode": "lines",
         "name": "NFLX True Values",
         "type": "scatter",
         "x": [
          "2023-11-15T00:00:00",
          "2023-11-16T00:00:00",
          "2023-11-17T00:00:00",
          "2023-11-20T00:00:00",
          "2023-11-21T00:00:00",
          "2023-11-22T00:00:00",
          "2023-11-24T00:00:00",
          "2023-11-27T00:00:00",
          "2023-11-28T00:00:00",
          "2023-11-29T00:00:00",
          "2023-11-30T00:00:00",
          "2023-12-01T00:00:00",
          "2023-12-04T00:00:00",
          "2023-12-05T00:00:00",
          "2023-12-06T00:00:00",
          "2023-12-07T00:00:00",
          "2023-12-08T00:00:00",
          "2023-12-11T00:00:00",
          "2023-12-12T00:00:00",
          "2023-12-13T00:00:00",
          "2023-12-14T00:00:00",
          "2023-12-15T00:00:00",
          "2023-12-18T00:00:00",
          "2023-12-19T00:00:00",
          "2023-12-20T00:00:00",
          "2023-12-21T00:00:00",
          "2023-12-22T00:00:00",
          "2023-12-26T00:00:00",
          "2023-12-27T00:00:00",
          "2023-12-28T00:00:00",
          "2023-12-29T00:00:00"
         ],
         "y": [
          461.94000244140625,
          466.95001220703125,
          465.9100036621094,
          474.4700012207031,
          474.95001220703125,
          478,
          479.55999755859375,
          479.1700134277344,
          479,
          477.19000244140625,
          473.9700012207031,
          465.739990234375,
          453.8999938964844,
          455.1499938964844,
          446.7300109863281,
          452,
          453.760009765625,
          459.8900146484375,
          463,
          479.9800109863281,
          469.8299865722656,
          472.05999755859375,
          486.1199951171875,
          495.0199890136719,
          489.2699890136719,
          491.6099853515625,
          486.760009765625,
          491.19000244140625,
          491.7900085449219,
          490.510009765625,
          486.8800048828125
         ]
        },
        {
         "line": {
          "color": "hsl(278, 77.60997816572096%, 58.30547931705533%)",
          "dash": "dash"
         },
         "mode": "lines",
         "name": "NFLX Predictions",
         "type": "scatter",
         "x": [
          "2023-12-15",
          "2023-12-18",
          "2023-12-19",
          "2023-12-20",
          "2023-12-21",
          "2023-12-22",
          "2023-12-26",
          "2023-12-27",
          "2023-12-28"
         ],
         "y": [
          471.0022277832031,
          475.1975402832031,
          478.3806457519531,
          480.6172180175781,
          482.88568115234375,
          484.4594421386719,
          486.8113708496094,
          488.8592834472656,
          488.7320251464844
         ]
        },
        {
         "line": {
          "color": "hsl(12, 77.89344724773063%, 61.74565510313247%)"
         },
         "mode": "lines",
         "name": "LMT True Values",
         "type": "scatter",
         "x": [
          "2023-11-15T00:00:00",
          "2023-11-16T00:00:00",
          "2023-11-17T00:00:00",
          "2023-11-20T00:00:00",
          "2023-11-21T00:00:00",
          "2023-11-22T00:00:00",
          "2023-11-24T00:00:00",
          "2023-11-27T00:00:00",
          "2023-11-28T00:00:00",
          "2023-11-29T00:00:00",
          "2023-11-30T00:00:00",
          "2023-12-01T00:00:00",
          "2023-12-04T00:00:00",
          "2023-12-05T00:00:00",
          "2023-12-06T00:00:00",
          "2023-12-07T00:00:00",
          "2023-12-08T00:00:00",
          "2023-12-11T00:00:00",
          "2023-12-12T00:00:00",
          "2023-12-13T00:00:00",
          "2023-12-14T00:00:00",
          "2023-12-15T00:00:00",
          "2023-12-18T00:00:00",
          "2023-12-19T00:00:00",
          "2023-12-20T00:00:00",
          "2023-12-21T00:00:00",
          "2023-12-22T00:00:00",
          "2023-12-26T00:00:00",
          "2023-12-27T00:00:00",
          "2023-12-28T00:00:00",
          "2023-12-29T00:00:00"
         ],
         "y": [
          445.1400146484375,
          445.5899963378906,
          444.67999267578125,
          443.80999755859375,
          448.1499938964844,
          450.3999938964844,
          452.010009765625,
          445.489990234375,
          448.2699890136719,
          445.010009765625,
          447.7699890136719,
          449.4100036621094,
          450.69000244140625,
          446.239990234375,
          449.4100036621094,
          447.1099853515625,
          448.0199890136719,
          451.260009765625,
          451.6300048828125,
          451.44000244140625,
          445.2699890136719,
          441.80999755859375,
          446.9100036621094,
          447.7900085449219,
          442.6000061035156,
          448.0199890136719,
          448.2200012207031,
          450.17999267578125,
          448.9700012207031,
          451.2300109863281,
          453.239990234375
         ]
        },
        {
         "line": {
          "color": "hsl(12, 77.89344724773063%, 61.74565510313247%)",
          "dash": "dash"
         },
         "mode": "lines",
         "name": "LMT Predictions",
         "type": "scatter",
         "x": [
          "2023-12-15",
          "2023-12-18",
          "2023-12-19",
          "2023-12-20",
          "2023-12-21",
          "2023-12-22",
          "2023-12-26",
          "2023-12-27",
          "2023-12-28"
         ],
         "y": [
          466.71246337890625,
          465.4334411621094,
          465.218994140625,
          464.0083312988281,
          464.66302490234375,
          464.9200744628906,
          465.2455139160156,
          465.0499572753906,
          465.7554016113281
         ]
        },
        {
         "line": {
          "color": "hsl(231, 79.41542807107136%, 66.38879092118002%)"
         },
         "mode": "lines",
         "name": "MCD True Values",
         "type": "scatter",
         "x": [
          "2023-11-15T00:00:00",
          "2023-11-16T00:00:00",
          "2023-11-17T00:00:00",
          "2023-11-20T00:00:00",
          "2023-11-21T00:00:00",
          "2023-11-22T00:00:00",
          "2023-11-24T00:00:00",
          "2023-11-27T00:00:00",
          "2023-11-28T00:00:00",
          "2023-11-29T00:00:00",
          "2023-11-30T00:00:00",
          "2023-12-01T00:00:00",
          "2023-12-04T00:00:00",
          "2023-12-05T00:00:00",
          "2023-12-06T00:00:00",
          "2023-12-07T00:00:00",
          "2023-12-08T00:00:00",
          "2023-12-11T00:00:00",
          "2023-12-12T00:00:00",
          "2023-12-13T00:00:00",
          "2023-12-14T00:00:00",
          "2023-12-15T00:00:00",
          "2023-12-18T00:00:00",
          "2023-12-19T00:00:00",
          "2023-12-20T00:00:00",
          "2023-12-21T00:00:00",
          "2023-12-22T00:00:00",
          "2023-12-26T00:00:00",
          "2023-12-27T00:00:00",
          "2023-12-28T00:00:00",
          "2023-12-29T00:00:00"
         ],
         "y": [
          270.3900146484375,
          276.1199951171875,
          275.75,
          279.0299987792969,
          280.4700012207031,
          281.92999267578125,
          282.5400085449219,
          281.8399963378906,
          282.0899963378906,
          280.3800048828125,
          281.8399963378906,
          285.9599914550781,
          286.1300048828125,
          286.5400085449219,
          286.8599853515625,
          286.7900085449219,
          285.5299987792969,
          289.1499938964844,
          291.4200134277344,
          295.92999267578125,
          290.0199890136719,
          287.2699890136719,
          290.2300109863281,
          290.7300109863281,
          288.989990234375,
          291.3900146484375,
          291.70001220703125,
          292.8599853515625,
          294.54998779296875,
          295.8399963378906,
          296.510009765625
         ]
        },
        {
         "line": {
          "color": "hsl(231, 79.41542807107136%, 66.38879092118002%)",
          "dash": "dash"
         },
         "mode": "lines",
         "name": "MCD Predictions",
         "type": "scatter",
         "x": [
          "2023-12-15",
          "2023-12-18",
          "2023-12-19",
          "2023-12-20",
          "2023-12-21",
          "2023-12-22",
          "2023-12-26",
          "2023-12-27",
          "2023-12-28"
         ],
         "y": [
          336.725341796875,
          335.0237121582031,
          335.04632568359375,
          334.8549499511719,
          335.5316162109375,
          335.7066955566406,
          336.0034484863281,
          336.9322814941406,
          337.39678955078125
         ]
        }
       ],
       "layout": {
        "legend": {
         "title": {
          "text": "Legend"
         }
        },
        "paper_bgcolor": "white",
        "plot_bgcolor": "white",
        "showlegend": true,
        "template": {
         "data": {
          "bar": [
           {
            "error_x": {
             "color": "#2a3f5f"
            },
            "error_y": {
             "color": "#2a3f5f"
            },
            "marker": {
             "line": {
              "color": "#E5ECF6",
              "width": 0.5
             },
             "pattern": {
              "fillmode": "overlay",
              "size": 10,
              "solidity": 0.2
             }
            },
            "type": "bar"
           }
          ],
          "barpolar": [
           {
            "marker": {
             "line": {
              "color": "#E5ECF6",
              "width": 0.5
             },
             "pattern": {
              "fillmode": "overlay",
              "size": 10,
              "solidity": 0.2
             }
            },
            "type": "barpolar"
           }
          ],
          "carpet": [
           {
            "aaxis": {
             "endlinecolor": "#2a3f5f",
             "gridcolor": "white",
             "linecolor": "white",
             "minorgridcolor": "white",
             "startlinecolor": "#2a3f5f"
            },
            "baxis": {
             "endlinecolor": "#2a3f5f",
             "gridcolor": "white",
             "linecolor": "white",
             "minorgridcolor": "white",
             "startlinecolor": "#2a3f5f"
            },
            "type": "carpet"
           }
          ],
          "choropleth": [
           {
            "colorbar": {
             "outlinewidth": 0,
             "ticks": ""
            },
            "type": "choropleth"
           }
          ],
          "contour": [
           {
            "colorbar": {
             "outlinewidth": 0,
             "ticks": ""
            },
            "colorscale": [
             [
              0,
              "#0d0887"
             ],
             [
              0.1111111111111111,
              "#46039f"
             ],
             [
              0.2222222222222222,
              "#7201a8"
             ],
             [
              0.3333333333333333,
              "#9c179e"
             ],
             [
              0.4444444444444444,
              "#bd3786"
             ],
             [
              0.5555555555555556,
              "#d8576b"
             ],
             [
              0.6666666666666666,
              "#ed7953"
             ],
             [
              0.7777777777777778,
              "#fb9f3a"
             ],
             [
              0.8888888888888888,
              "#fdca26"
             ],
             [
              1,
              "#f0f921"
             ]
            ],
            "type": "contour"
           }
          ],
          "contourcarpet": [
           {
            "colorbar": {
             "outlinewidth": 0,
             "ticks": ""
            },
            "type": "contourcarpet"
           }
          ],
          "heatmap": [
           {
            "colorbar": {
             "outlinewidth": 0,
             "ticks": ""
            },
            "colorscale": [
             [
              0,
              "#0d0887"
             ],
             [
              0.1111111111111111,
              "#46039f"
             ],
             [
              0.2222222222222222,
              "#7201a8"
             ],
             [
              0.3333333333333333,
              "#9c179e"
             ],
             [
              0.4444444444444444,
              "#bd3786"
             ],
             [
              0.5555555555555556,
              "#d8576b"
             ],
             [
              0.6666666666666666,
              "#ed7953"
             ],
             [
              0.7777777777777778,
              "#fb9f3a"
             ],
             [
              0.8888888888888888,
              "#fdca26"
             ],
             [
              1,
              "#f0f921"
             ]
            ],
            "type": "heatmap"
           }
          ],
          "heatmapgl": [
           {
            "colorbar": {
             "outlinewidth": 0,
             "ticks": ""
            },
            "colorscale": [
             [
              0,
              "#0d0887"
             ],
             [
              0.1111111111111111,
              "#46039f"
             ],
             [
              0.2222222222222222,
              "#7201a8"
             ],
             [
              0.3333333333333333,
              "#9c179e"
             ],
             [
              0.4444444444444444,
              "#bd3786"
             ],
             [
              0.5555555555555556,
              "#d8576b"
             ],
             [
              0.6666666666666666,
              "#ed7953"
             ],
             [
              0.7777777777777778,
              "#fb9f3a"
             ],
             [
              0.8888888888888888,
              "#fdca26"
             ],
             [
              1,
              "#f0f921"
             ]
            ],
            "type": "heatmapgl"
           }
          ],
          "histogram": [
           {
            "marker": {
             "pattern": {
              "fillmode": "overlay",
              "size": 10,
              "solidity": 0.2
             }
            },
            "type": "histogram"
           }
          ],
          "histogram2d": [
           {
            "colorbar": {
             "outlinewidth": 0,
             "ticks": ""
            },
            "colorscale": [
             [
              0,
              "#0d0887"
             ],
             [
              0.1111111111111111,
              "#46039f"
             ],
             [
              0.2222222222222222,
              "#7201a8"
             ],
             [
              0.3333333333333333,
              "#9c179e"
             ],
             [
              0.4444444444444444,
              "#bd3786"
             ],
             [
              0.5555555555555556,
              "#d8576b"
             ],
             [
              0.6666666666666666,
              "#ed7953"
             ],
             [
              0.7777777777777778,
              "#fb9f3a"
             ],
             [
              0.8888888888888888,
              "#fdca26"
             ],
             [
              1,
              "#f0f921"
             ]
            ],
            "type": "histogram2d"
           }
          ],
          "histogram2dcontour": [
           {
            "colorbar": {
             "outlinewidth": 0,
             "ticks": ""
            },
            "colorscale": [
             [
              0,
              "#0d0887"
             ],
             [
              0.1111111111111111,
              "#46039f"
             ],
             [
              0.2222222222222222,
              "#7201a8"
             ],
             [
              0.3333333333333333,
              "#9c179e"
             ],
             [
              0.4444444444444444,
              "#bd3786"
             ],
             [
              0.5555555555555556,
              "#d8576b"
             ],
             [
              0.6666666666666666,
              "#ed7953"
             ],
             [
              0.7777777777777778,
              "#fb9f3a"
             ],
             [
              0.8888888888888888,
              "#fdca26"
             ],
             [
              1,
              "#f0f921"
             ]
            ],
            "type": "histogram2dcontour"
           }
          ],
          "mesh3d": [
           {
            "colorbar": {
             "outlinewidth": 0,
             "ticks": ""
            },
            "type": "mesh3d"
           }
          ],
          "parcoords": [
           {
            "line": {
             "colorbar": {
              "outlinewidth": 0,
              "ticks": ""
             }
            },
            "type": "parcoords"
           }
          ],
          "pie": [
           {
            "automargin": true,
            "type": "pie"
           }
          ],
          "scatter": [
           {
            "fillpattern": {
             "fillmode": "overlay",
             "size": 10,
             "solidity": 0.2
            },
            "type": "scatter"
           }
          ],
          "scatter3d": [
           {
            "line": {
             "colorbar": {
              "outlinewidth": 0,
              "ticks": ""
             }
            },
            "marker": {
             "colorbar": {
              "outlinewidth": 0,
              "ticks": ""
             }
            },
            "type": "scatter3d"
           }
          ],
          "scattercarpet": [
           {
            "marker": {
             "colorbar": {
              "outlinewidth": 0,
              "ticks": ""
             }
            },
            "type": "scattercarpet"
           }
          ],
          "scattergeo": [
           {
            "marker": {
             "colorbar": {
              "outlinewidth": 0,
              "ticks": ""
             }
            },
            "type": "scattergeo"
           }
          ],
          "scattergl": [
           {
            "marker": {
             "colorbar": {
              "outlinewidth": 0,
              "ticks": ""
             }
            },
            "type": "scattergl"
           }
          ],
          "scattermapbox": [
           {
            "marker": {
             "colorbar": {
              "outlinewidth": 0,
              "ticks": ""
             }
            },
            "type": "scattermapbox"
           }
          ],
          "scatterpolar": [
           {
            "marker": {
             "colorbar": {
              "outlinewidth": 0,
              "ticks": ""
             }
            },
            "type": "scatterpolar"
           }
          ],
          "scatterpolargl": [
           {
            "marker": {
             "colorbar": {
              "outlinewidth": 0,
              "ticks": ""
             }
            },
            "type": "scatterpolargl"
           }
          ],
          "scatterternary": [
           {
            "marker": {
             "colorbar": {
              "outlinewidth": 0,
              "ticks": ""
             }
            },
            "type": "scatterternary"
           }
          ],
          "surface": [
           {
            "colorbar": {
             "outlinewidth": 0,
             "ticks": ""
            },
            "colorscale": [
             [
              0,
              "#0d0887"
             ],
             [
              0.1111111111111111,
              "#46039f"
             ],
             [
              0.2222222222222222,
              "#7201a8"
             ],
             [
              0.3333333333333333,
              "#9c179e"
             ],
             [
              0.4444444444444444,
              "#bd3786"
             ],
             [
              0.5555555555555556,
              "#d8576b"
             ],
             [
              0.6666666666666666,
              "#ed7953"
             ],
             [
              0.7777777777777778,
              "#fb9f3a"
             ],
             [
              0.8888888888888888,
              "#fdca26"
             ],
             [
              1,
              "#f0f921"
             ]
            ],
            "type": "surface"
           }
          ],
          "table": [
           {
            "cells": {
             "fill": {
              "color": "#EBF0F8"
             },
             "line": {
              "color": "white"
             }
            },
            "header": {
             "fill": {
              "color": "#C8D4E3"
             },
             "line": {
              "color": "white"
             }
            },
            "type": "table"
           }
          ]
         },
         "layout": {
          "annotationdefaults": {
           "arrowcolor": "#2a3f5f",
           "arrowhead": 0,
           "arrowwidth": 1
          },
          "autotypenumbers": "strict",
          "coloraxis": {
           "colorbar": {
            "outlinewidth": 0,
            "ticks": ""
           }
          },
          "colorscale": {
           "diverging": [
            [
             0,
             "#8e0152"
            ],
            [
             0.1,
             "#c51b7d"
            ],
            [
             0.2,
             "#de77ae"
            ],
            [
             0.3,
             "#f1b6da"
            ],
            [
             0.4,
             "#fde0ef"
            ],
            [
             0.5,
             "#f7f7f7"
            ],
            [
             0.6,
             "#e6f5d0"
            ],
            [
             0.7,
             "#b8e186"
            ],
            [
             0.8,
             "#7fbc41"
            ],
            [
             0.9,
             "#4d9221"
            ],
            [
             1,
             "#276419"
            ]
           ],
           "sequential": [
            [
             0,
             "#0d0887"
            ],
            [
             0.1111111111111111,
             "#46039f"
            ],
            [
             0.2222222222222222,
             "#7201a8"
            ],
            [
             0.3333333333333333,
             "#9c179e"
            ],
            [
             0.4444444444444444,
             "#bd3786"
            ],
            [
             0.5555555555555556,
             "#d8576b"
            ],
            [
             0.6666666666666666,
             "#ed7953"
            ],
            [
             0.7777777777777778,
             "#fb9f3a"
            ],
            [
             0.8888888888888888,
             "#fdca26"
            ],
            [
             1,
             "#f0f921"
            ]
           ],
           "sequentialminus": [
            [
             0,
             "#0d0887"
            ],
            [
             0.1111111111111111,
             "#46039f"
            ],
            [
             0.2222222222222222,
             "#7201a8"
            ],
            [
             0.3333333333333333,
             "#9c179e"
            ],
            [
             0.4444444444444444,
             "#bd3786"
            ],
            [
             0.5555555555555556,
             "#d8576b"
            ],
            [
             0.6666666666666666,
             "#ed7953"
            ],
            [
             0.7777777777777778,
             "#fb9f3a"
            ],
            [
             0.8888888888888888,
             "#fdca26"
            ],
            [
             1,
             "#f0f921"
            ]
           ]
          },
          "colorway": [
           "#636efa",
           "#EF553B",
           "#00cc96",
           "#ab63fa",
           "#FFA15A",
           "#19d3f3",
           "#FF6692",
           "#B6E880",
           "#FF97FF",
           "#FECB52"
          ],
          "font": {
           "color": "#2a3f5f"
          },
          "geo": {
           "bgcolor": "white",
           "lakecolor": "white",
           "landcolor": "#E5ECF6",
           "showlakes": true,
           "showland": true,
           "subunitcolor": "white"
          },
          "hoverlabel": {
           "align": "left"
          },
          "hovermode": "closest",
          "mapbox": {
           "style": "light"
          },
          "paper_bgcolor": "white",
          "plot_bgcolor": "#E5ECF6",
          "polar": {
           "angularaxis": {
            "gridcolor": "white",
            "linecolor": "white",
            "ticks": ""
           },
           "bgcolor": "#E5ECF6",
           "radialaxis": {
            "gridcolor": "white",
            "linecolor": "white",
            "ticks": ""
           }
          },
          "scene": {
           "xaxis": {
            "backgroundcolor": "#E5ECF6",
            "gridcolor": "white",
            "gridwidth": 2,
            "linecolor": "white",
            "showbackground": true,
            "ticks": "",
            "zerolinecolor": "white"
           },
           "yaxis": {
            "backgroundcolor": "#E5ECF6",
            "gridcolor": "white",
            "gridwidth": 2,
            "linecolor": "white",
            "showbackground": true,
            "ticks": "",
            "zerolinecolor": "white"
           },
           "zaxis": {
            "backgroundcolor": "#E5ECF6",
            "gridcolor": "white",
            "gridwidth": 2,
            "linecolor": "white",
            "showbackground": true,
            "ticks": "",
            "zerolinecolor": "white"
           }
          },
          "shapedefaults": {
           "line": {
            "color": "#2a3f5f"
           }
          },
          "ternary": {
           "aaxis": {
            "gridcolor": "white",
            "linecolor": "white",
            "ticks": ""
           },
           "baxis": {
            "gridcolor": "white",
            "linecolor": "white",
            "ticks": ""
           },
           "bgcolor": "#E5ECF6",
           "caxis": {
            "gridcolor": "white",
            "linecolor": "white",
            "ticks": ""
           }
          },
          "title": {
           "x": 0.05
          },
          "xaxis": {
           "automargin": true,
           "gridcolor": "white",
           "linecolor": "white",
           "ticks": "",
           "title": {
            "standoff": 15
           },
           "zerolinecolor": "white",
           "zerolinewidth": 2
          },
          "yaxis": {
           "automargin": true,
           "gridcolor": "white",
           "linecolor": "white",
           "ticks": "",
           "title": {
            "standoff": 15
           },
           "zerolinecolor": "white",
           "zerolinewidth": 2
          }
         }
        },
        "title": {
         "text": "Predictions vs True Values for Selected Stocks"
        },
        "updatemenus": [
         {
          "active": 7,
          "buttons": [
           {
            "args": [
             {
              "visible": [
               true,
               true,
               false,
               false,
               false,
               false,
               false,
               false,
               false,
               false,
               false,
               false,
               false,
               false
              ]
             },
             {
              "title": "META Predictions vs True Values"
             }
            ],
            "label": "META",
            "method": "update"
           },
           {
            "args": [
             {
              "visible": [
               false,
               false,
               true,
               true,
               false,
               false,
               false,
               false,
               false,
               false,
               false,
               false,
               false,
               false
              ]
             },
             {
              "title": "ADBE Predictions vs True Values"
             }
            ],
            "label": "ADBE",
            "method": "update"
           },
           {
            "args": [
             {
              "visible": [
               false,
               false,
               false,
               false,
               true,
               true,
               false,
               false,
               false,
               false,
               false,
               false,
               false,
               false
              ]
             },
             {
              "title": "MA Predictions vs True Values"
             }
            ],
            "label": "MA",
            "method": "update"
           },
           {
            "args": [
             {
              "visible": [
               false,
               false,
               false,
               false,
               false,
               false,
               true,
               true,
               false,
               false,
               false,
               false,
               false,
               false
              ]
             },
             {
              "title": "GS Predictions vs True Values"
             }
            ],
            "label": "GS",
            "method": "update"
           },
           {
            "args": [
             {
              "visible": [
               false,
               false,
               false,
               false,
               false,
               false,
               false,
               false,
               true,
               true,
               false,
               false,
               false,
               false
              ]
             },
             {
              "title": "NFLX Predictions vs True Values"
             }
            ],
            "label": "NFLX",
            "method": "update"
           },
           {
            "args": [
             {
              "visible": [
               false,
               false,
               false,
               false,
               false,
               false,
               false,
               false,
               false,
               false,
               true,
               true,
               false,
               false
              ]
             },
             {
              "title": "LMT Predictions vs True Values"
             }
            ],
            "label": "LMT",
            "method": "update"
           },
           {
            "args": [
             {
              "visible": [
               false,
               false,
               false,
               false,
               false,
               false,
               false,
               false,
               false,
               false,
               false,
               false,
               true,
               true
              ]
             },
             {
              "title": "MCD Predictions vs True Values"
             }
            ],
            "label": "MCD",
            "method": "update"
           },
           {
            "args": [
             {
              "visible": [
               true,
               true,
               true,
               true,
               true,
               true,
               true,
               true,
               true,
               true,
               true,
               true,
               true,
               true
              ]
             },
             {
              "title": "All Stocks Predictions vs True Values"
             }
            ],
            "label": "All",
            "method": "update"
           }
          ],
          "direction": "down",
          "showactive": true
         }
        ],
        "xaxis": {
         "gridcolor": "lightgray",
         "gridwidth": 1,
         "title": {
          "text": "Date"
         }
        },
        "yaxis": {
         "gridcolor": "lightgray",
         "gridwidth": 1,
         "title": {
          "text": "Value"
         }
        }
       }
      },
      "text/html": [
       "<div>                            <div id=\"4f098a86-f022-4a88-9c63-2ec308c0b0ca\" class=\"plotly-graph-div\" style=\"height:525px; width:100%;\"></div>            <script type=\"text/javascript\">                require([\"plotly\"], function(Plotly) {                    window.PLOTLYENV=window.PLOTLYENV || {};                                    if (document.getElementById(\"4f098a86-f022-4a88-9c63-2ec308c0b0ca\")) {                    Plotly.newPlot(                        \"4f098a86-f022-4a88-9c63-2ec308c0b0ca\",                        [{\"line\":{\"color\":\"hsl(281, 98.99617164029127%, 63.17167440640314%)\"},\"mode\":\"lines\",\"name\":\"META True Values\",\"x\":[\"2023-11-15T00:00:00\",\"2023-11-16T00:00:00\",\"2023-11-17T00:00:00\",\"2023-11-20T00:00:00\",\"2023-11-21T00:00:00\",\"2023-11-22T00:00:00\",\"2023-11-24T00:00:00\",\"2023-11-27T00:00:00\",\"2023-11-28T00:00:00\",\"2023-11-29T00:00:00\",\"2023-11-30T00:00:00\",\"2023-12-01T00:00:00\",\"2023-12-04T00:00:00\",\"2023-12-05T00:00:00\",\"2023-12-06T00:00:00\",\"2023-12-07T00:00:00\",\"2023-12-08T00:00:00\",\"2023-12-11T00:00:00\",\"2023-12-12T00:00:00\",\"2023-12-13T00:00:00\",\"2023-12-14T00:00:00\",\"2023-12-15T00:00:00\",\"2023-12-18T00:00:00\",\"2023-12-19T00:00:00\",\"2023-12-20T00:00:00\",\"2023-12-21T00:00:00\",\"2023-12-22T00:00:00\",\"2023-12-26T00:00:00\",\"2023-12-27T00:00:00\",\"2023-12-28T00:00:00\",\"2023-12-29T00:00:00\"],\"y\":[332.7099914550781,334.19000244140625,335.0400085449219,339.9700012207031,336.9800109863281,341.489990234375,338.2300109863281,334.70001220703125,338.989990234375,332.20001220703125,327.1499938964844,324.82000732421875,320.0199890136719,318.2900085449219,317.45001220703125,326.5899963378906,332.75,325.2799987792969,334.2200012207031,334.739990234375,333.1700134277344,334.9200134277344,344.6199951171875,350.3599853515625,349.2799987792969,354.0899963378906,353.3900146484375,354.8299865722656,357.8299865722656,358.32000732421875,353.9599914550781],\"type\":\"scatter\"},{\"line\":{\"color\":\"hsl(281, 98.99617164029127%, 63.17167440640314%)\",\"dash\":\"dash\"},\"mode\":\"lines\",\"name\":\"META Predictions\",\"x\":[\"2023-12-15\",\"2023-12-18\",\"2023-12-19\",\"2023-12-20\",\"2023-12-21\",\"2023-12-22\",\"2023-12-26\",\"2023-12-27\",\"2023-12-28\"],\"y\":[306.5460510253906,303.1202697753906,305.65875244140625,306.9281311035156,309.3328552246094,308.7178039550781,309.8272399902344,314.104248046875,314.94635009765625],\"type\":\"scatter\"},{\"line\":{\"color\":\"hsl(25, 70.39152612191467%, 61.726810451215655%)\"},\"mode\":\"lines\",\"name\":\"ADBE True Values\",\"x\":[\"2023-11-15T00:00:00\",\"2023-11-16T00:00:00\",\"2023-11-17T00:00:00\",\"2023-11-20T00:00:00\",\"2023-11-21T00:00:00\",\"2023-11-22T00:00:00\",\"2023-11-24T00:00:00\",\"2023-11-27T00:00:00\",\"2023-11-28T00:00:00\",\"2023-11-29T00:00:00\",\"2023-11-30T00:00:00\",\"2023-12-01T00:00:00\",\"2023-12-04T00:00:00\",\"2023-12-05T00:00:00\",\"2023-12-06T00:00:00\",\"2023-12-07T00:00:00\",\"2023-12-08T00:00:00\",\"2023-12-11T00:00:00\",\"2023-12-12T00:00:00\",\"2023-12-13T00:00:00\",\"2023-12-14T00:00:00\",\"2023-12-15T00:00:00\",\"2023-12-18T00:00:00\",\"2023-12-19T00:00:00\",\"2023-12-20T00:00:00\",\"2023-12-21T00:00:00\",\"2023-12-22T00:00:00\",\"2023-12-26T00:00:00\",\"2023-12-27T00:00:00\",\"2023-12-28T00:00:00\",\"2023-12-29T00:00:00\"],\"y\":[595.3099975585938,602.0599975585938,602.6599731445312,612.7000122070312,610.989990234375,619.719970703125,619.4299926757812,619.27001953125,623.3200073242188,617.3900146484375,611.010009765625,612.469970703125,604.5599975585938,602.219970703125,595.7000122070312,608.780029296875,610.010009765625,625.2000122070312,633.6599731445312,624.260009765625,584.6400146484375,584.6799926757812,599.1300048828125,604.6400146484375,596.0599975585938,600.1400146484375,598.75,598.260009765625,596.0800170898438,595.52001953125,596.5999755859375],\"type\":\"scatter\"},{\"line\":{\"color\":\"hsl(25, 70.39152612191467%, 61.726810451215655%)\",\"dash\":\"dash\"},\"mode\":\"lines\",\"name\":\"ADBE Predictions\",\"x\":[\"2023-12-15\",\"2023-12-18\",\"2023-12-19\",\"2023-12-20\",\"2023-12-21\",\"2023-12-22\",\"2023-12-26\",\"2023-12-27\",\"2023-12-28\"],\"y\":[557.619873046875,556.8392944335938,556.0986328125,552.6427001953125,553.7796630859375,552.3759765625,550.7181396484375,547.8931274414062,546.465576171875],\"type\":\"scatter\"},{\"line\":{\"color\":\"hsl(230, 98.7760074988849%, 60.81941596311302%)\"},\"mode\":\"lines\",\"name\":\"MA True Values\",\"x\":[\"2023-11-15T00:00:00\",\"2023-11-16T00:00:00\",\"2023-11-17T00:00:00\",\"2023-11-20T00:00:00\",\"2023-11-21T00:00:00\",\"2023-11-22T00:00:00\",\"2023-11-24T00:00:00\",\"2023-11-27T00:00:00\",\"2023-11-28T00:00:00\",\"2023-11-29T00:00:00\",\"2023-11-30T00:00:00\",\"2023-12-01T00:00:00\",\"2023-12-04T00:00:00\",\"2023-12-05T00:00:00\",\"2023-12-06T00:00:00\",\"2023-12-07T00:00:00\",\"2023-12-08T00:00:00\",\"2023-12-11T00:00:00\",\"2023-12-12T00:00:00\",\"2023-12-13T00:00:00\",\"2023-12-14T00:00:00\",\"2023-12-15T00:00:00\",\"2023-12-18T00:00:00\",\"2023-12-19T00:00:00\",\"2023-12-20T00:00:00\",\"2023-12-21T00:00:00\",\"2023-12-22T00:00:00\",\"2023-12-26T00:00:00\",\"2023-12-27T00:00:00\",\"2023-12-28T00:00:00\",\"2023-12-29T00:00:00\"],\"y\":[396.8299865722656,397.1000061035156,400.29998779296875,404.3999938964844,408.95001220703125,410.3299865722656,412.5,408.9700012207031,409.010009765625,409.82000732421875,413.8299865722656,414.3599853515625,408.2300109863281,408.69000244140625,410.3800048828125,413.1499938964844,412.1600036621094,415.7099914550781,420.75,424.67999267578125,418.55999755859375,418.57000732421875,424.42999267578125,425.4700012207031,419.45001220703125,423.44000244140625,424.1000061035156,423.6700134277344,424.3599853515625,426.32000732421875,426.510009765625],\"type\":\"scatter\"},{\"line\":{\"color\":\"hsl(230, 98.7760074988849%, 60.81941596311302%)\",\"dash\":\"dash\"},\"mode\":\"lines\",\"name\":\"MA Predictions\",\"x\":[\"2023-12-15\",\"2023-12-18\",\"2023-12-19\",\"2023-12-20\",\"2023-12-21\",\"2023-12-22\",\"2023-12-26\",\"2023-12-27\",\"2023-12-28\"],\"y\":[398.0412292480469,398.41314697265625,399.4419860839844,399.27825927734375,400.1919250488281,400.91326904296875,400.9620666503906,401.29339599609375,402.0763854980469],\"type\":\"scatter\"},{\"line\":{\"color\":\"hsl(234, 99.0983192528544%, 56.391193470080104%)\"},\"mode\":\"lines\",\"name\":\"GS True Values\",\"x\":[\"2023-11-15T00:00:00\",\"2023-11-16T00:00:00\",\"2023-11-17T00:00:00\",\"2023-11-20T00:00:00\",\"2023-11-21T00:00:00\",\"2023-11-22T00:00:00\",\"2023-11-24T00:00:00\",\"2023-11-27T00:00:00\",\"2023-11-28T00:00:00\",\"2023-11-29T00:00:00\",\"2023-11-30T00:00:00\",\"2023-12-01T00:00:00\",\"2023-12-04T00:00:00\",\"2023-12-05T00:00:00\",\"2023-12-06T00:00:00\",\"2023-12-07T00:00:00\",\"2023-12-08T00:00:00\",\"2023-12-11T00:00:00\",\"2023-12-12T00:00:00\",\"2023-12-13T00:00:00\",\"2023-12-14T00:00:00\",\"2023-12-15T00:00:00\",\"2023-12-18T00:00:00\",\"2023-12-19T00:00:00\",\"2023-12-20T00:00:00\",\"2023-12-21T00:00:00\",\"2023-12-22T00:00:00\",\"2023-12-26T00:00:00\",\"2023-12-27T00:00:00\",\"2023-12-28T00:00:00\",\"2023-12-29T00:00:00\"],\"y\":[337.6000061035156,336.6700134277344,339.19000244140625,339.45001220703125,334.9700012207031,338.6400146484375,339.1499938964844,337.7099914550781,337.6499938964844,340.260009765625,341.5400085449219,348.42999267578125,349.3900146484375,341.75,341.9700012207031,344.6199951171875,350.8299865722656,351.760009765625,352.6099853515625,362.7300109863281,383.4700012207031,380.510009765625,376.3999938964844,382.45001220703125,377.5199890136719,380.57000732421875,380.6499938964844,381.6099853515625,384.4800109863281,386.4100036621094,385.7699890136719],\"type\":\"scatter\"},{\"line\":{\"color\":\"hsl(234, 99.0983192528544%, 56.391193470080104%)\",\"dash\":\"dash\"},\"mode\":\"lines\",\"name\":\"GS Predictions\",\"x\":[\"2023-12-15\",\"2023-12-18\",\"2023-12-19\",\"2023-12-20\",\"2023-12-21\",\"2023-12-22\",\"2023-12-26\",\"2023-12-27\",\"2023-12-28\"],\"y\":[361.3177795410156,361.8061218261719,365.7807922363281,367.3349914550781,369.5223693847656,371.4447326660156,373.1112365722656,375.96295166015625,377.83148193359375],\"type\":\"scatter\"},{\"line\":{\"color\":\"hsl(278, 77.60997816572096%, 58.30547931705533%)\"},\"mode\":\"lines\",\"name\":\"NFLX True Values\",\"x\":[\"2023-11-15T00:00:00\",\"2023-11-16T00:00:00\",\"2023-11-17T00:00:00\",\"2023-11-20T00:00:00\",\"2023-11-21T00:00:00\",\"2023-11-22T00:00:00\",\"2023-11-24T00:00:00\",\"2023-11-27T00:00:00\",\"2023-11-28T00:00:00\",\"2023-11-29T00:00:00\",\"2023-11-30T00:00:00\",\"2023-12-01T00:00:00\",\"2023-12-04T00:00:00\",\"2023-12-05T00:00:00\",\"2023-12-06T00:00:00\",\"2023-12-07T00:00:00\",\"2023-12-08T00:00:00\",\"2023-12-11T00:00:00\",\"2023-12-12T00:00:00\",\"2023-12-13T00:00:00\",\"2023-12-14T00:00:00\",\"2023-12-15T00:00:00\",\"2023-12-18T00:00:00\",\"2023-12-19T00:00:00\",\"2023-12-20T00:00:00\",\"2023-12-21T00:00:00\",\"2023-12-22T00:00:00\",\"2023-12-26T00:00:00\",\"2023-12-27T00:00:00\",\"2023-12-28T00:00:00\",\"2023-12-29T00:00:00\"],\"y\":[461.94000244140625,466.95001220703125,465.9100036621094,474.4700012207031,474.95001220703125,478.0,479.55999755859375,479.1700134277344,479.0,477.19000244140625,473.9700012207031,465.739990234375,453.8999938964844,455.1499938964844,446.7300109863281,452.0,453.760009765625,459.8900146484375,463.0,479.9800109863281,469.8299865722656,472.05999755859375,486.1199951171875,495.0199890136719,489.2699890136719,491.6099853515625,486.760009765625,491.19000244140625,491.7900085449219,490.510009765625,486.8800048828125],\"type\":\"scatter\"},{\"line\":{\"color\":\"hsl(278, 77.60997816572096%, 58.30547931705533%)\",\"dash\":\"dash\"},\"mode\":\"lines\",\"name\":\"NFLX Predictions\",\"x\":[\"2023-12-15\",\"2023-12-18\",\"2023-12-19\",\"2023-12-20\",\"2023-12-21\",\"2023-12-22\",\"2023-12-26\",\"2023-12-27\",\"2023-12-28\"],\"y\":[471.0022277832031,475.1975402832031,478.3806457519531,480.6172180175781,482.88568115234375,484.4594421386719,486.8113708496094,488.8592834472656,488.7320251464844],\"type\":\"scatter\"},{\"line\":{\"color\":\"hsl(12, 77.89344724773063%, 61.74565510313247%)\"},\"mode\":\"lines\",\"name\":\"LMT True Values\",\"x\":[\"2023-11-15T00:00:00\",\"2023-11-16T00:00:00\",\"2023-11-17T00:00:00\",\"2023-11-20T00:00:00\",\"2023-11-21T00:00:00\",\"2023-11-22T00:00:00\",\"2023-11-24T00:00:00\",\"2023-11-27T00:00:00\",\"2023-11-28T00:00:00\",\"2023-11-29T00:00:00\",\"2023-11-30T00:00:00\",\"2023-12-01T00:00:00\",\"2023-12-04T00:00:00\",\"2023-12-05T00:00:00\",\"2023-12-06T00:00:00\",\"2023-12-07T00:00:00\",\"2023-12-08T00:00:00\",\"2023-12-11T00:00:00\",\"2023-12-12T00:00:00\",\"2023-12-13T00:00:00\",\"2023-12-14T00:00:00\",\"2023-12-15T00:00:00\",\"2023-12-18T00:00:00\",\"2023-12-19T00:00:00\",\"2023-12-20T00:00:00\",\"2023-12-21T00:00:00\",\"2023-12-22T00:00:00\",\"2023-12-26T00:00:00\",\"2023-12-27T00:00:00\",\"2023-12-28T00:00:00\",\"2023-12-29T00:00:00\"],\"y\":[445.1400146484375,445.5899963378906,444.67999267578125,443.80999755859375,448.1499938964844,450.3999938964844,452.010009765625,445.489990234375,448.2699890136719,445.010009765625,447.7699890136719,449.4100036621094,450.69000244140625,446.239990234375,449.4100036621094,447.1099853515625,448.0199890136719,451.260009765625,451.6300048828125,451.44000244140625,445.2699890136719,441.80999755859375,446.9100036621094,447.7900085449219,442.6000061035156,448.0199890136719,448.2200012207031,450.17999267578125,448.9700012207031,451.2300109863281,453.239990234375],\"type\":\"scatter\"},{\"line\":{\"color\":\"hsl(12, 77.89344724773063%, 61.74565510313247%)\",\"dash\":\"dash\"},\"mode\":\"lines\",\"name\":\"LMT Predictions\",\"x\":[\"2023-12-15\",\"2023-12-18\",\"2023-12-19\",\"2023-12-20\",\"2023-12-21\",\"2023-12-22\",\"2023-12-26\",\"2023-12-27\",\"2023-12-28\"],\"y\":[466.71246337890625,465.4334411621094,465.218994140625,464.0083312988281,464.66302490234375,464.9200744628906,465.2455139160156,465.0499572753906,465.7554016113281],\"type\":\"scatter\"},{\"line\":{\"color\":\"hsl(231, 79.41542807107136%, 66.38879092118002%)\"},\"mode\":\"lines\",\"name\":\"MCD True Values\",\"x\":[\"2023-11-15T00:00:00\",\"2023-11-16T00:00:00\",\"2023-11-17T00:00:00\",\"2023-11-20T00:00:00\",\"2023-11-21T00:00:00\",\"2023-11-22T00:00:00\",\"2023-11-24T00:00:00\",\"2023-11-27T00:00:00\",\"2023-11-28T00:00:00\",\"2023-11-29T00:00:00\",\"2023-11-30T00:00:00\",\"2023-12-01T00:00:00\",\"2023-12-04T00:00:00\",\"2023-12-05T00:00:00\",\"2023-12-06T00:00:00\",\"2023-12-07T00:00:00\",\"2023-12-08T00:00:00\",\"2023-12-11T00:00:00\",\"2023-12-12T00:00:00\",\"2023-12-13T00:00:00\",\"2023-12-14T00:00:00\",\"2023-12-15T00:00:00\",\"2023-12-18T00:00:00\",\"2023-12-19T00:00:00\",\"2023-12-20T00:00:00\",\"2023-12-21T00:00:00\",\"2023-12-22T00:00:00\",\"2023-12-26T00:00:00\",\"2023-12-27T00:00:00\",\"2023-12-28T00:00:00\",\"2023-12-29T00:00:00\"],\"y\":[270.3900146484375,276.1199951171875,275.75,279.0299987792969,280.4700012207031,281.92999267578125,282.5400085449219,281.8399963378906,282.0899963378906,280.3800048828125,281.8399963378906,285.9599914550781,286.1300048828125,286.5400085449219,286.8599853515625,286.7900085449219,285.5299987792969,289.1499938964844,291.4200134277344,295.92999267578125,290.0199890136719,287.2699890136719,290.2300109863281,290.7300109863281,288.989990234375,291.3900146484375,291.70001220703125,292.8599853515625,294.54998779296875,295.8399963378906,296.510009765625],\"type\":\"scatter\"},{\"line\":{\"color\":\"hsl(231, 79.41542807107136%, 66.38879092118002%)\",\"dash\":\"dash\"},\"mode\":\"lines\",\"name\":\"MCD Predictions\",\"x\":[\"2023-12-15\",\"2023-12-18\",\"2023-12-19\",\"2023-12-20\",\"2023-12-21\",\"2023-12-22\",\"2023-12-26\",\"2023-12-27\",\"2023-12-28\"],\"y\":[336.725341796875,335.0237121582031,335.04632568359375,334.8549499511719,335.5316162109375,335.7066955566406,336.0034484863281,336.9322814941406,337.39678955078125],\"type\":\"scatter\"}],                        {\"template\":{\"data\":{\"histogram2dcontour\":[{\"type\":\"histogram2dcontour\",\"colorbar\":{\"outlinewidth\":0,\"ticks\":\"\"},\"colorscale\":[[0.0,\"#0d0887\"],[0.1111111111111111,\"#46039f\"],[0.2222222222222222,\"#7201a8\"],[0.3333333333333333,\"#9c179e\"],[0.4444444444444444,\"#bd3786\"],[0.5555555555555556,\"#d8576b\"],[0.6666666666666666,\"#ed7953\"],[0.7777777777777778,\"#fb9f3a\"],[0.8888888888888888,\"#fdca26\"],[1.0,\"#f0f921\"]]}],\"choropleth\":[{\"type\":\"choropleth\",\"colorbar\":{\"outlinewidth\":0,\"ticks\":\"\"}}],\"histogram2d\":[{\"type\":\"histogram2d\",\"colorbar\":{\"outlinewidth\":0,\"ticks\":\"\"},\"colorscale\":[[0.0,\"#0d0887\"],[0.1111111111111111,\"#46039f\"],[0.2222222222222222,\"#7201a8\"],[0.3333333333333333,\"#9c179e\"],[0.4444444444444444,\"#bd3786\"],[0.5555555555555556,\"#d8576b\"],[0.6666666666666666,\"#ed7953\"],[0.7777777777777778,\"#fb9f3a\"],[0.8888888888888888,\"#fdca26\"],[1.0,\"#f0f921\"]]}],\"heatmap\":[{\"type\":\"heatmap\",\"colorbar\":{\"outlinewidth\":0,\"ticks\":\"\"},\"colorscale\":[[0.0,\"#0d0887\"],[0.1111111111111111,\"#46039f\"],[0.2222222222222222,\"#7201a8\"],[0.3333333333333333,\"#9c179e\"],[0.4444444444444444,\"#bd3786\"],[0.5555555555555556,\"#d8576b\"],[0.6666666666666666,\"#ed7953\"],[0.7777777777777778,\"#fb9f3a\"],[0.8888888888888888,\"#fdca26\"],[1.0,\"#f0f921\"]]}],\"heatmapgl\":[{\"type\":\"heatmapgl\",\"colorbar\":{\"outlinewidth\":0,\"ticks\":\"\"},\"colorscale\":[[0.0,\"#0d0887\"],[0.1111111111111111,\"#46039f\"],[0.2222222222222222,\"#7201a8\"],[0.3333333333333333,\"#9c179e\"],[0.4444444444444444,\"#bd3786\"],[0.5555555555555556,\"#d8576b\"],[0.6666666666666666,\"#ed7953\"],[0.7777777777777778,\"#fb9f3a\"],[0.8888888888888888,\"#fdca26\"],[1.0,\"#f0f921\"]]}],\"contourcarpet\":[{\"type\":\"contourcarpet\",\"colorbar\":{\"outlinewidth\":0,\"ticks\":\"\"}}],\"contour\":[{\"type\":\"contour\",\"colorbar\":{\"outlinewidth\":0,\"ticks\":\"\"},\"colorscale\":[[0.0,\"#0d0887\"],[0.1111111111111111,\"#46039f\"],[0.2222222222222222,\"#7201a8\"],[0.3333333333333333,\"#9c179e\"],[0.4444444444444444,\"#bd3786\"],[0.5555555555555556,\"#d8576b\"],[0.6666666666666666,\"#ed7953\"],[0.7777777777777778,\"#fb9f3a\"],[0.8888888888888888,\"#fdca26\"],[1.0,\"#f0f921\"]]}],\"surface\":[{\"type\":\"surface\",\"colorbar\":{\"outlinewidth\":0,\"ticks\":\"\"},\"colorscale\":[[0.0,\"#0d0887\"],[0.1111111111111111,\"#46039f\"],[0.2222222222222222,\"#7201a8\"],[0.3333333333333333,\"#9c179e\"],[0.4444444444444444,\"#bd3786\"],[0.5555555555555556,\"#d8576b\"],[0.6666666666666666,\"#ed7953\"],[0.7777777777777778,\"#fb9f3a\"],[0.8888888888888888,\"#fdca26\"],[1.0,\"#f0f921\"]]}],\"mesh3d\":[{\"type\":\"mesh3d\",\"colorbar\":{\"outlinewidth\":0,\"ticks\":\"\"}}],\"scatter\":[{\"fillpattern\":{\"fillmode\":\"overlay\",\"size\":10,\"solidity\":0.2},\"type\":\"scatter\"}],\"parcoords\":[{\"type\":\"parcoords\",\"line\":{\"colorbar\":{\"outlinewidth\":0,\"ticks\":\"\"}}}],\"scatterpolargl\":[{\"type\":\"scatterpolargl\",\"marker\":{\"colorbar\":{\"outlinewidth\":0,\"ticks\":\"\"}}}],\"bar\":[{\"error_x\":{\"color\":\"#2a3f5f\"},\"error_y\":{\"color\":\"#2a3f5f\"},\"marker\":{\"line\":{\"color\":\"#E5ECF6\",\"width\":0.5},\"pattern\":{\"fillmode\":\"overlay\",\"size\":10,\"solidity\":0.2}},\"type\":\"bar\"}],\"scattergeo\":[{\"type\":\"scattergeo\",\"marker\":{\"colorbar\":{\"outlinewidth\":0,\"ticks\":\"\"}}}],\"scatterpolar\":[{\"type\":\"scatterpolar\",\"marker\":{\"colorbar\":{\"outlinewidth\":0,\"ticks\":\"\"}}}],\"histogram\":[{\"marker\":{\"pattern\":{\"fillmode\":\"overlay\",\"size\":10,\"solidity\":0.2}},\"type\":\"histogram\"}],\"scattergl\":[{\"type\":\"scattergl\",\"marker\":{\"colorbar\":{\"outlinewidth\":0,\"ticks\":\"\"}}}],\"scatter3d\":[{\"type\":\"scatter3d\",\"line\":{\"colorbar\":{\"outlinewidth\":0,\"ticks\":\"\"}},\"marker\":{\"colorbar\":{\"outlinewidth\":0,\"ticks\":\"\"}}}],\"scattermapbox\":[{\"type\":\"scattermapbox\",\"marker\":{\"colorbar\":{\"outlinewidth\":0,\"ticks\":\"\"}}}],\"scatterternary\":[{\"type\":\"scatterternary\",\"marker\":{\"colorbar\":{\"outlinewidth\":0,\"ticks\":\"\"}}}],\"scattercarpet\":[{\"type\":\"scattercarpet\",\"marker\":{\"colorbar\":{\"outlinewidth\":0,\"ticks\":\"\"}}}],\"carpet\":[{\"aaxis\":{\"endlinecolor\":\"#2a3f5f\",\"gridcolor\":\"white\",\"linecolor\":\"white\",\"minorgridcolor\":\"white\",\"startlinecolor\":\"#2a3f5f\"},\"baxis\":{\"endlinecolor\":\"#2a3f5f\",\"gridcolor\":\"white\",\"linecolor\":\"white\",\"minorgridcolor\":\"white\",\"startlinecolor\":\"#2a3f5f\"},\"type\":\"carpet\"}],\"table\":[{\"cells\":{\"fill\":{\"color\":\"#EBF0F8\"},\"line\":{\"color\":\"white\"}},\"header\":{\"fill\":{\"color\":\"#C8D4E3\"},\"line\":{\"color\":\"white\"}},\"type\":\"table\"}],\"barpolar\":[{\"marker\":{\"line\":{\"color\":\"#E5ECF6\",\"width\":0.5},\"pattern\":{\"fillmode\":\"overlay\",\"size\":10,\"solidity\":0.2}},\"type\":\"barpolar\"}],\"pie\":[{\"automargin\":true,\"type\":\"pie\"}]},\"layout\":{\"autotypenumbers\":\"strict\",\"colorway\":[\"#636efa\",\"#EF553B\",\"#00cc96\",\"#ab63fa\",\"#FFA15A\",\"#19d3f3\",\"#FF6692\",\"#B6E880\",\"#FF97FF\",\"#FECB52\"],\"font\":{\"color\":\"#2a3f5f\"},\"hovermode\":\"closest\",\"hoverlabel\":{\"align\":\"left\"},\"paper_bgcolor\":\"white\",\"plot_bgcolor\":\"#E5ECF6\",\"polar\":{\"bgcolor\":\"#E5ECF6\",\"angularaxis\":{\"gridcolor\":\"white\",\"linecolor\":\"white\",\"ticks\":\"\"},\"radialaxis\":{\"gridcolor\":\"white\",\"linecolor\":\"white\",\"ticks\":\"\"}},\"ternary\":{\"bgcolor\":\"#E5ECF6\",\"aaxis\":{\"gridcolor\":\"white\",\"linecolor\":\"white\",\"ticks\":\"\"},\"baxis\":{\"gridcolor\":\"white\",\"linecolor\":\"white\",\"ticks\":\"\"},\"caxis\":{\"gridcolor\":\"white\",\"linecolor\":\"white\",\"ticks\":\"\"}},\"coloraxis\":{\"colorbar\":{\"outlinewidth\":0,\"ticks\":\"\"}},\"colorscale\":{\"sequential\":[[0.0,\"#0d0887\"],[0.1111111111111111,\"#46039f\"],[0.2222222222222222,\"#7201a8\"],[0.3333333333333333,\"#9c179e\"],[0.4444444444444444,\"#bd3786\"],[0.5555555555555556,\"#d8576b\"],[0.6666666666666666,\"#ed7953\"],[0.7777777777777778,\"#fb9f3a\"],[0.8888888888888888,\"#fdca26\"],[1.0,\"#f0f921\"]],\"sequentialminus\":[[0.0,\"#0d0887\"],[0.1111111111111111,\"#46039f\"],[0.2222222222222222,\"#7201a8\"],[0.3333333333333333,\"#9c179e\"],[0.4444444444444444,\"#bd3786\"],[0.5555555555555556,\"#d8576b\"],[0.6666666666666666,\"#ed7953\"],[0.7777777777777778,\"#fb9f3a\"],[0.8888888888888888,\"#fdca26\"],[1.0,\"#f0f921\"]],\"diverging\":[[0,\"#8e0152\"],[0.1,\"#c51b7d\"],[0.2,\"#de77ae\"],[0.3,\"#f1b6da\"],[0.4,\"#fde0ef\"],[0.5,\"#f7f7f7\"],[0.6,\"#e6f5d0\"],[0.7,\"#b8e186\"],[0.8,\"#7fbc41\"],[0.9,\"#4d9221\"],[1,\"#276419\"]]},\"xaxis\":{\"gridcolor\":\"white\",\"linecolor\":\"white\",\"ticks\":\"\",\"title\":{\"standoff\":15},\"zerolinecolor\":\"white\",\"automargin\":true,\"zerolinewidth\":2},\"yaxis\":{\"gridcolor\":\"white\",\"linecolor\":\"white\",\"ticks\":\"\",\"title\":{\"standoff\":15},\"zerolinecolor\":\"white\",\"automargin\":true,\"zerolinewidth\":2},\"scene\":{\"xaxis\":{\"backgroundcolor\":\"#E5ECF6\",\"gridcolor\":\"white\",\"linecolor\":\"white\",\"showbackground\":true,\"ticks\":\"\",\"zerolinecolor\":\"white\",\"gridwidth\":2},\"yaxis\":{\"backgroundcolor\":\"#E5ECF6\",\"gridcolor\":\"white\",\"linecolor\":\"white\",\"showbackground\":true,\"ticks\":\"\",\"zerolinecolor\":\"white\",\"gridwidth\":2},\"zaxis\":{\"backgroundcolor\":\"#E5ECF6\",\"gridcolor\":\"white\",\"linecolor\":\"white\",\"showbackground\":true,\"ticks\":\"\",\"zerolinecolor\":\"white\",\"gridwidth\":2}},\"shapedefaults\":{\"line\":{\"color\":\"#2a3f5f\"}},\"annotationdefaults\":{\"arrowcolor\":\"#2a3f5f\",\"arrowhead\":0,\"arrowwidth\":1},\"geo\":{\"bgcolor\":\"white\",\"landcolor\":\"#E5ECF6\",\"subunitcolor\":\"white\",\"showland\":true,\"showlakes\":true,\"lakecolor\":\"white\"},\"title\":{\"x\":0.05},\"mapbox\":{\"style\":\"light\"}}},\"xaxis\":{\"title\":{\"text\":\"Date\"},\"gridcolor\":\"lightgray\",\"gridwidth\":1},\"yaxis\":{\"title\":{\"text\":\"Value\"},\"gridcolor\":\"lightgray\",\"gridwidth\":1},\"title\":{\"text\":\"Predictions vs True Values for Selected Stocks\"},\"legend\":{\"title\":{\"text\":\"Legend\"}},\"showlegend\":true,\"updatemenus\":[{\"active\":7,\"buttons\":[{\"args\":[{\"visible\":[true,true,false,false,false,false,false,false,false,false,false,false,false,false]},{\"title\":\"META Predictions vs True Values\"}],\"label\":\"META\",\"method\":\"update\"},{\"args\":[{\"visible\":[false,false,true,true,false,false,false,false,false,false,false,false,false,false]},{\"title\":\"ADBE Predictions vs True Values\"}],\"label\":\"ADBE\",\"method\":\"update\"},{\"args\":[{\"visible\":[false,false,false,false,true,true,false,false,false,false,false,false,false,false]},{\"title\":\"MA Predictions vs True Values\"}],\"label\":\"MA\",\"method\":\"update\"},{\"args\":[{\"visible\":[false,false,false,false,false,false,true,true,false,false,false,false,false,false]},{\"title\":\"GS Predictions vs True Values\"}],\"label\":\"GS\",\"method\":\"update\"},{\"args\":[{\"visible\":[false,false,false,false,false,false,false,false,true,true,false,false,false,false]},{\"title\":\"NFLX Predictions vs True Values\"}],\"label\":\"NFLX\",\"method\":\"update\"},{\"args\":[{\"visible\":[false,false,false,false,false,false,false,false,false,false,true,true,false,false]},{\"title\":\"LMT Predictions vs True Values\"}],\"label\":\"LMT\",\"method\":\"update\"},{\"args\":[{\"visible\":[false,false,false,false,false,false,false,false,false,false,false,false,true,true]},{\"title\":\"MCD Predictions vs True Values\"}],\"label\":\"MCD\",\"method\":\"update\"},{\"args\":[{\"visible\":[true,true,true,true,true,true,true,true,true,true,true,true,true,true]},{\"title\":\"All Stocks Predictions vs True Values\"}],\"label\":\"All\",\"method\":\"update\"}],\"direction\":\"down\",\"showactive\":true}],\"plot_bgcolor\":\"white\",\"paper_bgcolor\":\"white\"},                        {\"responsive\": true}                    ).then(function(){\n",
       "                            \n",
       "var gd = document.getElementById('4f098a86-f022-4a88-9c63-2ec308c0b0ca');\n",
       "var x = new MutationObserver(function (mutations, observer) {{\n",
       "        var display = window.getComputedStyle(gd).display;\n",
       "        if (!display || display === 'none') {{\n",
       "            console.log([gd, 'removed!']);\n",
       "            Plotly.purge(gd);\n",
       "            observer.disconnect();\n",
       "        }}\n",
       "}});\n",
       "\n",
       "// Listen for the removal of the full notebook cells\n",
       "var notebookContainer = gd.closest('#notebook-container');\n",
       "if (notebookContainer) {{\n",
       "    x.observe(notebookContainer, {childList: true});\n",
       "}}\n",
       "\n",
       "// Listen for the clearing of the current output cell\n",
       "var outputEl = gd.closest('.output');\n",
       "if (outputEl) {{\n",
       "    x.observe(outputEl, {childList: true});\n",
       "}}\n",
       "\n",
       "                        })                };                });            </script>        </div>"
      ]
     },
     "metadata": {},
     "output_type": "display_data"
    },
    {
     "data": {
      "text/plain": [
       "'https://plotly.com/~jerryfinance/15/'"
      ]
     },
     "execution_count": 219,
     "metadata": {},
     "output_type": "execute_result"
    }
   ],
   "source": [
    "# fig = evaluate_model_sequence3(model, test_sequence_loader, wandb_log = False, days_back_to_plot = 30)\n",
    "# py.plot(fig, filename=\"FinanceEP01_SequencerEvaluator_30\", auto_open = True)"
   ]
  },
  {
   "cell_type": "code",
   "execution_count": 220,
   "id": "f0ee1b16",
   "metadata": {},
   "outputs": [
    {
     "data": {
      "application/vnd.jupyter.widget-view+json": {
       "model_id": "",
       "version_major": 2,
       "version_minor": 0
      },
      "text/plain": [
       "VBox(children=(Label(value='0.044 MB of 0.044 MB uploaded\\r'), FloatProgress(value=1.0, max=1.0)))"
      ]
     },
     "metadata": {},
     "output_type": "display_data"
    },
    {
     "data": {
      "text/html": [
       "<style>\n",
       "    table.wandb td:nth-child(1) { padding: 0 10px; text-align: left ; width: auto;} td:nth-child(2) {text-align: left ; width: 100%}\n",
       "    .wandb-row { display: flex; flex-direction: row; flex-wrap: wrap; justify-content: flex-start; width: 100% }\n",
       "    .wandb-col { display: flex; flex-direction: column; flex-basis: 100%; flex: 1; padding: 10px; }\n",
       "    </style>\n",
       "<div class=\"wandb-row\"><div class=\"wandb-col\"><h3>Run history:</h3><br/><table class=\"wandb\"><tr><td>ADBE_mse_loss_sequential</td><td>▁</td></tr><tr><td>GS_mse_loss_sequential</td><td>▁</td></tr><tr><td>LMT_mse_loss_sequential</td><td>▁</td></tr><tr><td>MA_mse_loss_sequential</td><td>▁</td></tr><tr><td>MCD_mse_loss_sequential</td><td>▁</td></tr><tr><td>META_mse_loss_sequential</td><td>▁</td></tr><tr><td>NFLX_mse_loss_sequential</td><td>▁</td></tr><tr><td>avg_sequential_test_loss</td><td>▁</td></tr><tr><td>epoch</td><td>▁▂▃▃▄▅▆▆▇█</td></tr><tr><td>test_loss</td><td>▁</td></tr><tr><td>train_loss_average</td><td>██▇▆▅▃▂▁▁▁</td></tr></table><br/></div><div class=\"wandb-col\"><h3>Run summary:</h3><br/><table class=\"wandb\"><tr><td>ADBE_mse_loss_sequential</td><td>2092.00659</td></tr><tr><td>GS_mse_loss_sequential</td><td>166.13155</td></tr><tr><td>LMT_mse_loss_sequential</td><td>285.64841</td></tr><tr><td>MA_mse_loss_sequential</td><td>585.8681</td></tr><tr><td>MCD_mse_loss_sequential</td><td>1885.54211</td></tr><tr><td>META_mse_loss_sequential</td><td>1961.88867</td></tr><tr><td>NFLX_mse_loss_sequential</td><td>105.79419</td></tr><tr><td>avg_sequential_test_loss</td><td>1011.83995</td></tr><tr><td>epoch</td><td>10</td></tr><tr><td>test_loss</td><td>1092.05055</td></tr><tr><td>train_loss_average</td><td>863.82453</td></tr></table><br/></div></div>"
      ],
      "text/plain": [
       "<IPython.core.display.HTML object>"
      ]
     },
     "metadata": {},
     "output_type": "display_data"
    },
    {
     "data": {
      "text/html": [
       " View run <strong style=\"color:#cdcd00\">NeuralNetSimple_v5_10e</strong> at: <a href='https://wandb.ai/jerryjohnthomas-indian-institute-of-technology/stock-price-prediction/runs/rywxcz8s' target=\"_blank\">https://wandb.ai/jerryjohnthomas-indian-institute-of-technology/stock-price-prediction/runs/rywxcz8s</a><br/> View project at: <a href='https://wandb.ai/jerryjohnthomas-indian-institute-of-technology/stock-price-prediction' target=\"_blank\">https://wandb.ai/jerryjohnthomas-indian-institute-of-technology/stock-price-prediction</a><br/>Synced 5 W&B file(s), 0 media file(s), 0 artifact file(s) and 1 other file(s)"
      ],
      "text/plain": [
       "<IPython.core.display.HTML object>"
      ]
     },
     "metadata": {},
     "output_type": "display_data"
    },
    {
     "data": {
      "text/html": [
       "Find logs at: <code>.\\wandb\\run-20241015_183309-rywxcz8s\\logs</code>"
      ],
      "text/plain": [
       "<IPython.core.display.HTML object>"
      ]
     },
     "metadata": {},
     "output_type": "display_data"
    }
   ],
   "source": [
    "# # Save model checkpoint to W&B, I dont want to run out of cloud nor local space :') maybe later\n",
    "# torch.save(model.state_dict(), \"stock_price_model.pth\")\n",
    "# wandb.save(\"stock_price_model.pth\")\n",
    "\n",
    "# Finish W&B run\n",
    "wandb.finish()"
   ]
  }
 ],
 "metadata": {
  "kernelspec": {
   "display_name": "Python 3 (ipykernel)",
   "language": "python",
   "name": "python3"
  },
  "language_info": {
   "codemirror_mode": {
    "name": "ipython",
    "version": 3
   },
   "file_extension": ".py",
   "mimetype": "text/x-python",
   "name": "python",
   "nbconvert_exporter": "python",
   "pygments_lexer": "ipython3",
   "version": "3.11.5"
  }
 },
 "nbformat": 4,
 "nbformat_minor": 5
}
